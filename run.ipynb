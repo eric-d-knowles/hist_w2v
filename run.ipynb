{
 "cells": [
  {
   "cell_type": "markdown",
   "id": "33cdb7cc-0186-4bbc-bc10-22b433eca869",
   "metadata": {},
   "source": [
    "# **Process Ngram Files**"
   ]
  },
  {
   "cell_type": "markdown",
   "id": "419bae7e-21c4-4030-aea5-8f94bb094407",
   "metadata": {},
   "source": [
    "## Generate Vocabulary File\n",
    "Make a list of the _n_ most common unigrams (1grams). This file can be used for filtering multi-token ngrams. Unigrams containing **untagged tokens**, **numerals**, **non-alphabetic** characters are dropped."
   ]
  },
  {
   "cell_type": "markdown",
   "id": "d50e3576-db55-4cd9-bfc1-6aaaf976c37d",
   "metadata": {},
   "source": [
    "#### Select the appropriate base directory"
   ]
  },
  {
   "cell_type": "code",
   "execution_count": null,
   "id": "61537949-2ba2-47fe-863e-effb6f03ece3",
   "metadata": {},
   "outputs": [],
   "source": [
    "base_dir = \"/vast/edk202/NLP_corpora/Google_Books/20200217/eng\""
   ]
  },
  {
   "cell_type": "code",
   "execution_count": null,
   "id": "4e42ba6e-3446-4b34-b7ce-ad010c6329cb",
   "metadata": {},
   "outputs": [],
   "source": [
    "base_dir = \"/Volumes/knowleslab/sharedresources/NLP_corpora/Google_Books/20200217/eng\""
   ]
  },
  {
   "cell_type": "markdown",
   "id": "5eaa3e14-d707-41b9-a0fc-0d53257a7457",
   "metadata": {},
   "source": [
    "#### Download"
   ]
  },
  {
   "cell_type": "code",
   "execution_count": null,
   "id": "396be76b-ce50-4e53-bc26-753905724ff8",
   "metadata": {},
   "outputs": [],
   "source": [
    "!python download_and_filter_ngrams.py \\\n",
    "    --ngram_size 1 \\\n",
    "    --processes 12 \\\n",
    "    --file_range 0 24 \\\n",
    "    --output_dir {base_dir}"
   ]
  },
  {
   "cell_type": "markdown",
   "id": "ee67f5d6-83b9-42ef-9e8c-1c9879608d2c",
   "metadata": {},
   "source": [
    "#### Lowercase"
   ]
  },
  {
   "cell_type": "code",
   "execution_count": null,
   "id": "82cc8dd3-1b2b-41fa-aefc-44698ad4b6ba",
   "metadata": {},
   "outputs": [],
   "source": [
    "!python lowercase.py \\\n",
    "    --input_dir \"{base_dir}/1gram_files/orig\" \\\n",
    "    --output_dir \"{base_dir}/1gram_files/lower\" \\\n",
    "    --processes 12"
   ]
  },
  {
   "cell_type": "markdown",
   "id": "fd2158ee-cc08-4001-ae54-f182241fa080",
   "metadata": {},
   "source": [
    "#### Lemmatize"
   ]
  },
  {
   "cell_type": "code",
   "execution_count": null,
   "id": "819e25ea-184b-496c-85b8-8d1bc41b58e3",
   "metadata": {},
   "outputs": [],
   "source": [
    "!python lemmatize.py \\\n",
    "    --input_dir \"{base_dir}//1gram_files/lower\" \\\n",
    "    --output_dir \"{base_dir}/1gram_files/lemmas\" \\\n",
    "    --processes 12"
   ]
  },
  {
   "cell_type": "markdown",
   "id": "015269cc-de10-4e7e-b171-326e97a5e9c3",
   "metadata": {},
   "source": [
    "#### Remove stopwords"
   ]
  },
  {
   "cell_type": "code",
   "execution_count": null,
   "id": "3ed40ed4-80d0-41df-9587-74faa94f538a",
   "metadata": {},
   "outputs": [],
   "source": [
    "!python remove_stopwords.py \\\n",
    "    --input_dir \"{base_dir}/1gram_files/lemmas\" \\\n",
    "    --output_dir \"{base_dir}/1gram_files/stop\" \\\n",
    "    --processes 14 \\\n",
    "    --removal_method token \\\n",
    "    --min_tokens 1"
   ]
  },
  {
   "cell_type": "markdown",
   "id": "9a86f14e-27fb-4bc1-8274-362f366dfc37",
   "metadata": {},
   "source": [
    "#### Remove short words"
   ]
  },
  {
   "cell_type": "code",
   "execution_count": null,
   "id": "2ec8d798-5ac1-4d29-a617-123d2a0bc8ed",
   "metadata": {},
   "outputs": [],
   "source": [
    "!python remove_short_words.py \\\n",
    "    --input_dir \"{base_dir}/1gram_files/lemmas\" \\\n",
    "    --output_dir \"{base_dir}/1gram_files/short\" \\\n",
    "    --processes 14 \\\n",
    "    --min_length 3 \\\n",
    "    --removal_method token \\\n",
    "    --min_tokens 1"
   ]
  },
  {
   "cell_type": "markdown",
   "id": "2dcb7d96-090c-4cf7-9a38-ff50b07e8495",
   "metadata": {},
   "source": [
    "#### Sort and concatenate"
   ]
  },
  {
   "cell_type": "code",
   "execution_count": null,
   "id": "32899e45-f860-4190-89da-95a1e6559d66",
   "metadata": {},
   "outputs": [],
   "source": [
    "!python sort_into_single_file.py \\\n",
    "    --input_dir \"{base_dir}/1gram_files/short\" \\\n",
    "    --temp_dir \"{base_dir}/1gram_files/temp\" \\\n",
    "    --output_file \"{base_dir}/1gram_files/concat/1grams_short-sort.jsonl\" \\\n",
    "    --processes 14"
   ]
  },
  {
   "cell_type": "code",
   "execution_count": null,
   "id": "87da2a41-0a9f-4d47-b1a9-be474459035d",
   "metadata": {},
   "outputs": [],
   "source": [
    "!python verify_sort.py \\\n",
    "    --input_file \"{base_dir}/1gram_files/concat/1grams_short-sort.jsonl\""
   ]
  },
  {
   "cell_type": "markdown",
   "id": "8196b097-ba19-44b9-a2a9-f622b40c9377",
   "metadata": {},
   "source": [
    "#### Consolidate"
   ]
  },
  {
   "cell_type": "code",
   "execution_count": null,
   "id": "7effa90f-3182-4aac-abc2-a436c95be187",
   "metadata": {},
   "outputs": [],
   "source": [
    "!python consolidate_ngrams.py \\\n",
    "    --input_file \"{base_dir}/1gram_files/concat/1grams_short-sort.jsonl\" \\\n",
    "    --output_file \"{base_dir}/1gram_files/concat/1grams_short-sort-consol.jsonl\""
   ]
  },
  {
   "cell_type": "markdown",
   "id": "1d6edbe5-93a8-45a2-b35d-ce50d2e5f925",
   "metadata": {},
   "source": [
    "#### Add index"
   ]
  },
  {
   "cell_type": "code",
   "execution_count": null,
   "id": "618a428f-24dc-41ef-a568-ef615655400c",
   "metadata": {},
   "outputs": [],
   "source": [
    "!python index_ngrams.py \\\n",
    "    --input_file \"{base_dir}/1gram_files/concat/1grams_short-sort-consol.jsonl\" \\\n",
    "    --output_file \"{base_dir}/1gram_files/concat/1grams_short-sort-consol-index.jsonl\""
   ]
  },
  {
   "cell_type": "markdown",
   "id": "bce53e7c-b79d-4d65-9c31-dedb535f1e81",
   "metadata": {},
   "source": [
    "#### Create file of _n_ most common tokens"
   ]
  },
  {
   "cell_type": "code",
   "execution_count": null,
   "id": "5ce4f734-db70-4d1f-81f8-5f46d49aad57",
   "metadata": {},
   "outputs": [],
   "source": [
    "!python make_vocab_list.py \\\n",
    "    --input_file \"{base_dir}/1gram_files/concat/1grams_short-sort-consol-index.jsonl\" \\\n",
    "    --n_vocab 100000 \\\n",
    "    --output_file \"{base_dir}/valid_vocab_lookup.txt\" \\\n",
    "    --membership_file \"{base_dir}/valid_vocab_membertest.txt\""
   ]
  },
  {
   "cell_type": "markdown",
   "id": "e59e048e-91bd-4c8b-a17c-a067e47a7d16",
   "metadata": {},
   "source": [
    "#### View contents of ngram file"
   ]
  },
  {
   "cell_type": "code",
   "execution_count": null,
   "id": "a57b1104-696b-4f99-bb2c-ed1326b8d44b",
   "metadata": {},
   "outputs": [],
   "source": [
    "!python print_jsonl_lines.py \\\n",
    "    --file_path \"{base_dir}/1gram_files/concat/1grams_short-sort-consol-index.jsonl\" \\\n",
    "    --start 0 \\\n",
    "    --end 50"
   ]
  },
  {
   "cell_type": "markdown",
   "id": "eb4d1bf3-85d8-477a-a481-ba2edb7fdbe3",
   "metadata": {},
   "source": [
    "## Process multigram files\n",
    "Download multigrams (_n_ = 2–5). Drop those containing **untagged tokens**, **numerals**, **non-alphabetic characters**. \n",
    "\n",
    "Optionally, specify a **vocabulary file** for additional filtering. Vocabulary filtering dicards ngrams containing tokens absent from the vocabulary file. Part-of-speech (POS) tags are stripped and base tokens lowercased and lemmatized during matching; when a ngram passes the vocabulary filter, the original case and inflection of the tokens are preserved and the POS tag reattached."
   ]
  },
  {
   "cell_type": "markdown",
   "id": "2b5dbec4-dcab-4375-9ea2-62349911f5a8",
   "metadata": {},
   "source": [
    "#### Set the appropriate base directory"
   ]
  },
  {
   "cell_type": "code",
   "execution_count": 8,
   "id": "ee64401e-4d11-43e0-a729-d60b18ccf838",
   "metadata": {},
   "outputs": [],
   "source": [
    "base_dir = \"/vast/edk202/NLP_corpora/Google_Books/20200217/eng\""
   ]
  },
  {
   "cell_type": "code",
   "execution_count": null,
   "id": "e3c1a738-116e-4712-b2b7-499b84ecefde",
   "metadata": {},
   "outputs": [],
   "source": [
    "base_dir = \"/Volumes/knowleslab/sharedresources/NLP_corpora/Google_Books/20200217/eng\""
   ]
  },
  {
   "cell_type": "markdown",
   "id": "872a5816-3681-4067-b94e-e6944bf874e6",
   "metadata": {},
   "source": [
    "#### Download"
   ]
  },
  {
   "cell_type": "code",
   "execution_count": null,
   "id": "5892ecdb-60af-4825-8f93-729386eddeae",
   "metadata": {},
   "outputs": [],
   "source": [
    "!python download_and_filter_ngrams.py \\\n",
    "    --ngram_size 5 \\\n",
    "    --processes 48 \\\n",
    "    --file_range 14720 14720 \\\n",
    "    --vocab_file \"{base_dir}/valid_vocab_membertest.txt\" \\\n",
    "    --output_dir {base_dir} \\\n",
    "    --save_empty"
   ]
  },
  {
   "cell_type": "markdown",
   "id": "7525cee4-33d9-4c56-aa5b-9d5d89eca328",
   "metadata": {},
   "source": [
    "#### Lowercase"
   ]
  },
  {
   "cell_type": "code",
   "execution_count": null,
   "id": "d5f61d99-6c37-4d7f-8f21-d7c6bc12f434",
   "metadata": {},
   "outputs": [],
   "source": [
    "!python lowercase.py \\\n",
    "    --input_dir \"{base_dir}/5gram_files/orig\" \\\n",
    "    --output_dir \"{base_dir}/5gram_files/lower\" \\\n",
    "    --processes 14"
   ]
  },
  {
   "cell_type": "markdown",
   "id": "e53fb171-1cd9-4c1f-8719-3019762f8a65",
   "metadata": {},
   "source": [
    "#### Lemmatize"
   ]
  },
  {
   "cell_type": "code",
   "execution_count": null,
   "id": "47d079b5-b599-4d5e-963f-ed1d8fae6fb5",
   "metadata": {},
   "outputs": [],
   "source": [
    "!python lemmatize.py \\\n",
    "    --input_dir \"{base_dir}/5gram_files/lower\" \\\n",
    "    --output_dir \"{base_dir}/5gram_files/lemmas\" \\\n",
    "    --processes 14"
   ]
  },
  {
   "cell_type": "markdown",
   "id": "273f5046-71cc-4c7a-a548-45615c2ee7c6",
   "metadata": {},
   "source": [
    "#### Remove stopwords"
   ]
  },
  {
   "cell_type": "code",
   "execution_count": null,
   "id": "6089028d-909f-4925-b937-37dc9e7e75d2",
   "metadata": {},
   "outputs": [],
   "source": [
    "!python remove_stopwords.py \\\n",
    "    --input_dir \"{base_dir}/5gram_files/lemmas\" \\\n",
    "    --output_dir \"{base_dir}/5gram_files/stop\" \\\n",
    "    --processes 14 \\\n",
    "    --removal_method token \\\n",
    "    --min_tokens 2"
   ]
  },
  {
   "cell_type": "markdown",
   "id": "fcd4b764-837a-41b9-95bd-7643d4dc5836",
   "metadata": {},
   "source": [
    "#### Remove short words"
   ]
  },
  {
   "cell_type": "code",
   "execution_count": null,
   "id": "9f561476-a25b-450d-800d-3144a77afed7",
   "metadata": {},
   "outputs": [],
   "source": [
    "!python remove_short_words.py \\\n",
    "    --input_dir \"{base_dir}/5gram_files/lemmas\" \\\n",
    "    --output_dir \"{base_dir}/5gram_files/short\" \\\n",
    "    --processes 14 \\\n",
    "    --min_length 3 \\\n",
    "    --removal_method token \\\n",
    "    --min_tokens 2"
   ]
  },
  {
   "cell_type": "markdown",
   "id": "6e30b118-ef7a-4950-99b8-d9ed928e2fdf",
   "metadata": {},
   "source": [
    "#### Sort and concatenate"
   ]
  },
  {
   "cell_type": "code",
   "execution_count": 9,
   "id": "c00162fd-bd39-49d0-95fc-6339652f6b9c",
   "metadata": {},
   "outputs": [
    {
     "name": "stdout",
     "output_type": "stream",
     "text": [
      "Sorting individual files:\n",
      "\n",
      "Files: 100%|██████████████████████████████| 1794/1794 [01:35<00:00, 18.80file/s]\n",
      "\n",
      "Merge-sorting files:\n",
      "\n",
      "Lines: 307089794line [13:15, 385854.06line/s]\n",
      "\n",
      "Processing complete.\n"
     ]
    }
   ],
   "source": [
    "!python sort_into_single_file.py \\\n",
    "    --input_dir \"{base_dir}/5gram_files/short\" \\\n",
    "    --temp_dir \"{base_dir}/5gram_files/temp\" \\\n",
    "    --output_file \"{base_dir}/5gram_files/concat/5grams_sort.jsonl\" \\\n",
    "    --processes 30"
   ]
  },
  {
   "cell_type": "code",
   "execution_count": 10,
   "id": "052ecdcf-e765-48c2-8b0a-d045f12874c8",
   "metadata": {},
   "outputs": [
    {
     "name": "stdout",
     "output_type": "stream",
     "text": [
      "Lines: 307089794line [08:48, 581209.87line/s]\n",
      "\n",
      "The file is sorted.\n",
      "\n",
      "Processing complete.\n"
     ]
    }
   ],
   "source": [
    "!python verify_sort.py \\\n",
    "    --input_file \"{base_dir}/5gram_files/concat/5grams_sort.jsonl\""
   ]
  },
  {
   "cell_type": "markdown",
   "id": "90abf9b6-1822-4160-8717-3bea1df23299",
   "metadata": {},
   "source": [
    "#### Consolidate ngrams"
   ]
  },
  {
   "cell_type": "code",
   "execution_count": 12,
   "id": "7dc11f24-e898-4c08-831a-ced7f6cf3dc1",
   "metadata": {},
   "outputs": [
    {
     "name": "stdout",
     "output_type": "stream",
     "text": [
      "Consolidating ngrams.\n",
      "\n",
      "Lines: 307089794lines [38:21, 133425.09lines/s]\n",
      "\n",
      "Processing complete.\n"
     ]
    }
   ],
   "source": [
    "!python consolidate_ngrams.py \\\n",
    "    --input_file \"{base_dir}/5gram_files/concat/5grams_sort.jsonl\" \\\n",
    "    --output_file \"{base_dir}/5gram_files/concat/5grams_consol.jsonl\""
   ]
  },
  {
   "cell_type": "markdown",
   "id": "d83bbed9-76e0-47d7-b9a3-dd47c501daad",
   "metadata": {},
   "source": [
    "#### View contents of ngram file"
   ]
  },
  {
   "cell_type": "code",
   "execution_count": null,
   "id": "95779ecd-1d22-4eec-a20c-bccf7d20f527",
   "metadata": {},
   "outputs": [],
   "source": [
    "!python print_jsonl_lines.py \\\n",
    "    --file_path \"{base_dir}/1gram_files/concat/1grams_short-sort-consol-index.jsonl\" \\\n",
    "    --start 0 \\\n",
    "    --end 50"
   ]
  },
  {
   "cell_type": "markdown",
   "id": "ddc35dad-44fe-4b95-8ac1-a1de2cc922d3",
   "metadata": {},
   "source": [
    "## Make Yearly Files\n",
    "Reorganize ngrams into year-specific files specifying each ngram's frequency for the year."
   ]
  },
  {
   "cell_type": "markdown",
   "id": "a897d328-4a85-4728-a01b-56420ac8b89b",
   "metadata": {},
   "source": [
    "#### Select the appropriate base directory"
   ]
  },
  {
   "cell_type": "code",
   "execution_count": null,
   "id": "0d0a1e2b-bd06-4c65-9986-7f7fe5fb3760",
   "metadata": {},
   "outputs": [],
   "source": [
    "base_dir = \"/vast/edk202/NLP_corpora/Google_Books/20200217/eng\""
   ]
  },
  {
   "cell_type": "code",
   "execution_count": null,
   "id": "504cbbb7-f29f-42d4-92cf-760e8a4d2492",
   "metadata": {},
   "outputs": [],
   "source": [
    "base_dir = \"/Volumes/knowleslab/sharedresources/NLP_corpora/Google_Books/20200217/eng\""
   ]
  },
  {
   "cell_type": "markdown",
   "id": "9bb3ade2-ddbc-42d2-8dcf-fea00e66928b",
   "metadata": {},
   "source": [
    "#### Create yearly files"
   ]
  },
  {
   "cell_type": "code",
   "execution_count": null,
   "id": "b811ee53-3213-4f7e-81cf-911b510fe475",
   "metadata": {},
   "outputs": [],
   "source": [
    "!python make_yearly_files.py \\\n",
    "    --input_file \"{base_dir}/5gram_files/concat/5grams_consol.jsonl\" \\\n",
    "    --output_dir \"{base_dir}/5gram_files/year_files\" \\\n",
    "    --chunk_size 100000 \\\n",
    "    --processes 14"
   ]
  },
  {
   "cell_type": "markdown",
   "id": "d047c7da-f006-4c0c-b5f8-17131b6e1be2",
   "metadata": {},
   "source": [
    "#### View contents of ngram file"
   ]
  },
  {
   "cell_type": "code",
   "execution_count": null,
   "id": "43326e7c-a48a-4201-9667-b26797b41cfc",
   "metadata": {},
   "outputs": [],
   "source": [
    "!python print_jsonl_lines.py \\\n",
    "    --file_path \"{base_dir}/5gram_files/year_files/2019.jsonl\" \\\n",
    "    --start 51 \\\n",
    "    --end 100"
   ]
  }
 ],
 "metadata": {
  "kernelspec": {
   "display_name": "hist_w2v_env",
   "language": "python",
   "name": "hist_w2v_env"
  },
  "language_info": {
   "codemirror_mode": {
    "name": "ipython",
    "version": 3
   },
   "file_extension": ".py",
   "mimetype": "text/x-python",
   "name": "python",
   "nbconvert_exporter": "python",
   "pygments_lexer": "ipython3",
   "version": "3.12.7"
  }
 },
 "nbformat": 4,
 "nbformat_minor": 5
}
