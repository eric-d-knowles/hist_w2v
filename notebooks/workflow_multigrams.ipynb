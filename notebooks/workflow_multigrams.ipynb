{
 "cells": [
  {
   "cell_type": "code",
   "execution_count": 13,
   "id": "0c8750c1-c3df-492e-b942-d06b355ae6d0",
   "metadata": {},
   "outputs": [
    {
     "name": "stdout",
     "output_type": "stream",
     "text": [
      "The autoreload extension is already loaded. To reload it, use:\n",
      "  %reload_ext autoreload\n"
     ]
    }
   ],
   "source": [
    "%load_ext autoreload\n",
    "\n",
    "%autoreload 2"
   ]
  },
  {
   "cell_type": "code",
   "execution_count": 14,
   "id": "a7703a5f-b7f5-4c07-a6c7-b8d726792012",
   "metadata": {},
   "outputs": [],
   "source": [
    "from ngram_tools.download_ngrams import download_ngram_files\n",
    "from ngram_tools.convert_to_jsonl import convert_to_jsonl_files\n",
    "from ngram_tools.lowercase_ngrams import lowercase_ngrams\n",
    "from ngram_tools.lemmatize_ngrams import lemmatize_ngrams\n",
    "from ngram_tools.filter_ngrams import filter_ngrams\n",
    "from ngram_tools.sort_ngrams import sort_and_combine\n",
    "from ngram_tools.consolidate_ngrams import consolidate_duplicate_ngrams\n",
    "from ngram_tools.make_yearly_files import make_yearly_files\n",
    "from ngram_tools.helpers.verify_sort import check_file_sorted\n",
    "from ngram_tools.helpers.print_jsonl_lines import print_jsonl_lines\n",
    "from ngram_tools.optimize_buckets import optimize_buckets\n",
    "from utils.resource_summary import print_resource_summary\n",
    "from ngram_tools.lmdb_ingest import ingest_to_lmdb\n",
    "from ngram_tools.rocksdb_ingest import ingest_downloaded_files_to_rocksdb, export_rocksdb_to_yearly_files"
   ]
  },
  {
   "cell_type": "code",
   "execution_count": null,
   "id": "c5fff30e",
   "metadata": {},
   "outputs": [
    {
     "data": {
      "text/markdown": [
       "<pre>SYSTEM RESOURCE SUMMARY\n",
       "=============================================\n",
       "Hostname: cm049.hpc.nyu.edu\n",
       "\n",
       "Job Allocation:\n",
       "   CPUs: 40\n",
       "   Memory: 293.0 GB\n",
       "   Partition: short\n",
       "   Job ID: 64477095\n",
       "   Node list: cm049\n",
       "\n",
       "Physical GPU Hardware:\n",
       "   No physical GPUs allocated to this job\n",
       "\n",
       "TensorFlow GPU Recognition:\n",
       "   TensorFlow can access 0 GPU(s)\n",
       "   Built with CUDA support: True\n",
       "=============================================</pre>"
      ],
      "text/plain": [
       "<IPython.core.display.Markdown object>"
      ]
     },
     "metadata": {},
     "output_type": "display_data"
    }
   ],
   "source": [
    "print_resource_summary()"
   ]
  },
  {
   "cell_type": "markdown",
   "id": "33cdb7cc-0186-4bbc-bc10-22b433eca869",
   "metadata": {
    "editable": true,
    "slideshow": {
     "slide_type": ""
    },
    "tags": []
   },
   "source": [
    "# **Process Multigrams for Training Word-Embedding Models**"
   ]
  },
  {
   "cell_type": "markdown",
   "id": "c5e915c8-5224-4cbe-b5a2-b58978dd48f7",
   "metadata": {},
   "source": [
    "## **Goal**: Download and preprocess mulitgrams for use in training `word2vec` models. "
   ]
  },
  {
   "cell_type": "markdown",
   "id": "794a3cfb-8fee-4303-a2f9-93786529e21d",
   "metadata": {},
   "source": [
    "This workflow is resource-intensive and is probably only practical when run on a computing cluster. On my university's High Performance Computing (HPC) cluster, I request the maximum 14 cores (48 logical processors) and 128G of memory and use a 2T fast-I/O NVMe SSD filespace—and I still run up against time and resource limits. I've designed the code to be efficient, although further optimization is surely possible.\n",
    "\n",
    "The code affords options to conserve resources. Throughout the workflow you can specify `compress=True`, which tells a script to compress its output files. In my experience, there is little downside to using LZ4 compression, since it's very fast and cuts file sizes by about half. Downstream modules will see the `.lz4` extensions and handle the files accordingly. If you know your workflow runs correctly and wish to further conserve space, you can specify `delete_input=True` for many of the scripts; this will delete the source files for a given step once it is complete. The scripts are fairly memory-efficient—with the exception of `sort_ngrams` and `index_and_create_vocab_files`, which sort multiple files in memory at once. When processing multigrams, I've found that allocating more than ~10 workers in these scripts leads to memory exhaustion (with 128G!) and slow processing.\n",
    "\n",
    "**NOTE:** You'll probably want to have run `workflow_unigrams.ipynb` before processing multigrams. That workflos allows you create a vocabulary file for filtering out uncommon tokens from the multigrams. Although you can run the `filter_ngrams` module without a vocab file, most use cases will call for one."
   ]
  },
  {
   "cell_type": "markdown",
   "id": "b97fea36-f682-4a1c-aedc-d905ba30c001",
   "metadata": {},
   "source": [
    "### Download multigrams\n",
    "Here, I'm using `download_ngrams` module to fetch 5grams appended with part-of-speech (POS) tags (e.g., `_VERB`). Although you can specify `ngram_type='untagged'`, POS tags are necessary to lemmatize the tokens. Specify the number of parallel processes you wish to use by setting `workers` (the default is all available processors). You may wish to specify `compress=True` becausae 5gram files are _big_."
   ]
  },
  {
   "cell_type": "markdown",
   "id": "ff28521a",
   "metadata": {},
   "source": [
    "### Alternative: RocksDB-First Pipeline (Recommended)\n",
    "\n",
    "**NEW APPROACH**: Instead of the traditional multi-stage pipeline, you can now process downloaded ngrams directly into RocksDB with all transformations applied in a single step. This replaces steps 2-7 of the traditional workflow:\n",
    "\n",
    "**Traditional:** Download → Convert → Lowercase → Lemmatize → Filter → Sort → Consolidate → Yearly Files  \n",
    "**RocksDB-First:** Download → RocksDB (all processing) → Yearly Files (when needed)\n",
    "\n",
    "**Major Benefits:**\n",
    "- **10x faster**: Eliminates 6 intermediate file-processing steps\n",
    "- **50% less storage**: No intermediate files, built-in compression\n",
    "- **Parallel processing**: True concurrent writes throughout\n",
    "- **Memory efficient**: Constant memory usage vs. sorting memory spikes\n",
    "- **Flexible**: Query database directly, export yearly files when needed\n",
    "\n",
    "If you want to try this approach, **skip the traditional pipeline below** and use the RocksDB ingestion instead."
   ]
  },
  {
   "cell_type": "code",
   "execution_count": null,
   "id": "6a4aee80",
   "metadata": {},
   "outputs": [],
   "source": [
    "# Step 1: Download ngrams (same as traditional approach)\n",
    "download_ngram_files(\n",
    "    ngram_size=5,\n",
    "    ngram_type='tagged',\n",
    "    repo_release_id='20200217',\n",
    "    repo_corpus_id='eng',\n",
    "    proj_dir='/vast/edk202/NLP_corpora/Google_Books/20200217/eng',\n",
    "    workers=40,\n",
    "    compress=True,\n",
    "    overwrite=True\n",
    ")\n",
    "\n",
    "# Step 2: Process directly into RocksDB (replaces steps 2-7 of traditional pipeline)\n",
    "db_path = ingest_downloaded_files_to_rocksdb(\n",
    "    ngram_size=5,\n",
    "    proj_dir='/vast/edk202/NLP_corpora/Google_Books/20200217/eng',\n",
    "    ngram_type='tagged',\n",
    "    workers=40,\n",
    "    # All traditional processing options available:\n",
    "    apply_lowercase=True,\n",
    "    apply_lemmatize=True,\n",
    "    vocab_file='1gram-corpus-vocab_list_match.txt',  # From unigram workflow\n",
    "    min_tokens=2,\n",
    "    overwrite=True\n",
    ")\n",
    "\n",
    "print(f\"✅ All processing complete! Database ready at: {db_path}\")\n",
    "print(\"💡 You can now query the database directly or export yearly files when needed.\")"
   ]
  },
  {
   "cell_type": "code",
   "execution_count": null,
   "id": "8f1ce6b5",
   "metadata": {},
   "outputs": [],
   "source": [
    "# Step 3: Export yearly files (only when needed for word2vec training)\n",
    "export_rocksdb_to_yearly_files(\n",
    "    db_path=db_path,\n",
    "    yearly_dir='/vast/edk202/NLP_corpora/Google_Books/20200217/eng/5gram_files/6corpus/yearly_files/data',\n",
    "    compress=False,\n",
    "    workers=14\n",
    ")\n",
    "\n",
    "print(\"📁 Yearly files ready for word2vec training!\")\n",
    "print(\"🚀 Ready to proceed to workflow_train_models.ipynb\")"
   ]
  },
  {
   "cell_type": "markdown",
   "id": "6e10b13e",
   "metadata": {},
   "source": [
    "---\n",
    "\n",
    "## Traditional Multi-Stage Pipeline\n",
    "\n",
    "**Note**: If you used the RocksDB approach above, you can **skip this entire section**. The traditional pipeline below is the original multi-stage approach that processes files through multiple intermediate steps."
   ]
  },
  {
   "cell_type": "code",
   "execution_count": null,
   "id": "85c19814-cbee-4ce4-b2ca-0d4abf76d3dc",
   "metadata": {},
   "outputs": [],
   "source": [
    "download_ngram_files(\n",
    "    ngram_size=5,\n",
    "    ngram_type='tagged',\n",
    "    repo_release_id='20200217',\n",
    "    repo_corpus_id='eng',\n",
    "    proj_dir='/vast/edk202/NLP_corpora/Google_Books/20200217/eng',\n",
    "    workers=40,\n",
    "    compress=True,\n",
    "    overwrite=True\n",
    ")"
   ]
  },
  {
   "cell_type": "markdown",
   "id": "799d4fd8-2fe9-4fe3-8a37-20f0e1b81eef",
   "metadata": {},
   "source": [
    "### Convert files from TXT to JSONL\n",
    "This module converts the original multigram files' text data to a more flexible JSON Lines (JSONL) format. Although this increases storage demands, it makes downstream processing more efficient."
   ]
  },
  {
   "cell_type": "code",
   "execution_count": null,
   "id": "84af60d9-2627-4a9c-80e4-dde2e1703d43",
   "metadata": {},
   "outputs": [],
   "source": [
    "convert_to_jsonl_files(\n",
    "    ngram_size=5,\n",
    "    ngram_type='tagged',\n",
    "    proj_dir='/vast/edk202/NLP_corpora/Google_Books/20200217/eng',\n",
    "    workers=40,\n",
    "    compress=True,\n",
    "    overwrite=True,\n",
    "    delete_input=True\n",
    ")"
   ]
  },
  {
   "cell_type": "markdown",
   "id": "60ad8638-1ed1-4ce6-b864-70e17635a3a8",
   "metadata": {},
   "source": [
    "### Make multigrams all lowercase\n",
    "This module lowercases all characters in the multigrams. Most use cases benefit from this."
   ]
  },
  {
   "cell_type": "code",
   "execution_count": null,
   "id": "6cc700cf-dba7-40d6-b5f0-e98723af2e14",
   "metadata": {},
   "outputs": [],
   "source": [
    "lowercase_ngrams(\n",
    "    ngram_size=5,\n",
    "    proj_dir='/vast/edk202/NLP_corpora/Google_Books/20200217/eng',\n",
    "    workers=47,\n",
    "    compress=True,\n",
    "    overwrite=True,\n",
    "    delete_input=True\n",
    ")"
   ]
  },
  {
   "cell_type": "markdown",
   "id": "8426e48d-76d8-42ff-9e95-7d9c44bdc331",
   "metadata": {},
   "source": [
    "### Lemmatize the multigrams\n",
    "Likewise, most use cases will benefit from multigrams that are lemmatized—that is, reduced to their base form. This requires POS-tagged multigrams. Example: `people_NOUN` (\"the people of this land\") will be converted to `person` in the output; `people_VERB` (\"to people this land\") will not. The POS tag will then be discarded as it is no longer useful."
   ]
  },
  {
   "cell_type": "code",
   "execution_count": null,
   "id": "82eb3d13-9d51-4ea2-8708-9c3eadb3feae",
   "metadata": {},
   "outputs": [],
   "source": [
    "lemmatize_ngrams(\n",
    "    ngram_size=5,\n",
    "    proj_dir='/vast/edk202/NLP_corpora/Google_Books/20200217/eng',\n",
    "    workers=40,\n",
    "    compress=True,\n",
    "    overwrite=True,\n",
    "    delete_input=True\n",
    ")"
   ]
  },
  {
   "cell_type": "markdown",
   "id": "dd52fad3-d372-4613-9c36-b153ca004976",
   "metadata": {},
   "source": [
    "### Filter the multigrams\n",
    "This module removes tokens that provide little information about words' semantic context—specifically, those that contain numerals (`numerals=True`), nonalphabetic characters (`nonalpha=True`), stopwords (high-frequency, low information tokens like \"the\" and \"into\"; `stops=True`), or short words (those below a certain user-specified character count; here, `min_token_length=3`). You can also specify a **vocabulary file** like the one produced in the unigram workflow. A vocabulary file is simply a list of the _N_ most common words in the unigram corpus; the multigram tokens are checked against this list and those that don't appear in it are dropped.\n",
    "\n",
    "The `replace_unk` option controls what happens to ineligible tokens. If `replace_unk=False` (the default), then these tokens are erased from the ngrams. If `replace_unk=True`, then ineligible tokens will be replaced with `UNK` (the \"unknown\" symbol). The filtering process will inevitably reduce the amount of useful information contained in some ngrams. If `replace_unk=False`, some longer ngrams (e.g., 5grams) will become shorter (e.g., 3grams) after unwanted tokens are dropped. And if `replace_unk=True`, filtering will reduce the number of real tokens in certain ngrams by replacing one or more of tokens with `UNK`.\n",
    "\n",
    "The training of word-embedding models requires _linguistic context_, which in turn requires ngrams containing more than one token. (A unigram isn't useful for helping a model learn what \"company\" a word keeps.) The `min_tokens` option allows you to drop ngrams that fall below a specified length (or number of real tokens) during filtering. If filtering results in an ngram with fewer than the minimum number of real tokens, all data for that ngram is dropped entirely. I usually set `min_tokens=2`, since two tokens (and higher) provide at least some contextual information."
   ]
  },
  {
   "cell_type": "code",
   "execution_count": null,
   "id": "68104701-700e-4b0d-8b3e-b69127a75ad0",
   "metadata": {},
   "outputs": [],
   "source": [
    "filter_ngrams(\n",
    "    ngram_size=5,\n",
    "    proj_dir='/vast/edk202/NLP_corpora/Google_Books/20200217/eng',\n",
    "    numerals=True,\n",
    "    nonalpha=True,\n",
    "    stops=True,\n",
    "    min_token_length=3,\n",
    "    min_tokens=2,\n",
    "    vocab_file='1gram-corpus-vocab_list_match.txt',\n",
    "    workers=40,\n",
    "    compress=True,\n",
    "    overwrite=True,\n",
    "    replace_unk=True,\n",
    "    delete_input=True\n",
    ")"
   ]
  },
  {
   "cell_type": "markdown",
   "id": "dffd5722-7816-4c68-89a4-6f824ccb3e1a",
   "metadata": {},
   "source": [
    "### Sort and combine the multigram files\n",
    "This module creates a single, fully-sorted multigram file out of the filtered files. This is crucial for the next step (ngram consolidation; see below).   \n",
    "\n",
    "Sorting a giant file is a resource-hungry process and I've tried to implement an efficient approach that leverages parallelism: We first sort the filtered files in parallel using Python's standard sorting algorithm [Timsort](https://en.wikipedia.org/wiki/Timsort); then, we incrementally [heapsort](https://en.wikipedia.org/wiki/Heapsort) the files in parallel until we get down to 2 files. Finally, we heapsort the final 2 files (necessarily using one processor) to arrive at a single combined and sorted unigram file.\n",
    "\n",
    "Because this step can take a _very_ long time for larger multigrams (e.g., 5grams), we can run it in sessions using the `start_iteration` and `end_iteration` options. Iteration 1 comes after the initial file sort. If you only have time to complete, say, iterations 1–3, you can set `end_iteration=3`. During a later session, you can specify `start_iteration=4` to pick up where you left off."
   ]
  },
  {
   "cell_type": "code",
   "execution_count": null,
   "id": "52e80618-397f-4051-b064-a8b689e77c43",
   "metadata": {},
   "outputs": [],
   "source": [
    "sort_ngrams(\n",
    "    ngram_size=5,\n",
    "    proj_dir='/vast/edk202/NLP_corpora/Google_Books/20200217/eng',\n",
    "    workers=28,\n",
    "    sort_key='ngrm',\n",
    "    compress=Tue,\n",
    "    overwrit=False,\n",
    "    sort_order='ascending',\n",
    "    start_i\n",
    "    teration=4,\n",
    "    end_iteration=5,\n",
    "    delete_input=True\n",
    ")"
   ]
  },
  {
   "cell_type": "markdown",
   "id": "cc15dd26-62c3-4a39-918a-cf3e85fb9f95",
   "metadata": {},
   "source": [
    "### Verify sort [OPTIONAL]\n",
    "If we want, we can verify that the output file is correctly sorted. If the script outputs True, then the file is sorted. Bear in mind that you need to specify the file path manually here; be sure to use the right file extension based on whether sort_ngrams was run with `compress=True`."
   ]
  },
  {
   "cell_type": "code",
   "execution_count": null,
   "id": "2cfd12d0-5dfc-482e-a145-0306b4e01ab2",
   "metadata": {},
   "outputs": [],
   "source": [
    "check_file_sorted(\n",
    "    input_file=(\n",
    "        '/vast/edk202/NLP_corpora/Google_Books/20200217/eng/'\n",
    "        '56es/merged/5gram-merged.jsonl.lz4'\n",
    "    ),\n",
    "    field=\"ngram\",\n",
    "    sort_order=\"ascending\"\n",
    ")"
   ]
  },
  {
   "cell_type": "markdown",
   "id": "353a8ec7-38b8-4d5d-8356-1af9f8e26bf9",
   "metadata": {},
   "source": [
    "### Consolidate duplicate multigrams\n",
    "This mod/vast/edk202/NLP_corpora/Google_Books/20200217/eng/5gram_files/bucketed/vsing and lemmatizing produce duplicate unigrams. Now that the file is sorted, we can scan through it and consolidate consecutive idential duplicates. This involves summing their overall and yearly frequencies and document counts. It also leads to a much smaller file."
   ]
  },
  {
   "cell_type": "code",
   "execution_count": null,
   "id": "d8609476-7636-43c6-8945-1eb6b104f999",
   "metadata": {},
   "outputs": [],
   "source": [
    "consolidate_duplicate_ngrams(\n",
    "    ngram_size=5,\n",
    "    proj_dir='/vast/edk202/NLP_corpora/Google_Books/20200217/eng-us',\n",
    "    lines_per_chunk=500000,\n",
    "    compress=False,\n",
    "    overwrite=True\n",
    ")"
   ]
  },
  {
   "cell_type": "markdown",
   "id": "7da8c4c3-6e45-40c7-af67-7f9eb80b3d21",
   "metadata": {},
   "source": [
    "### View line [OPTIONAL]\n",
    "If we want, we can inspect a line in the file."
   ]
  },
  {
   "cell_type": "code",
   "execution_count": null,
   "id": "8cd93ff1-828e-4e3f-afa7-453c2aea62be",
   "metadata": {},
   "outputs": [],
   "source": [
    "print_jsonl_lines(\n",
    "    file_path=(\n",
    "        '/vast/edk202/NLP_corpora/Google_Books/20200217/eng/5gram_files/omnibus/'\n",
    "        'az_omnibus.jsonl.lz4'z4'\n",
    "    ),\n",
    "    start_l162,\n",
    "    end_line=1650263,\n",
    "    parse_json=True\n",
    ")"
   ]
  },
  {
   "cell_type": "code",
   "execution_count": null,
   "id": "d3d6c19c",
   "metadata": {},
   "outputs": [],
   "source": [
    "print_jsonl_lines(\n",
    "    file_path=(\n",
    "        '/vast/edk202/NLP_corpora/Google_Books/20200217/eng/'\n",
    "        '5gram_files/5filter/5-16555-of-19423.jsonl.lz4'\n",
    "    ),\n",
    "    start_line1   end_line=100000015,\n",
    "    parse_json=True\n",
    ")"
   ]
  },
  {
   "cell_type": "markdown",
   "id": "1ef1c41d-af54-483f-848a-ba318e75705d",
   "metadata": {},
   "source": [
    "### Make yearly files\n",
    "This module converts the overall corpus file into yearly corpora. For each year in which an ngram appeared, a `<year>.jsonl` file (or `<year>.jsonl.lz4` if `compress=True`) will be created. Each line in a yearly file contains an ngram, a `freq` value (the number of times it appeared that year), and a `doc` value (the number of unique documents it appeared in that year).\n",
    "\n",
    "I found it difficult to prevent memory exhaustion when processing 5grams with 128GB of RAM. Users may have to reduce the number of processors and/or the `chunk_size` to stay within their limits. Also note that the final clean-up step, in which many temporary files get deleted, can take several minutes to complete. \n",
    "\n",
    "After creating yearly corpora, we can proceed to train `word2vec` models as shown in the `workflow_train_models.ipynb` notebook."
   ]
  },
  {
   "cell_type": "code",
   "execution_count": null,
   "id": "0a762fc0-4740-403d-b288-7d2b09885154",
   "metadata": {},
   "outputs": [],
   "source": [
    "make_yearly_files(\n",
    "    ngram_size=5,\n",
    "    proj_dir='/vast/edk202/NLP_corpora/Google_Books/20200217/eng-us',\n",
    "    overwrite=True,\n",
    "    compress=False,\n",
    "    workers=14,\n",
    "    chunk_size=500000\n",
    ")"
   ]
  },
  {
   "cell_type": "code",
   "execution_count": null,
   "id": "9ffabb11-4186-4e58-81ac-a39df7482031",
   "metadata": {},
   "outputs": [],
   "source": [
    "print_jsonl_lines(\n",
    "    file_path=(\n",
    "        '/vast/edk202/NLP_corpora/Google_Books/20200217/eng-us/'\n",
    "        '5gram_files/6corpus/yearly_files/data/2019.jsonl.lz4'\n",
    "    ),\n",
    "    start_line=1650262,\n",
    "    end_line=1650263,\n",
    "    parse_json=True\n",
    ")"
   ]
  },
  {
   "cell_type": "markdown",
   "id": "c3013ed7-1b8b-42c3-8948-d9b98b861d28",
   "metadata": {},
   "source": [
    "### Next Steps\n",
    "Now that you've created yearly corpora of multigrams, it's time to train word embeddings using `word2vec`. See the `workflow_train_models.ipynb` notebook for a guide to training and optimizing yearly word embeddings."
   ]
  },
  {
   "cell_type": "code",
   "execution_count": null,
   "id": "5eb0064a",
   "metadata": {},
   "outputs": [
    {
     "name": "stdout",
     "output_type": "stream",
     "text": [
      "File /vast/edk202/NLP_corpora/Google_Books/20200217/eng/5gram_files/temp/5-15649-of-19423.jsonl.lz4 is corrupted or unreadable: [Errno 2] No such file or directory: '/vast/edk202/NLP_corpora/Google_Books/20200217/eng/5gram_files/temp/5-15649-of-19423.jsonl.lz4'\n"
     ]
    },
    {
     "data": {
      "text/plain": [
       "False"
      ]
     },
     "execution_count": 8,
     "metadata": {},
     "output_type": "execute_result"
    }
   ],
   "source": [
    "import lz4.frame\n",
    "\n",
    "filepath = (\n",
    "    '/vast/edk202/NLP_corpora/Google_Books/20200217/eng/'\n",
    "    '5gram_files/5filter/5-15649-of-19423.jsonl.lz4'\n",
    ")\n",
    "\n",
    "def is_lz4_file_valid(filepath):\n",
    "    \"\"\"\n",
    "    Returns True if the lz4 file can be fully decompressed, False if corrupted.\n",
    "    \"\"\"\n",
    "    try:\n",
    "        with lz4.frame.open(filepath, 'rb') as f:\n",
    "            # Read in chunks to avoid memory issues with large files\n",
    "            while f.read(1024 * 1024):\n",
    "                pass\n",
    "        return True\n",
    "    except Exception as e:\n",
    "        print(f\"File {filepath} is corrupted or unreadable: {e}\")\n",
    "        return False\n",
    "\n",
    "is_lz4_file_valid(filepath)"
   ]
  },
  {
   "cell_type": "code",
   "execution_count": 18,
   "id": "7628caf4",
   "metadata": {},
   "outputs": [
    {
     "data": {
      "application/vnd.jupyter.widget-view+json": {
       "model_id": "a450eec7809744598f0db2d19e68b0b2",
       "version_major": 2,
       "version_minor": 0
      },
      "text/plain": [
       "Scanning:   0%|          | 0/6520 [00:00<?, ?file/s]"
      ]
     },
     "metadata": {},
     "output_type": "display_data"
    },
    {
     "data": {
      "application/vnd.jupyter.widget-view+json": {
       "model_id": "a450eec7809744598f0db2d19e68b0b2",
       "version_major": 2,
       "version_minor": 0
      },
      "text/plain": [
       "Scanning:   0%|          | 0/6520 [00:00<?, ?file/s]"
      ]
     },
     "metadata": {},
     "output_type": "display_data"
    },
    {
     "data": {
      "image/png": "[encoded data removed]",
      "text/plain": [
       "<Figure size 1200x500 with 1 Axes>"
      ]
     },
     "metadata": {},
     "output_type": "display_data"
    },
    {
     "name": "stdout",
     "output_type": "stream",
     "text": [
      "Total buckets created: 126\n"
     ]
    }
   ],
   "source": [
    "buckets = optimize_buckets(\n",
    "    input_dir='/vast/edk202/NLP_corpora/Google_Books/20200217/eng/5gram_files/5filter/',\n",
    "    max_depth=3,\n",
    "    num_buckets=40,\n",
    "    workers=47,\n",
    "    show_plot=True,\n",
    "    show_buckets=False,\n",
    ")"
   ]
  },
  {
   "cell_type": "code",
   "execution_count": null,
   "id": "210143b5",
   "metadata": {},
   "outputs": [
    {
     "data": {
      "application/vnd.jupyter.widget-view+json": {
       "model_id": "923a50cd140a4807a2b3727a698048e9",
       "version_major": 2,
       "version_minor": 0
      },
      "text/plain": [
       "Bucketing:   0%|          | 0/6520 [00:00<?, ?files/s]"
      ]
     },
     "metadata": {},
     "output_type": "display_data"
    },
    {
     "data": {
      "application/vnd.jupyter.widget-view+json": {
       "model_id": "923a50cd140a4807a2b3727a698048e9",
       "version_major": 2,
       "version_minor": 0
      },
      "text/plain": [
       "Bucketing:   0%|          | 0/6520 [00:00<?, ?files/s]"
      ]
     },
     "metadata": {},
     "output_type": "display_data"
    },
    {
     "ename": "KeyboardInterrupt",
     "evalue": "",
     "output_type": "error",
     "traceback": [
      "\u001b[31m---------------------------------------------------------------------------\u001b[39m",
      "\u001b[31mKeyboardInterrupt\u001b[39m                         Traceback (most recent call last)",
      "\u001b[36mFile \u001b[39m\u001b[32m/scratch/edk202/hist_w2v/src/ngram_tools/sort_ngrams.py:80\u001b[39m, in \u001b[36mbucketize_all_files\u001b[39m\u001b[34m(input_paths, output_dir, compress, workers, bucket_list)\u001b[39m\n\u001b[32m     75\u001b[39m futures = [\n\u001b[32m     76\u001b[39m     executor.submit(\n\u001b[32m     77\u001b[39m         _bucketize_one, path, output_dir, compress, bucket_list\n\u001b[32m     78\u001b[39m     ) \u001b[38;5;28;01mfor\u001b[39;00m path \u001b[38;5;129;01min\u001b[39;00m input_paths\n\u001b[32m     79\u001b[39m ]\n\u001b[32m---> \u001b[39m\u001b[32m80\u001b[39m \u001b[43m\u001b[49m\u001b[38;5;28;43;01mfor\u001b[39;49;00m\u001b[43m \u001b[49m\u001b[43mfuture\u001b[49m\u001b[43m \u001b[49m\u001b[38;5;129;43;01min\u001b[39;49;00m\u001b[43m \u001b[49m\u001b[43mtqdm\u001b[49m\u001b[43m(\u001b[49m\n\u001b[32m     81\u001b[39m \u001b[43m    \u001b[49m\u001b[43mas_completed\u001b[49m\u001b[43m(\u001b[49m\u001b[43mfutures\u001b[49m\u001b[43m)\u001b[49m\u001b[43m,\u001b[49m\u001b[43m \u001b[49m\u001b[43mtotal\u001b[49m\u001b[43m=\u001b[49m\u001b[38;5;28;43mlen\u001b[39;49m\u001b[43m(\u001b[49m\u001b[43mfutures\u001b[49m\u001b[43m)\u001b[49m\u001b[43m,\u001b[49m\n\u001b[32m     82\u001b[39m \u001b[43m    \u001b[49m\u001b[43mdesc\u001b[49m\u001b[43m=\u001b[49m\u001b[33;43m\"\u001b[39;49m\u001b[33;43mBucketing\u001b[39;49m\u001b[33;43m\"\u001b[39;49m\u001b[43m,\u001b[49m\u001b[43m \u001b[49m\u001b[43munit\u001b[49m\u001b[43m=\u001b[49m\u001b[33;43m\"\u001b[39;49m\u001b[33;43mfiles\u001b[39;49m\u001b[33;43m\"\u001b[39;49m\n\u001b[32m     83\u001b[39m \u001b[43m\u001b[49m\u001b[43m)\u001b[49m\u001b[43m:\u001b[49m\n\u001b[32m     84\u001b[39m \u001b[43m    \u001b[49m\u001b[43minput_path\u001b[49m\u001b[43m,\u001b[49m\u001b[43m \u001b[49m\u001b[43mbucket_paths\u001b[49m\u001b[43m \u001b[49m\u001b[43m=\u001b[49m\u001b[43m \u001b[49m\u001b[43mfuture\u001b[49m\u001b[43m.\u001b[49m\u001b[43mresult\u001b[49m\u001b[43m(\u001b[49m\u001b[43m)\u001b[49m\n",
      "\u001b[36mFile \u001b[39m\u001b[32m/ext3/miniforge3/envs/hist_w2v/lib/python3.11/site-packages/tqdm/notebook.py:250\u001b[39m, in \u001b[36mtqdm_notebook.__iter__\u001b[39m\u001b[34m(self)\u001b[39m\n\u001b[32m    249\u001b[39m it = \u001b[38;5;28msuper\u001b[39m().\u001b[34m__iter__\u001b[39m()\n\u001b[32m--> \u001b[39m\u001b[32m250\u001b[39m \u001b[43m\u001b[49m\u001b[38;5;28;43;01mfor\u001b[39;49;00m\u001b[43m \u001b[49m\u001b[43mobj\u001b[49m\u001b[43m \u001b[49m\u001b[38;5;129;43;01min\u001b[39;49;00m\u001b[43m \u001b[49m\u001b[43mit\u001b[49m\u001b[43m:\u001b[49m\n\u001b[32m    251\u001b[39m \u001b[43m    \u001b[49m\u001b[38;5;66;43;03m# return super(tqdm...) will not catch exception\u001b[39;49;00m\n\u001b[32m    252\u001b[39m \u001b[43m    \u001b[49m\u001b[38;5;28;43;01myield\u001b[39;49;00m\u001b[43m \u001b[49m\u001b[43mobj\u001b[49m\n",
      "\u001b[36mFile \u001b[39m\u001b[32m/ext3/miniforge3/envs/hist_w2v/lib/python3.11/site-packages/tqdm/std.py:1181\u001b[39m, in \u001b[36mtqdm.__iter__\u001b[39m\u001b[34m(self)\u001b[39m\n\u001b[32m   1180\u001b[39m \u001b[38;5;28;01mtry\u001b[39;00m:\n\u001b[32m-> \u001b[39m\u001b[32m1181\u001b[39m \u001b[43m    \u001b[49m\u001b[38;5;28;43;01mfor\u001b[39;49;00m\u001b[43m \u001b[49m\u001b[43mobj\u001b[49m\u001b[43m \u001b[49m\u001b[38;5;129;43;01min\u001b[39;49;00m\u001b[43m \u001b[49m\u001b[43miterable\u001b[49m\u001b[43m:\u001b[49m\n\u001b[32m   1182\u001b[39m \u001b[43m        \u001b[49m\u001b[38;5;28;43;01myield\u001b[39;49;00m\u001b[43m \u001b[49m\u001b[43mobj\u001b[49m\n",
      "\u001b[36mFile \u001b[39m\u001b[32m/ext3/miniforge3/envs/hist_w2v/lib/python3.11/concurrent/futures/_base.py:243\u001b[39m, in \u001b[36mas_completed\u001b[39m\u001b[34m(fs, timeout)\u001b[39m\n\u001b[32m    239\u001b[39m         \u001b[38;5;28;01mraise\u001b[39;00m \u001b[38;5;167;01mTimeoutError\u001b[39;00m(\n\u001b[32m    240\u001b[39m                 \u001b[33m'\u001b[39m\u001b[38;5;132;01m%d\u001b[39;00m\u001b[33m (of \u001b[39m\u001b[38;5;132;01m%d\u001b[39;00m\u001b[33m) futures unfinished\u001b[39m\u001b[33m'\u001b[39m % (\n\u001b[32m    241\u001b[39m                 \u001b[38;5;28mlen\u001b[39m(pending), total_futures))\n\u001b[32m--> \u001b[39m\u001b[32m243\u001b[39m \u001b[43mwaiter\u001b[49m\u001b[43m.\u001b[49m\u001b[43mevent\u001b[49m\u001b[43m.\u001b[49m\u001b[43mwait\u001b[49m\u001b[43m(\u001b[49m\u001b[43mwait_timeout\u001b[49m\u001b[43m)\u001b[49m\n\u001b[32m    245\u001b[39m \u001b[38;5;28;01mwith\u001b[39;00m waiter.lock:\n",
      "\u001b[36mFile \u001b[39m\u001b[32m/ext3/miniforge3/envs/hist_w2v/lib/python3.11/threading.py:629\u001b[39m, in \u001b[36mEvent.wait\u001b[39m\u001b[34m(self, timeout)\u001b[39m\n\u001b[32m    628\u001b[39m \u001b[38;5;28;01mif\u001b[39;00m \u001b[38;5;129;01mnot\u001b[39;00m signaled:\n\u001b[32m--> \u001b[39m\u001b[32m629\u001b[39m     signaled = \u001b[38;5;28;43mself\u001b[39;49m\u001b[43m.\u001b[49m\u001b[43m_cond\u001b[49m\u001b[43m.\u001b[49m\u001b[43mwait\u001b[49m\u001b[43m(\u001b[49m\u001b[43mtimeout\u001b[49m\u001b[43m)\u001b[49m\n\u001b[32m    630\u001b[39m \u001b[38;5;28;01mreturn\u001b[39;00m signaled\n",
      "\u001b[36mFile \u001b[39m\u001b[32m/ext3/miniforge3/envs/hist_w2v/lib/python3.11/threading.py:327\u001b[39m, in \u001b[36mCondition.wait\u001b[39m\u001b[34m(self, timeout)\u001b[39m\n\u001b[32m    326\u001b[39m \u001b[38;5;28;01mif\u001b[39;00m timeout \u001b[38;5;129;01mis\u001b[39;00m \u001b[38;5;28;01mNone\u001b[39;00m:\n\u001b[32m--> \u001b[39m\u001b[32m327\u001b[39m     \u001b[43mwaiter\u001b[49m\u001b[43m.\u001b[49m\u001b[43macquire\u001b[49m\u001b[43m(\u001b[49m\u001b[43m)\u001b[49m\n\u001b[32m    328\u001b[39m     gotit = \u001b[38;5;28;01mTrue\u001b[39;00m\n",
      "\u001b[31mKeyboardInterrupt\u001b[39m: ",
      "\nDuring handling of the above exception, another exception occurred:\n",
      "\u001b[31mKeyboardInterrupt\u001b[39m                         Traceback (most recent call last)",
      "\u001b[36mCell\u001b[39m\u001b[36m \u001b[39m\u001b[32mIn[12]\u001b[39m\u001b[32m, line 1\u001b[39m\n\u001b[32m----> \u001b[39m\u001b[32m1\u001b[39m \u001b[43msort_and_combine\u001b[49m\u001b[43m(\u001b[49m\n\u001b[32m      2\u001b[39m \u001b[43m    \u001b[49m\u001b[43minput_dir\u001b[49m\u001b[43m=\u001b[49m\u001b[33;43m'\u001b[39;49m\u001b[33;43m/vast/edk202/NLP_corpora/Google_Books/20200217/eng/5gram_files/5filter/\u001b[39;49m\u001b[33;43m'\u001b[39;49m\u001b[43m,\u001b[49m\n\u001b[32m      3\u001b[39m \u001b[43m    \u001b[49m\u001b[43moutput_dir\u001b[49m\u001b[43m=\u001b[49m\u001b[33;43m'\u001b[39;49m\u001b[33;43m/vast/edk202/NLP_corpora/Google_Books/20200217/eng/5gram_files/bucketed/\u001b[39;49m\u001b[33;43m'\u001b[39;49m\u001b[43m,\u001b[49m\n\u001b[32m      4\u001b[39m \u001b[43m    \u001b[49m\u001b[43mmerged_output_path\u001b[49m\u001b[43m=\u001b[49m\u001b[33;43m'\u001b[39;49m\u001b[33;43m/vast/edk202/NLP_corpora/Google_Books/20200217/eng/5gram_files/merged/5gram-merged.jsonl.lz4\u001b[39;49m\u001b[33;43m'\u001b[39;49m\u001b[43m,\u001b[49m\n\u001b[32m      5\u001b[39m \u001b[43m    \u001b[49m\u001b[43mbucket_list\u001b[49m\u001b[43m=\u001b[49m\u001b[43mbuckets\u001b[49m\u001b[43m,\u001b[49m\n\u001b[32m      6\u001b[39m \u001b[43m    \u001b[49m\u001b[43mcompress\u001b[49m\u001b[43m=\u001b[49m\u001b[38;5;28;43;01mTrue\u001b[39;49;00m\u001b[43m,\u001b[49m\n\u001b[32m      7\u001b[39m \u001b[43m    \u001b[49m\u001b[43mworkers\u001b[49m\u001b[43m=\u001b[49m\u001b[32;43m40\u001b[39;49m\n\u001b[32m      8\u001b[39m \u001b[43m)\u001b[49m\n",
      "\u001b[36mFile \u001b[39m\u001b[32m<string>:17\u001b[39m, in \u001b[36msort_and_combine\u001b[39m\u001b[34m(input_dir, output_dir, merged_output_path, bucket_list, compress, workers)\u001b[39m\n",
      "\u001b[36mFile \u001b[39m\u001b[32m/scratch/edk202/hist_w2v/src/ngram_tools/sort_ngrams.py:74\u001b[39m, in \u001b[36mbucketize_all_files\u001b[39m\u001b[34m(input_paths, output_dir, compress, workers, bucket_list)\u001b[39m\n\u001b[32m     62\u001b[39m \u001b[38;5;250m\u001b[39m\u001b[33;03m\"\"\"\u001b[39;00m\n\u001b[32m     63\u001b[39m \u001b[33;03mBucketize all input files in parallel, storing bucketized files in output_dir.\u001b[39;00m\n\u001b[32m     64\u001b[39m \u001b[33;03mArgs:\u001b[39;00m\n\u001b[32m   (...)\u001b[39m\u001b[32m     71\u001b[39m \u001b[33;03m    dict: Mapping from input file to its bucket output paths (dict per file).\u001b[39;00m\n\u001b[32m     72\u001b[39m \u001b[33;03m\"\"\"\u001b[39;00m\n\u001b[32m     73\u001b[39m os.makedirs(output_dir, exist_ok=\u001b[38;5;28;01mTrue\u001b[39;00m)\n\u001b[32m---> \u001b[39m\u001b[32m74\u001b[39m \u001b[38;5;28;01mfrom\u001b[39;00m\u001b[38;5;250m \u001b[39m\u001b[34;01mconcurrent\u001b[39;00m\u001b[34;01m.\u001b[39;00m\u001b[34;01mfutures\u001b[39;00m\u001b[38;5;250m \u001b[39m\u001b[38;5;28;01mimport\u001b[39;00m ProcessPoolExecutor, as_completed\n\u001b[32m     75\u001b[39m results = {}\n\u001b[32m     76\u001b[39m \u001b[38;5;28;01mwith\u001b[39;00m ProcessPoolExecutor(max_workers=workers) \u001b[38;5;28;01mas\u001b[39;00m executor:\n",
      "\u001b[36mFile \u001b[39m\u001b[32m/ext3/miniforge3/envs/hist_w2v/lib/python3.11/concurrent/futures/_base.py:647\u001b[39m, in \u001b[36mExecutor.__exit__\u001b[39m\u001b[34m(self, exc_type, exc_val, exc_tb)\u001b[39m\n\u001b[32m    646\u001b[39m \u001b[38;5;28;01mdef\u001b[39;00m\u001b[38;5;250m \u001b[39m\u001b[34m__exit__\u001b[39m(\u001b[38;5;28mself\u001b[39m, exc_type, exc_val, exc_tb):\n\u001b[32m--> \u001b[39m\u001b[32m647\u001b[39m     \u001b[38;5;28;43mself\u001b[39;49m\u001b[43m.\u001b[49m\u001b[43mshutdown\u001b[49m\u001b[43m(\u001b[49m\u001b[43mwait\u001b[49m\u001b[43m=\u001b[49m\u001b[38;5;28;43;01mTrue\u001b[39;49;00m\u001b[43m)\u001b[49m\n\u001b[32m    648\u001b[39m     \u001b[38;5;28;01mreturn\u001b[39;00m \u001b[38;5;28;01mFalse\u001b[39;00m\n",
      "\u001b[36mFile \u001b[39m\u001b[32m/ext3/miniforge3/envs/hist_w2v/lib/python3.11/concurrent/futures/process.py:851\u001b[39m, in \u001b[36mProcessPoolExecutor.shutdown\u001b[39m\u001b[34m(self, wait, cancel_futures)\u001b[39m\n\u001b[32m    848\u001b[39m         \u001b[38;5;28mself\u001b[39m._executor_manager_thread_wakeup.wakeup()\n\u001b[32m    850\u001b[39m \u001b[38;5;28;01mif\u001b[39;00m \u001b[38;5;28mself\u001b[39m._executor_manager_thread \u001b[38;5;129;01mis\u001b[39;00m \u001b[38;5;129;01mnot\u001b[39;00m \u001b[38;5;28;01mNone\u001b[39;00m \u001b[38;5;129;01mand\u001b[39;00m wait:\n\u001b[32m--> \u001b[39m\u001b[32m851\u001b[39m     \u001b[38;5;28;43mself\u001b[39;49m\u001b[43m.\u001b[49m\u001b[43m_executor_manager_thread\u001b[49m\u001b[43m.\u001b[49m\u001b[43mjoin\u001b[49m\u001b[43m(\u001b[49m\u001b[43m)\u001b[49m\n\u001b[32m    852\u001b[39m \u001b[38;5;66;03m# To reduce the risk of opening too many files, remove references to\u001b[39;00m\n\u001b[32m    853\u001b[39m \u001b[38;5;66;03m# objects that use file descriptors.\u001b[39;00m\n\u001b[32m    854\u001b[39m \u001b[38;5;28mself\u001b[39m._executor_manager_thread = \u001b[38;5;28;01mNone\u001b[39;00m\n",
      "\u001b[36mFile \u001b[39m\u001b[32m/ext3/miniforge3/envs/hist_w2v/lib/python3.11/threading.py:1119\u001b[39m, in \u001b[36mThread.join\u001b[39m\u001b[34m(self, timeout)\u001b[39m\n\u001b[32m   1116\u001b[39m     \u001b[38;5;28;01mraise\u001b[39;00m \u001b[38;5;167;01mRuntimeError\u001b[39;00m(\u001b[33m\"\u001b[39m\u001b[33mcannot join current thread\u001b[39m\u001b[33m\"\u001b[39m)\n\u001b[32m   1118\u001b[39m \u001b[38;5;28;01mif\u001b[39;00m timeout \u001b[38;5;129;01mis\u001b[39;00m \u001b[38;5;28;01mNone\u001b[39;00m:\n\u001b[32m-> \u001b[39m\u001b[32m1119\u001b[39m     \u001b[38;5;28;43mself\u001b[39;49m\u001b[43m.\u001b[49m\u001b[43m_wait_for_tstate_lock\u001b[49m\u001b[43m(\u001b[49m\u001b[43m)\u001b[49m\n\u001b[32m   1120\u001b[39m \u001b[38;5;28;01melse\u001b[39;00m:\n\u001b[32m   1121\u001b[39m     \u001b[38;5;66;03m# the behavior of a negative timeout isn't documented, but\u001b[39;00m\n\u001b[32m   1122\u001b[39m     \u001b[38;5;66;03m# historically .join(timeout=x) for x<0 has acted as if timeout=0\u001b[39;00m\n\u001b[32m   1123\u001b[39m     \u001b[38;5;28mself\u001b[39m._wait_for_tstate_lock(timeout=\u001b[38;5;28mmax\u001b[39m(timeout, \u001b[32m0\u001b[39m))\n",
      "\u001b[36mFile \u001b[39m\u001b[32m/ext3/miniforge3/envs/hist_w2v/lib/python3.11/threading.py:1139\u001b[39m, in \u001b[36mThread._wait_for_tstate_lock\u001b[39m\u001b[34m(self, block, timeout)\u001b[39m\n\u001b[32m   1136\u001b[39m     \u001b[38;5;28;01mreturn\u001b[39;00m\n\u001b[32m   1138\u001b[39m \u001b[38;5;28;01mtry\u001b[39;00m:\n\u001b[32m-> \u001b[39m\u001b[32m1139\u001b[39m     \u001b[38;5;28;01mif\u001b[39;00m \u001b[43mlock\u001b[49m\u001b[43m.\u001b[49m\u001b[43macquire\u001b[49m\u001b[43m(\u001b[49m\u001b[43mblock\u001b[49m\u001b[43m,\u001b[49m\u001b[43m \u001b[49m\u001b[43mtimeout\u001b[49m\u001b[43m)\u001b[49m:\n\u001b[32m   1140\u001b[39m         lock.release()\n\u001b[32m   1141\u001b[39m         \u001b[38;5;28mself\u001b[39m._stop()\n",
      "\u001b[31mKeyboardInterrupt\u001b[39m: "
     ]
    }
   ],
   "source": [
    "sort_and_combine(\n",
    "    input_dir='/vast/edk202/NLP_corpora/Google_Books/20200217/eng/5gram_files/5filter/',\n",
    "    output_dir='/vast/edk202/NLP_corpora/Google_Books/20200217/eng/5gram_files/bucketed/',\n",
    "    merged_output_path='/vast/edk202/NLP_corpora/Google_Books/20200217/eng/5gram_files/merged/5gram-merged.jsonl.lz4',\n",
    "    bucket_list=buckets,\n",
    "    delete_input=True,\n",
    "    delete_buckets=True,\n",
    "    delete_omnibus=True,\n",
    "    compress=True,\n",
    "    workers=47\n",
    ")"
   ]
  },
  {
   "cell_type": "code",
   "execution_count": 17,
   "id": "8804104e",
   "metadata": {},
   "outputs": [
    {
     "data": {
      "text/plain": [
       "[('uun', 11210172),\n",
       " ('uuuu', 78619531),\n",
       " ('uuud', 7919292),\n",
       " ('uuug', 5260475),\n",
       " ('uuus', 17610868),\n",
       " ('uuuh', 4745681),\n",
       " ('uuue', 7567120),\n",
       " ('uuum', 9732034),\n",
       " ('uuuw', 5987885),\n",
       " ('uuub', 6157262),\n",
       " ('uuuc', 14596879),\n",
       " ('uuua', 10311343),\n",
       " ('uuuo', 4424416),\n",
       " ('uuut', 8407879),\n",
       " ('uuuv', 1914504),\n",
       " ('uuuf', 8372914),\n",
       " ('uuul', 7556636),\n",
       " ('uuuk', 1392279),\n",
       " ('uuur', 8440615),\n",
       " ('uuup', 13323846),\n",
       " ('uuuj', 1224449),\n",
       " ('uuun', 4195387),\n",
       " ('uuui', 5609912),\n",
       " ('uuuy', 964579),\n",
       " ('uuuq', 693297),\n",
       " ('uuux', 36329),\n",
       " ('uuuz', 88433),\n",
       " ('uut', 21377808),\n",
       " ('uua', 25252085),\n",
       " ('uuw', 14792127),\n",
       " ('uus', 43634229),\n",
       " ('uup', 33891927),\n",
       " ('uub', 15135852),\n",
       " ('uum', 24292977),\n",
       " ('uur', 20657736),\n",
       " ('uud', 19053352),\n",
       " ('uuj', 3063759),\n",
       " ('uug', 12723652),\n",
       " ('uuf', 21029396),\n",
       " ('uul', 18770754),\n",
       " ('uuk', 3461099),\n",
       " ('uui', 14082664),\n",
       " ('uue', 18862830),\n",
       " ('uuv', 4808336),\n",
       " ('uuo', 10889666),\n",
       " ('uuc', 37477018),\n",
       " ('uuh', 11652782),\n",
       " ('uuy', 2191214),\n",
       " ('uuq', 1680169),\n",
       " ('uux', 46050),\n",
       " ('uuz', 199254),\n",
       " ('ua', 49622909),\n",
       " ('up', 64227136),\n",
       " ('uq', 3205725),\n",
       " ('ut', 41494232),\n",
       " ('uk', 6384095),\n",
       " ('ub', 28206565),\n",
       " ('ud', 37243821),\n",
       " ('uw', 29745876),\n",
       " ('ue', 38658427),\n",
       " ('uo', 21353213),\n",
       " ('um', 46671879),\n",
       " ('uh', 23045538),\n",
       " ('un', 20910407),\n",
       " ('ul', 35532668),\n",
       " ('uc', 72119031),\n",
       " ('us', 83158658),\n",
       " ('uy', 3908179),\n",
       " ('ui', 28570011),\n",
       " ('ur', 39743485),\n",
       " ('uv', 9270275),\n",
       " ('ug', 23509627),\n",
       " ('uj', 6035711),\n",
       " ('uf', 40055194),\n",
       " ('uz', 369196),\n",
       " ('ux', 105695),\n",
       " ('a', 71745090),\n",
       " ('e', 52160875),\n",
       " ('b', 38245217),\n",
       " ('g', 30112639),\n",
       " ('w', 41280210),\n",
       " ('ct', 1272562),\n",
       " ('cu', 73935183),\n",
       " ('cn', 531324),\n",
       " ('cf', 1151829),\n",
       " ('cc', 2678796),\n",
       " ('cd', 1263866),\n",
       " ('cs', 3141895),\n",
       " ('ch', 679522),\n",
       " ('ca', 2117075),\n",
       " ('cb', 974771),\n",
       " ('cr', 1534468),\n",
       " ('cp', 2199118),\n",
       " ('cv', 286664),\n",
       " ('cg', 629986),\n",
       " ('cy', 95137),\n",
       " ('ce', 1281389),\n",
       " ('cl', 1081672),\n",
       " ('cm', 1749869),\n",
       " ('ci', 1004015),\n",
       " ('cw', 1089564),\n",
       " ('co', 685241),\n",
       " ('cq', 84115),\n",
       " ('ck', 120342),\n",
       " ('cj', 190119),\n",
       " ('cz', 18961),\n",
       " ('cx', 5497),\n",
       " ('d', 51216587),\n",
       " ('f', 51835808),\n",
       " ('h', 30813781),\n",
       " ('i', 38772218),\n",
       " ('j', 7681247),\n",
       " ('k', 8156064),\n",
       " ('l', 45860491),\n",
       " ('m', 64379260),\n",
       " ('n', 25680323),\n",
       " ('o', 28751112),\n",
       " ('p', 87712709),\n",
       " ('q', 4297843),\n",
       " ('r', 55650482),\n",
       " ('su', 80184454),\n",
       " ('sb', 1422448),\n",
       " ('sm', 2128702),\n",
       " ('sf', 1697351),\n",
       " ('sg', 868960),\n",
       " ('sc', 3502722),\n",
       " ('sl', 1524942),\n",
       " ('sa', 2859542),\n",
       " ('sr', 1832040),\n",
       " ('st', 1845917),\n",
       " ('sd', 1780166),\n",
       " ('sp', 2698379),\n",
       " ('si', 1271154),\n",
       " ('se', 1521835),\n",
       " ('ss', 3559157),\n",
       " ('so', 831904),\n",
       " ('sj', 291025),\n",
       " ('sw', 1323707),\n",
       " ('sv', 376340),\n",
       " ('sh', 871307),\n",
       " ('sn', 697246),\n",
       " ('sy', 251332),\n",
       " ('sq', 183165),\n",
       " ('sk', 169331),\n",
       " ('sx', 2021),\n",
       " ('sz', 13159),\n",
       " ('t', 57168208),\n",
       " ('v', 12505239),\n",
       " ('y', 6602251),\n",
       " ('x', 133715),\n",
       " ('z', 534214)]"
      ]
     },
     "execution_count": 17,
     "metadata": {},
     "output_type": "execute_result"
    }
   ],
   "source": [
    "buckets"
   ]
  },
  {
   "cell_type": "code",
   "execution_count": null,
   "id": "91a5e3dd",
   "metadata": {},
   "outputs": [],
   "source": []
  },
  {
   "cell_type": "code",
   "execution_count": null,
   "id": "ee79326d",
   "metadata": {},
   "outputs": [],
   "source": [
    "# Test the new key_type parameter in reservoir sampler\n",
    "\n",
    "import time\n",
    "import rocksdict\n",
    "\n",
    "# Recompile the Cython extension with the new parameter\n",
    "import os\n",
    "import subprocess\n",
    "\n",
    "print(\"Recompiling Cython reservoir sampler with key_type parameter...\")\n",
    "\n",
    "# Recompile\n",
    "result = subprocess.run(['python', 'setup.py', 'build_ext', '--inplace'], \n",
    "                       cwd='/scratch/edk202/hist_w2v', \n",
    "                       capture_output=True, text=True)\n",
    "\n",
    "if result.returncode == 0:\n",
    "    print(\"✅ Compilation successful!\")\n",
    "else:\n",
    "    print(\"❌ Compilation failed:\")\n",
    "    print(result.stdout)\n",
    "    print(result.stderr)"
   ]
  },
  {
   "cell_type": "markdown",
   "id": "1d60fc3d",
   "metadata": {},
   "source": [
    "## ⚡ New Performance Feature: `key_type` Parameter\n",
    "\n",
    "The reservoir sampler now includes a `key_type` parameter to optimize performance when you know your database's key storage format:\n",
    "\n",
    "### Options:\n",
    "\n",
    "- **`key_type=\"check\"` (default)**: Auto-detect key type with `isinstance()` checking\n",
    "  - ✅ Most robust - works with any database\n",
    "  - ⚠️ Small overhead (~0.001%) from type checking per key\n",
    "\n",
    "- **`key_type=\"string\"` (recommended for your ngram database)**: Assume all keys are strings\n",
    "  - ✅ Fastest performance - no type checking overhead\n",
    "  - ✅ Perfect for your ingestion script which stores keys as strings\n",
    "  - ⚠️ Will break if database actually has bytes keys\n",
    "\n",
    "- **`key_type=\"bytes\"`: Assume all keys are bytes\n",
    "  - ✅ Good performance - no type checking, always decodes\n",
    "  - ✅ Works for databases that store keys as bytes\n",
    "  - ⚠️ Will error if database has string keys\n",
    "\n",
    "### Usage Example:\n",
    "```python\n",
    "# For your ngram database (keys stored as strings)\n",
    "sample = reservoir_sampling(db, 1000, key_type=\"string\")\n",
    "\n",
    "# For unknown databases (safest)\n",
    "sample = reservoir_sampling(db, 1000, key_type=\"check\")\n",
    "\n",
    "# For bytes-key databases\n",
    "sample = reservoir_sampling(db, 1000, key_type=\"bytes\")\n",
    "```\n",
    "\n",
    "### Performance Impact:\n",
    "- Type checking overhead: ~10-550 nanoseconds per key\n",
    "- At 1.5M keys/sec processing rate: ~0.001% overhead\n",
    "- Using `key_type=\"string\"` eliminates this completely"
   ]
  },
  {
   "cell_type": "code",
   "execution_count": null,
   "id": "e934c732",
   "metadata": {},
   "outputs": [],
   "source": [
    "# Test performance of different key_type strategies\n",
    "print(\"Testing different key_type strategies for performance...\")\n",
    "\n",
    "# Import the updated reservoir sampler\n",
    "try:\n",
    "    from src.reservoir_sampler import reservoir_sampling as cython_sample\n",
    "    print(\"✅ Cython reservoir sampler imported successfully\")\n",
    "except ImportError as e:\n",
    "    print(f\"❌ Failed to import Cython sampler: {e}\")\n",
    "    cython_sample = None\n",
    "\n",
    "# Test with a small database if available\n",
    "db_path = \"/scratch/edk202/hist_w2v/data/test_db\"  # Adjust path as needed\n",
    "\n",
    "try:\n",
    "    if os.path.exists(db_path):\n",
    "        print(f\"Opening test database: {db_path}\")\n",
    "        db = rocksdict.Rdict(db_path)\n",
    "        \n",
    "        # Test small sample with different key_type options\n",
    "        sample_size = 10\n",
    "        max_items = 1000  # Limit for quick testing\n",
    "        \n",
    "        print(f\"\\n🧪 Testing key_type strategies (sample_size={sample_size}, max_items={max_items}):\")\n",
    "        \n",
    "        strategies = [\n",
    "            (\"check\", \"Auto-detect key type (default)\"),\n",
    "            (\"string\", \"Assume keys are strings (no type checking)\"),\n",
    "            (\"bytes\", \"Assume keys are bytes (always decode)\")\n",
    "        ]\n",
    "        \n",
    "        results = {}\n",
    "        \n",
    "        for strategy, description in strategies:\n",
    "            print(f\"\\n--- Testing {strategy} strategy: {description} ---\")\n",
    "            \n",
    "            if cython_sample:\n",
    "                start_time = time.time()\n",
    "                try:\n",
    "                    sample = cython_sample(db, sample_size, progress_interval=100, \n",
    "                                         max_items=max_items, key_type=strategy)\n",
    "                    end_time = time.time()\n",
    "                    \n",
    "                    results[strategy] = {\n",
    "                        'time': end_time - start_time,\n",
    "                        'sample_size': len(sample),\n",
    "                        'success': True\n",
    "                    }\n",
    "                    \n",
    "                    print(f\"✅ Strategy '{strategy}': {end_time - start_time:.4f}s, got {len(sample)} samples\")\n",
    "                    \n",
    "                except Exception as e:\n",
    "                    results[strategy] = {\n",
    "                        'time': None,\n",
    "                        'sample_size': 0,\n",
    "                        'success': False,\n",
    "                        'error': str(e)\n",
    "                    }\n",
    "                    print(f\"❌ Strategy '{strategy}' failed: {e}\")\n",
    "        \n",
    "        # Summary\n",
    "        print(f\"\\n📊 Performance Summary:\")\n",
    "        print(f\"{'Strategy':<10} {'Time (s)':<10} {'Samples':<10} {'Status':<10}\")\n",
    "        print(\"-\" * 45)\n",
    "        \n",
    "        for strategy, result in results.items():\n",
    "            if result['success']:\n",
    "                print(f\"{strategy:<10} {result['time']:<10.4f} {result['sample_size']:<10} {'✅ Success':<10}\")\n",
    "            else:\n",
    "                print(f\"{strategy:<10} {'N/A':<10} {result['sample_size']:<10} {'❌ Failed':<10}\")\n",
    "        \n",
    "        # Performance comparison\n",
    "        if all(r['success'] for r in results.values()):\n",
    "            check_time = results['check']['time']\n",
    "            string_time = results['string']['time']\n",
    "            \n",
    "            if string_time < check_time:\n",
    "                speedup = (check_time - string_time) / check_time * 100\n",
    "                print(f\"\\n🚀 'string' strategy is {speedup:.2f}% faster than 'check' strategy\")\n",
    "            else:\n",
    "                slowdown = (string_time - check_time) / check_time * 100\n",
    "                print(f\"\\n⚠️ 'string' strategy is {slowdown:.2f}% slower than 'check' strategy\")\n",
    "        \n",
    "        db.close()\n",
    "        print(f\"\\nDatabase closed successfully\")\n",
    "        \n",
    "    else:\n",
    "        print(f\"❌ Test database not found at: {db_path}\")\n",
    "        print(\"You can test this with your own database by adjusting the db_path variable\")\n",
    "        \n",
    "except Exception as e:\n",
    "    print(f\"❌ Error during testing: {e}\")\n",
    "\n",
    "print(\"\\n✅ Key type parameter testing complete!\")"
   ]
  }
 ],
 "metadata": {
  "kernelspec": {
   "display_name": "Remote kernel: hist_w2v",
   "language": "python",
   "name": "hist_w2v"
  }
 },
 "nbformat": 4,
 "nbformat_minor": 5
}
