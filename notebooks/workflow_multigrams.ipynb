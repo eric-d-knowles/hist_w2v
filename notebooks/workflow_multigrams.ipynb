{
 "cells": [
  {
   "cell_type": "code",
   "execution_count": 1,
   "id": "a7703a5f-b7f5-4c07-a6c7-b8d726792012",
   "metadata": {},
   "outputs": [],
   "source": [
    "from ngram_embeddings.download_ngrams import download_ngram_files\n",
    "from ngram_embeddings.convert_to_jsonl import convert_to_jsonl_files\n",
    "from ngram_embeddings.lowercase_ngrams import lowercase_ngrams\n",
    "from ngram_embeddings.lemmatize_ngrams import lemmatize_ngrams\n",
    "from ngram_embeddings.filter_ngrams import filter_ngrams\n",
    "from ngram_embeddings.sort_ngrams import sort_ngrams\n",
    "from ngram_embeddings.helpers.verify_sort import check_file_sorted\n",
    "from ngram_embeddings.consolidate_ngrams import consolidate_duplicate_ngrams\n",
    "from ngram_embeddings.helpers.print_jsonl_lines import print_jsonl_lines\n",
    "from ngram_embeddings.index_and_create_vocab import index_and_create_vocab_files"
   ]
  },
  {
   "cell_type": "markdown",
   "id": "33cdb7cc-0186-4bbc-bc10-22b433eca869",
   "metadata": {
    "editable": true,
    "slideshow": {
     "slide_type": ""
    },
    "tags": []
   },
   "source": [
    "# **Process Multigrams for Training Word-Embedding Models**"
   ]
  },
  {
   "cell_type": "markdown",
   "id": "c5e915c8-5224-4cbe-b5a2-b58978dd48f7",
   "metadata": {},
   "source": [
    "## **Goal**: Download and preprocess mulitgrams for use in training `Word2Vec` models. "
   ]
  },
  {
   "cell_type": "markdown",
   "id": "794a3cfb-8fee-4303-a2f9-93786529e21d",
   "metadata": {},
   "source": [
    "This workflow is resource-intensive and is probably only practical when run on a computing cluster. On my university's High Performance Computing (HPC) cluster, I request the maximum 14 cores (48 logical processors) and 128G of memory and use a 2T fast-I/O NVMe SSD filespace. I still run up against time and time and resource limits and have designed the code to contend with them.\n",
    "\n",
    "The code affords some options to keep things efficient. Throughout the workflow you can specify compress=True, which tells the code to compress its output files. Downstream scripts will see the `.lz4` extensions and handle the files accordingly. If you know your workflow runs correctly and wish to further conserve space, you can specify `delete_input=True` for many of the scripts; this will delete the source files for a given step once that step is complete. The scripts are fairly memory-efficient—with the exception of `sort_ngrams` and `index_and_create_vocab_files`, which sort multiple files in memory at once. When processing multigrams, I've found that allocating more than ~10 workers in these scripts leads to memory exhaustion (with 128G!) and slow processing.\n",
    "\n",
    "**NOTE:** You'll probably want to have run the unigram workflow before processing multigrams. That workflow allows you create a vocabulary file for filtering out uncommon tokens from the multigrams. Although you can run the `filter_ngrams` module without a vocab file, most use cases will benefit from one."
   ]
  },
  {
   "cell_type": "markdown",
   "id": "b97fea36-f682-4a1c-aedc-d905ba30c001",
   "metadata": {},
   "source": [
    "### Download multigrams\n",
    "Here, I'm using `download_ngrams` module to fetch 5grams appended with part-of-speech (POS) tags (e.g., `_VERB`). Although you can specify `ngram_type='untagged'`, POS tags are necessary to lemmatize the tokens. Specify the number of parallel processes you wish to use by setting `workers` (the default is all available processors). I've specified `compress=True` becausae 5gram files are _big_.\n",
    "\n",
    "`[Runtime: 4:19:11.661609]`"
   ]
  },
  {
   "cell_type": "code",
   "execution_count": 3,
   "id": "85c19814-cbee-4ce4-b2ca-0d4abf76d3dc",
   "metadata": {},
   "outputs": [
    {
     "name": "stdout",
     "output_type": "stream",
     "text": [
      "\u001b[31mStart Time:                2025-01-04 17:43:25.557908\n",
      "\u001b[0m\n",
      "\u001b[4mDownload Info\u001b[0m\n",
      "Ngram repository:          https://storage.googleapis.com/books/ngrams/books/20200217/eng/eng-5-ngrams_exports.html\n",
      "Output directory:          /vast/edk202/NLP_corpora/Google_Books/20200217/eng/5gram_files/1download\n",
      "File index range:          0 to 19422\n",
      "File URLs available:       19423\n",
      "File URLs to use:          19423\n",
      "First file to get:         https://storage.googleapis.com/books/ngrams/books/20200217/eng/5-00000-of-19423.gz\n",
      "Last file to get:          https://storage.googleapis.com/books/ngrams/books/20200217/eng/5-19422-of-19423.gz\n",
      "Ngram size:                5\n",
      "Ngram type:                tagged\n",
      "Number of workers:         48\n",
      "Compress saved files:      True\n",
      "Overwrite existing files:  False\n",
      "\n",
      "Downloading     |\u001b[32m██████████████████████████████████████████████████\u001b[0m| 100.0% 19423       /19423      \u001b[0m\n",
      "\u001b[31m\n",
      "End Time:                  2025-01-04 22:02:37.219517\u001b[0m\n",
      "\u001b[31mTotal runtime:             4:19:11.661609\n",
      "\u001b[0m\n"
     ]
    }
   ],
   "source": [
    "download_ngram_files(\n",
    "    ngram_size=5,\n",
    "    ngram_type='tagged',\n",
    "    proj_dir='/vast/edk202/NLP_corpora/Google_Books/20200217/eng',\n",
    "    compress=True,\n",
    "    overwrite=False\n",
    ")"
   ]
  },
  {
   "cell_type": "markdown",
   "id": "799d4fd8-2fe9-4fe3-8a37-20f0e1b81eef",
   "metadata": {},
   "source": [
    "### Convert files from TXT to JSONL\n",
    "This module converts the original multigram files' text data to a more flexible JSON Lines (JSONL) format. Although this increases storage demands, it makes downstream processing more efficient.\n",
    "\n",
    "`[Total runtime: 1:30:56.083010]`"
   ]
  },
  {
   "cell_type": "code",
   "execution_count": 3,
   "id": "84af60d9-2627-4a9c-80e4-dde2e1703d43",
   "metadata": {},
   "outputs": [
    {
     "name": "stdout",
     "output_type": "stream",
     "text": [
      "\u001b[31mStart Time:                2025-01-05 13:47:05.912405\n",
      "\u001b[0m\n",
      "\u001b[4mConversion Info\u001b[0m\n",
      "Input directory:           /vast/edk202/NLP_corpora/Google_Books/20200217/eng/5gram_files/1download\n",
      "Output directory:          /vast/edk202/NLP_corpora/Google_Books/20200217/eng/5gram_files/2convert\n",
      "File index range:          0 to 19422\n",
      "Files available:           19423\n",
      "Files to use:              19423\n",
      "First file to get:         /vast/edk202/NLP_corpora/Google_Books/20200217/eng/5gram_files/1download/5-00000-of-19423.txt.lz4\n",
      "Last file to get:          /vast/edk202/NLP_corpora/Google_Books/20200217/eng/5gram_files/1download/5-19422-of-19423.txt.lz4\n",
      "Ngram size:                5\n",
      "Ngram type:                tagged\n",
      "Number of workers:         48\n",
      "Compress output files:     True\n",
      "Overwrite existing files:  False\n",
      "Delete input directory:    True\n",
      "\n",
      "Converting      |\u001b[32m██████████████████████████████████████████████████\u001b[0m| 100.0% 19423       /19423      \u001b[0m\n",
      "\u001b[31m\n",
      "End Time:                  2025-01-05 15:19:30.905972\u001b[0m\n",
      "\u001b[31mTotal runtime:             1:32:24.993567\n",
      "\u001b[0m\n"
     ]
    }
   ],
   "source": [
    "convert_to_jsonl_files(\n",
    "    ngram_size=5,\n",
    "    ngram_type='tagged',\n",
    "    proj_dir='/vast/edk202/NLP_corpora/Google_Books/20200217/eng',\n",
    "    compress=True,\n",
    "    overwrite=False,\n",
    "    delete_input=True\n",
    ")"
   ]
  },
  {
   "cell_type": "markdown",
   "id": "60ad8638-1ed1-4ce6-b864-70e17635a3a8",
   "metadata": {},
   "source": [
    "### Make multigrams all lowercase\n",
    "This module lowercases all characters in the multigrams. Most use cases benefit from this.\n",
    "\n",
    "`[Total runtime: 0:47:33.859616]`"
   ]
  },
  {
   "cell_type": "code",
   "execution_count": 4,
   "id": "6cc700cf-dba7-40d6-b5f0-e98723af2e14",
   "metadata": {},
   "outputs": [
    {
     "name": "stdout",
     "output_type": "stream",
     "text": [
      "\u001b[31mStart Time:                2025-01-05 15:19:31.052375\n",
      "\u001b[0m\n",
      "\u001b[4mLowercasing Info\u001b[0m\n",
      "Input directory:           /vast/edk202/NLP_corpora/Google_Books/20200217/eng/5gram_files/2convert\n",
      "Output directory:          /vast/edk202/NLP_corpora/Google_Books/20200217/eng/5gram_files/3lowercase\n",
      "File index range:          0 to 6520\n",
      "Files available:           6521\n",
      "Files to use:              6521\n",
      "First file to get:         /vast/edk202/NLP_corpora/Google_Books/20200217/eng/5gram_files/2convert/5-00000-of-19423.jsonl.lz4\n",
      "Last file to get:          /vast/edk202/NLP_corpora/Google_Books/20200217/eng/5gram_files/2convert/5-19422-of-19423.jsonl.lz4\n",
      "Ngram size:                5\n",
      "Number of workers:         48\n",
      "Compress output files:     True\n",
      "Overwrite existing files:  False\n",
      "Delete input directory:    True\n",
      "\n",
      "Lowercasing     |\u001b[32m██████████████████████████████████████████████████\u001b[0m| 100.0% 6521        /6521       \u001b[0m\n",
      "\u001b[31m\n",
      "End Time:                  2025-01-05 16:07:13.575473\u001b[0m\n",
      "\u001b[31mTotal runtime:             0:47:42.523098\n",
      "\u001b[0m\n"
     ]
    }
   ],
   "source": [
    "lowercase_ngrams(\n",
    "    ngram_size=5,\n",
    "    proj_dir='/vast/edk202/NLP_corpora/Google_Books/20200217/eng',\n",
    "    compress=True,\n",
    "    overwrite=False,\n",
    "    delete_input=True\n",
    ")"
   ]
  },
  {
   "cell_type": "markdown",
   "id": "8426e48d-76d8-42ff-9e95-7d9c44bdc331",
   "metadata": {},
   "source": [
    "### Lemmatize the multigrams\n",
    "Likewise, most use cases will benefit from multigrams that are lemmatized—that is, reduced to their base form. This requires POS-tagged multigrams. Example: `people_NOUN` (\"the people of this land\") will be converted to `person` in the output; `people_VERB` (\"to people this land\") will not. The POS tag will then be discarded as it is no longer useful.\n",
    "\n",
    "`[Total runtime: 1:39:30.015704]`"
   ]
  },
  {
   "cell_type": "code",
   "execution_count": 2,
   "id": "82eb3d13-9d51-4ea2-8708-9c3eadb3feae",
   "metadata": {},
   "outputs": [
    {
     "name": "stdout",
     "output_type": "stream",
     "text": [
      "\u001b[31mStart Time:                2025-01-05 16:40:58.283173\n",
      "\u001b[0m\n",
      "\u001b[4mLemmatizing Info\u001b[0m\n",
      "Input directory:           /vast/edk202/NLP_corpora/Google_Books/20200217/eng/5gram_files/3lowercase\n",
      "Output directory:          /vast/edk202/NLP_corpora/Google_Books/20200217/eng/5gram_files/4lemmatize\n",
      "File index range:          0 to 6520\n",
      "Files available:           6521\n",
      "Files to use:              6521\n",
      "First file to get:         /vast/edk202/NLP_corpora/Google_Books/20200217/eng/5gram_files/3lowercase/5-00000-of-19423.jsonl.lz4\n",
      "Last file to get:          /vast/edk202/NLP_corpora/Google_Books/20200217/eng/5gram_files/3lowercase/5-19422-of-19423.jsonl.lz4\n",
      "Ngram size:                5\n",
      "Number of workers:         48\n",
      "Compress output files:     True\n",
      "Overwrite existing files:  False\n",
      "Delete input directory:    True\n",
      "\n",
      "Lemmatizing     |\u001b[32m██████████████████████████████████████████████████\u001b[0m| 100.0% 6521        /6521       \u001b[0m\n",
      "\u001b[31m\n",
      "End Time:                  2025-01-05 18:18:46.729100\u001b[0m\n",
      "\u001b[31mTotal runtime:             1:37:48.445927\n",
      "\u001b[0m\n"
     ]
    }
   ],
   "source": [
    "lemmatize_ngrams(\n",
    "    ngram_size=5,\n",
    "    proj_dir='/vast/edk202/NLP_corpora/Google_Books/20200217/eng',\n",
    "    compress=True,\n",
    "    overwrite=False,\n",
    "    delete_input=True\n",
    ")"
   ]
  },
  {
   "cell_type": "markdown",
   "id": "dd52fad3-d372-4613-9c36-b153ca004976",
   "metadata": {},
   "source": [
    "### Filter the multigrams\n",
    "This module removes tokens that provide little information about words' semantic context—specifically, those that contain numerals (`numerals=True`), nonalphabetic characters (`nonalpha=True`), stopwords (high-frequency, low information tokens like \"the\" and \"into\"; `stops=True`), or short words (those below a certain user-specified character count; here, `min_token_length=3`). You can also specify a **vocabulary file** like the one illustrated in the unigram workflow. A vocabulary file is simply a list of the _N_ most common words in the unigram corpus; the multigram tokens are checked against this list and those that don't appear in it are dropped.\n",
    "\n",
    "The filtering process will inevitably turn some longer ngrams (e.g., 5grams) into shorter ones (e.g., 3grams) after unwanted tokens are dropped. The training of word-embedding models requires _linguistic context_—which in turn requires ngrams containing more than one token. A unigram isn't useful for helping a model learn what \"company\" a word keeps. Thus, the `min_tokens` option allows you to drop ngrams that fall below a specified length during filtering. If filtering results in an ngram with fewer than the minimum tokens, all data for that ngram is dropped entirely. Here, I've set `min_tokens=2`, since two tokens (and higher) provide at least some contextual information.\n",
    "\n",
    "`[Total runtime: 0:49:53.902454]`"
   ]
  },
  {
   "cell_type": "code",
   "execution_count": 3,
   "id": "68104701-700e-4b0d-8b3e-b69127a75ad0",
   "metadata": {},
   "outputs": [
    {
     "name": "stdout",
     "output_type": "stream",
     "text": [
      "\u001b[31mStart Time:                   2025-01-05 18:18:46.742270\n",
      "\u001b[0m\n",
      "\u001b[4mFiltering Info\u001b[0m\n",
      "Input directory:              /vast/edk202/NLP_corpora/Google_Books/20200217/eng/5gram_files/4lemmatize\n",
      "Output directory:             /vast/edk202/NLP_corpora/Google_Books/20200217/eng/5gram_files/5filter\n",
      "File index range:             0 to 6520\n",
      "Files available:              6521\n",
      "Files to use:                 6521\n",
      "First file to get:            /vast/edk202/NLP_corpora/Google_Books/20200217/eng/5gram_files/4lemmatize/5-00000-of-19423.jsonl.lz4\n",
      "Last file to get:             /vast/edk202/NLP_corpora/Google_Books/20200217/eng/5gram_files/4lemmatize/5-19422-of-19423.jsonl.lz4\n",
      "Ngram size:                   5\n",
      "Number of workers:            48\n",
      "Compress output files:        True\n",
      "Overwrite existing files:     False\n",
      "Delete input directory:       True\n",
      "\n",
      "\u001b[4mFiltering Options\u001b[0m\n",
      "Drop stopwords:               True\n",
      "Drop tokens under:            3 chars\n",
      "Drop tokens with numerals:    True\n",
      "Drop non-alphabetic:          True\n",
      "Drop ngrams under:            2 token(s)\n",
      "\n",
      "Filtering       |\u001b[32m██████████████████████████████████████████████████\u001b[0m| 100.0% 6521        /6521       \u001b[0m\n",
      "\n",
      "\u001b[4mFiltering Results (Dropped)\u001b[0m\n",
      "Stopword tokens:              5112088334 \n",
      "Short-word tokens:            72396856 \n",
      "Tokens with numerals:         217534304 \n",
      "Tokens with non-alpha chars:  1638813401\n",
      "Out-of-vocab tokens:          0\n",
      "Entire ngrams:                497295825 \n",
      "\u001b[31m\n",
      "End Time:                  2025-01-05 19:08:40.644724\u001b[0m\n",
      "\u001b[31mTotal runtime:             0:49:53.902454\n",
      "\u001b[0m\n"
     ]
    }
   ],
   "source": [
    "filter_ngrams(\n",
    "    ngram_size=5,\n",
    "    proj_dir='/vast/edk202/NLP_corpora/Google_Books/20200217/eng',\n",
    "    numerals=True,\n",
    "    nonalpha=True,\n",
    "    stops=True,\n",
    "    min_token_length=3,\n",
    "    min_tokens=2,\n",
    "    compress=True,\n",
    "    overwrite=False,\n",
    "    delete_input=True\n",
    ")"
   ]
  },
  {
   "cell_type": "markdown",
   "id": "dffd5722-7816-4c68-89a4-6f824ccb3e1a",
   "metadata": {},
   "source": [
    "### Sort and combine the multigram files\n",
    "This modules creates a single, fully-sorted multigram file out of the filtered files. This is crucial for the next step (ngram consolidation; see below).   \n",
    "\n",
    "Sorting a giant file is a resource-hungry process and I've tried to implement an efficient approach that leverages parallelism: We first sort the filtered files in parallel using Python's standard sorting algorithm [Timsort](https://en.wikipedia.org/wiki/Timsort); then, we incrementally [heapsort](https://en.wikipedia.org/wiki/Heapsort) the files in parallel until we get down to 2 files. Finally, we heapsort the final 2 files (necessarily using one processor) to arrive at a single combined and sorted unigram file.\n",
    "\n",
    "Because this step can take a _very_ long time for larger multigrams (e.g., 5grams), we can run it in sessions using the `start_iteration` and `end_iteration` options. Iteration 1 comes after the initial file sort. If you only have time to complete, say, iterations 1–3, you can set `end_iteration=3`. During a later session, you can specify `start_iteration=4` to pick up where you left off.\n",
    "\n",
    "`[Sort + Iteration 1 runtime: 1:44:39.319527]`\n",
    "\n",
    "`[Iteration 2 runtime:        0:47:37.115564]`\n",
    "\n",
    "`[Iteration 3 runtime:        1:01:02.813422]`\n",
    "\n",
    "`[Iteration 4 runtime:        1:14:05.632074]`\n",
    "\n",
    "`[Iteration 5 runtime:        2:21:00.000000]`\n",
    "\n",
    "`[Iteration 6 runtime:        4:26:40.465811]`\n",
    "\n",
    "`[Iteration 7 runtime:        7:00:51.409004]`"
   ]
  },
  {
   "cell_type": "code",
   "execution_count": 2,
   "id": "52e80618-397f-4051-b064-a8b689e77c43",
   "metadata": {},
   "outputs": [
    {
     "name": "stdout",
     "output_type": "stream",
     "text": [
      "\u001b[31mStart Time:                2025-01-07 14:48:30.163232\n",
      "\u001b[0m\n",
      "\u001b[4mSort Info\u001b[0m\n",
      "Input directory:           /vast/edk202/NLP_corpora/Google_Books/20200217/eng/5gram_files/5filter\n",
      "Sorted directory:          /vast/edk202/NLP_corpora/Google_Books/20200217/eng/5gram_files/temp\n",
      "Temp directory:            /vast/edk202/NLP_corpora/Google_Books/20200217/eng/5gram_files/tmp\n",
      "Merged file:               /vast/edk202/NLP_corpora/Google_Books/20200217/eng/5gram_files/6corpus/5gram-merged.jsonl.lz4\n",
      "Files available:           6520\n",
      "First file to get:         /vast/edk202/NLP_corpora/Google_Books/20200217/eng/5gram_files/5filter/5-00069-of-19423.jsonl.lz4\n",
      "Last file to get:          /vast/edk202/NLP_corpora/Google_Books/20200217/eng/5gram_files/5filter/5-19422-of-19423.jsonl.lz4\n",
      "Files to use:              6520\n",
      "Ngram size:                5\n",
      "Number of workers:         10\n",
      "Compress output files:     True\n",
      "Overwrite existing files:  False\n",
      "Sort key:                  ngram\n",
      "Sort order:                ascending\n",
      "Heap-merge start iter:     7\n",
      "Heap-merge end iter:       7\n",
      "Deleted sorted files:      True\n",
      "\n",
      "Sorting         |\u001b[32m██████████████████████████████████████████████████\u001b[0m| 100.0% 6520        /6520       \u001b[0m\n",
      "\n",
      "Iteration 7: final merge of 2 files.\n",
      "Merging         |\u001b[32m██████████████████████████████████████████████████\u001b[0m| 100.0% 1982834606  /1982834606 \u001b[0m\n",
      "\n",
      "Merging complete. Final merged file:\n",
      "/vast/edk202/NLP_corpora/Google_Books/20200217/eng/5gram_files/6corpus/5gram-merged.jsonl.lz4\n",
      "\u001b[31m\n",
      "End Time:                  2025-01-07 21:49:21.572236\u001b[0m\n",
      "\u001b[31mTotal runtime:             7:00:51.409004\n",
      "\u001b[0m\n"
     ]
    }
   ],
   "source": [
    "sort_ngrams(\n",
    "    ngram_size=5,\n",
    "    proj_dir='/vast/edk202/NLP_corpora/Google_Books/20200217/eng',\n",
    "    workers=10,\n",
    "    sort_key='ngram',\n",
    "    compress=True,\n",
    "    overwrite=False,\n",
    "    sort_order='ascending',\n",
    "    start_iteration=7,\n",
    "    end_iteration=7,\n",
    "    delete_input=True\n",
    ")"
   ]
  },
  {
   "cell_type": "markdown",
   "id": "e3bb548b-a4c8-47b6-ae51-56c79cbb4331",
   "metadata": {},
   "source": [
    "### Verify sort [OPTIONAL]\n",
    "If we want, we can verify that the output file is correctly sorted. If the script outputs `True`, then the file is sorted. Bear in mind that you need to specify the file path manually here; be sure to use the right file extension based on whether `sort_ngrams` was run with `compress=True`."
   ]
  },
  {
   "cell_type": "code",
   "execution_count": null,
   "id": "2cfd12d0-5dfc-482e-a145-0306b4e01ab2",
   "metadata": {},
   "outputs": [],
   "source": [
    "check_file_sorted(\n",
    "    input_file='/vast/edk202/NLP_corpora/Google_Books/20200217/eng/5gram_files/6corpus/5gram-merged.jsonl.lz4',\n",
    "    field=\"ngram\",\n",
    "    sort_order=\"ascending\"\n",
    ")"
   ]
  },
  {
   "cell_type": "markdown",
   "id": "353a8ec7-38b8-4d5d-8356-1af9f8e26bf9",
   "metadata": {},
   "source": [
    "### Consolidate duplicate unigrams\n",
    "This module consolidates the sorted unigram file. Lowercasing and lemmatizing produce duplicate unigrams. Now that the file is sorted, we can scan through it and consolidate consecutive idential duplicates. This involves summing their overall and yearly frequencies and document counts. It also leads to a much smaller file.\n",
    "\n",
    "`[Runtime: 0:12:33.459340]`"
   ]
  },
  {
   "cell_type": "code",
   "execution_count": null,
   "id": "d8609476-7636-43c6-8945-1eb6b104f999",
   "metadata": {},
   "outputs": [
    {
     "name": "stdout",
     "output_type": "stream",
     "text": [
      "\u001b[31mStart Time:                2025-01-07 21:56:56.400661\n",
      "\u001b[0m\n",
      "\u001b[4mConsolidation Info\u001b[0m\n",
      "Merged file:               /vast/edk202/NLP_corpora/Google_Books/20200217/eng/5gram_files/6corpus/5gram-merged.jsonl.lz4\n",
      "Corpus file:               /vast/edk202/NLP_corpora/Google_Books/20200217/eng/5gram_files/6corpus/5gram-corpus.jsonl.lz4\n",
      "Ngram size:                5\n",
      "Compress output files:     True\n",
      "Overwrite existing files:  False\n",
      "\n"
     ]
    }
   ],
   "source": [
    "consolidate_duplicate_ngrams(\n",
    "    ngram_size=5,\n",
    "    proj_dir='/vast/edk202/NLP_corpora/Google_Books/20200217/eng',\n",
    "    compress=True,\n",
    "    overwrite=False\n",
    ")"
   ]
  },
  {
   "cell_type": "markdown",
   "id": "7da8c4c3-6e45-40c7-af67-7f9eb80b3d21",
   "metadata": {},
   "source": [
    "### View line [OPTIONAL]\n",
    "If we want, we can inspect a line in the file."
   ]
  },
  {
   "cell_type": "code",
   "execution_count": 27,
   "id": "8cd93ff1-828e-4e3f-afa7-453c2aea62be",
   "metadata": {},
   "outputs": [
    {
     "name": "stdout",
     "output_type": "stream",
     "text": [
      "Line 1000000: {'ngram': 'bandageing', 'freq_tot': 71, 'doc_tot': 51, 'freq': {'1804': 1, '1817': 1, '1845': 2, '1870': 1, '1872': 1, '1873': 1, '1874': 1, '1878': 1, '1885': 5, '1891': 1, '1907': 1, '1911': 2, '1914': 2, '1916': 1, '1917': 24, '1921': 1, '1964': 1, '1966': 1, '1973': 3, '1974': 1, '1988': 1, '1991': 1, '2000': 4, '2004': 2, '2005': 3, '2007': 2, '2012': 2, '2014': 4}, 'doc': {'1804': 1, '1817': 1, '1845': 2, '1870': 1, '1872': 1, '1873': 1, '1874': 1, '1878': 1, '1885': 5, '1891': 1, '1907': 1, '1911': 2, '1914': 2, '1916': 1, '1917': 12, '1921': 1, '1964': 1, '1966': 1, '1973': 2, '1974': 1, '1988': 1, '1991': 1, '2000': 2, '2004': 1, '2005': 2, '2007': 1, '2012': 2, '2014': 2}}\n",
      "Line 1000001: {'ngram': 'bandageless', 'freq_tot': 79, 'doc_tot': 66, 'freq': {'1907': 2, '1909': 10, '1910': 1, '1921': 20, '1926': 1, '1927': 3, '1934': 2, '1935': 1, '1945': 2, '1958': 4, '1969': 5, '1982': 1, '1985': 1, '1987': 1, '1998': 1, '2001': 1, '2003': 1, '2004': 1, '2005': 2, '2007': 1, '2008': 2, '2009': 3, '2010': 1, '2012': 2, '2013': 4, '2014': 1, '2015': 2, '2018': 2, '2019': 1}, 'doc': {'1907': 2, '1909': 10, '1910': 1, '1921': 8, '1926': 1, '1927': 3, '1934': 2, '1935': 1, '1945': 2, '1958': 4, '1969': 5, '1982': 1, '1985': 1, '1987': 1, '1998': 1, '2001': 1, '2003': 1, '2004': 1, '2005': 2, '2007': 1, '2008': 2, '2009': 3, '2010': 1, '2012': 2, '2013': 4, '2014': 1, '2015': 1, '2018': 2, '2019': 1}}\n"
     ]
    }
   ],
   "source": [
    "!python print_jsonl_lines.py \\\n",
    "    --file_path \"{base_dir}/1gram_files/6corpus/1gram-consolidated.jsonl.lz4\" \\\n",
    "    --start 1000000 \\\n",
    "    --end 1000001 \\\n",
    "    --parse"
   ]
  },
  {
   "cell_type": "markdown",
   "id": "fc294ed6-399f-4fbd-91e4-8e55e86950d0",
   "metadata": {},
   "source": [
    "### Index unigrams and create vocabulary file\n",
    "Most use cases will require an indexed list of \"valid\" (i.e., reasonably common) vocabulary words. This indexing script served dual functions of (1) mapping each unigram to an index number (saved in `/6corpus/1gram-consolidated-indexed.jsonl`) and (2) culling this file into a vocabulary list consisting of the _n_ most frequent unigrams (saved in `6corpus/1gram-consolidated-vocab_list_match.txt`). Unlike files upstream in the workflow, the vocabulary files are not very large and are therefore not compressed."
   ]
  },
  {
   "cell_type": "code",
   "execution_count": 25,
   "id": "e858de53-fe04-4a7d-bab5-9eed5cdf0011",
   "metadata": {},
   "outputs": [
    {
     "name": "stdout",
     "output_type": "stream",
     "text": [
      "\u001b[31mStart Time:                2025-01-01 22:32:01.094067\n",
      "\u001b[0m\n",
      "\u001b[4mIndexing Info\u001b[0m\n",
      "Project directory:         /vast/edk202/NLP_corpora/Google_Books/20200217/eng\n",
      "Output directory:          /vast/edk202/NLP_corpora/Google_Books/20200217/eng/1gram_files/6corpus\n",
      "Input file:                /vast/edk202/NLP_corpora/Google_Books/20200217/eng/1gram_files/6corpus/1gram-consolidated.jsonl.lz4\n",
      "Ngram size:                1\n",
      "Overwrite existing files:  True\n",
      "Workers:                   48\n",
      "Vocab size (top N):        80000\n",
      "\n",
      "\n",
      "\u001b[4mIndexing Info\u001b[0m\n",
      "Chunking        |\u001b[32m██████████████████████████████████████████████████\u001b[0m| 100.0% 13499384    /13499384   \u001b[0m\n",
      "Sorting         |\u001b[32m██████████████████████████████████████████████████\u001b[0m| 100.0% 135         /135        \u001b[0m\n",
      "Merging         |\u001b[32m██████████████████████████████████████████████████\u001b[0m| 100.0% 13499384    /13499384   \u001b[0m\n",
      "Indexing        |\u001b[32m██████████████████████████████████████████████████\u001b[0m| 100.0% 13499384    /13499384   \u001b[0m\n",
      "\n",
      "Indexed 13499384 lines.\n",
      "Final indexed file: 1gram-consolidated-indexed.jsonl\n",
      "Created vocab_list_match and vocab_list_lookup files for top 80000 ngrams.\n",
      "\u001b[31m\n",
      "End Time:                  2025-01-01 22:42:56.494395\u001b[0m\n",
      "\u001b[31mTotal runtime:             0:10:55.400328\n",
      "\u001b[0m\n"
     ]
    }
   ],
   "source": [
    "!python 7_index.py \\\n",
    "    --ngram_size 1 \\\n",
    "    --proj_dir {base_dir} \\\n",
    "    --input_file {base_dir}/1gram_files/6corpus/1gram-consolidated.jsonl.lz4 \\\n",
    "    --overwrite \\\n",
    "    --vocab_file 80000 \\\n",
    "    --workers 48"
   ]
  },
  {
   "cell_type": "markdown",
   "id": "8e5015c4-837e-4373-a3ef-0e31ae7b9b77",
   "metadata": {},
   "source": [
    "## Process Multigrams"
   ]
  },
  {
   "cell_type": "code",
   "execution_count": 1,
   "id": "feb02beb-cf0e-4beb-ba15-c18a5db621b7",
   "metadata": {},
   "outputs": [],
   "source": [
    "base_dir = \"/vast/edk202/NLP_corpora/Google_Books/20200217/eng\""
   ]
  },
  {
   "cell_type": "code",
   "execution_count": null,
   "id": "d990d95e-7676-4f91-bbbe-ee69164fc918",
   "metadata": {},
   "outputs": [],
   "source": [
    "!python 1_download.py \\\n",
    "    --ngram_size 5 \\\n",
    "    --ngram_type tagged \\\n",
    "    --proj_dir {base_dir} \\\n",
    "    --overwrite \\\n",
    "    --compress"
   ]
  },
  {
   "cell_type": "code",
   "execution_count": null,
   "id": "ade8be77-ed83-412a-ae1c-c1a71b9d4de8",
   "metadata": {},
   "outputs": [],
   "source": [
    "!python 2_convert.py \\\n",
    "    --ngram_size 5 \\\n",
    "    --ngram_type tagged \\\n",
    "    --proj_dir {base_dir} \\\n",
    "    --compress"
   ]
  },
  {
   "cell_type": "code",
   "execution_count": null,
   "id": "bb1f6316-f622-4a91-a8ed-fcf23acf222f",
   "metadata": {},
   "outputs": [],
   "source": [
    "!python 3_lowercase.py \\\n",
    "    --ngram_size 5 \\\n",
    "    --proj_dir {base_dir} \\\n",
    "    --compress"
   ]
  },
  {
   "cell_type": "code",
   "execution_count": null,
   "id": "7cf64680-b402-4b4d-b751-90046b87454a",
   "metadata": {},
   "outputs": [],
   "source": [
    "!python 4_lemmatize.py \\\n",
    "    --ngram_size 5 \\\n",
    "    --proj_dir {base_dir} \\\n",
    "    --compress"
   ]
  },
  {
   "cell_type": "code",
   "execution_count": null,
   "id": "ddb82465-1aaf-4e17-9a95-0d0c0c58d585",
   "metadata": {},
   "outputs": [],
   "source": [
    "!python 5_filter.py \\\n",
    "    --ngram_size 5 \\\n",
    "    --proj_dir {base_dir} \\\n",
    "    --numerals \\\n",
    "    --nonalpha \\\n",
    "    --stopwords \\\n",
    "    --min_token_length 3 \\\n",
    "    --min_tokens 2 \\\n",
    "    --compress \\\n",
    "    --vocab_file {base_dir}/1gram_files/6corpus/1-00000-to-00017-vocab_list_match.txt"
   ]
  },
  {
   "cell_type": "code",
   "execution_count": null,
   "id": "97b1069b-c9ee-454a-82f9-893662094fbf",
   "metadata": {
    "editable": true,
    "slideshow": {
     "slide_type": ""
    },
    "tags": []
   },
   "outputs": [
    {
     "name": "stdout",
     "output_type": "stream",
     "text": [
      "\u001b[31mStart Time:                2025-01-01 15:54:18.573790\n",
      "\u001b[0m\n",
      "\u001b[4mSort Info\u001b[0m\n",
      "Input directory:           /vast/edk202/NLP_corpora/Google_Books/20200217/eng/5gram_files/5filter\n",
      "Sorted directory:          /vast/edk202/NLP_corpora/Google_Books/20200217/eng/5gram_files/temp\n",
      "Temp directory:            /vast/edk202/NLP_corpora/Google_Books/20200217/eng/5gram_files/tmp\n",
      "Merged file:               /vast/edk202/NLP_corpora/Google_Books/20200217/eng/5gram_files/6corpus/5gram-merged.jsonl.lz4\n",
      "Files available:           6520\n",
      "Files to use:              6520\n",
      "First file to get:         /vast/edk202/NLP_corpora/Google_Books/20200217/eng/5gram_files/5filter/5-00069-of-19423.jsonl.lz4\n",
      "Last file to get:          /vast/edk202/NLP_corpora/Google_Books/20200217/eng/5gram_files/5filter/5-19422-of-19423.jsonl.lz4\n",
      "Ngram size:                5\n",
      "Number of workers:         10\n",
      "Compress output files:     True\n",
      "Overwrite existing files:  False\n",
      "Sort key:                  ngram\n",
      "Sort order:                ascending\n",
      "Heap-merge start iter:     1\n",
      "Heap-merge end iter:       2\n",
      "\n",
      "Sorting         |\u001b[32m████████████████████▎                             \u001b[0m|  40.6% 2650        /6520       \u001b[0m"
     ]
    }
   ],
   "source": [
    "base_dir = \"/vast/edk202/NLP_corpora/Google_Books/20200217/eng\"\n",
    "\n",
    "!python 6_sort2.py \\\n",
    "    --ngram_size 5 \\\n",
    "    --proj_dir {base_dir} \\\n",
    "    --workers 10 \\\n",
    "    --sort_key ngram \\\n",
    "    --compress \\\n",
    "    --sort_order ascending \\\n",
    "    --end_iteration 2"
   ]
  },
  {
   "cell_type": "code",
   "execution_count": 2,
   "id": "96f0706e-fc96-4bb8-a821-cb3d91299441",
   "metadata": {},
   "outputs": [
    {
     "name": "stdout",
     "output_type": "stream",
     "text": [
      "\u001b[31mStart Time:                2024-12-31 17:52:08.091974\n",
      "\u001b[0m\n",
      "\u001b[4mConsolidation Info\u001b[0m\n",
      "Merged file:               /vast/edk202/NLP_corpora/Google_Books/20200217/eng/5gram_files/6corpus/5gram-merged.jsonl.lz4\n",
      "Consolidated directory:    /vast/edk202/NLP_corpora/Google_Books/20200217/eng/5gram_files/6corpus/5gram-consolidated.jsonl.lz4\n",
      "Ngram size:                5\n",
      "Compress output files:     True\n",
      "Overwrite existing files:  True\n",
      "\n",
      "Consolidating   |\u001b[32m██████████████████████████████████████████████████\u001b[0m| 100.0% 276470316   /276470316  \u001b[0m\n",
      "\n",
      "Lines before consolidation:  276470316\n",
      "Lines after consolidation:   75107076\n",
      "\u001b[31m\n",
      "End Time:                  2024-12-31 19:10:05.741234\n",
      "\u001b[0m\n"
     ]
    }
   ],
   "source": [
    "!python 7_consolidate.py \\\n",
    "    --ngram_size 5 \\\n",
    "    --proj_dir {base_dir} \\\n",
    "    --overwrite \\\n",
    "    --compress"
   ]
  },
  {
   "cell_type": "code",
   "execution_count": 3,
   "id": "3271194c-308f-4446-8573-ea13a0f278da",
   "metadata": {
    "scrolled": true
   },
   "outputs": [],
   "source": [
    "import lz4.frame\n",
    "\n",
    "input_path = \"/vast/edk202/NLP_corpora/Google_Books/20200217/eng/5gram_files/6corpus/5gram-consolidated.jsonl.lz4\"\n",
    "output_path = \"/vast/edk202/NLP_corpora/Google_Books/20200217/eng/5gram_files/6corpus/5gram-consolidated.jsonl\"\n",
    "\n",
    "def decompress_lz4_file(input_path, output_path):\n",
    "    with lz4.frame.open(input_path, \"rb\") as compressed_file:\n",
    "        with open(output_path, \"wb\") as decompressed_file:\n",
    "            decompressed_file.write(compressed_file.read())\n",
    "\n",
    "decompress_lz4_file(input_path, output_path)"
   ]
  },
  {
   "cell_type": "code",
   "execution_count": 4,
   "id": "a7136660-a7a4-4bbf-b585-519681c1aa08",
   "metadata": {
    "scrolled": true
   },
   "outputs": [
    {
     "name": "stdout",
     "output_type": "stream",
     "text": [
      "Error reading the file '/vast/edk202/NLP_corpora/Google_Books/20200217/eng/1gram_files/6corpus/1gram-consolidated.jsonl': [Errno 2] No such file or directory: '/vast/edk202/NLP_corpora/Google_Books/20200217/eng/1gram_files/6corpus/1gram-consolidated.jsonl'\n"
     ]
    }
   ],
   "source": [
    "!python print_jsonl_lines.py \\\n",
    "    --file_path \"{base_dir}/1gram_files/6corpus/1gram-consolidated.jsonl\" \\\n",
    "    --start 50000 \\\n",
    "    --end 50100"
   ]
  },
  {
   "cell_type": "code",
   "execution_count": 4,
   "id": "90c543c8-0db9-4901-916b-890d95c2ebf6",
   "metadata": {},
   "outputs": [
    {
     "name": "stdout",
     "output_type": "stream",
     "text": [
      "Lines: 75107076line [08:47, 142445.80line/s]\n",
      "\n",
      "The file is sorted.\n",
      "\n",
      "Processing complete.\n"
     ]
    }
   ],
   "source": [
    "!python verify_sort.py \\\n",
    "    --input_file \"{base_dir}/5gram_files/6corpus/5gram-consolidated.jsonl\" \\\n",
    "    --field ngram \\\n",
    "    --sort_order ascending"
   ]
  },
  {
   "cell_type": "code",
   "execution_count": null,
   "id": "e58bfd86-dd46-417a-9bd3-9d52bd8a4fa9",
   "metadata": {},
   "outputs": [],
   "source": [
    "!python simulate_merge.py \\\n",
    "    --file_dir \"{base_dir}/5gram_files/temp\" \\\n",
    "    --workers 48"
   ]
  },
  {
   "cell_type": "code",
   "execution_count": null,
   "id": "e6aba9af-704f-4940-a4bf-1f45a1d4be1f",
   "metadata": {},
   "outputs": [],
   "source": [
    "base_dir = \"/vast/edk202/NLP_corpora/Google_Books/20200217/eng\"\n",
    "\n",
    "!python simulate_merge2.py \\\n",
    "    --ngram_size 5 \\\n",
    "    --file_dir \"{base_dir}/5gram_files/temp\" \\\n",
    "    --tmp_dir \"{base_dir}/5gram_files/tmp\" \\\n",
    "    --compress \\\n",
    "    --sort_key ngram \\\n",
    "    --sort_order ascending \\\n",
    "    --workers 48"
   ]
  },
  {
   "cell_type": "code",
   "execution_count": 22,
   "id": "e0445d4a-d9f6-4864-b8ae-d5e762913fd6",
   "metadata": {},
   "outputs": [
    {
     "name": "stdout",
     "output_type": "stream",
     "text": [
      "/vast/edk202/NLP_corpora/Googl : decoded 18959398668 bytes                     \n"
     ]
    }
   ],
   "source": [
    "!lz4 -t {base_dir}/1gram_files/6corpus/1gram-consolidated.jsonl.lz4"
   ]
  },
  {
   "cell_type": "code",
   "execution_count": null,
   "id": "54fb72a9-746d-49e4-b54b-36318fd942a0",
   "metadata": {},
   "outputs": [],
   "source": []
  }
 ],
 "metadata": {
  "kernelspec": {
   "display_name": "hist_w2v_env",
   "language": "python",
   "name": "hist_w2v_env"
  },
  "language_info": {
   "codemirror_mode": {
    "name": "ipython",
    "version": 3
   },
   "file_extension": ".py",
   "mimetype": "text/x-python",
   "name": "python",
   "nbconvert_exporter": "python",
   "pygments_lexer": "ipython3",
   "version": "3.12.7"
  }
 },
 "nbformat": 4,
 "nbformat_minor": 5
}
