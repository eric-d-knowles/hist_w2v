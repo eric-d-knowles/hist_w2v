{
 "cells": [
  {
   "cell_type": "code",
   "execution_count": 16,
   "id": "0c8750c1-c3df-492e-b942-d06b355ae6d0",
   "metadata": {},
   "outputs": [
    {
     "name": "stdout",
     "output_type": "stream",
     "text": [
      "The autoreload extension is already loaded. To reload it, use:\n",
      "  %reload_ext autoreload\n"
     ]
    }
   ],
   "source": [
    "%load_ext autoreload\n",
    "\n",
    "%autoreload 2"
   ]
  },
  {
   "cell_type": "code",
   "execution_count": 17,
   "id": "a7703a5f-b7f5-4c07-a6c7-b8d726792012",
   "metadata": {},
   "outputs": [],
   "source": [
    "from ngram_tools.download_ngrams import download_ngram_files\n",
    "from ngram_tools.convert_to_jsonl import convert_to_jsonl_files\n",
    "from ngram_tools.lowercase_ngrams import lowercase_ngrams\n",
    "from ngram_tools.lemmatize_ngrams import lemmatize_ngrams\n",
    "from ngram_tools.filter_ngrams import filter_ngrams\n",
    "from ngram_tools.sort_ngrams import sort_ngrams\n",
    "from ngram_tools.consolidate_ngrams import consolidate_duplicate_ngrams\n",
    "from ngram_tools.make_yearly_files import make_yearly_files\n",
    "from ngram_tools.helpers.verify_sort import check_file_sorted\n",
    "from ngram_tools.helpers.print_jsonl_lines import print_jsonl_lines\n",
    "from ngram_tools.helpers.save_stripped_ngrams import extract_all_ngrams"
   ]
  },
  {
   "cell_type": "markdown",
   "id": "33cdb7cc-0186-4bbc-bc10-22b433eca869",
   "metadata": {
    "editable": true,
    "slideshow": {
     "slide_type": ""
    },
    "tags": []
   },
   "source": [
    "# **Process Multigrams for Training Word-Embedding Models**"
   ]
  },
  {
   "cell_type": "markdown",
   "id": "c5e915c8-5224-4cbe-b5a2-b58978dd48f7",
   "metadata": {},
   "source": [
    "## **Goal**: Download and preprocess mulitgrams for use in training `word2vec` models. "
   ]
  },
  {
   "cell_type": "markdown",
   "id": "794a3cfb-8fee-4303-a2f9-93786529e21d",
   "metadata": {},
   "source": [
    "This workflow is resource-intensive and is probably only practical when run on a computing cluster. On my university's High Performance Computing (HPC) cluster, I request the maximum 14 cores (48 logical processors) and 128G of memory and use a 2T fast-I/O NVMe SSD filespace—and I still run up against time and resource limits. I've designed the code to be efficient, although further optimization is surely possible.\n",
    "\n",
    "The code affords options to conserve resources. Throughout the workflow you can specify `compress=True`, which tells a script to compress its output files. In my experience, there is little downside to using LZ4 compression, since it's very fast and cuts file sizes by about half. Downstream modules will see the `.lz4` extensions and handle the files accordingly. If you know your workflow runs correctly and wish to further conserve space, you can specify `delete_input=True` for many of the scripts; this will delete the source files for a given step once it is complete. The scripts are fairly memory-efficient—with the exception of `sort_ngrams` and `index_and_create_vocab_files`, which sort multiple files in memory at once. When processing multigrams, I've found that allocating more than ~10 workers in these scripts leads to memory exhaustion (with 128G!) and slow processing.\n",
    "\n",
    "**NOTE:** You'll probably want to have run `workflow_unigrams.ipynb` before processing multigrams. That workflos allows you create a vocabulary file for filtering out uncommon tokens from the multigrams. Although you can run the `filter_ngrams` module without a vocab file, most use cases will call for one."
   ]
  },
  {
   "cell_type": "markdown",
   "id": "b97fea36-f682-4a1c-aedc-d905ba30c001",
   "metadata": {},
   "source": [
    "### Download multigrams\n",
    "Here, I'm using `download_ngrams` module to fetch 5grams appended with part-of-speech (POS) tags (e.g., `_VERB`). Although you can specify `ngram_type='untagged'`, POS tags are necessary to lemmatize the tokens. Specify the number of parallel processes you wish to use by setting `workers` (the default is all available processors). You may wish to specify `compress=True` becausae 5gram files are _big_."
   ]
  },
  {
   "cell_type": "code",
   "execution_count": 11,
   "id": "85c19814-cbee-4ce4-b2ca-0d4abf76d3dc",
   "metadata": {},
   "outputs": [
    {
     "name": "stdout",
     "output_type": "stream",
     "text": [
      "\u001b[31mStart Time:                2025-04-07 16:35:43.665449\n",
      "\u001b[0m\n",
      "\u001b[4mDownload Info\u001b[0m\n",
      "Ngram repository:          https://storage.googleapis.com/books/ngrams/books/20200217/eng-fiction/eng-fiction-5-ngrams_exports.html\n",
      "Output directory:          /vast/edk202/NLP_corpora/Google_Books/20200217/eng-fiction/5gram_files/1download\n",
      "File index range:          0 to 1448\n",
      "File URLs available:       1449\n",
      "File URLs to use:          1449\n",
      "First file to get:         https://storage.googleapis.com/books/ngrams/books/20200217/eng-fiction/5-00000-of-01449.gz\n",
      "Last file to get:          https://storage.googleapis.com/books/ngrams/books/20200217/eng-fiction/5-01448-of-01449.gz\n",
      "Ngram size:                5\n",
      "Ngram type:                tagged\n",
      "Number of workers:         48\n",
      "Compress saved files:      True\n",
      "Overwrite existing files:  True\n",
      "\n"
     ]
    },
    {
     "data": {
      "application/vnd.jupyter.widget-view+json": {
       "model_id": "0a9bbdbf55c2436f86fbeeac2311d24c",
       "version_major": 2,
       "version_minor": 0
      },
      "text/plain": [
       "Downloading:   0%|          | 0/1449 [00:00<?, ?files/s]"
      ]
     },
     "metadata": {},
     "output_type": "display_data"
    },
    {
     "name": "stdout",
     "output_type": "stream",
     "text": [
      "\u001b[31m\n",
      "End Time:                  2025-04-07 16:58:50.365110\u001b[0m\n",
      "\u001b[31mTotal runtime:             0:23:06.699661\n",
      "\u001b[0m\n"
     ]
    }
   ],
   "source": [
    "download_ngram_files(\n",
    "    ngram_size=5,\n",
    "    ngram_type='tagged',\n",
    "    repo_release_id='20200217',\n",
    "    repo_corpus_id='eng-fiction',\n",
    "    proj_dir='/vast/edk202/NLP_corpora/Google_Books/20200217/eng-fiction',\n",
    "    compress=True,\n",
    "    overwrite=True\n",
    ")"
   ]
  },
  {
   "cell_type": "markdown",
   "id": "799d4fd8-2fe9-4fe3-8a37-20f0e1b81eef",
   "metadata": {},
   "source": [
    "### Convert files from TXT to JSONL\n",
    "This module converts the original multigram files' text data to a more flexible JSON Lines (JSONL) format. Although this increases storage demands, it makes downstream processing more efficient."
   ]
  },
  {
   "cell_type": "code",
   "execution_count": 12,
   "id": "84af60d9-2627-4a9c-80e4-dde2e1703d43",
   "metadata": {},
   "outputs": [
    {
     "name": "stdout",
     "output_type": "stream",
     "text": [
      "\u001b[31mStart Time:                2025-04-07 17:03:12.690524\n",
      "\u001b[0m\n",
      "\u001b[4mConversion Info\u001b[0m\n",
      "Input directory:           /vast/edk202/NLP_corpora/Google_Books/20200217/eng-fiction/5gram_files/1download\n",
      "Output directory:          /vast/edk202/NLP_corpora/Google_Books/20200217/eng-fiction/5gram_files/2convert\n",
      "File index range:          0 to 1448\n",
      "Files available:           1449\n",
      "Files to use:              1449\n",
      "First file to get:         /vast/edk202/NLP_corpora/Google_Books/20200217/eng-fiction/5gram_files/1download/5-00000-of-01449.txt.lz4\n",
      "Last file to get:          /vast/edk202/NLP_corpora/Google_Books/20200217/eng-fiction/5gram_files/1download/5-01448-of-01449.txt.lz4\n",
      "Ngram size:                5\n",
      "Ngram type:                tagged\n",
      "Number of workers:         48\n",
      "Compress output files:     True\n",
      "Overwrite existing files:  True\n",
      "Delete input directory:    True\n",
      "\n"
     ]
    },
    {
     "data": {
      "application/vnd.jupyter.widget-view+json": {
       "model_id": "039ca2f1d6824664ad4dbc18a2f4f896",
       "version_major": 2,
       "version_minor": 0
      },
      "text/plain": [
       "Converting:   0%|          | 0/1449 [00:00<?, ?files/s]"
      ]
     },
     "metadata": {},
     "output_type": "display_data"
    },
    {
     "name": "stdout",
     "output_type": "stream",
     "text": [
      "\u001b[31m\n",
      "End Time:                  2025-04-07 17:10:51.923774\u001b[0m\n",
      "\u001b[31mTotal runtime:             0:07:39.233250\n",
      "\u001b[0m\n"
     ]
    }
   ],
   "source": [
    "convert_to_jsonl_files(\n",
    "    ngram_size=5,\n",
    "    ngram_type='tagged',\n",
    "    proj_dir='/vast/edk202/NLP_corpora/Google_Books/20200217/eng-fiction',\n",
    "    compress=True,\n",
    "    overwrite=True,\n",
    "    delete_input=True\n",
    ")"
   ]
  },
  {
   "cell_type": "markdown",
   "id": "60ad8638-1ed1-4ce6-b864-70e17635a3a8",
   "metadata": {},
   "source": [
    "### Make multigrams all lowercase\n",
    "This module lowercases all characters in the multigrams. Most use cases benefit from this."
   ]
  },
  {
   "cell_type": "code",
   "execution_count": 13,
   "id": "6cc700cf-dba7-40d6-b5f0-e98723af2e14",
   "metadata": {},
   "outputs": [
    {
     "name": "stdout",
     "output_type": "stream",
     "text": [
      "\u001b[31mStart Time:                2025-04-07 17:11:49.117078\n",
      "\u001b[0m\n",
      "\u001b[4mLowercasing Info\u001b[0m\n",
      "Input directory:           /vast/edk202/NLP_corpora/Google_Books/20200217/eng-fiction/5gram_files/2convert\n",
      "Output directory:          /vast/edk202/NLP_corpora/Google_Books/20200217/eng-fiction/5gram_files/3lowercase\n",
      "File index range:          0 to 596\n",
      "Files available:           597\n",
      "Files to use:              597\n",
      "First file to get:         /vast/edk202/NLP_corpora/Google_Books/20200217/eng-fiction/5gram_files/2convert/5-00000-of-01449.jsonl.lz4\n",
      "Last file to get:          /vast/edk202/NLP_corpora/Google_Books/20200217/eng-fiction/5gram_files/2convert/5-01448-of-01449.jsonl.lz4\n",
      "Ngram size:                5\n",
      "Number of workers:         48\n",
      "Compress output files:     True\n",
      "Overwrite existing files:  True\n",
      "Delete input directory:    True\n",
      "\n"
     ]
    },
    {
     "data": {
      "application/vnd.jupyter.widget-view+json": {
       "model_id": "219a67d8d2224f5682262691511a4f9d",
       "version_major": 2,
       "version_minor": 0
      },
      "text/plain": [
       "Lowercasing:   0%|          | 0/597 [00:00<?, ?files/s]"
      ]
     },
     "metadata": {},
     "output_type": "display_data"
    },
    {
     "name": "stdout",
     "output_type": "stream",
     "text": [
      "\u001b[31m\n",
      "End Time:                  2025-04-07 17:15:57.430066\u001b[0m\n",
      "\u001b[31mTotal runtime:             0:04:08.312988\n",
      "\u001b[0m\n"
     ]
    }
   ],
   "source": [
    "lowercase_ngrams(\n",
    "    ngram_size=5,\n",
    "    proj_dir='/vast/edk202/NLP_corpora/Google_Books/20200217/eng-fiction',\n",
    "    compress=True,\n",
    "    overwrite=True,\n",
    "    delete_input=True\n",
    ")"
   ]
  },
  {
   "cell_type": "markdown",
   "id": "8426e48d-76d8-42ff-9e95-7d9c44bdc331",
   "metadata": {},
   "source": [
    "### Lemmatize the multigrams\n",
    "Likewise, most use cases will benefit from multigrams that are lemmatized—that is, reduced to their base form. This requires POS-tagged multigrams. Example: `people_NOUN` (\"the people of this land\") will be converted to `person` in the output; `people_VERB` (\"to people this land\") will not. The POS tag will then be discarded as it is no longer useful."
   ]
  },
  {
   "cell_type": "code",
   "execution_count": 14,
   "id": "82eb3d13-9d51-4ea2-8708-9c3eadb3feae",
   "metadata": {},
   "outputs": [
    {
     "name": "stdout",
     "output_type": "stream",
     "text": [
      "\u001b[31mStart Time:                2025-04-07 17:17:24.519488\n",
      "\u001b[0m\n",
      "\u001b[4mLemmatizing Info\u001b[0m\n",
      "Input directory:           /vast/edk202/NLP_corpora/Google_Books/20200217/eng-fiction/5gram_files/3lowercase\n",
      "Output directory:          /vast/edk202/NLP_corpora/Google_Books/20200217/eng-fiction/5gram_files/4lemmatize\n",
      "File index range:          0 to 596\n",
      "Files available:           597\n",
      "Files to use:              597\n",
      "First file to get:         /vast/edk202/NLP_corpora/Google_Books/20200217/eng-fiction/5gram_files/3lowercase/5-00000-of-01449.jsonl.lz4\n",
      "Last file to get:          /vast/edk202/NLP_corpora/Google_Books/20200217/eng-fiction/5gram_files/3lowercase/5-01448-of-01449.jsonl.lz4\n",
      "Ngram size:                5\n",
      "Number of workers:         48\n",
      "Compress output files:     True\n",
      "Overwrite existing files:  True\n",
      "Delete input directory:    True\n",
      "\n"
     ]
    },
    {
     "data": {
      "application/vnd.jupyter.widget-view+json": {
       "model_id": "cf38cdece8224577a9f8f353a3fd9b14",
       "version_major": 2,
       "version_minor": 0
      },
      "text/plain": [
       "Lemmatizing:   0%|          | 0/597 [00:00<?, ?files/s]"
      ]
     },
     "metadata": {},
     "output_type": "display_data"
    },
    {
     "name": "stdout",
     "output_type": "stream",
     "text": [
      "\u001b[31m\n",
      "End Time:                  2025-04-07 17:25:47.710195\u001b[0m\n",
      "\u001b[31mTotal runtime:             0:08:23.190707\n",
      "\u001b[0m\n"
     ]
    }
   ],
   "source": [
    "lemmatize_ngrams(\n",
    "    ngram_size=5,\n",
    "    proj_dir='/vast/edk202/NLP_corpora/Google_Books/20200217/eng-fiction',\n",
    "    compress=True,\n",
    "    overwrite=True,\n",
    "    delete_input=True\n",
    ")"
   ]
  },
  {
   "cell_type": "markdown",
   "id": "dd52fad3-d372-4613-9c36-b153ca004976",
   "metadata": {},
   "source": [
    "### Filter the multigrams\n",
    "This module removes tokens that provide little information about words' semantic context—specifically, those that contain numerals (`numerals=True`), nonalphabetic characters (`nonalpha=True`), stopwords (high-frequency, low information tokens like \"the\" and \"into\"; `stops=True`), or short words (those below a certain user-specified character count; here, `min_token_length=3`). You can also specify a **vocabulary file** like the one produced in the unigram workflow. A vocabulary file is simply a list of the _N_ most common words in the unigram corpus; the multigram tokens are checked against this list and those that don't appear in it are dropped.\n",
    "\n",
    "The `replace` option controls what happens to dropped tokens. If `replace=False` (the default), then these tokens are simply erased from the ngrams. If `replace=True`, then ineligible tokens will be replaced with `UNK` (the \"unknown\" symbol). The filtering process will inevitably reduce the amount of useful information contained in some ngrams: If `replace=False`, some longer ngrams (e.g., 5grams) will become shorter (e.g., 3grams) after unwanted tokens are dropped; if `replace=True`, filtering will reduce the number of real tokens in certain ngrams by replacing one or more of tokens with `UNK`.\n",
    "\n",
    "The training of word-embedding models requires _linguistic context_, which in turn requires ngrams containing more than one token. (A unigram isn't useful for helping a model learn what \"company\" a word keeps.) The `min_tokens` option allows you to drop ngrams that fall below a specified length (or number of real tokens) during filtering. If filtering results in an ngram with fewer than the minimum number of real tokens, all information for that ngram is dropped entirely. I usually set `min_tokens=2`, since two tokens (and higher) provide at least some contextual information."
   ]
  },
  {
   "cell_type": "code",
   "execution_count": 15,
   "id": "68104701-700e-4b0d-8b3e-b69127a75ad0",
   "metadata": {},
   "outputs": [
    {
     "name": "stdout",
     "output_type": "stream",
     "text": [
      "\u001b[31mStart Time:                   2025-04-07 17:25:51.159025\n",
      "\u001b[0m\n",
      "\u001b[4mFiltering Info\u001b[0m\n",
      "Input directory:              /vast/edk202/NLP_corpora/Google_Books/20200217/eng-fiction/5gram_files/4lemmatize\n",
      "Output directory:             /vast/edk202/NLP_corpora/Google_Books/20200217/eng-fiction/5gram_files/5filter\n",
      "File index range:             0 to 596\n",
      "Files available:              597\n",
      "Files to use:                 597\n",
      "First file to get:            /vast/edk202/NLP_corpora/Google_Books/20200217/eng-fiction/5gram_files/4lemmatize/5-00000-of-01449.jsonl.lz4\n",
      "Last file to get:             /vast/edk202/NLP_corpora/Google_Books/20200217/eng-fiction/5gram_files/4lemmatize/5-01448-of-01449.jsonl.lz4\n",
      "Ngram size:                   5\n",
      "Number of workers:            48\n",
      "Compress output files:        True\n",
      "Overwrite existing files:     True\n",
      "Delete input directory:       True\n",
      "\n",
      "\u001b[4mFiltering Options\u001b[0m\n",
      "Drop stopwords:               True\n",
      "Drop tokens under:            3 chars\n",
      "Drop tokens with numerals:    True\n",
      "Drop non-alphabetic:          True\n",
      "Drop ngrams under:            2 token(s)\n",
      "Replace tokens:               True\n",
      "Vocab file:                   1gram-corpus-vocab_list_match.txt\n",
      "\n"
     ]
    },
    {
     "data": {
      "application/vnd.jupyter.widget-view+json": {
       "model_id": "bd555fa009374a7da490b0e3ee1d9f04",
       "version_major": 2,
       "version_minor": 0
      },
      "text/plain": [
       "Filtering:   0%|          | 0/597 [00:00<?, ?files/s]"
      ]
     },
     "metadata": {},
     "output_type": "display_data"
    },
    {
     "name": "stdout",
     "output_type": "stream",
     "text": [
      "\n",
      "\u001b[4mFiltering Results (Dropped)\u001b[0m\n",
      "Stopword tokens:              0 \n",
      "Short-word tokens:            0 \n",
      "Tokens with numerals:         0 \n",
      "Tokens with non-alpha chars:  0\n",
      "Out-of-vocab tokens:          623721673\n",
      "Entire ngrams:                5476482 \n",
      "\u001b[31m\n",
      "End Time:                  2025-04-07 17:30:32.498445\u001b[0m\n",
      "\u001b[31mTotal runtime:             0:04:41.339420\n",
      "\u001b[0m\n"
     ]
    }
   ],
   "source": [
    "filter_ngrams(\n",
    "    ngram_size=5,\n",
    "    proj_dir='/vast/edk202/NLP_corpora/Google_Books/20200217/eng-fiction',\n",
    "    numerals=True,\n",
    "    nonalpha=True,\n",
    "    stops=True,\n",
    "    min_token_length=3,\n",
    "    min_tokens=2,\n",
    "    replace_unk=True,\n",
    "    vocab_file='1gram-corpus-vocab_list_match.txt',\n",
    "    compress=True,\n",
    "    overwrite=True,\n",
    "    delete_input=True\n",
    ")"
   ]
  },
  {
   "cell_type": "markdown",
   "id": "dffd5722-7816-4c68-89a4-6f824ccb3e1a",
   "metadata": {},
   "source": [
    "### Sort and combine the multigram files\n",
    "This modules creates a single, fully-sorted multigram file out of the filtered files. This is crucial for the next step (ngram consolidation; see below).   \n",
    "\n",
    "Sorting a giant file is a resource-hungry process and I've tried to implement an efficient approach that leverages parallelism: We first sort the filtered files in parallel using Python's standard sorting algorithm [Timsort](https://en.wikipedia.org/wiki/Timsort); then, we incrementally [heapsort](https://en.wikipedia.org/wiki/Heapsort) the files in parallel until we get down to 2 files. Finally, we heapsort the final 2 files (necessarily using one processor) to arrive at a single combined and sorted unigram file.\n",
    "\n",
    "Because this step can take a _very_ long time for larger multigrams (e.g., 5grams), we can run it in sessions using the `start_iteration` and `end_iteration` options. Iteration 1 comes after the initial file sort. If you only have time to complete, say, iterations 1–3, you can set `end_iteration=3`. During a later session, you can specify `start_iteration=4` to pick up where you left off."
   ]
  },
  {
   "cell_type": "code",
   "execution_count": 18,
   "id": "52e80618-397f-4051-b064-a8b689e77c43",
   "metadata": {},
   "outputs": [
    {
     "name": "stdout",
     "output_type": "stream",
     "text": [
      "\u001b[31mStart Time:                2025-04-07 18:06:52.939003\n",
      "\u001b[0m\n",
      "\u001b[4mSort Info\u001b[0m\n",
      "Input directory:           /vast/edk202/NLP_corpora/Google_Books/20200217/eng-fiction/5gram_files/5filter\n",
      "Sorted directory:          /vast/edk202/NLP_corpora/Google_Books/20200217/eng-fiction/5gram_files/temp\n",
      "Temp directory:            /vast/edk202/NLP_corpora/Google_Books/20200217/eng-fiction/5gram_files/tmp\n",
      "Merged file:               /vast/edk202/NLP_corpora/Google_Books/20200217/eng-fiction/5gram_files/6corpus/5gram-merged.jsonl.lz4\n",
      "Files available:           596\n",
      "First file to get:         /vast/edk202/NLP_corpora/Google_Books/20200217/eng-fiction/5gram_files/5filter/5-00009-of-01449.jsonl.lz4\n",
      "Last file to get:          /vast/edk202/NLP_corpora/Google_Books/20200217/eng-fiction/5gram_files/5filter/5-01448-of-01449.jsonl.lz4\n",
      "Files to use:              596\n",
      "Ngram size:                5\n",
      "Number of workers:         10\n",
      "Compress output files:     True\n",
      "Overwrite existing files:  True\n",
      "Sort key:                  ngram\n",
      "Sort order:                ascending\n",
      "Heap-merge start iter:     4\n",
      "Heap-merge end iter:       6\n",
      "Deleted sorted files:      True\n",
      "\n"
     ]
    },
    {
     "data": {
      "application/vnd.jupyter.widget-view+json": {
       "model_id": "9040869edf1a4094976f3796b7022b9e",
       "version_major": 2,
       "version_minor": 0
      },
      "text/plain": [
       "Sorting:   0%|          | 0/596 [00:00<?, ?files/s]"
      ]
     },
     "metadata": {},
     "output_type": "display_data"
    },
    {
     "name": "stdout",
     "output_type": "stream",
     "text": [
      "\n",
      "Iteration 4: merging 12 files into 6 chunks using 6 workers.\n",
      "  6 chunk(s) with 2 file(s)\n",
      "\n",
      "Iteration 5: merging 6 files into 3 chunks using 3 workers.\n",
      "  3 chunk(s) with 2 file(s)\n",
      "\n",
      "Iteration 6: merging 3 files into 1 chunks using 1 workers.\n",
      "  1 chunk(s) with 3 file(s)\n",
      "Merging complete. Final file: /vast/edk202/NLP_corpora/Google_Books/20200217/eng-fiction/5gram_files/6corpus/5gram-merged.jsonl.lz4\n",
      "\u001b[31m\n",
      "End Time:                  2025-04-07 19:07:10.419140\u001b[0m\n",
      "\u001b[31mTotal runtime:             1:00:17.480137\n",
      "\u001b[0m\n"
     ]
    }
   ],
   "source": [
    "sort_ngrams(\n",
    "    ngram_size=5,\n",
    "    proj_dir='/vast/edk202/NLP_corpora/Google_Books/20200217/eng-fiction',\n",
    "    workers=10,\n",
    "    sort_key='ngram',\n",
    "    start_iteration=4,\n",
    "    end_iteration=6,\n",
    "    compress=True,\n",
    "    overwrite=True,\n",
    "    sort_order='ascending',\n",
    "    delete_input=True\n",
    ")"
   ]
  },
  {
   "cell_type": "markdown",
   "id": "cc15dd26-62c3-4a39-918a-cf3e85fb9f95",
   "metadata": {},
   "source": [
    "### Verify sort [OPTIONAL]\n",
    "If we want, we can verify that the output file is correctly sorted. Bear in mind that you need to specify the file path manually here; be sure to use the right file extension based on whether sort_ngrams was run with `compress=True`."
   ]
  },
  {
   "cell_type": "code",
   "execution_count": 20,
   "id": "2cfd12d0-5dfc-482e-a145-0306b4e01ab2",
   "metadata": {},
   "outputs": [
    {
     "name": "stdout",
     "output_type": "stream",
     "text": [
      "Lines: 198074082line [21:59, 150096.54line/s]\n",
      "\n",
      "The file is sorted.\n"
     ]
    }
   ],
   "source": [
    "check_file_sorted(\n",
    "    input_file=(\n",
    "        '/vast/edk202/NLP_corpora/Google_Books/20200217/eng-fiction/'\n",
    "        '5gram_files/6corpus/5gram-merged.jsonl.lz4'\n",
    "    ),\n",
    "    field=\"ngram\",\n",
    "    sort_order=\"ascending\"\n",
    ")"
   ]
  },
  {
   "cell_type": "markdown",
   "id": "353a8ec7-38b8-4d5d-8356-1af9f8e26bf9",
   "metadata": {},
   "source": [
    "### Consolidate duplicate multigrams\n",
    "This module consolidates the sorted multigram file. Lowercasing, lemmatizing, and filtering produce duplicate unigrams. Now that the file is sorted, we can scan through it and consolidate consecutive idential duplicates. This involves summing their overall and yearly frequencies and document counts. It also leads to a much smaller file."
   ]
  },
  {
   "cell_type": "code",
   "execution_count": 21,
   "id": "d8609476-7636-43c6-8945-1eb6b104f999",
   "metadata": {},
   "outputs": [
    {
     "name": "stdout",
     "output_type": "stream",
     "text": [
      "\u001b[31mStart Time:                2025-04-07 19:33:06.741519\n",
      "\u001b[0m\n",
      "\u001b[4mConsolidation Info\u001b[0m\n",
      "Merged file:               /vast/edk202/NLP_corpora/Google_Books/20200217/eng-fiction/5gram_files/6corpus/5gram-merged.jsonl.lz4\n",
      "Corpus file:               /vast/edk202/NLP_corpora/Google_Books/20200217/eng-fiction/5gram_files/6corpus/5gram-corpus.jsonl.lz4\n",
      "Temporary directory:       /vast/edk202/NLP_corpora/Google_Books/20200217/eng-fiction/5gram_files/temp_chunks\n",
      "Ngram size:                5\n",
      "Number of workers:         48\n",
      "Compress output files:     True\n",
      "Overwrite existing files:  True\n",
      "\n",
      "Created and Sorted: 395 chunks\n",
      "Merged: 395 chunks\n",
      "\n",
      "\u001b[31m\n",
      "End Time:                  2025-04-07 20:00:59.676167\u001b[0m\n",
      "\u001b[31mTotal runtime:             0:27:52.934648\n",
      "\u001b[0m\n"
     ]
    }
   ],
   "source": [
    "consolidate_duplicate_ngrams(\n",
    "    ngram_size=5,\n",
    "    proj_dir='/vast/edk202/NLP_corpora/Google_Books/20200217/eng-fiction',\n",
    "    lines_per_chunk=500000,\n",
    "    compress=True,\n",
    "    overwrite=True\n",
    ")"
   ]
  },
  {
   "cell_type": "markdown",
   "id": "7da8c4c3-6e45-40c7-af67-7f9eb80b3d21",
   "metadata": {},
   "source": [
    "### View line [OPTIONAL]\n",
    "If we want, we can inspect a line in the file."
   ]
  },
  {
   "cell_type": "code",
   "execution_count": 22,
   "id": "8cd93ff1-828e-4e3f-afa7-453c2aea62be",
   "metadata": {},
   "outputs": [
    {
     "name": "stdout",
     "output_type": "stream",
     "text": [
      "Line 1650262: {'ngram': 'UNK receive UNK UNK surprising', 'freq_tot': 91, 'doc_tot': 90, 'freq': {'1809': 1, '1810': 1, '1839': 1, '1840': 2, '1841': 1, '1846': 1, '1855': 4, '1869': 5, '1870': 2, '1872': 1, '1882': 2, '1888': 2, '1889': 1, '1891': 1, '1895': 9, '1896': 1, '1903': 3, '1904': 8, '1907': 1, '1908': 1, '1909': 1, '1911': 1, '1920': 1, '1927': 2, '1938': 1, '1942': 1, '1948': 3, '1957': 1, '1960': 1, '1961': 1, '1963': 1, '1966': 2, '1972': 1, '1974': 1, '2001': 2, '2004': 1, '2009': 1, '2012': 1, '2013': 4, '2015': 4, '2016': 2, '2017': 2, '2018': 3, '2019': 5}, 'doc': {'1809': 1, '1810': 1, '1839': 1, '1840': 2, '1841': 1, '1846': 1, '1855': 4, '1869': 5, '1870': 2, '1872': 1, '1882': 2, '1888': 2, '1889': 1, '1891': 1, '1895': 9, '1896': 1, '1903': 3, '1904': 8, '1907': 1, '1908': 1, '1909': 1, '1911': 1, '1920': 1, '1927': 2, '1938': 1, '1942': 1, '1948': 3, '1957': 1, '1960': 1, '1961': 1, '1963': 1, '1966': 2, '1972': 1, '1974': 1, '2001': 2, '2004': 1, '2009': 1, '2012': 1, '2013': 4, '2015': 4, '2016': 2, '2017': 2, '2018': 2, '2019': 5}}\n",
      "Line 1650263: {'ngram': 'UNK receive UNK UNK suspicion', 'freq_tot': 116, 'doc_tot': 115, 'freq': {'1844': 1, '1868': 2, '1906': 4, '1909': 3, '1910': 3, '1917': 2, '1923': 1, '1945': 1, '1956': 1, '1960': 3, '1969': 2, '1981': 1, '1983': 2, '2008': 5, '2010': 3, '2012': 4, '2013': 2, '2015': 8, '2016': 4, '2017': 21, '2019': 4, '1915': 5, '1922': 3, '1930': 2, '1932': 1, '1936': 2, '1937': 1, '1942': 2, '1946': 1, '1947': 1, '1953': 1, '1954': 1, '1962': 1, '1970': 1, '1991': 2, '1992': 2, '1993': 2, '1999': 3, '2000': 2, '2004': 1, '2006': 1, '2007': 1, '2009': 1, '2014': 1, '2018': 1}, 'doc': {'1844': 1, '1868': 2, '1906': 4, '1909': 3, '1910': 3, '1917': 2, '1923': 1, '1945': 1, '1956': 1, '1960': 3, '1969': 2, '1981': 1, '1983': 2, '2008': 5, '2010': 3, '2012': 4, '2013': 2, '2015': 8, '2016': 4, '2017': 21, '2019': 4, '1915': 4, '1922': 3, '1930': 2, '1932': 1, '1936': 2, '1937': 1, '1942': 2, '1946': 1, '1947': 1, '1953': 1, '1954': 1, '1962': 1, '1970': 1, '1991': 2, '1992': 2, '1993': 2, '1999': 3, '2000': 2, '2004': 1, '2006': 1, '2007': 1, '2009': 1, '2014': 1, '2018': 1}}\n"
     ]
    }
   ],
   "source": [
    "print_jsonl_lines(\n",
    "    file_path=(\n",
    "        '/vast/edk202/NLP_corpora/Google_Books/20200217/eng-fiction/'\n",
    "        '5gram_files/6corpus/5gram-corpus.jsonl.lz4'\n",
    "    ),\n",
    "    start_line=1650262,\n",
    "    end_line=1650263,\n",
    "    parse_json=True\n",
    ")"
   ]
  },
  {
   "cell_type": "markdown",
   "id": "1ef1c41d-af54-483f-848a-ba318e75705d",
   "metadata": {},
   "source": [
    "### Make yearly files\n",
    "This module converts the overall corpus file into yearly corpora. For every year in which an ngram appeared, a `<year>.jsonl` file (or `<year>.jsonl.lz4` if `compress=True`) will be created. Each line in a yearly file contains an ngram, a `freq` value (the number of times it appeared that year), and a `doc` value (the number of unique documents it appeared in that year).\n",
    "\n",
    "I found it difficult to prevent memory exhaustion when processing 5grams with 128GB of RAM. Users may have to reduce the number of processors and/or the `chunk_size` to stay within their limits. Also note that the final clean-up step, in which many temporary files get deleted, can take several minutes to complete. \n",
    "\n",
    "After creating yearly corpora, we can proceed to train `word2vec` models as shown in the `workflow_train_models.ipynb` notebook."
   ]
  },
  {
   "cell_type": "code",
   "execution_count": 23,
   "id": "0a762fc0-4740-403d-b288-7d2b09885154",
   "metadata": {},
   "outputs": [
    {
     "name": "stdout",
     "output_type": "stream",
     "text": [
      "\u001b[31mStart Time:                2025-04-07 20:02:24.443765\n",
      "\u001b[0m\n",
      "\u001b[4mProcessing Info\u001b[0m\n",
      "Corpus file:               /vast/edk202/NLP_corpora/Google_Books/20200217/eng-fiction/5gram_files/6corpus/5gram-corpus.jsonl.lz4\n",
      "Yearly file directory:     /vast/edk202/NLP_corpora/Google_Books/20200217/eng-fiction/5gram_files/6corpus/yearly_files/data\n",
      "Compress output files:     True\n",
      "Number of workers:         14\n",
      "Overwrite existing files:  True\n",
      "\n",
      "Created and processed 112 chunks\n",
      "Merged temp files for 390 years\n",
      "\u001b[31m\n",
      "End Time:                  2025-04-07 20:15:57.133325\u001b[0m\n",
      "\u001b[31mTotal runtime:             0:13:32.689560\n",
      "\u001b[0m\n"
     ]
    }
   ],
   "source": [
    "make_yearly_files(\n",
    "    ngram_size=5,\n",
    "    proj_dir='/vast/edk202/NLP_corpora/Google_Books/20200217/eng-fiction',\n",
    "    overwrite=True,\n",
    ")\n",
    "    compress=True,\n",
    "    workers=14,\n",
    "    chunk_size=500000"
   ]
  },
  {
   "cell_type": "code",
   "execution_count": 18,
   "id": "9ffabb11-4186-4e58-81ac-a39df7482031",
   "metadata": {},
   "outputs": [
    {
     "name": "stdout",
     "output_type": "stream",
     "text": [
      "Line 1650262: {'ngram': 'UNK fertile breeding UNK ground', 'freq': 1, 'doc': 1}\n",
      "Line 1650263: {'ngram': 'UNK fertile breeding ground UNK', 'freq': 8, 'doc': 7}\n"
     ]
    }
   ],
   "source": [
    "print_jsonl_lines(\n",
    "    file_path=(\n",
    "        '/vast/edk202/NLP_corpora/Google_Books/20200217/eng-fiction/'\n",
    "        '5gram_files/6corpus/yearly_files/data/2019.jsonl.lz4'\n",
    "    ),\n",
    "    start_line=1650262,\n",
    "    end_line=1650263,\n",
    "    parse_json=True\n",
    ")"
   ]
  },
  {
   "cell_type": "code",
   "execution_count": 19,
   "id": "4e71fa30-2639-495b-8231-1ba52c3a74b1",
   "metadata": {},
   "outputs": [
    {
     "data": {
      "application/vnd.jupyter.widget-view+json": {
       "model_id": "a970519a091c4add955a29999bf4ad30",
       "version_major": 2,
       "version_minor": 0
      },
      "text/plain": [
       "Extracting ngrams:   0%|          | 0/390 [00:00<?, ?it/s]"
      ]
     },
     "metadata": {},
     "output_type": "display_data"
    }
   ],
   "source": [
    "extract_all_ngrams(\n",
    "    proj_dir='/vast/edk202/NLP_corpora/Google_Books/20200217/eng-fiction',\n",
    "    workers=48,\n",
    "    overwrite=True\n",
    ")"
   ]
  },
  {
   "cell_type": "markdown",
   "id": "c3013ed7-1b8b-42c3-8948-d9b98b861d28",
   "metadata": {},
   "source": [
    "### Next Steps\n",
    "Now that you've created yearly corpora of multigrams, it's time to train word embeddings using `word2vec`. See the `workflow_train_models.ipynb` notebook for a guide to training and optimizing yearly word embeddings."
   ]
  }
 ],
 "metadata": {
  "kernelspec": {
   "display_name": "hist_w2v_env",
   "language": "python",
   "name": "hist_w2v_env"
  },
  "language_info": {
   "codemirror_mode": {
    "name": "ipython",
    "version": 3
   },
   "file_extension": ".py",
   "mimetype": "text/x-python",
   "name": "python",
   "nbconvert_exporter": "python",
   "pygments_lexer": "ipython3",
   "version": "3.12.8"
  }
 },
 "nbformat": 4,
 "nbformat_minor": 5
}
