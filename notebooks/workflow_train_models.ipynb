{
 "cells": [
  {
   "cell_type": "code",
   "execution_count": 1,
   "id": "943ad2f1-f36b-4d0a-945c-d8998ca9348d",
   "metadata": {},
   "outputs": [],
   "source": [
    "from ngram_tools.train_models import train_models_by_years"
   ]
  },
  {
   "cell_type": "markdown",
   "id": "e2764de0-eb1b-456f-a0a5-4ebd8eca09ec",
   "metadata": {},
   "source": [
    "# **Train `Word2vec` Models**"
   ]
  },
  {
   "cell_type": "code",
   "execution_count": 2,
   "id": "1fb620c8-7c6a-4022-9025-a354809c4895",
   "metadata": {},
   "outputs": [
    {
     "data": {
      "application/vnd.jupyter.widget-view+json": {
       "model_id": "ce1de61ca2e34fdc944acf50fd39c453",
       "version_major": 2,
       "version_minor": 0
      },
      "text/plain": [
       "Training Models:   0%|          | 0/9 [00:00<?, ?it/s]"
      ]
     },
     "metadata": {},
     "output_type": "display_data"
    }
   ],
   "source": [
    "train_models_by_years(\n",
    "    data_dir=(\n",
    "        '/vast/edk202/NLP_corpora/Google_Books/20200217/eng/'\n",
    "        '5gram_files/6corpus/yearly_files'\n",
    "    ),\n",
    "    years=(1800, 1808),\n",
    "    weight_by='freq',\n",
    "    log_base=10,\n",
    "    vector_size=100,\n",
    "    window=5,\n",
    "    min_count=1,\n",
    "    workers=4\n",
    ")"
   ]
  }
 ],
 "metadata": {
  "kernelspec": {
   "display_name": "hist_w2v_env",
   "language": "python",
   "name": "hist_w2v_env"
  },
  "language_info": {
   "codemirror_mode": {
    "name": "ipython",
    "version": 3
   },
   "file_extension": ".py",
   "mimetype": "text/x-python",
   "name": "python",
   "nbconvert_exporter": "python",
   "pygments_lexer": "ipython3",
   "version": "3.12.7"
  }
 },
 "nbformat": 4,
 "nbformat_minor": 5
}
