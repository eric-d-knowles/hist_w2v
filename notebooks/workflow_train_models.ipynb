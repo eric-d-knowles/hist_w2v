{
 "cells": [
  {
   "cell_type": "code",
   "execution_count": 2,
   "id": "943ad2f1-f36b-4d0a-945c-d8998ca9348d",
   "metadata": {},
   "outputs": [],
   "source": [
    "from training_tools.train_models import train_models\n",
    "from training_tools.evaluate_models import evaluate_models"
   ]
  },
  {
   "cell_type": "markdown",
   "id": "e2764de0-eb1b-456f-a0a5-4ebd8eca09ec",
   "metadata": {},
   "source": [
    "# **Train `Word2vec` Models**"
   ]
  },
  {
   "cell_type": "code",
   "execution_count": 3,
   "id": "1fb620c8-7c6a-4022-9025-a354809c4895",
   "metadata": {},
   "outputs": [
    {
     "name": "stdout",
     "output_type": "stream",
     "text": [
      "\u001b[31mStart Time:                2025-01-16 09:21:23.616947\n",
      "\u001b[0m\n",
      "\u001b[4mTraining Info\u001b[0m\n",
      "Data directory:            /vast/edk202/NLP_corpora/Google_Books/20200217/eng/5gram_files/6corpus/yearly_files/data\n",
      "Model directory:           /vast/edk202/NLP_corpora/Google_Books/20200217/eng/5gram_files/6corpus/yearly_files/models\n",
      "Log directory:             /vast/edk202/NLP_corpora/Google_Books/20200217/eng/5gram_files/6corpus/yearly_files/logs\n",
      "Ngram size:                5\n",
      "Number of workers:         48\n",
      "\n"
     ]
    },
    {
     "data": {
      "application/vnd.jupyter.widget-view+json": {
       "model_id": "59c5377e054d457d8cb7e68518cc0bd9",
       "version_major": 2,
       "version_minor": 0
      },
      "text/plain": [
       "Training Models:   0%|          | 0/90 [00:00<?, ?it/s]"
      ]
     },
     "metadata": {},
     "output_type": "display_data"
    }
   ],
   "source": [
    "train_models(\n",
    "    ngram_size=5,\n",
    "    proj_dir='/vast/edk202/NLP_corpora/Google_Books/20200217/eng/',\n",
    "    years=(1700, 1700),\n",
    "    weight_by=('none', 'freq', 'doc_freq'),\n",
    "    vector_size=(100, 200, 300, 400, 500),\n",
    "    window=5,\n",
    "    workers=48,\n",
    "    min_count=(5, 6, 7, 8, 9, 10)\n",
    ")"
   ]
  },
  {
   "cell_type": "code",
   "execution_count": 4,
   "id": "a4a941ca-a44c-4ca3-8fd0-6d8229833e6e",
   "metadata": {},
   "outputs": [],
   "source": [
    "evaluate_models(\n",
    "    model_dir=(\n",
    "        '/vast/edk202/NLP_corpora/Google_Books/20200217/eng/'\n",
    "        '5gram_files/6corpus/yearly_files/models'\n",
    "    )\n",
    ")"
   ]
  }
 ],
 "metadata": {
  "kernelspec": {
   "display_name": "hist_w2v_env",
   "language": "python",
   "name": "hist_w2v_env"
  },
  "language_info": {
   "codemirror_mode": {
    "name": "ipython",
    "version": 3
   },
   "file_extension": ".py",
   "mimetype": "text/x-python",
   "name": "python",
   "nbconvert_exporter": "python",
   "pygments_lexer": "ipython3",
   "version": "3.12.7"
  }
 },
 "nbformat": 4,
 "nbformat_minor": 5
}
