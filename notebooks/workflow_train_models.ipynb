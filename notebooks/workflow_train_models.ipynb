{
 "cells": [
  {
   "cell_type": "code",
   "execution_count": 1,
   "id": "943ad2f1-f36b-4d0a-945c-d8998ca9348d",
   "metadata": {},
   "outputs": [],
   "source": [
    "from training_tools.train_models import train_models_by_years\n",
    "from training_tools.evaluate_models import evaluate_models_by_years"
   ]
  },
  {
   "cell_type": "markdown",
   "id": "e2764de0-eb1b-456f-a0a5-4ebd8eca09ec",
   "metadata": {},
   "source": [
    "# **Train `Word2vec` Models**"
   ]
  },
  {
   "cell_type": "code",
   "execution_count": null,
   "id": "1fb620c8-7c6a-4022-9025-a354809c4895",
   "metadata": {},
   "outputs": [
    {
     "data": {
      "application/vnd.jupyter.widget-view+json": {
       "model_id": "8797df630929427daa6c645c1d2fe2da",
       "version_major": 2,
       "version_minor": 0
      },
      "text/plain": [
       "Training Models:   0%|          | 0/1 [00:00<?, ?it/s]"
      ]
     },
     "metadata": {},
     "output_type": "display_data"
    }
   ],
   "source": [
    "train_models_by_years(\n",
    "    data_dir=(\n",
    "        '/vast/edk202/NLP_corpora/Google_Books/20200217/eng/'\n",
    "        '5gram_files/6corpus/yearly_files'\n",
    "    ),\n",
    "    years=(2019, 2019),\n",
    "    weight_by='none',\n",
    "    log_base=10,\n",
    "    vector_size=100,\n",
    "    window=5,\n",
    "    min_count=1,\n",
    "    workers=4\n",
    ")"
   ]
  },
  {
   "cell_type": "code",
   "execution_count": 2,
   "id": "a4a941ca-a44c-4ca3-8fd0-6d8229833e6e",
   "metadata": {},
   "outputs": [
    {
     "data": {
      "text/plain": [
       "{'w2v_1700_freq_100_5_1.model': {'similarity_score': 0.3082932782849958,\n",
       "  'analogy_score': 0.04092261904761905}}"
      ]
     },
     "execution_count": 2,
     "metadata": {},
     "output_type": "execute_result"
    }
   ],
   "source": [
    "evaluate_models_by_years(\n",
    "    data_dir=(\n",
    "        '/vast/edk202/NLP_corpora/Google_Books/20200217/eng/'\n",
    "        '5gram_files/6corpus/yearly_files'\n",
    "    ),\n",
    "    years=(1700, 1700)\n",
    ")"
   ]
  }
 ],
 "metadata": {
  "kernelspec": {
   "display_name": "hist_w2v_env",
   "language": "python",
   "name": "hist_w2v_env"
  },
  "language_info": {
   "codemirror_mode": {
    "name": "ipython",
    "version": 3
   },
   "file_extension": ".py",
   "mimetype": "text/x-python",
   "name": "python",
   "nbconvert_exporter": "python",
   "pygments_lexer": "ipython3",
   "version": "3.12.7"
  }
 },
 "nbformat": 4,
 "nbformat_minor": 5
}
