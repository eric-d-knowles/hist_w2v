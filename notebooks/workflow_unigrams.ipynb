{
 "cells": [
  {
   "cell_type": "code",
   "execution_count": 1,
   "id": "ad3a5e53-0843-4a9c-b586-97a906f14293",
   "metadata": {},
   "outputs": [
    {
     "ename": "ModuleNotFoundError",
     "evalue": "No module named 'ngram_tools'",
     "output_type": "error",
     "traceback": [
      "\u001b[0;31m---------------------------------------------------------------------------\u001b[0m",
      "\u001b[0;31mModuleNotFoundError\u001b[0m                       Traceback (most recent call last)",
      "Cell \u001b[0;32mIn[1], line 1\u001b[0m\n\u001b[0;32m----> 1\u001b[0m \u001b[38;5;28;01mfrom\u001b[39;00m\u001b[38;5;250m \u001b[39m\u001b[38;5;21;01mngram_tools\u001b[39;00m\u001b[38;5;21;01m.\u001b[39;00m\u001b[38;5;21;01mdownload_ngrams\u001b[39;00m\u001b[38;5;250m \u001b[39m\u001b[38;5;28;01mimport\u001b[39;00m download_ngram_files\n\u001b[1;32m      2\u001b[0m \u001b[38;5;28;01mfrom\u001b[39;00m\u001b[38;5;250m \u001b[39m\u001b[38;5;21;01mngram_tools\u001b[39;00m\u001b[38;5;21;01m.\u001b[39;00m\u001b[38;5;21;01mconvert_to_jsonl\u001b[39;00m\u001b[38;5;250m \u001b[39m\u001b[38;5;28;01mimport\u001b[39;00m convert_to_jsonl_files\n\u001b[1;32m      3\u001b[0m \u001b[38;5;28;01mfrom\u001b[39;00m\u001b[38;5;250m \u001b[39m\u001b[38;5;21;01mngram_tools\u001b[39;00m\u001b[38;5;21;01m.\u001b[39;00m\u001b[38;5;21;01mlowercase_ngrams\u001b[39;00m\u001b[38;5;250m \u001b[39m\u001b[38;5;28;01mimport\u001b[39;00m lowercase_ngrams\n",
      "\u001b[0;31mModuleNotFoundError\u001b[0m: No module named 'ngram_tools'"
     ]
    }
   ],
   "source": [
    "from ngram_tools.download_ngrams import download_ngram_files\n",
    "from ngram_tools.convert_to_jsonl import convert_to_jsonl_files\n",
    "from ngram_tools.lowercase_ngrams import lowercase_ngrams\n",
    "from ngram_tools.lemmatize_ngrams import lemmatize_ngrams\n",
    "from ngram_tools.filter_ngrams import filter_ngrams\n",
    "from ngram_tools.sort_ngrams import sort_ngrams\n",
    "from ngram_tools.consolidate_ngrams import consolidate_duplicate_ngrams\n",
    "from ngram_tools.index_and_create_vocab import index_and_create_vocab_files\n",
    "\n",
    "from ngram_tools.helpers.verify_sort import check_file_sorted\n",
    "from ngram_tools.helpers.print_jsonl_lines import print_jsonl_lines"
   ]
  },
  {
   "cell_type": "markdown",
   "id": "33cdb7cc-0186-4bbc-bc10-22b433eca869",
   "metadata": {
    "editable": true,
    "slideshow": {
     "slide_type": ""
    },
    "tags": []
   },
   "source": [
    "# **Process Unigrams to Generate a Vocabulary File**"
   ]
  },
  {
   "cell_type": "markdown",
   "id": "ecddde54-96c0-4461-a0f7-6ef2bbecd065",
   "metadata": {},
   "source": [
    "## **Goal**: Make a list of the _n_ most common unigrams for later use filtering multigrams"
   ]
  },
  {
   "attachments": {},
   "cell_type": "markdown",
   "id": "195fa408-af40-4c69-b360-018748472598",
   "metadata": {},
   "source": [
    "This workflow is resource-intensive and is probably only practical when run on a computing cluster. On my university's High Performance Computing (HPC) cluster, I request the maximum 14 cores (48 logical processors) and 128G of memory and use a 2T fast-I/O NVMe SSD filespace—and I still run up against time and resource limits. I've designed the code to be efficient, although further optimization is surely possible.\n",
    "\n",
    "The code affords options to keep conserve resources. Throughout the workflow you can specify `compress=True`, which tells a script to compress its output files. In my experience, there is little downside to using LZ4 compression, since it's very fast and cuts file sizes by about half. Downstream modules will see the `.lz4` extensions and handle the files accordingly. If you know your workflow runs correctly and wish to further conserve space, you can specify `delete_input=True` for many of the scripts; this will delete the source files for a given step once it is complete. The scripts are fairly memory-efficient—with the exception of `sort_ngrams` and `index_and_create_vocab_files`, which sort multiple files in memory at once. When processing multigrams, I've found that allocating more than ~10 workers in these scripts leads to memory exhaustion (with 128G!) and slow processing.\n",
    "\n",
    "`[Total runtime with compression:  0:43:54.8]`"
   ]
  },
  {
   "cell_type": "markdown",
   "id": "b97fea36-f682-4a1c-aedc-d905ba30c001",
   "metadata": {},
   "source": [
    "### Download unigrams\n",
    "Here, I'm using the `download_ngrams` module to fetch unigrams appended with part-of-speech (POS) tags (e.g., `_VERB`). Although you can specify `ngram_type='untagged'`, POS tags are necessary to lemmatize the tokens. Specify the number of parallel processes you wish to use by setting `workers` (the default is all available processors).\n",
    "\n",
    "`[Runtime with compression:  0:00:39.639428]`"
   ]
  },
  {
   "cell_type": "code",
   "execution_count": null,
   "id": "25bd2f2a-e4fb-4af0-bd94-71ef7c5dcdb9",
   "metadata": {},
   "outputs": [],
   "source": [
    "download_ngram_files(\n",
    "    ngram_size=1,\n",
    "    ngram_type='tagged',\n",
    "    file_range=(0, 24),\n",
    "    proj_dir='/vast/edk202/NLP_corpora/Google_Books/20200217/eng',\n",
    "    compress=True,\n",
    "    overwrite=False\n",
    ")"
   ]
  },
  {
   "cell_type": "markdown",
   "id": "799d4fd8-2fe9-4fe3-8a37-20f0e1b81eef",
   "metadata": {},
   "source": [
    "### Convert files from TXT to JSONL\n",
    "This module converts the original unigram files' text data to a more flexible JSON Lines (JSONL) format. Although this increases storage demands, it makes downstream processing more efficient.\n",
    "\n",
    "`[Runtime with compression:  0:02:17.890276]`"
   ]
  },
  {
   "cell_type": "code",
   "execution_count": null,
   "id": "ccf070c7-54bd-44b0-aff7-e86a3b36291e",
   "metadata": {},
   "outputs": [],
   "source": [
    "convert_to_jsonl_files(\n",
    "    ngram_size=1,\n",
    "    ngram_type='tagged',\n",
    "    proj_dir='/vast/edk202/NLP_corpora/Google_Books/20200217/eng',\n",
    "    compress=True,\n",
    "    overwrite=False,\n",
    "    delete_input=True\n",
    ")"
   ]
  },
  {
   "cell_type": "markdown",
   "id": "60ad8638-1ed1-4ce6-b864-70e17635a3a8",
   "metadata": {},
   "source": [
    "### Make unigrams all lowercase\n",
    "This module lowercases all characters in the unigrams. Most use cases benefit from this.\n",
    "\n",
    "`[Runtime with compression:  0:01:04.142135]`"
   ]
  },
  {
   "cell_type": "code",
   "execution_count": null,
   "id": "6cc700cf-dba7-40d6-b5f0-e98723af2e14",
   "metadata": {},
   "outputs": [],
   "source": [
    "lowercase_ngrams(\n",
    "    ngram_size=1,\n",
    "    proj_dir='/vast/edk202/NLP_corpora/Google_Books/20200217/eng',\n",
    "    compress=True,\n",
    "    overwrite=False,\n",
    "    delete_input=True\n",
    ")"
   ]
  },
  {
   "cell_type": "markdown",
   "id": "8426e48d-76d8-42ff-9e95-7d9c44bdc331",
   "metadata": {},
   "source": [
    "### Lemmatize the unigrams\n",
    "This module lemmatizes the unigrams—that is, reduces them to their base forms. This is desirable for most use cases. Example: `people_NOUN` (\"the people of this land\") will be converted to `person` in the output; `people_VERB` (\"to people this land\") will not. My code uses the [NLTK Lemmatizer](https://www.nltk.org/api/nltk.stem.WordNetLemmatizer.html?highlight=wordnet), which requires requires POS-tagged unigrams. The tags are discarded after lemmatization as they're no longer useful, saving space.\n",
    "\n",
    "`[Runtime with compression:  0:01:22.440506]`"
   ]
  },
  {
   "cell_type": "code",
   "execution_count": null,
   "id": "82eb3d13-9d51-4ea2-8708-9c3eadb3feae",
   "metadata": {},
   "outputs": [],
   "source": [
    "lemmatize_ngrams(\n",
    "    ngram_size=1,\n",
    "    proj_dir='/vast/edk202/NLP_corpora/Google_Books/20200217/eng',\n",
    "    compress=True,\n",
    "    overwrite=False,\n",
    "    delete_input=True\n",
    ")"
   ]
  },
  {
   "cell_type": "markdown",
   "id": "dd52fad3-d372-4613-9c36-b153ca004976",
   "metadata": {},
   "source": [
    "### Filter the unigrams\n",
    "This module removes tokens that provide little information about words' semantic context: those that contain numerals (`numerals=True`), nonalphabetic characters (`nonalpha=True`), stopwords (high-frequency, low information tokens like \"the\" and \"into\"; `stops=True`), or short words (those below a certain user-specified character count; here, `min_token_length=3`).\n",
    "\n",
    "You can also specify `min_tokens`—the minumum length of a retained ngram after filtering its tokens. This is mainly intended for use when processing multigrams. However, it's still good to specify `min_tokens=1` for unigrams, as it completely discards the data for any unigram violating our criteria. Empty output files will be deleted.\n",
    "\n",
    "`[Runtime with compression:  0:00:59.650950]`"
   ]
  },
  {
   "cell_type": "code",
   "execution_count": null,
   "id": "68104701-700e-4b0d-8b3e-b69127a75ad0",
   "metadata": {},
   "outputs": [],
   "source": [
    "filter_ngrams(\n",
    "    ngram_size=1,\n",
    "    proj_dir='/vast/edk202/NLP_corpora/Google_Books/20200217/eng',\n",
    "    numerals=True,\n",
    "    nonalpha=True,\n",
    "    stops=True,\n",
    "    min_token_length=3,\n",
    "    min_tokens=1,\n",
    "    compress=True,\n",
    "    overwrite=False,\n",
    "    delete_input=True\n",
    ")"
   ]
  },
  {
   "cell_type": "markdown",
   "id": "dffd5722-7816-4c68-89a4-6f824ccb3e1a",
   "metadata": {},
   "source": [
    "### Sort and combine the unigram files\n",
    "This modules creates a single, fully-sorted unigram file out of the filtered files. This is crucial for the next step (ngram consolidation; see below).   \n",
    "\n",
    "Sorting a giant file is a resource-hungry process and I've tried to implement an efficient approach that leverages parallelism: We first sort the filtered files in parallel using Python's standard sorting algorithm [Timsort](https://en.wikipedia.org/wiki/Timsort); then, we incrementally [heapsort](https://en.wikipedia.org/wiki/Heapsort) the files in parallel until we get down to 2 files. Finally, we heapsort the final 2 files (necessarily using one processor) to arrive at a single combined and sorted unigram file.\n",
    "\n",
    "`[Runtime with compression:  0:17:54.962300]`"
   ]
  },
  {
   "cell_type": "code",
   "execution_count": null,
   "id": "52e80618-397f-4051-b064-a8b689e77c43",
   "metadata": {},
   "outputs": [],
   "source": [
    "sort_ngrams(\n",
    "    ngram_size=1,\n",
    "    proj_dir='/vast/edk202/NLP_corpora/Google_Books/20200217/eng',\n",
    "    workers=12,\n",
    "    sort_key='ngram',\n",
    "    compress=True,\n",
    "    overwrite=False,\n",
    "    sort_order='ascending',\n",
    "    delete_input=True\n",
    ")"
   ]
  },
  {
   "cell_type": "markdown",
   "id": "5cc33c06-ca7f-4d99-9949-7520ef0e0c98",
   "metadata": {},
   "source": [
    "### Verify sort [OPTIONAL]\n",
    "If we want, we can verify that the output file is correctly sorted. If the script outputs `True`, then the file is sorted. Bear in mind that you need to specify the file path manually here; be sure to use the right file extension based on whether `sort_ngrams` was run with `compress=True`."
   ]
  },
  {
   "cell_type": "code",
   "execution_count": null,
   "id": "2cfd12d0-5dfc-482e-a145-0306b4e01ab2",
   "metadata": {},
   "outputs": [],
   "source": [
    "check_file_sorted(\n",
    "    input_file=(\n",
    "        '/vast/edk202/NLP_corpora/Google_Books/20200217/eng/'\n",
    "        '1gram_files/6corpus/1gram-merged.jsonl.lz4'\n",
    "    ),\n",
    "    field=\"ngram\",\n",
    "    sort_order=\"ascending\"\n",
    ")"
   ]
  },
  {
   "cell_type": "markdown",
   "id": "353a8ec7-38b8-4d5d-8356-1af9f8e26bf9",
   "metadata": {},
   "source": [
    "### Consolidate duplicate unigrams\n",
    "This module consolidates the sorted unigram file. Lowercasing and lemmatizing produce duplicate unigrams. Now that the file is sorted, we can scan through it and consolidate consecutive idential duplicates. This involves summing their overall and yearly frequencies and document counts. It also leads to a much smaller file.\n",
    "\n",
    "`[Runtime with compression:  0:07:33.662163`"
   ]
  },
  {
   "cell_type": "code",
   "execution_count": null,
   "id": "d8609476-7636-43c6-8945-1eb6b104f999",
   "metadata": {},
   "outputs": [],
   "source": [
    "consolidate_duplicate_ngrams(\n",
    "    ngram_size=1,\n",
    "    proj_dir='/vast/edk202/NLP_corpora/Google_Books/20200217/eng',\n",
    "    lines_per_chunk=1000000,\n",
    "    compress=True,\n",
    "    overwrite=False\n",
    ")"
   ]
  },
  {
   "cell_type": "markdown",
   "id": "fc294ed6-399f-4fbd-91e4-8e55e86950d0",
   "metadata": {},
   "source": [
    "### Index unigrams and create vocabulary file\n",
    "Most use cases will require an indexed list of \"valid\" (i.e., reasonably common) vocabulary words. This indexing script serves the dual functions of (1) mapping each unigram to an index number (saved in `/6corpus/1gram-corpus-indexed.jsonl`) and (2) culling this file into a vocabulary list consisting of the _n_ most frequent unigrams (saved in `6corpus/1gram-corpus-vocab_list_match.txt`). The vocabulary file provides a critical means of filtering excessively rare words out of the corpus. Unlike files upstream in the workflow, the vocabulary files are not large and don't need to be compressed.\n",
    "\n",
    "`[Runtime with compression:  0:12:02.432830]`"
   ]
  },
  {
   "cell_type": "code",
   "execution_count": null,
   "id": "e858de53-fe04-4a7d-bab5-9eed5cdf0011",
   "metadata": {},
   "outputs": [],
   "source": [
    "index_and_create_vocab_files(\n",
    "    ngram_size=1,\n",
    "    proj_dir='/vast/edk202/NLP_corpora/Google_Books/20200217/eng',\n",
    "    compress=True,\n",
    "    overwrite=False,\n",
    "    vocab_n=80000\n",
    ")"
   ]
  },
  {
   "cell_type": "markdown",
   "id": "f5142c8d-50fa-4387-9383-f901492bace2",
   "metadata": {},
   "source": [
    "### Verify indexing [OPTIONAL]\n",
    "We can verify that the final indexed file looks right."
   ]
  },
  {
   "cell_type": "code",
   "execution_count": null,
   "id": "2824a58d-213e-4c4a-8917-78909994239b",
   "metadata": {
    "scrolled": true
   },
   "outputs": [],
   "source": [
    "print_jsonl_lines(\n",
    "    file_path=(\n",
    "        '/vast/edk202/NLP_corpora/Google_Books/20200217/eng/'\n",
    "        '1gram_files/6corpus/1gram-corpus-indexed.jsonl.lz4'\n",
    "    ),\n",
    "    start_line=79998,\n",
    "    end_line=79999,\n",
    "    parse_json=True\n",
    ")"
   ]
  }
 ],
 "metadata": {
  "kernelspec": {
   "display_name": "hist_w2v_env",
   "language": "python",
   "name": "hist_w2v_env"
  },
  "language_info": {
   "codemirror_mode": {
    "name": "ipython",
    "version": 3
   },
   "file_extension": ".py",
   "mimetype": "text/x-python",
   "name": "python",
   "nbconvert_exporter": "python",
   "pygments_lexer": "ipython3",
   "version": "3.12.8"
  }
 },
 "nbformat": 4,
 "nbformat_minor": 5
}
