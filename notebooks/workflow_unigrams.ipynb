{
 "cells": [
  {
   "cell_type": "code",
   "execution_count": 1,
   "id": "b8ffefae-714c-4ff8-b207-230d6d0f63f3",
   "metadata": {},
   "outputs": [],
   "source": [
    "from ngram_tools.download_ngrams import download_ngram_files\n",
    "from ngram_tools.convert_to_jsonl import convert_to_jsonl_files\n",
    "from ngram_tools.lowercase_ngrams import lowercase_ngrams\n",
    "from ngram_tools.lemmatize_ngrams import lemmatize_ngrams\n",
    "from ngram_tools.filter_ngrams import filter_ngrams\n",
    "from ngram_tools.sort_ngrams import sort_ngrams\n",
    "from ngram_tools.consolidate_ngrams import consolidate_duplicate_ngrams\n",
    "from ngram_tools.index_and_create_vocab import index_and_create_vocab_files\n",
    "\n",
    "from ngram_tools.helpers.verify_sort import check_file_sorted\n",
    "from ngram_tools.helpers.print_jsonl_lines import print_jsonl_lines"
   ]
  },
  {
   "cell_type": "markdown",
   "id": "33cdb7cc-0186-4bbc-bc10-22b433eca869",
   "metadata": {
    "editable": true,
    "slideshow": {
     "slide_type": ""
    },
    "tags": []
   },
   "source": [
    "# **Process Unigrams to Generate a Vocabulary File**"
   ]
  },
  {
   "cell_type": "markdown",
   "id": "ecddde54-96c0-4461-a0f7-6ef2bbecd065",
   "metadata": {},
   "source": [
    "## **Goal**: Make a list of the _n_ most common unigrams for later use filtering multigrams"
   ]
  },
  {
   "attachments": {},
   "cell_type": "markdown",
   "id": "195fa408-af40-4c69-b360-018748472598",
   "metadata": {},
   "source": [
    "This workflow is resource-intensive and is probably only practical when run on a computing cluster. On my university's High Performance Computing (HPC) cluster, I request the maximum 14 cores (48 logical processors) and 128G of memory and use a 2T fast-I/O NVMe SSD filespace—and I still run up against time and resource limits. I've designed the code to be efficient, although further optimization is surely possible.\n",
    "\n",
    "The code affords options to conserve resources. Throughout the workflow you can specify `compress=True`, which tells a script to compress its output files. In my experience, there is little downside to using LZ4 compression, since it's very fast and cuts file sizes by about half. Downstream modules will see the `.lz4` extensions and handle the files accordingly. If you know your workflow runs correctly and wish to further conserve space, you can specify `delete_input=True` for many of the scripts; this will delete the source files for a given step once it is complete. The scripts are fairly memory-efficient—with the exception of `sort_ngrams` and `index_and_create_vocab_files`, which sort multiple files in memory at once. When processing multigrams, I've found that allocating more than ~10 workers in these scripts leads to memory exhaustion (with 128G!) and slow processing."
   ]
  },
  {
   "cell_type": "markdown",
   "id": "b97fea36-f682-4a1c-aedc-d905ba30c001",
   "metadata": {},
   "source": [
    "### Download unigrams\n",
    "Here, I'm using the `download_ngrams` module to fetch unigrams appended with part-of-speech (POS) tags (e.g., `_VERB`). Although you can specify `ngram_type='untagged'`, POS tags are necessary to lemmatize the tokens. Specify the number of parallel processes you wish to use by setting `workers` (the default is all available processors). Note the `repo_release_id` and `repo_corpus_id` parameters; these tell the module which ngram corpus and release to download."
   ]
  },
  {
   "cell_type": "code",
   "execution_count": 2,
   "id": "25bd2f2a-e4fb-4af0-bd94-71ef7c5dcdb9",
   "metadata": {},
   "outputs": [
    {
     "name": "stdout",
     "output_type": "stream",
     "text": [
      "\u001b[31mStart Time:                2025-02-03 15:56:10.774053\n",
      "\u001b[0m\n",
      "\u001b[4mDownload Info\u001b[0m\n",
      "Ngram repository:          https://storage.googleapis.com/books/ngrams/books/20200217/eng-fiction/eng-fiction-1-ngrams_exports.html\n",
      "Output directory:          /vast/edk202/NLP_corpora/Google_Books/20200217/eng-fiction/1gram_files/1download\n",
      "File index range:          0 to 0\n",
      "File URLs available:       1\n",
      "File URLs to use:          1\n",
      "First file to get:         https://storage.googleapis.com/books/ngrams/books/20200217/eng-fiction/1-00000-of-00001.gz\n",
      "Last file to get:          https://storage.googleapis.com/books/ngrams/books/20200217/eng-fiction/1-00000-of-00001.gz\n",
      "Ngram size:                1\n",
      "Ngram type:                tagged\n",
      "Number of workers:         48\n",
      "Compress saved files:      True\n",
      "Overwrite existing files:  True\n",
      "\n"
     ]
    },
    {
     "data": {
      "application/vnd.jupyter.widget-view+json": {
       "model_id": "92a325abd56d44608bae944a7061ca7c",
       "version_major": 2,
       "version_minor": 0
      },
      "text/plain": [
       "Downloading:   0%|          | 0/1 [00:00<?, ?files/s]"
      ]
     },
     "metadata": {},
     "output_type": "display_data"
    },
    {
     "name": "stdout",
     "output_type": "stream",
     "text": [
      "\u001b[31m\n",
      "End Time:                  2025-02-03 15:56:42.634337\u001b[0m\n",
      "\u001b[31mTotal runtime:             0:00:31.860284\n",
      "\u001b[0m\n"
     ]
    }
   ],
   "source": [
    "download_ngram_files(\n",
    "    ngram_size=1,\n",
    "    ngram_type='tagged',\n",
    "    repo_release_id='20200217',\n",
    "    repo_corpus_id='eng-fiction',\n",
    "    proj_dir='/vast/edk202/NLP_corpora/Google_Books/20200217/eng-fiction',\n",
    "    compress=True,\n",
    "    overwrite=True\n",
    ")"
   ]
  },
  {
   "cell_type": "markdown",
   "id": "799d4fd8-2fe9-4fe3-8a37-20f0e1b81eef",
   "metadata": {},
   "source": [
    "### Convert files from TXT to JSONL\n",
    "This module converts the original unigram files' text data to a more flexible JSON Lines (JSONL) format. Although this increases storage demands, it makes downstream processing more efficient."
   ]
  },
  {
   "cell_type": "code",
   "execution_count": 3,
   "id": "ccf070c7-54bd-44b0-aff7-e86a3b36291e",
   "metadata": {},
   "outputs": [
    {
     "name": "stdout",
     "output_type": "stream",
     "text": [
      "\u001b[31mStart Time:                2025-02-03 15:56:42.642384\n",
      "\u001b[0m\n",
      "\u001b[4mConversion Info\u001b[0m\n",
      "Input directory:           /vast/edk202/NLP_corpora/Google_Books/20200217/eng-fiction/1gram_files/1download\n",
      "Output directory:          /vast/edk202/NLP_corpora/Google_Books/20200217/eng-fiction/1gram_files/2convert\n",
      "File index range:          0 to 0\n",
      "Files available:           1\n",
      "Files to use:              1\n",
      "First file to get:         /vast/edk202/NLP_corpora/Google_Books/20200217/eng-fiction/1gram_files/1download/1-00000-of-00001.txt.lz4\n",
      "Last file to get:          /vast/edk202/NLP_corpora/Google_Books/20200217/eng-fiction/1gram_files/1download/1-00000-of-00001.txt.lz4\n",
      "Ngram size:                1\n",
      "Ngram type:                tagged\n",
      "Number of workers:         48\n",
      "Compress output files:     True\n",
      "Overwrite existing files:  True\n",
      "Delete input directory:    True\n",
      "\n"
     ]
    },
    {
     "data": {
      "application/vnd.jupyter.widget-view+json": {
       "model_id": "e1e0d4dca84242c9b3a76a69527cd8e5",
       "version_major": 2,
       "version_minor": 0
      },
      "text/plain": [
       "Converting:   0%|          | 0/1 [00:00<?, ?files/s]"
      ]
     },
     "metadata": {},
     "output_type": "display_data"
    },
    {
     "name": "stdout",
     "output_type": "stream",
     "text": [
      "\u001b[31m\n",
      "End Time:                  2025-02-03 15:58:35.101897\u001b[0m\n",
      "\u001b[31mTotal runtime:             0:01:52.459513\n",
      "\u001b[0m\n"
     ]
    }
   ],
   "source": [
    "convert_to_jsonl_files(\n",
    "    ngram_size=1,\n",
    "    ngram_type='tagged',\n",
    "    proj_dir='/vast/edk202/NLP_corpora/Google_Books/20200217/eng-fiction',\n",
    "    compress=True,\n",
    "    overwrite=True,\n",
    "    delete_input=True\n",
    ")"
   ]
  },
  {
   "cell_type": "markdown",
   "id": "60ad8638-1ed1-4ce6-b864-70e17635a3a8",
   "metadata": {},
   "source": [
    "### Make unigrams all lowercase\n",
    "This module lowercases all characters in the unigrams. Most use cases benefit from this."
   ]
  },
  {
   "cell_type": "code",
   "execution_count": 4,
   "id": "6cc700cf-dba7-40d6-b5f0-e98723af2e14",
   "metadata": {},
   "outputs": [
    {
     "name": "stdout",
     "output_type": "stream",
     "text": [
      "\u001b[31mStart Time:                2025-02-03 15:58:35.105719\n",
      "\u001b[0m\n",
      "\u001b[4mLowercasing Info\u001b[0m\n",
      "Input directory:           /vast/edk202/NLP_corpora/Google_Books/20200217/eng-fiction/1gram_files/2convert\n",
      "Output directory:          /vast/edk202/NLP_corpora/Google_Books/20200217/eng-fiction/1gram_files/3lowercase\n",
      "File index range:          0 to 0\n",
      "Files available:           1\n",
      "Files to use:              1\n",
      "First file to get:         /vast/edk202/NLP_corpora/Google_Books/20200217/eng-fiction/1gram_files/2convert/1-00000-of-00001.jsonl.lz4\n",
      "Last file to get:          /vast/edk202/NLP_corpora/Google_Books/20200217/eng-fiction/1gram_files/2convert/1-00000-of-00001.jsonl.lz4\n",
      "Ngram size:                1\n",
      "Number of workers:         48\n",
      "Compress output files:     True\n",
      "Overwrite existing files:  True\n",
      "Delete input directory:    True\n",
      "\n"
     ]
    },
    {
     "data": {
      "application/vnd.jupyter.widget-view+json": {
       "model_id": "8eb7eb218c36465f8854b66cbed76c82",
       "version_major": 2,
       "version_minor": 0
      },
      "text/plain": [
       "Lowercasing:   0%|          | 0/1 [00:00<?, ?files/s]"
      ]
     },
     "metadata": {},
     "output_type": "display_data"
    },
    {
     "name": "stdout",
     "output_type": "stream",
     "text": [
      "\u001b[31m\n",
      "End Time:                  2025-02-03 15:59:26.634457\u001b[0m\n",
      "\u001b[31mTotal runtime:             0:00:51.528738\n",
      "\u001b[0m\n"
     ]
    }
   ],
   "source": [
    "lowercase_ngrams(\n",
    "    ngram_size=1,\n",
    "    proj_dir='/vast/edk202/NLP_corpora/Google_Books/20200217/eng-fiction',\n",
    "    compress=True,\n",
    "    overwrite=True,\n",
    "    delete_input=True\n",
    ")"
   ]
  },
  {
   "cell_type": "markdown",
   "id": "8426e48d-76d8-42ff-9e95-7d9c44bdc331",
   "metadata": {},
   "source": [
    "### Lemmatize the unigrams\n",
    "This module lemmatizes the unigrams—that is, reduces them to their base forms. This is desirable for most use cases. Example: `people_NOUN` (\"the people of this land\") will be converted to `person` in the output; `people_VERB` (\"to people this land\") will not. My code uses the [NLTK Lemmatizer](https://www.nltk.org/api/nltk.stem.WordNetLemmatizer.html?highlight=wordnet), which requires requires POS-tagged unigrams. The tags are discarded after lemmatization as they're no longer useful, saving space."
   ]
  },
  {
   "cell_type": "code",
   "execution_count": 5,
   "id": "82eb3d13-9d51-4ea2-8708-9c3eadb3feae",
   "metadata": {},
   "outputs": [
    {
     "name": "stdout",
     "output_type": "stream",
     "text": [
      "\u001b[31mStart Time:                2025-02-03 15:59:26.637752\n",
      "\u001b[0m\n",
      "\u001b[4mLemmatizing Info\u001b[0m\n",
      "Input directory:           /vast/edk202/NLP_corpora/Google_Books/20200217/eng-fiction/1gram_files/3lowercase\n",
      "Output directory:          /vast/edk202/NLP_corpora/Google_Books/20200217/eng-fiction/1gram_files/4lemmatize\n",
      "File index range:          0 to 0\n",
      "Files available:           1\n",
      "Files to use:              1\n",
      "First file to get:         /vast/edk202/NLP_corpora/Google_Books/20200217/eng-fiction/1gram_files/3lowercase/1-00000-of-00001.jsonl.lz4\n",
      "Last file to get:          /vast/edk202/NLP_corpora/Google_Books/20200217/eng-fiction/1gram_files/3lowercase/1-00000-of-00001.jsonl.lz4\n",
      "Ngram size:                1\n",
      "Number of workers:         48\n",
      "Compress output files:     True\n",
      "Overwrite existing files:  True\n",
      "Delete input directory:    True\n",
      "\n"
     ]
    },
    {
     "data": {
      "application/vnd.jupyter.widget-view+json": {
       "model_id": "215246e242ca4ecfbc0440bf48496f3e",
       "version_major": 2,
       "version_minor": 0
      },
      "text/plain": [
       "Lemmatizing:   0%|          | 0/1 [00:00<?, ?files/s]"
      ]
     },
     "metadata": {},
     "output_type": "display_data"
    },
    {
     "name": "stdout",
     "output_type": "stream",
     "text": [
      "\u001b[31m\n",
      "End Time:                  2025-02-03 16:00:29.218294\u001b[0m\n",
      "\u001b[31mTotal runtime:             0:01:02.580542\n",
      "\u001b[0m\n"
     ]
    }
   ],
   "source": [
    "lemmatize_ngrams(\n",
    "    ngram_size=1,\n",
    "    proj_dir='/vast/edk202/NLP_corpora/Google_Books/20200217/eng-fiction',\n",
    "    compress=True,\n",
    "    overwrite=True,\n",
    "    delete_input=True\n",
    ")"
   ]
  },
  {
   "cell_type": "markdown",
   "id": "dd52fad3-d372-4613-9c36-b153ca004976",
   "metadata": {},
   "source": [
    "### Filter the unigrams\n",
    "This module removes tokens that provide little information about words' semantic context: those that contain numerals (`numerals=True`), nonalphabetic characters (`nonalpha=True`), stopwords (high-frequency, low information tokens like \"the\" and \"into\"; `stops=True`), or short words (those below a certain user-specified character count; here, `min_token_length=3`).\n",
    "\n",
    "You can also specify `min_tokens`—the minumum length of a retained ngram after filtering its tokens. This is mainly intended for use when processing multigrams. However, it's still good to specify `min_tokens=1` for unigrams, as it completely discards the data for any unigram violating our criteria. Empty output files will be deleted."
   ]
  },
  {
   "cell_type": "code",
   "execution_count": 6,
   "id": "68104701-700e-4b0d-8b3e-b69127a75ad0",
   "metadata": {},
   "outputs": [
    {
     "name": "stdout",
     "output_type": "stream",
     "text": [
      "\u001b[31mStart Time:                   2025-02-03 16:02:50.906800\n",
      "\u001b[0m\n",
      "\u001b[4mFiltering Info\u001b[0m\n",
      "Input directory:              /vast/edk202/NLP_corpora/Google_Books/20200217/eng-fiction/1gram_files/4lemmatize\n",
      "Output directory:             /vast/edk202/NLP_corpora/Google_Books/20200217/eng-fiction/1gram_files/5filter\n",
      "File index range:             0 to 0\n",
      "Files available:              1\n",
      "Files to use:                 1\n",
      "First file to get:            /vast/edk202/NLP_corpora/Google_Books/20200217/eng-fiction/1gram_files/4lemmatize/1-00000-of-00001.jsonl.lz4\n",
      "Last file to get:             /vast/edk202/NLP_corpora/Google_Books/20200217/eng-fiction/1gram_files/4lemmatize/1-00000-of-00001.jsonl.lz4\n",
      "Ngram size:                   1\n",
      "Number of workers:            48\n",
      "Compress output files:        True\n",
      "Overwrite existing files:     False\n",
      "Delete input directory:       True\n",
      "\n",
      "\u001b[4mFiltering Options\u001b[0m\n",
      "Drop stopwords:               True\n",
      "Drop tokens under:            3 chars\n",
      "Drop tokens with numerals:    True\n",
      "Drop non-alphabetic:          True\n",
      "Drop ngrams under:            1 token(s)\n",
      "\n"
     ]
    },
    {
     "data": {
      "application/vnd.jupyter.widget-view+json": {
       "model_id": "15a344762a9543f194d8c6936d920341",
       "version_major": 2,
       "version_minor": 0
      },
      "text/plain": [
       "Filtering:   0%|          | 0/1 [00:00<?, ?files/s]"
      ]
     },
     "metadata": {},
     "output_type": "display_data"
    },
    {
     "name": "stdout",
     "output_type": "stream",
     "text": [
      "\n",
      "\u001b[4mFiltering Results (Dropped)\u001b[0m\n",
      "Stopword tokens:              2704 \n",
      "Short-word tokens:            9544 \n",
      "Tokens with numerals:         239217 \n",
      "Tokens with non-alpha chars:  162479\n",
      "Out-of-vocab tokens:          0\n",
      "Entire ngrams:                413944 \n",
      "\u001b[31m\n",
      "End Time:                  2025-02-03 16:03:43.951387\u001b[0m\n",
      "\u001b[31mTotal runtime:             0:00:53.044587\n",
      "\u001b[0m\n"
     ]
    }
   ],
   "source": [
    "filter_ngrams(\n",
    "    ngram_size=1,\n",
    "    proj_dir='/vast/edk202/NLP_corpora/Google_Books/20200217/eng-fiction',\n",
    "    numerals=True,\n",
    "    nonalpha=True,\n",
    "    stops=True,\n",
    "    min_token_length=3,\n",
    "    min_tokens=1,\n",
    "    compress=True,\n",
    "    overwrite=True,\n",
    "    delete_input=True\n",
    ")"
   ]
  },
  {
   "cell_type": "markdown",
   "id": "dffd5722-7816-4c68-89a4-6f824ccb3e1a",
   "metadata": {},
   "source": [
    "### Sort and combine the unigram files\n",
    "This modules creates a single, fully-sorted unigram file out of the filtered files. This is crucial for the next step (ngram consolidation; see below).   \n",
    "\n",
    "Sorting a giant file is a resource-hungry process and I've tried to implement an efficient approach that leverages parallelism: We first sort the filtered files in parallel using Python's standard sorting algorithm [Timsort](https://en.wikipedia.org/wiki/Timsort); then, we incrementally [heapsort](https://en.wikipedia.org/wiki/Heapsort) the files in parallel until we get down to 2 files. Finally, we heapsort the final 2 files (necessarily using one processor) to arrive at a single combined and sorted unigram file."
   ]
  },
  {
   "cell_type": "code",
   "execution_count": 2,
   "id": "52e80618-397f-4051-b064-a8b689e77c43",
   "metadata": {},
   "outputs": [
    {
     "name": "stdout",
     "output_type": "stream",
     "text": [
      "\u001b[31mStart Time:                2025-02-03 16:19:19.362408\n",
      "\u001b[0m\n",
      "\u001b[4mSort Info\u001b[0m\n",
      "Input directory:           /vast/edk202/NLP_corpora/Google_Books/20200217/eng-fiction/1gram_files/5filter\n",
      "Sorted directory:          /vast/edk202/NLP_corpora/Google_Books/20200217/eng-fiction/1gram_files/temp\n",
      "Temp directory:            /vast/edk202/NLP_corpora/Google_Books/20200217/eng-fiction/1gram_files/tmp\n",
      "Merged file:               /vast/edk202/NLP_corpora/Google_Books/20200217/eng-fiction/1gram_files/6corpus/1gram-merged.jsonl.lz4\n",
      "Files available:           1\n",
      "First file to get:         /vast/edk202/NLP_corpora/Google_Books/20200217/eng-fiction/1gram_files/5filter/1-00000-of-00001.jsonl.lz4\n",
      "Last file to get:          /vast/edk202/NLP_corpora/Google_Books/20200217/eng-fiction/1gram_files/5filter/1-00000-of-00001.jsonl.lz4\n",
      "Files to use:              1\n",
      "Ngram size:                1\n",
      "Number of workers:         12\n",
      "Compress output files:     True\n",
      "Overwrite existing files:  True\n",
      "Sort key:                  ngram\n",
      "Sort order:                ascending\n",
      "Heap-merge start iter:     1\n",
      "Heap-merge end iter:       None\n",
      "Deleted sorted files:      True\n",
      "\n"
     ]
    },
    {
     "data": {
      "application/vnd.jupyter.widget-view+json": {
       "model_id": "aab4f808c44c47ffa7a4b94be05383e0",
       "version_major": 2,
       "version_minor": 0
      },
      "text/plain": [
       "Sorting:   0%|          | 0/1 [00:00<?, ?files/s]"
      ]
     },
     "metadata": {},
     "output_type": "display_data"
    },
    {
     "name": "stdout",
     "output_type": "stream",
     "text": [
      "Merging complete. Final file: /vast/edk202/NLP_corpora/Google_Books/20200217/eng-fiction/1gram_files/6corpus/1gram-merged.jsonl.lz4\n",
      "\u001b[31m\n",
      "End Time:                  2025-02-03 16:20:23.692009\u001b[0m\n",
      "\u001b[31mTotal runtime:             0:01:04.329601\n",
      "\u001b[0m\n"
     ]
    }
   ],
   "source": [
    "sort_ngrams(\n",
    "    ngram_size=1,\n",
    "    proj_dir='/vast/edk202/NLP_corpora/Google_Books/20200217/eng-fiction',\n",
    "    workers=12,\n",
    "    sort_key='ngram',\n",
    "    compress=True,\n",
    "    overwrite=True,\n",
    "    sort_order='ascending',\n",
    "    delete_input=True\n",
    ")"
   ]
  },
  {
   "cell_type": "markdown",
   "id": "5cc33c06-ca7f-4d99-9949-7520ef0e0c98",
   "metadata": {},
   "source": [
    "### Verify sort [OPTIONAL]\n",
    "If we want, we can verify that the output file is correctly sorted. If the script outputs `True`, then the file is sorted. Bear in mind that you need to specify the file path manually here; be sure to use the right file extension based on whether `sort_ngrams` was run with `compress=True`."
   ]
  },
  {
   "cell_type": "code",
   "execution_count": 2,
   "id": "2cfd12d0-5dfc-482e-a145-0306b4e01ab2",
   "metadata": {},
   "outputs": [
    {
     "name": "stdout",
     "output_type": "stream",
     "text": [
      "\n",
      "The file is sorted.\n",
      "\n",
      "Processing complete.\n"
     ]
    }
   ],
   "source": [
    "check_file_sorted(\n",
    "    input_file=(\n",
    "        '/vast/edk202/NLP_corpora/Google_Books/20200217/eng-fiction/'\n",
    "        '1gram_files/6corpus/1gram-merged.jsonl.lz4'\n",
    "    ),\n",
    "    field=\"ngram\",\n",
    "    sort_order=\"ascending\"\n",
    ")"
   ]
  },
  {
   "cell_type": "markdown",
   "id": "353a8ec7-38b8-4d5d-8356-1af9f8e26bf9",
   "metadata": {},
   "source": [
    "### Consolidate duplicate unigrams\n",
    "This module consolidates the sorted unigram file. Lowercasing and lemmatizing produce duplicate unigrams. Now that the file is sorted, we can scan through it and consolidate consecutive idential duplicates. This involves summing their overall and yearly frequencies and document counts. It also leads to a much smaller file.\n",
    "\n",
    "`[Runtime with compression:  0:07:33.662163`"
   ]
  },
  {
   "cell_type": "code",
   "execution_count": 4,
   "id": "d8609476-7636-43c6-8945-1eb6b104f999",
   "metadata": {},
   "outputs": [
    {
     "name": "stdout",
     "output_type": "stream",
     "text": [
      "\u001b[31mStart Time:                2025-02-03 19:27:35.164647\n",
      "\u001b[0m\n",
      "\u001b[4mConsolidation Info\u001b[0m\n",
      "Merged file:               /vast/edk202/NLP_corpora/Google_Books/20200217/eng-fiction/1gram_files/6corpus/1gram-merged.jsonl.lz4\n",
      "Corpus file:               /vast/edk202/NLP_corpora/Google_Books/20200217/eng-fiction/1gram_files/6corpus/1gram-corpus.jsonl.lz4\n",
      "Temporary directory:       /vast/edk202/NLP_corpora/Google_Books/20200217/eng-fiction/1gram_files/temp_chunks\n",
      "Ngram size:                1\n",
      "Number of workers:         48\n",
      "Compress output files:     True\n",
      "Overwrite existing files:  True\n",
      "\n",
      "Created and Sorted: 3 chunks\n",
      "Merged: 3 chunks\n",
      "\n",
      "\u001b[31m\n",
      "End Time:                  2025-02-03 19:28:46.067911\u001b[0m\n",
      "\u001b[31mTotal runtime:             0:01:10.903264\n",
      "\u001b[0m\n"
     ]
    }
   ],
   "source": [
    "consolidate_duplicate_ngrams(\n",
    "    ngram_size=1,\n",
    "    proj_dir='/vast/edk202/NLP_corpora/Google_Books/20200217/eng-fiction',\n",
    "    lines_per_chunk=1000000,\n",
    "    compress=True,\n",
    "    overwrite=True\n",
    ")"
   ]
  },
  {
   "cell_type": "markdown",
   "id": "fc294ed6-399f-4fbd-91e4-8e55e86950d0",
   "metadata": {},
   "source": [
    "### Index unigrams and create vocabulary file\n",
    "Most use cases will require an indexed list of \"valid\" (i.e., reasonably common) vocabulary words. This indexing script serves the dual functions of (1) mapping each unigram to an index number (saved in `/6corpus/1gram-corpus-indexed.jsonl`) and (2) culling this file into a vocabulary list consisting of the _n_ most frequent unigrams (saved in `6corpus/1gram-corpus-vocab_list_match.txt`). The vocabulary file provides a critical means of filtering excessively rare words out of the corpus. Unlike files upstream in the workflow, the vocabulary files are not large and don't need to be compressed."
   ]
  },
  {
   "cell_type": "code",
   "execution_count": 6,
   "id": "e858de53-fe04-4a7d-bab5-9eed5cdf0011",
   "metadata": {},
   "outputs": [
    {
     "name": "stdout",
     "output_type": "stream",
     "text": [
      "\u001b[31mStart Time:                2025-02-03 19:29:44.841838\n",
      "\u001b[0m\n",
      "\u001b[4mIndexing Info\u001b[0m\n",
      "Corpus file:               /vast/edk202/NLP_corpora/Google_Books/20200217/eng-fiction/1gram_files/6corpus/1gram-corpus.jsonl.lz4\n",
      "Indexed file:              /vast/edk202/NLP_corpora/Google_Books/20200217/eng-fiction/1gram_files/6corpus/1gram-indexed.jsonl.lz4\n",
      "Ngram size:                1\n",
      "Number of workers:         48\n",
      "Compress output files:     True\n",
      "Overwrite existing files:  False\n",
      "\n",
      "\u001b[4mVocabulary Info\u001b[0m\n",
      "Vocab size (top N):        80000\n",
      "Match File:                /vast/edk202/NLP_corpora/Google_Books/20200217/eng-fiction/1gram_files/6corpus/1gram-corpus-vocab_list_match.txt\n",
      "Lookup File:               /vast/edk202/NLP_corpora/Google_Books/20200217/eng-fiction/1gram_files/6corpus/1gram-corpus-vocab_list_lookup.jsonl\n",
      "\n"
     ]
    },
    {
     "data": {
      "application/vnd.jupyter.widget-view+json": {
       "model_id": "2e2bfe2b8a524f3485907150f8b993a4",
       "version_major": 2,
       "version_minor": 0
      },
      "text/plain": [
       "Chunking:   0%|          | 0/1125984 [00:00<?, ?lines/s]"
      ]
     },
     "metadata": {},
     "output_type": "display_data"
    },
    {
     "data": {
      "application/vnd.jupyter.widget-view+json": {
       "model_id": "27211be6f0b54809ba17c2ee7614f19c",
       "version_major": 2,
       "version_minor": 0
      },
      "text/plain": [
       "Sorting:   0%|          | 0/12 [00:00<?, ?chunks/s]"
      ]
     },
     "metadata": {},
     "output_type": "display_data"
    },
    {
     "data": {
      "application/vnd.jupyter.widget-view+json": {
       "model_id": "fa2bfd06361b45fd956b24c1e2fc87ad",
       "version_major": 2,
       "version_minor": 0
      },
      "text/plain": [
       "Merging:   0%|          | 0/1125984 [00:00<?, ?lines/s]"
      ]
     },
     "metadata": {},
     "output_type": "display_data"
    },
    {
     "data": {
      "application/vnd.jupyter.widget-view+json": {
       "model_id": "b4d0849184c444e2866df10c400fee20",
       "version_major": 2,
       "version_minor": 0
      },
      "text/plain": [
       "Indexing:   0%|          | 0/1125984 [00:00<?, ?lines/s]"
      ]
     },
     "metadata": {},
     "output_type": "display_data"
    },
    {
     "name": "stdout",
     "output_type": "stream",
     "text": [
      "\n",
      "Indexed 1125984 lines.\n",
      "Final indexed file: 1gram-corpus-indexed.jsonl.lz4\n",
      "Created vocab_list_match and vocab_list_lookup files for top 80000 ngrams.\n",
      "\u001b[31m\n",
      "End Time:                  2025-02-03 19:30:50.254639\u001b[0m\n",
      "\u001b[31mTotal runtime:             0:01:05.412801\n",
      "\u001b[0m\n"
     ]
    }
   ],
   "source": [
    "index_and_create_vocab_files(\n",
    "    ngram_size=1,\n",
    "    proj_dir='/vast/edk202/NLP_corpora/Google_Books/20200217/eng-fiction',\n",
    "    compress=True,\n",
    "    overwrite=False,\n",
    "    vocab_n=80000\n",
    ")"
   ]
  },
  {
   "cell_type": "markdown",
   "id": "f5142c8d-50fa-4387-9383-f901492bace2",
   "metadata": {},
   "source": [
    "### Verify indexing [OPTIONAL]\n",
    "We can verify that the final indexed file looks right."
   ]
  },
  {
   "cell_type": "code",
   "execution_count": 5,
   "id": "2824a58d-213e-4c4a-8917-78909994239b",
   "metadata": {
    "collapsed": true,
    "jupyter": {
     "outputs_hidden": true
    }
   },
   "outputs": [
    {
     "name": "stdout",
     "output_type": "stream",
     "text": [
      "Line 1: {'ngram': 'say', 'freq_tot': 707702607, 'doc_tot': 8591543, 'freq': {'1806': 18685, '1827': 138448, '1844': 311640, '1845': 420341, '1849': 226290, '1862': 268241, '1866': 491995, '1867': 535016, '1870': 564639, '1871': 585908, '1875': 549010, '1877': 522266, '1878': 428208, '1879': 487523, '1880': 640696, '1890': 845614, '1891': 866986, '1892': 1060527, '1893': 1227248, '1894': 1149638, '1896': 1418741, '1897': 1380111, '1898': 1348630, '1899': 2375549, '1900': 2189043, '1901': 1814746, '1902': 1319918, '1904': 1411106, '1905': 1266894, '1906': 1543400, '1908': 1358684, '1909': 1402152, '1910': 1694710, '1911': 1316149, '1912': 1243268, '1913': 1149007, '1914': 1091615, '1915': 1089231, '1916': 910723, '1917': 1244965, '1918': 753382, '1920': 1226910, '1921': 984251, '1924': 689655, '1927': 925026, '1928': 900615, '1929': 948350, '1934': 767541, '1935': 856967, '1936': 793343, '1937': 827396, '1938': 758057, '1939': 700118, '1940': 750959, '1942': 639124, '1943': 558856, '1944': 671303, '1945': 674153, '1946': 1049524, '1948': 1009243, '1949': 1001799, '1950': 1228717, '1951': 1244894, '1952': 1795801, '1953': 1236517, '1954': 1145163, '1956': 1198379, '1957': 1272625, '1958': 1215995, '1960': 1398354, '1961': 1461272, '1963': 1424493, '1966': 1377790, '1967': 1598812, '1968': 1738966, '1969': 1777747, '1970': 1811458, '1971': 1440236, '1974': 1423784, '1975': 1474576, '1978': 1823340, '1981': 2410755, '1983': 2675375, '1984': 2841835, '1985': 3154151, '1986': 3512340, '1987': 3676066, '1988': 3818151, '1989': 4180452, '1990': 4571437, '1991': 4602993, '1992': 4854218, '1993': 4983897, '1994': 5314618, '1995': 5366269, '1996': 5544751, '1997': 5762841, '1998': 6132918, '1999': 6604372, '2002': 11132157, '2003': 12306899, '2004': 13567160, '2005': 12985500, '2006': 14469307, '2007': 16551785, '2008': 19790287, '2009': 23091206, '2010': 23829517, '2011': 30177762, '2012': 37033895, '2013': 36853211, '2016': 31767440, '2017': 37600631, '2018': 34254137, '2019': 33779602, '1722': 1405, '1723': 355, '1785': 2176, '1796': 6671, '1798': 7804, '1804': 9362, '1807': 15071, '1810': 71461, '1812': 109768, '1813': 62374, '1814': 54787, '1815': 69468, '1816': 68519, '1817': 69552, '1818': 54576, '1819': 58768, '1820': 105367, '1821': 77892, '1822': 143550, '1823': 92501, '1824': 201758, '1825': 123566, '1826': 100986, '1828': 138063, '1829': 156744, '1830': 157218, '1831': 155410, '1832': 198438, '1833': 202242, '1834': 211843, '1835': 181564, '1836': 224505, '1837': 207941, '1838': 191617, '1839': 242233, '1840': 274061, '1841': 288715, '1842': 360845, '1843': 247997, '1846': 336719, '1847': 264952, '1848': 265232, '1850': 346221, '1851': 242751, '1852': 324780, '1853': 322765, '1854': 290295, '1855': 312757, '1856': 372952, '1857': 349402, '1858': 321662, '1859': 352029, '1860': 376086, '1861': 259844, '1863': 290491, '1864': 380971, '1865': 442843, '1868': 623733, '1869': 489061, '1872': 486773, '1873': 493782, '1874': 449662, '1876': 506019, '1881': 622779, '1882': 515607, '1883': 801079, '1884': 654437, '1885': 748428, '1886': 647721, '1887': 704728, '1888': 738006, '1889': 792189, '1895': 1478075, '1903': 1394167, '1907': 1301652, '1919': 1058143, '1922': 1339010, '1923': 852482, '1925': 854935, '1926': 858117, '1930': 910803, '1931': 878812, '1932': 766962, '1933': 673596, '1941': 681481, '1947': 1032793, '1955': 1247369, '1959': 1249197, '1962': 1498419, '1964': 1220620, '1965': 1395255, '1972': 1469105, '1973': 1444075, '1976': 1851220, '1977': 1729613, '1979': 1940219, '1980': 2123608, '1982': 2618345, '2000': 9614738, '2001': 10049231, '2014': 43073935, '2015': 35029099, '1800': 37709, '1801': 10118, '1803': 14086, '1598': 11, '1604': 20, '1684': 1512, '1805': 12443, '1809': 38177, '1811': 36483, '1603': 233, '1667': 92, '1671': 17, '1678': 325, '1679': 337, '1681': 357, '1685': 330, '1701': 3, '1704': 206, '1705': 67, '1706': 65, '1708': 252, '1710': 153, '1716': 569, '1717': 197, '1719': 1690, '1720': 2463, '1724': 1191, '1726': 1354, '1727': 1136, '1728': 1275, '1730': 562, '1733': 162, '1738': 358, '1739': 1497, '1742': 3595, '1743': 1076, '1744': 2315, '1745': 274, '1746': 118, '1747': 4055, '1749': 3257, '1750': 2068, '1751': 792, '1752': 3134, '1753': 618, '1754': 1591, '1755': 2341, '1756': 1818, '1757': 410, '1761': 517, '1762': 657, '1763': 344, '1766': 2665, '1767': 1204, '1769': 973, '1770': 4081, '1771': 1133, '1772': 1440, '1774': 1747, '1775': 1653, '1777': 969, '1778': 738, '1779': 1598, '1780': 1597, '1781': 693, '1782': 3403, '1783': 1892, '1784': 4064, '1786': 1908, '1787': 656, '1788': 670, '1789': 5827, '1790': 6646, '1791': 2879, '1792': 2376, '1793': 3195, '1794': 4804, '1795': 3898, '1797': 3477, '1799': 3230, '1802': 7461, '1808': 26052, '1587': 200, '1627': 72, '1629': 9, '1631': 21, '1650': 158, '1655': 1, '1675': 2, '1682': 49, '1687': 98, '1688': 268, '1689': 5, '1692': 80, '1693': 2, '1703': 123, '1709': 58, '1711': 137, '1713': 33, '1714': 57, '1715': 351, '1718': 23, '1721': 90, '1725': 109, '1729': 94, '1731': 139, '1732': 427, '1735': 14, '1736': 634, '1737': 421, '1740': 401, '1741': 468, '1748': 919, '1758': 53, '1759': 101, '1760': 484, '1764': 26, '1765': 1283, '1768': 3134, '1773': 3193, '1776': 533, '1643': 2, '1594': 20, '1600': 10, '1609': 6, '1673': 56, '1694': 5, '1623': 1, '1595': 1, '1597': 7, '1633': 17, '1647': 3, '1652': 3, '1680': 799, '1683': 1, '1686': 35, '1707': 4, '1635': 1, '1660': 1, '1661': 1, '1699': 1, '1702': 1, '1734': 11}, 'doc': {'1806': 442, '1827': 1472, '1844': 2534, '1845': 3168, '1849': 2777, '1862': 2628, '1866': 5221, '1867': 5067, '1870': 4431, '1871': 5092, '1875': 5029, '1877': 4943, '1878': 4571, '1879': 5258, '1880': 5475, '1890': 9403, '1891': 9715, '1892': 11073, '1893': 11733, '1894': 11379, '1896': 16159, '1897': 14854, '1898': 15285, '1899': 24476, '1900': 21770, '1901': 19003, '1902': 16116, '1904': 16198, '1905': 14188, '1906': 16083, '1908': 15634, '1909': 17007, '1910': 18890, '1911': 15720, '1912': 15989, '1913': 14147, '1914': 12950, '1915': 12349, '1916': 11808, '1917': 13905, '1918': 9925, '1920': 15435, '1921': 12732, '1924': 9897, '1927': 11550, '1928': 11167, '1929': 11541, '1934': 8377, '1935': 9104, '1936': 8669, '1937': 9078, '1938': 8321, '1939': 7891, '1940': 7959, '1942': 6608, '1943': 5792, '1944': 6735, '1945': 7106, '1946': 10052, '1948': 9938, '1949': 9977, '1950': 11749, '1951': 11840, '1952': 14755, '1953': 11867, '1954': 12407, '1956': 11929, '1957': 12859, '1958': 12710, '1960': 14752, '1961': 15729, '1963': 17111, '1966': 16962, '1967': 19218, '1968': 21497, '1969': 22785, '1970': 22495, '1971': 19993, '1974': 20452, '1975': 21016, '1978': 24576, '1981': 28789, '1983': 32332, '1984': 35684, '1985': 38180, '1986': 41609, '1987': 45266, '1988': 47975, '1989': 52327, '1990': 56013, '1991': 56303, '1992': 59836, '1993': 60820, '1994': 63994, '1995': 65612, '1996': 68684, '1997': 71617, '1998': 76037, '1999': 82604, '2002': 139281, '2003': 152710, '2004': 172636, '2005': 162655, '2006': 183383, '2007': 203817, '2008': 246535, '2009': 275776, '2010': 287933, '2011': 372149, '2012': 463420, '2013': 447175, '2016': 390063, '2017': 438128, '2018': 416291, '2019': 421598, '1722': 36, '1723': 20, '1785': 57, '1796': 142, '1798': 144, '1804': 280, '1807': 487, '1810': 1044, '1812': 910, '1813': 748, '1814': 484, '1815': 675, '1816': 514, '1817': 578, '1818': 900, '1819': 854, '1820': 1415, '1821': 804, '1822': 1593, '1823': 1319, '1824': 1498, '1825': 1599, '1826': 1695, '1828': 1441, '1829': 1436, '1830': 1923, '1831': 1654, '1832': 2346, '1833': 2175, '1834': 1974, '1835': 2169, '1836': 2275, '1837': 2333, '1838': 1834, '1839': 2449, '1840': 2505, '1841': 2640, '1842': 2748, '1843': 2089, '1846': 2856, '1847': 2798, '1848': 2676, '1850': 3092, '1851': 2441, '1852': 3243, '1853': 3399, '1854': 3270, '1855': 3280, '1856': 3983, '1857': 3778, '1858': 3062, '1859': 3486, '1860': 4059, '1861': 2639, '1863': 3165, '1864': 3927, '1865': 4269, '1868': 5181, '1869': 4407, '1872': 4820, '1873': 4688, '1874': 4483, '1876': 5071, '1881': 6137, '1882': 5425, '1883': 7785, '1884': 6990, '1885': 7208, '1886': 6478, '1887': 7728, '1888': 8055, '1889': 7709, '1895': 15616, '1903': 16645, '1907': 15420, '1919': 12805, '1922': 15999, '1923': 11298, '1925': 11009, '1926': 10952, '1930': 11426, '1931': 9951, '1932': 9202, '1933': 7826, '1941': 7316, '1947': 10352, '1955': 12516, '1959': 13119, '1962': 15782, '1964': 14622, '1965': 16902, '1972': 19375, '1973': 20395, '1976': 23513, '1977': 23700, '1979': 25343, '1980': 26710, '1982': 31065, '2000': 121923, '2001': 126612, '2014': 560713, '2015': 437632, '1800': 468, '1801': 235, '1803': 341, '1598': 7, '1604': 7, '1684': 16, '1805': 266, '1809': 692, '1811': 522, '1603': 7, '1667': 6, '1671': 4, '1678': 7, '1679': 6, '1681': 15, '1685': 10, '1701': 3, '1704': 22, '1705': 8, '1706': 17, '1708': 10, '1710': 13, '1716': 9, '1717': 10, '1719': 26, '1720': 53, '1724': 31, '1726': 51, '1727': 58, '1728': 32, '1730': 13, '1733': 13, '1738': 19, '1739': 25, '1742': 48, '1743': 44, '1744': 21, '1745': 14, '1746': 19, '1747': 89, '1749': 76, '1750': 30, '1751': 42, '1752': 56, '1753': 34, '1754': 36, '1755': 41, '1756': 23, '1757': 23, '1761': 39, '1762': 20, '1763': 14, '1766': 43, '1767': 57, '1769': 34, '1770': 69, '1771': 34, '1772': 38, '1774': 52, '1775': 41, '1777': 44, '1778': 23, '1779': 39, '1780': 44, '1781': 23, '1782': 66, '1783': 60, '1784': 98, '1786': 41, '1787': 53, '1788': 49, '1789': 118, '1790': 93, '1791': 53, '1792': 76, '1793': 119, '1794': 125, '1795': 99, '1797': 118, '1799': 113, '1802': 256, '1808': 414, '1587': 7, '1627': 5, '1629': 3, '1631': 3, '1650': 4, '1655': 1, '1675': 2, '1682': 4, '1687': 4, '1688': 5, '1689': 4, '1692': 4, '1693': 2, '1703': 8, '1709': 5, '1711': 17, '1713': 6, '1714': 15, '1715': 17, '1718': 5, '1721': 11, '1725': 11, '1729': 9, '1731': 9, '1732': 18, '1735': 7, '1736': 15, '1737': 23, '1740': 16, '1741': 30, '1748': 18, '1758': 10, '1759': 7, '1760': 16, '1764': 5, '1765': 31, '1768': 47, '1773': 46, '1776': 20, '1643': 2, '1594': 4, '1600': 5, '1609': 3, '1673': 3, '1694': 5, '1623': 1, '1595': 1, '1597': 2, '1633': 2, '1647': 2, '1652': 3, '1680': 2, '1683': 1, '1686': 2, '1707': 2, '1635': 1, '1660': 1, '1661': 1, '1699': 1, '1702': 1, '1734': 1}, 'idx': 1}\n",
      "Line 2: {'ngram': 'would', 'freq_tot': 425560679, 'doc_tot': 3407603, 'freq': {'1838': 111249, '1849': 160556, '1853': 197697, '1855': 201550, '1856': 239939, '1858': 191528, '1862': 170734, '1866': 306883, '1868': 356868, '1869': 290754, '1870': 309599, '1871': 335314, '1872': 287556, '1874': 271279, '1875': 295821, '1876': 312947, '1877': 301244, '1878': 256768, '1879': 297686, '1880': 342696, '1884': 385807, '1885': 390842, '1886': 383223, '1888': 451104, '1889': 476802, '1890': 510849, '1891': 514304, '1892': 604619, '1893': 635877, '1894': 537582, '1895': 775117, '1896': 741525, '1897': 681433, '1898': 724937, '1899': 1259413, '1900': 1193762, '1902': 773032, '1903': 782906, '1904': 771208, '1905': 641527, '1906': 824097, '1907': 706877, '1908': 780403, '1909': 788394, '1910': 889144, '1911': 766656, '1912': 694326, '1913': 643358, '1915': 605860, '1916': 523855, '1917': 671188, '1918': 443302, '1919': 618466, '1921': 581854, '1924': 445344, '1925': 532545, '1929': 595158, '1930': 587821, '1931': 534321, '1933': 405955, '1936': 500274, '1938': 450565, '1940': 420868, '1941': 397912, '1942': 355238, '1944': 369008, '1945': 387360, '1946': 602034, '1947': 603401, '1948': 589990, '1949': 546921, '1950': 696488, '1951': 686488, '1953': 690714, '1954': 654760, '1955': 709177, '1956': 659107, '1957': 703794, '1958': 650275, '1959': 693847, '1960': 766237, '1961': 850633, '1963': 853963, '1964': 721277, '1965': 847106, '1966': 847995, '1968': 1057338, '1969': 1065268, '1970': 1087472, '1971': 917206, '1974': 952437, '1975': 960773, '1976': 1169318, '1977': 1131794, '1978': 1191248, '1979': 1255955, '1980': 1352334, '1981': 1523907, '1982': 1573329, '1983': 1653625, '1984': 1777111, '1985': 1928646, '1986': 2089612, '1987': 2280380, '1988': 2330042, '1989': 2520149, '1990': 2722932, '1991': 2789847, '1992': 2891050, '1993': 2972671, '1994': 3159661, '1995': 3171107, '1996': 3320853, '1997': 3335330, '1998': 3568730, '1999': 3895597, '2000': 5977809, '2001': 6260101, '2002': 6944058, '2003': 7683288, '2004': 8306479, '2005': 7903736, '2006': 8792116, '2007': 9892757, '2008': 11664315, '2009': 13346663, '2010': 14519335, '2011': 18045938, '2012': 22433841, '2013': 22138015, '2014': 26242279, '2015': 21071738, '2016': 19059866, '2017': 22750602, '2018': 21018911, '2019': 21267758, '1826': 69308, '1828': 67889, '1829': 72087, '1830': 90733, '1831': 84566, '1836': 140366, '1839': 146228, '1843': 130940, '1848': 162698, '1850': 197881, '1860': 244268, '1861': 165295, '1863': 184661, '1867': 328509, '1882': 313876, '1887': 413042, '1901': 957490, '1914': 591033, '1927': 588284, '1932': 492914, '1967': 1018254, '1973': 943209, '1772': 1693, '1782': 4218, '1784': 6533, '1789': 6542, '1824': 124630, '1865': 245093, '1934': 493278, '1937': 492745, '1972': 938803, '1857': 238869, '1667': 63, '1684': 1768, '1704': 568, '1705': 157, '1710': 354, '1726': 3034, '1727': 1555, '1749': 3531, '1752': 2323, '1754': 1912, '1768': 1461, '1769': 805, '1791': 1962, '1793': 4482, '1798': 6738, '1799': 3636, '1800': 27399, '1802': 8597, '1803': 12115, '1805': 8405, '1807': 13438, '1808': 15185, '1809': 28752, '1810': 57390, '1811': 23295, '1812': 38358, '1813': 24637, '1814': 19015, '1815': 27998, '1816': 22681, '1817': 23278, '1818': 41295, '1819': 38208, '1820': 73517, '1821': 60350, '1822': 75973, '1823': 55348, '1825': 76294, '1827': 73570, '1832': 113406, '1833': 123049, '1834': 109883, '1835': 121372, '1837': 135782, '1840': 174392, '1841': 178615, '1842': 178898, '1844': 154632, '1845': 192855, '1846': 162186, '1847': 174962, '1851': 147760, '1852': 206494, '1854': 192394, '1859': 210708, '1864': 235895, '1873': 298355, '1881': 357200, '1883': 463353, '1920': 717520, '1922': 797691, '1923': 536819, '1926': 525442, '1928': 560274, '1935': 512892, '1939': 401332, '1943': 315040, '1952': 1101109, '1962': 839347, '1716': 304, '1720': 2355, '1722': 1648, '1723': 276, '1725': 116, '1733': 1318, '1737': 913, '1739': 905, '1742': 4588, '1747': 3659, '1751': 2307, '1755': 2266, '1757': 2249, '1760': 1296, '1761': 417, '1763': 648, '1770': 2992, '1771': 1804, '1773': 1759, '1775': 1969, '1776': 551, '1777': 1632, '1780': 1956, '1781': 1108, '1785': 2496, '1786': 2322, '1788': 1426, '1790': 7531, '1792': 2722, '1794': 5962, '1795': 4063, '1796': 9191, '1797': 4994, '1801': 8026, '1804': 9541, '1806': 18597, '1587': 172, '1594': 28, '1595': 16, '1597': 22, '1598': 18, '1600': 41, '1603': 70, '1604': 41, '1609': 7, '1623': 2, '1627': 50, '1629': 13, '1631': 38, '1632': 12, '1633': 1, '1640': 9, '1643': 2, '1647': 6, '1650': 186, '1652': 11, '1660': 15, '1661': 2, '1662': 18, '1668': 10, '1669': 1, '1671': 18, '1673': 84, '1675': 28, '1677': 1, '1678': 122, '1679': 82, '1680': 5, '1681': 201, '1682': 85, '1683': 101, '1685': 379, '1686': 6, '1687': 5, '1688': 419, '1689': 52, '1690': 3, '1691': 28, '1692': 43, '1693': 8, '1694': 11, '1696': 11, '1697': 1, '1699': 91, '1700': 63, '1701': 29, '1702': 10, '1703': 342, '1706': 291, '1707': 28, '1708': 210, '1709': 154, '1711': 574, '1712': 2, '1713': 56, '1714': 55, '1715': 125, '1717': 85, '1718': 21, '1719': 2837, '1721': 131, '1724': 798, '1728': 1160, '1729': 209, '1730': 1041, '1731': 179, '1732': 528, '1734': 10, '1735': 11, '1736': 885, '1738': 782, '1740': 668, '1741': 243, '1743': 2051, '1744': 1036, '1745': 179, '1746': 490, '1748': 528, '1750': 1592, '1753': 1599, '1756': 826, '1758': 310, '1759': 115, '1762': 802, '1764': 177, '1765': 1689, '1766': 1348, '1767': 1688, '1774': 1654, '1778': 732, '1779': 1388, '1783': 2006, '1787': 1201}, 'doc': {'1838': 728, '1849': 1063, '1853': 1336, '1855': 1306, '1856': 1549, '1858': 1154, '1862': 985, '1866': 1899, '1868': 1963, '1869': 1623, '1870': 1642, '1871': 1912, '1872': 1801, '1874': 1710, '1875': 1833, '1876': 1981, '1877': 1912, '1878': 1716, '1879': 1959, '1880': 2013, '1884': 2606, '1885': 2662, '1886': 2422, '1888': 3126, '1889': 2989, '1890': 3592, '1891': 3685, '1892': 4232, '1893': 4505, '1894': 4330, '1895': 5891, '1896': 6178, '1897': 5475, '1898': 5743, '1899': 9146, '1900': 8324, '1902': 6212, '1903': 6364, '1904': 6105, '1905': 5358, '1906': 6228, '1907': 5879, '1908': 6060, '1909': 6617, '1910': 7030, '1911': 6102, '1912': 6066, '1913': 5409, '1915': 4644, '1916': 4578, '1917': 5138, '1918': 3783, '1919': 4899, '1921': 4828, '1924': 3680, '1925': 4231, '1929': 4378, '1930': 4356, '1931': 3771, '1933': 2929, '1936': 3286, '1938': 3072, '1940': 2967, '1941': 2660, '1942': 2361, '1944': 2492, '1945': 2663, '1946': 3718, '1947': 3903, '1948': 3844, '1949': 3751, '1950': 4471, '1951': 4514, '1953': 4402, '1954': 4743, '1955': 4793, '1956': 4658, '1957': 5022, '1958': 4876, '1959': 5148, '1960': 5765, '1961': 6126, '1963': 6680, '1964': 5778, '1965': 6619, '1966': 6695, '1968': 8419, '1969': 8777, '1970': 8879, '1971': 7876, '1974': 8182, '1975': 8500, '1976': 9448, '1977': 9580, '1978': 9900, '1979': 10320, '1980': 10780, '1981': 11717, '1982': 12553, '1983': 13164, '1984': 14372, '1985': 15358, '1986': 16729, '1987': 18188, '1988': 19154, '1989': 20858, '1990': 22274, '1991': 22556, '1992': 23767, '1993': 24124, '1994': 25412, '1995': 26105, '1996': 26946, '1997': 28261, '1998': 29849, '1999': 32717, '2000': 48056, '2001': 49786, '2002': 54930, '2003': 60441, '2004': 68164, '2005': 64073, '2006': 73175, '2007': 81310, '2008': 98183, '2009': 109875, '2010': 115499, '2011': 151000, '2012': 187162, '2013': 180273, '2014': 226371, '2015': 175455, '2016': 155565, '2017': 175597, '2018': 164628, '2019': 165439, '1826': 613, '1828': 543, '1829': 564, '1830': 753, '1831': 646, '1836': 884, '1839': 930, '1843': 825, '1848': 1071, '1850': 1175, '1860': 1606, '1861': 1017, '1863': 1194, '1867': 1917, '1882': 2046, '1887': 2890, '1901': 7330, '1914': 4916, '1927': 4401, '1932': 3360, '1967': 7537, '1973': 8011, '1772': 20, '1782': 37, '1784': 49, '1789': 83, '1824': 586, '1865': 1585, '1934': 3144, '1937': 3386, '1972': 7674, '1857': 1435, '1667': 5, '1684': 5, '1704': 10, '1705': 6, '1710': 11, '1726': 32, '1727': 25, '1749': 42, '1752': 25, '1754': 19, '1768': 20, '1769': 25, '1791': 38, '1793': 69, '1798': 69, '1799': 66, '1800': 222, '1802': 107, '1803': 121, '1805': 103, '1807': 182, '1808': 165, '1809': 254, '1810': 398, '1811': 208, '1812': 322, '1813': 251, '1814': 213, '1815': 269, '1816': 202, '1817': 221, '1818': 335, '1819': 329, '1820': 546, '1821': 316, '1822': 602, '1823': 485, '1825': 596, '1827': 594, '1832': 939, '1833': 892, '1834': 799, '1835': 851, '1837': 901, '1840': 949, '1841': 1004, '1842': 1046, '1844': 962, '1845': 1165, '1846': 1098, '1847': 1079, '1851': 971, '1852': 1282, '1854': 1240, '1859': 1321, '1864': 1471, '1873': 1724, '1881': 2316, '1883': 2947, '1920': 5878, '1922': 6026, '1923': 4243, '1926': 4117, '1928': 4147, '1935': 3406, '1939': 2896, '1943': 2135, '1952': 5633, '1962': 6094, '1716': 8, '1720': 25, '1722': 15, '1723': 9, '1725': 9, '1733': 10, '1737': 14, '1739': 11, '1742': 22, '1747': 35, '1751': 24, '1755': 22, '1757': 27, '1760': 8, '1761': 20, '1763': 12, '1770': 28, '1771': 19, '1773': 27, '1775': 25, '1776': 15, '1777': 19, '1780': 29, '1781': 16, '1785': 26, '1786': 23, '1788': 40, '1790': 51, '1792': 50, '1794': 71, '1795': 53, '1796': 81, '1797': 69, '1801': 107, '1804': 112, '1806': 186, '1587': 2, '1594': 2, '1595': 1, '1597': 2, '1598': 3, '1600': 4, '1603': 3, '1604': 2, '1609': 1, '1623': 2, '1627': 2, '1629': 1, '1631': 1, '1632': 2, '1633': 1, '1640': 1, '1643': 1, '1647': 2, '1650': 2, '1652': 4, '1660': 1, '1661': 2, '1662': 1, '1668': 1, '1669': 1, '1671': 3, '1673': 3, '1675': 5, '1677': 1, '1678': 1, '1679': 3, '1680': 1, '1681': 8, '1682': 3, '1683': 2, '1685': 3, '1686': 2, '1687': 1, '1688': 3, '1689': 4, '1690': 1, '1691': 3, '1692': 1, '1693': 1, '1694': 2, '1696': 1, '1697': 1, '1699': 3, '1700': 6, '1701': 6, '1702': 2, '1703': 5, '1706': 9, '1707': 2, '1708': 5, '1709': 2, '1711': 10, '1712': 2, '1713': 4, '1714': 4, '1715': 8, '1717': 3, '1718': 1, '1719': 20, '1721': 6, '1724': 14, '1728': 17, '1729': 8, '1730': 8, '1731': 5, '1732': 11, '1734': 2, '1735': 4, '1736': 7, '1738': 8, '1740': 8, '1741': 13, '1743': 21, '1744': 10, '1745': 6, '1746': 7, '1748': 7, '1750': 15, '1753': 19, '1756': 10, '1758': 6, '1759': 3, '1762': 12, '1764': 9, '1765': 21, '1766': 23, '1767': 32, '1774': 26, '1778': 14, '1779': 29, '1783': 27, '1787': 29}, 'idx': 2}\n",
      "Line 3: {'ngram': 'one', 'freq_tot': 425415966, 'doc_tot': 10860511, 'freq': {'1966': 1059512, '1977': 1247745, '1983': 1723401, '1987': 2334123, '1989': 2565261, '1990': 2824541, '1995': 3196277, '1996': 3375397, '1998': 3616834, '2000': 5776398, '2001': 6011715, '2002': 6583622, '2003': 7355038, '2004': 8030766, '2005': 7609484, '2006': 8502106, '2007': 9553364, '2008': 11301468, '2009': 12624630, '2010': 13337875, '2011': 16447754, '2012': 20208844, '2013': 20705228, '2014': 23931848, '2015': 19703170, '2016': 17915906, '2017': 22014293, '2018': 21055479, '1684': 2246, '1804': 10108, '1823': 73491, '1839': 189815, '1870': 380329, '1876': 369769, '1879': 351205, '1881': 459488, '1886': 453665, '1887': 513696, '1888': 575076, '1896': 926840, '1897': 888063, '1898': 904747, '1900': 1404746, '1901': 1198693, '1920': 876899, '1931': 682812, '1934': 556404, '1948': 656461, '1951': 726828, '1955': 834907, '1967': 1216792, '1970': 1299135, '1972': 1099965, '1973': 1077237, '1974': 1082423, '1975': 1102517, '1976': 1284437, '1978': 1283703, '1979': 1351195, '1980': 1446974, '1984': 1841768, '1985': 1985420, '1986': 2121649, '1991': 2815630, '1992': 2888649, '1993': 2986256, '1994': 3113983, '1997': 3335004, '1999': 3932723, '2019': 20148021, '1587': 386, '1604': 45, '1673': 174, '1681': 385, '1687': 136, '1688': 862, '1692': 91, '1694': 23, '1700': 125, '1703': 316, '1706': 234, '1710': 507, '1717': 235, '1719': 2386, '1720': 2058, '1722': 2280, '1723': 486, '1724': 1167, '1726': 3008, '1727': 2187, '1728': 1074, '1730': 841, '1732': 607, '1733': 1299, '1736': 718, '1737': 1461, '1738': 1619, '1739': 1677, '1740': 1644, '1742': 3326, '1743': 2189, '1744': 1059, '1745': 428, '1746': 791, '1747': 3705, '1748': 829, '1749': 3869, '1750': 2132, '1751': 2296, '1752': 1840, '1753': 969, '1754': 3079, '1755': 2104, '1757': 1333, '1760': 1201, '1761': 1378, '1762': 1068, '1764': 123, '1765': 1295, '1766': 2545, '1767': 1714, '1768': 1645, '1770': 2500, '1772': 1428, '1773': 3097, '1774': 1658, '1775': 1848, '1776': 1602, '1777': 1610, '1779': 1925, '1780': 1758, '1781': 937, '1782': 3505, '1783': 1908, '1784': 5357, '1785': 1588, '1786': 2555, '1787': 2001, '1788': 1474, '1789': 4553, '1790': 8928, '1791': 1936, '1792': 2631, '1793': 3836, '1794': 5195, '1795': 4006, '1796': 8055, '1797': 5559, '1798': 8087, '1799': 3370, '1800': 29490, '1801': 10038, '1802': 7981, '1803': 14304, '1805': 13284, '1806': 23611, '1807': 15528, '1808': 19113, '1809': 30124, '1810': 50751, '1811': 26108, '1812': 68356, '1813': 36791, '1814': 23077, '1815': 34962, '1816': 25469, '1817': 31061, '1818': 46805, '1819': 48959, '1820': 68644, '1821': 59391, '1822': 92717, '1824': 124057, '1825': 92233, '1826': 81094, '1827': 83064, '1828': 92263, '1829': 88245, '1830': 111607, '1831': 99014, '1832': 129416, '1833': 144909, '1834': 142732, '1835': 165420, '1836': 182710, '1837': 180217, '1838': 149427, '1840': 209742, '1841': 236940, '1842': 244300, '1843': 192763, '1844': 224563, '1845': 272650, '1846': 220321, '1847': 230371, '1848': 212131, '1849': 209060, '1850': 243894, '1851': 191554, '1852': 250183, '1853': 228386, '1854': 244159, '1855': 238189, '1856': 290804, '1857': 264677, '1858': 217453, '1859': 257045, '1860': 290229, '1861': 212073, '1862': 202498, '1863': 225010, '1864': 269593, '1865': 309218, '1866': 364440, '1867': 379436, '1868': 433229, '1869': 358565, '1871': 402154, '1872': 347395, '1873': 358322, '1874': 328281, '1875': 357650, '1877': 347723, '1878': 296399, '1880': 401540, '1882': 373211, '1883': 575767, '1884': 467784, '1885': 493172, '1889': 559076, '1890': 623690, '1891': 647663, '1892': 754012, '1893': 743325, '1894': 731352, '1895': 953428, '1899': 1585037, '1902': 959354, '1903': 997061, '1904': 980536, '1905': 845693, '1906': 1038144, '1907': 904971, '1908': 922853, '1909': 1000561, '1910': 1117048, '1911': 916633, '1912': 918864, '1913': 804724, '1914': 755356, '1915': 803921, '1916': 698666, '1917': 894857, '1918': 567685, '1919': 711804, '1921': 722148, '1922': 997270, '1923': 658873, '1924': 541675, '1925': 646152, '1926': 605410, '1927': 702428, '1928': 661779, '1929': 673964, '1930': 691618, '1932': 555807, '1933': 467159, '1935': 578875, '1936': 535240, '1937': 541142, '1938': 498663, '1939': 456018, '1940': 472581, '1941': 434823, '1942': 384763, '1943': 352544, '1944': 403698, '1945': 429592, '1946': 635405, '1947': 646425, '1949': 641652, '1950': 743158, '1952': 1497529, '1953': 723368, '1954': 734639, '1956': 717394, '1957': 756381, '1958': 734027, '1959': 806970, '1960': 885359, '1961': 965494, '1962': 973315, '1963': 969647, '1964': 868589, '1965': 1006599, '1968': 1292767, '1969': 1241866, '1971': 1145368, '1981': 1566908, '1982': 1666011, '1988': 2391137, '1778': 680, '1598': 30, '1594': 50, '1600': 56, '1603': 555, '1609': 20, '1627': 80, '1640': 4, '1647': 28, '1667': 152, '1675': 58, '1678': 141, '1679': 165, '1682': 118, '1683': 209, '1685': 339, '1689': 135, '1690': 23, '1696': 62, '1699': 69, '1701': 111, '1704': 568, '1705': 154, '1708': 280, '1709': 235, '1711': 338, '1712': 3, '1713': 37, '1714': 316, '1715': 433, '1716': 1875, '1718': 96, '1721': 214, '1725': 157, '1729': 236, '1731': 298, '1734': 21, '1735': 144, '1741': 887, '1756': 2128, '1758': 315, '1759': 465, '1763': 957, '1769': 1619, '1771': 2376, '1595': 77, '1629': 25, '1631': 40, '1633': 12, '1650': 180, '1660': 52, '1661': 19, '1668': 11, '1671': 20, '1680': 49, '1693': 6, '1702': 26, '1707': 21, '1578': 2, '1583': 1, '1597': 27, '1622': 1, '1632': 4, '1643': 3, '1652': 16, '1662': 6, '1669': 1, '1677': 1, '1686': 17, '1691': 16, '1697': 2}, 'doc': {'1966': 23864, '1977': 32853, '1983': 43497, '1987': 59268, '1989': 67881, '1990': 71668, '1995': 83152, '1996': 86728, '1998': 95867, '2000': 153256, '2001': 159236, '2002': 174447, '2003': 191858, '2004': 215864, '2005': 203433, '2006': 229841, '2007': 254797, '2008': 307670, '2009': 343082, '2010': 359934, '2011': 468065, '2012': 580949, '2013': 556299, '2014': 693521, '2015': 541926, '2016': 482753, '2017': 543527, '2018': 521496, '1684': 16, '1804': 337, '1823': 1438, '1839': 2997, '1870': 5578, '1876': 6486, '1879': 6792, '1881': 7927, '1886': 8309, '1887': 9936, '1888': 10338, '1896': 20272, '1897': 18429, '1898': 19143, '1900': 27477, '1901': 23853, '1920': 19705, '1931': 13012, '1934': 10833, '1948': 13360, '1951': 15601, '1955': 16481, '1967': 26170, '1970': 30710, '1972': 26921, '1973': 28264, '1974': 28339, '1975': 28891, '1976': 32353, '1978': 33879, '1979': 34558, '1980': 36300, '1984': 47791, '1985': 50084, '1986': 54359, '1991': 72723, '1992': 76858, '1993': 77957, '1994': 81386, '1997': 90723, '1999': 104795, '2019': 533966, '1587': 6, '1604': 6, '1673': 13, '1681': 20, '1687': 6, '1688': 15, '1692': 7, '1694': 9, '1700': 15, '1703': 12, '1706': 21, '1710': 26, '1717': 8, '1719': 50, '1720': 73, '1722': 65, '1723': 30, '1724': 42, '1726': 88, '1727': 80, '1728': 48, '1730': 29, '1732': 31, '1733': 23, '1736': 22, '1737': 34, '1738': 28, '1739': 29, '1740': 32, '1742': 64, '1743': 61, '1744': 36, '1745': 18, '1746': 28, '1747': 116, '1748': 23, '1749': 126, '1750': 43, '1751': 76, '1752': 78, '1753': 50, '1754': 52, '1755': 60, '1757': 69, '1760': 31, '1761': 64, '1762': 31, '1764': 18, '1765': 65, '1766': 73, '1767': 89, '1768': 54, '1770': 76, '1772': 53, '1773': 80, '1774': 73, '1775': 60, '1776': 47, '1777': 57, '1779': 86, '1780': 72, '1781': 33, '1782': 113, '1783': 94, '1784': 141, '1785': 68, '1786': 68, '1787': 84, '1788': 99, '1789': 200, '1790': 193, '1791': 95, '1792': 132, '1793': 188, '1794': 198, '1795': 157, '1796': 220, '1797': 230, '1798': 193, '1799': 173, '1800': 660, '1801': 341, '1802': 294, '1803': 392, '1805': 335, '1806': 558, '1807': 550, '1808': 504, '1809': 787, '1810': 1249, '1811': 616, '1812': 1030, '1813': 830, '1814': 602, '1815': 852, '1816': 638, '1817': 758, '1818': 1077, '1819': 1061, '1820': 1679, '1821': 995, '1822': 1927, '1824': 1804, '1825': 1982, '1826': 1949, '1827': 1767, '1828': 1808, '1829': 1735, '1830': 2379, '1831': 2005, '1832': 2883, '1833': 2729, '1834': 2515, '1835': 2803, '1836': 2930, '1837': 2981, '1838': 2288, '1840': 3107, '1841': 3320, '1842': 3426, '1843': 2729, '1844': 3268, '1845': 3876, '1846': 3678, '1847': 3635, '1848': 3504, '1849': 3610, '1850': 3880, '1851': 3282, '1852': 4277, '1853': 4364, '1854': 4165, '1855': 4179, '1856': 5119, '1857': 4674, '1858': 3863, '1859': 4415, '1860': 5259, '1861': 3368, '1862': 3392, '1863': 3962, '1864': 4789, '1865': 5425, '1866': 6250, '1867': 6292, '1868': 6471, '1869': 5554, '1871': 6433, '1872': 5948, '1873': 5911, '1874': 5897, '1875': 6235, '1877': 6262, '1878': 5913, '1880': 6740, '1882': 7001, '1883': 9993, '1884': 8897, '1885': 8829, '1889': 9813, '1890': 12043, '1891': 12277, '1892': 14202, '1893': 14726, '1894': 14271, '1895': 19599, '1899': 30115, '1902': 20226, '1903': 21169, '1904': 20783, '1905': 18318, '1906': 20862, '1907': 19926, '1908': 20201, '1909': 21806, '1910': 23721, '1911': 20442, '1912': 20537, '1913': 18530, '1914': 16750, '1915': 16331, '1916': 15567, '1917': 17982, '1918': 12865, '1919': 16687, '1921': 16445, '1922': 20752, '1923': 14925, '1924': 12996, '1925': 14616, '1926': 14288, '1927': 15238, '1928': 14423, '1929': 15058, '1930': 14979, '1932': 11867, '1933': 10048, '1935': 11807, '1936': 11120, '1937': 11641, '1938': 10946, '1939': 10141, '1940': 10139, '1941': 9303, '1942': 8226, '1943': 7508, '1944': 8686, '1945': 9276, '1946': 12797, '1947': 13496, '1949': 13047, '1950': 15253, '1952': 19577, '1953': 15356, '1954': 16339, '1956': 15780, '1957': 17219, '1958': 17164, '1959': 17696, '1960': 19832, '1961': 21201, '1962': 21473, '1963': 23347, '1964': 20291, '1965': 23068, '1968': 29424, '1969': 30678, '1971': 27749, '1981': 39196, '1982': 42084, '1988': 62415, '1778': 43, '1598': 11, '1594': 5, '1600': 9, '1603': 8, '1609': 6, '1627': 8, '1640': 2, '1647': 4, '1667': 8, '1675': 8, '1678': 8, '1679': 7, '1682': 10, '1683': 6, '1685': 13, '1689': 12, '1690': 5, '1696': 6, '1699': 7, '1701': 17, '1704': 25, '1705': 11, '1708': 18, '1709': 12, '1711': 30, '1712': 3, '1713': 13, '1714': 19, '1715': 25, '1716': 19, '1718': 4, '1721': 16, '1725': 30, '1729': 17, '1731': 14, '1734': 5, '1735': 11, '1741': 40, '1756': 37, '1758': 22, '1759': 15, '1763': 30, '1769': 58, '1771': 53, '1595': 4, '1629': 3, '1631': 4, '1633': 3, '1650': 5, '1660': 4, '1661': 4, '1668': 2, '1671': 9, '1680': 3, '1693': 2, '1702': 8, '1707': 3, '1578': 2, '1583': 1, '1597': 5, '1622': 1, '1632': 4, '1643': 1, '1652': 2, '1662': 2, '1669': 1, '1677': 1, '1686': 2, '1691': 4, '1697': 2}, 'idx': 3}\n",
      "Line 4: {'ngram': 'know', 'freq_tot': 396113538, 'doc_tot': 9671988, 'freq': {'1829': 38029, '1835': 70153, '1870': 211095, '1897': 554143, '1898': 572324, '1911': 600942, '1912': 576403, '1915': 486320, '1916': 440557, '1918': 359223, '1933': 321174, '1934': 379747, '1937': 388126, '1938': 359087, '1940': 338004, '1941': 317793, '1947': 477002, '1951': 566240, '1956': 538205, '1957': 567959, '1966': 648564, '1968': 819907, '1980': 1096749, '1982': 1315214, '1983': 1385047, '1986': 1794112, '1989': 2249454, '1991': 2479966, '1994': 2883562, '1995': 2929582, '1997': 3120001, '2000': 5629561, '2003': 7290708, '2004': 7810593, '2005': 7634147, '2006': 8319452, '2007': 9568777, '2010': 14077696, '2011': 17817428, '2012': 22191205, '2013': 22007492, '2015': 21354233, '2018': 20405136, '1794': 3514, '1866': 221238, '1881': 270850, '1888': 338670, '1893': 487397, '1902': 598253, '1903': 621098, '1919': 508018, '1942': 301597, '1946': 490820, '1950': 569028, '1952': 829394, '1958': 543145, '1961': 668933, '1965': 652976, '1974': 726389, '1975': 745842, '1978': 932720, '1981': 1247918, '1985': 1635107, '1987': 1971246, '1990': 2419562, '1992': 2595518, '1993': 2718945, '1996': 3090410, '1999': 3666097, '2001': 5921755, '2002': 6624840, '2008': 11285303, '2009': 13131620, '2016': 19210322, '2017': 22839508, '2019': 19635184, '1755': 1702, '1791': 1864, '1803': 8006, '1805': 4357, '1806': 9243, '1807': 9854, '1809': 17585, '1812': 22154, '1814': 11455, '1815': 14512, '1816': 13097, '1817': 14071, '1818': 24511, '1819': 20177, '1820': 47889, '1821': 33641, '1822': 45583, '1823': 34471, '1824': 76406, '1826': 41836, '1827': 43636, '1830': 52032, '1831': 48245, '1832': 70430, '1833': 76776, '1836': 80513, '1837': 78103, '1838': 66082, '1839': 92463, '1840': 104129, '1841': 109661, '1842': 114683, '1843': 82007, '1844': 98236, '1845': 116607, '1846': 104474, '1847': 103895, '1848': 106218, '1849': 95741, '1850': 125170, '1851': 89428, '1852': 130924, '1853': 135311, '1854': 130263, '1855': 141078, '1856': 167772, '1857': 151872, '1858': 123121, '1859': 141807, '1860': 159764, '1861': 109456, '1862': 114799, '1865': 180081, '1867': 232527, '1868': 252399, '1869': 201156, '1871': 229996, '1873': 222532, '1874': 195585, '1875': 212982, '1876': 224832, '1877': 213882, '1879': 210943, '1880': 253030, '1883': 336406, '1885': 295891, '1886': 278786, '1887': 304452, '1889': 347984, '1890': 375834, '1891': 389856, '1892': 464090, '1894': 426870, '1895': 607061, '1896': 591406, '1900': 924224, '1901': 767836, '1904': 631000, '1905': 518233, '1906': 651207, '1907': 572081, '1908': 655208, '1909': 640356, '1910': 725650, '1913': 533266, '1914': 493791, '1917': 542972, '1920': 591272, '1921': 485042, '1922': 669687, '1923': 427383, '1924': 351878, '1925': 410806, '1926': 411283, '1927': 456762, '1928': 444787, '1929': 460672, '1930': 465229, '1931': 415336, '1932': 384819, '1936': 400647, '1939': 329403, '1943': 263916, '1944': 299361, '1948': 474632, '1949': 455871, '1953': 555315, '1954': 536547, '1955': 565969, '1959': 563931, '1960': 617262, '1962': 667753, '1963': 663759, '1964': 576941, '1967': 758390, '1969': 839129, '1970': 866923, '1971': 711519, '1972': 728424, '1973': 721311, '1976': 908121, '1979': 997618, '1984': 1497796, '1988': 2048825, '2014': 26573916, '1863': 122717, '1878': 182102, '1884': 286943, '1899': 1011287, '1935': 414038, '1998': 3327958, '1587': 136, '1594': 18, '1604': 24, '1627': 39, '1629': 2, '1640': 9, '1650': 123, '1652': 17, '1661': 4, '1662': 8, '1667': 160, '1671': 50, '1673': 57, '1675': 31, '1678': 105, '1679': 148, '1681': 199, '1682': 107, '1683': 34, '1684': 613, '1685': 436, '1687': 72, '1688': 339, '1689': 50, '1692': 18, '1694': 14, '1696': 25, '1699': 31, '1700': 71, '1701': 40, '1703': 211, '1704': 194, '1705': 55, '1706': 187, '1708': 172, '1709': 114, '1710': 183, '1711': 169, '1713': 51, '1714': 55, '1715': 86, '1716': 178, '1717': 183, '1718': 16, '1719': 1511, '1720': 1519, '1721': 85, '1722': 890, '1723': 162, '1724': 560, '1725': 62, '1726': 1465, '1727': 796, '1728': 851, '1729': 130, '1730': 503, '1731': 67, '1732': 315, '1733': 656, '1734': 15, '1735': 12, '1736': 412, '1737': 633, '1738': 431, '1739': 1074, '1740': 423, '1741': 189, '1742': 2026, '1743': 1161, '1744': 1137, '1745': 162, '1746': 306, '1747': 2419, '1748': 300, '1749': 2929, '1750': 858, '1751': 1020, '1752': 1677, '1753': 477, '1754': 1518, '1756': 352, '1757': 570, '1758': 170, '1759': 78, '1760': 529, '1761': 300, '1762': 353, '1763': 376, '1764': 74, '1765': 842, '1766': 727, '1767': 902, '1768': 832, '1769': 493, '1770': 2167, '1771': 796, '1772': 1303, '1773': 954, '1774': 866, '1775': 1347, '1776': 352, '1777': 744, '1778': 522, '1779': 943, '1780': 1229, '1781': 629, '1782': 2455, '1783': 1116, '1784': 3304, '1785': 1032, '1786': 1238, '1787': 683, '1788': 664, '1789': 2698, '1790': 3848, '1792': 1753, '1793': 2781, '1795': 3009, '1796': 4606, '1797': 2766, '1798': 5033, '1799': 2097, '1800': 17524, '1801': 4830, '1802': 5031, '1804': 5740, '1808': 9022, '1810': 34787, '1811': 14646, '1813': 17841, '1825': 40633, '1828': 39131, '1834': 66469, '1864': 163180, '1872': 210558, '1882': 227704, '1945': 320319, '1977': 885644, '1578': 2, '1603': 33, '1690': 3, '1643': 1, '1680': 49, '1702': 9, '1597': 6, '1600': 38, '1631': 17, '1583': 1, '1595': 7, '1598': 7, '1609': 7, '1647': 12, '1660': 9, '1668': 4, '1677': 2, '1686': 1, '1691': 11, '1693': 6, '1697': 1, '1623': 4, '1633': 1, '1707': 5, '1712': 1}, 'doc': {'1829': 1614, '1835': 2514, '1870': 4659, '1897': 15571, '1898': 16087, '1911': 16818, '1912': 16818, '1915': 13154, '1916': 12371, '1918': 10373, '1933': 8317, '1934': 8860, '1937': 9694, '1938': 8925, '1940': 8462, '1941': 7840, '1947': 11223, '1951': 12999, '1956': 13215, '1957': 14268, '1966': 19094, '1968': 23774, '1980': 29899, '1982': 34774, '1983': 36521, '1986': 46463, '1989': 58557, '1991': 63351, '1994': 71262, '1995': 73049, '1997': 79778, '2000': 136899, '2003': 173099, '2004': 194698, '2005': 184411, '2006': 207815, '2007': 232113, '2010': 329310, '2011': 427059, '2012': 532470, '2013': 511614, '2015': 498885, '2018': 469015, '1794': 182, '1866': 5624, '1881': 6738, '1888': 8612, '1893': 12605, '1902': 17083, '1903': 17552, '1919': 13623, '1942': 6884, '1946': 10757, '1950': 12667, '1952': 16167, '1958': 13922, '1961': 17622, '1965': 18747, '1974': 23123, '1975': 23439, '1978': 27743, '1981': 32662, '1985': 42758, '1987': 50909, '1990': 62049, '1992': 66610, '1993': 68125, '1996': 76896, '1999': 92638, '2001': 142678, '2002': 157565, '2008': 280133, '2009': 313463, '2016': 442993, '2017': 498819, '2019': 469728, '1755': 56, '1791': 98, '1803': 399, '1805': 305, '1806': 526, '1807': 573, '1809': 814, '1812': 1007, '1814': 587, '1815': 815, '1816': 611, '1817': 681, '1818': 1021, '1819': 974, '1820': 1670, '1821': 961, '1822': 1856, '1823': 1465, '1824': 1696, '1826': 1927, '1827': 1676, '1830': 2282, '1831': 1879, '1832': 2671, '1833': 2570, '1836': 2597, '1837': 2567, '1838': 2052, '1839': 2718, '1840': 2905, '1841': 3045, '1842': 3079, '1843': 2342, '1844': 2837, '1845': 3365, '1846': 3078, '1847': 3123, '1848': 2954, '1849': 3051, '1850': 3352, '1851': 2781, '1852': 3581, '1853': 3719, '1854': 3670, '1855': 3618, '1856': 4463, '1857': 4050, '1858': 3388, '1859': 3758, '1860': 4501, '1861': 2840, '1862': 2812, '1865': 4600, '1867': 5445, '1868': 5668, '1869': 4584, '1871': 5567, '1873': 4938, '1874': 4877, '1875': 5300, '1876': 5452, '1877': 5295, '1879': 5643, '1880': 5888, '1883': 8538, '1885': 7555, '1886': 6842, '1887': 8315, '1889': 8225, '1890': 10048, '1891': 10338, '1892': 11905, '1894': 12124, '1895': 16406, '1896': 16960, '1900': 23231, '1901': 20364, '1904': 17121, '1905': 15115, '1906': 17392, '1907': 16550, '1908': 16987, '1909': 18254, '1910': 19948, '1913': 15139, '1914': 13614, '1917': 14530, '1920': 16443, '1921': 13444, '1922': 17023, '1923': 12034, '1924': 10496, '1925': 11827, '1926': 11864, '1927': 12562, '1928': 11973, '1929': 12381, '1930': 12374, '1931': 10590, '1932': 9771, '1936': 9306, '1939': 8248, '1943': 6182, '1944': 7143, '1948': 10948, '1949': 10897, '1953': 12718, '1954': 13554, '1955': 13767, '1959': 14524, '1960': 16358, '1962': 17557, '1963': 19118, '1964': 16281, '1967': 21308, '1969': 25129, '1970': 25081, '1971': 22375, '1972': 21735, '1973': 22739, '1976': 26256, '1979': 28494, '1984': 40256, '1988': 53463, '2014': 641581, '1863': 3479, '1878': 4846, '1884': 7502, '1899': 25792, '1935': 9680, '1998': 84599, '1587': 5, '1594': 5, '1604': 4, '1627': 8, '1629': 1, '1640': 4, '1650': 5, '1652': 10, '1661': 2, '1662': 4, '1667': 12, '1671': 11, '1673': 13, '1675': 11, '1678': 7, '1679': 8, '1681': 21, '1682': 14, '1683': 6, '1684': 19, '1685': 16, '1687': 8, '1688': 11, '1689': 8, '1692': 5, '1694': 7, '1696': 4, '1699': 7, '1700': 18, '1701': 17, '1703': 10, '1704': 31, '1705': 13, '1706': 21, '1708': 19, '1709': 10, '1710': 25, '1711': 27, '1713': 15, '1714': 18, '1715': 26, '1716': 20, '1717': 8, '1718': 4, '1719': 47, '1720': 67, '1721': 14, '1722': 47, '1723': 28, '1724': 38, '1725': 17, '1726': 81, '1727': 80, '1728': 43, '1729': 18, '1730': 26, '1731': 10, '1732': 23, '1733': 25, '1734': 5, '1735': 8, '1736': 16, '1737': 34, '1738': 25, '1739': 31, '1740': 24, '1741': 37, '1742': 60, '1743': 66, '1744': 38, '1745': 15, '1746': 25, '1747': 111, '1748': 23, '1749': 120, '1750': 49, '1751': 67, '1752': 77, '1753': 59, '1754': 48, '1756': 33, '1757': 57, '1758': 18, '1759': 11, '1760': 29, '1761': 44, '1762': 30, '1763': 26, '1764': 16, '1765': 51, '1766': 64, '1767': 89, '1768': 64, '1769': 57, '1770': 86, '1771': 59, '1772': 52, '1773': 74, '1774': 71, '1775': 59, '1776': 34, '1777': 55, '1778': 40, '1779': 78, '1780': 69, '1781': 38, '1782': 99, '1783': 91, '1784': 128, '1785': 68, '1786': 64, '1787': 72, '1788': 79, '1789': 191, '1790': 142, '1792': 132, '1793': 178, '1795': 171, '1796': 227, '1797': 197, '1798': 203, '1799': 167, '1800': 587, '1801': 315, '1802': 327, '1804': 336, '1808': 470, '1810': 1181, '1811': 593, '1813': 816, '1825': 1852, '1828': 1690, '1834': 2278, '1864': 4164, '1872': 5074, '1882': 5817, '1945': 7637, '1977': 26606, '1578': 2, '1603': 6, '1690': 2, '1643': 1, '1680': 5, '1702': 8, '1597': 3, '1600': 11, '1631': 3, '1583': 1, '1595': 2, '1598': 4, '1609': 3, '1647': 4, '1660': 4, '1668': 3, '1677': 2, '1686': 1, '1691': 5, '1693': 2, '1697': 1, '1623': 4, '1633': 1, '1707': 3, '1712': 1}, 'idx': 4}\n",
      "Line 5: {'ngram': 'could', 'freq_tot': 358573854, 'doc_tot': 2960390, 'freq': {'1688': 237, '1737': 627, '1785': 1866, '1819': 21600, '1822': 49076, '1833': 86574, '1835': 78236, '1837': 85127, '1846': 108548, '1848': 102632, '1850': 122180, '1853': 127481, '1857': 148498, '1859': 132320, '1864': 153415, '1867': 195719, '1868': 226087, '1870': 197722, '1874': 178991, '1879': 185622, '1881': 227641, '1885': 238772, '1886': 238655, '1889': 310893, '1890': 329796, '1891': 331254, '1892': 404969, '1893': 405472, '1894': 356707, '1895': 502137, '1896': 486783, '1897': 462127, '1899': 837363, '1900': 762236, '1902': 495210, '1903': 516339, '1904': 500071, '1905': 419764, '1906': 554237, '1909': 520799, '1910': 593288, '1911': 519389, '1912': 456094, '1913': 433117, '1914': 393762, '1916': 354681, '1917': 435823, '1918': 291775, '1919': 411977, '1920': 476033, '1921': 381265, '1922': 534677, '1923': 353486, '1924': 297608, '1928': 377995, '1929': 400148, '1930': 404863, '1931': 354712, '1932': 336295, '1935': 371043, '1936': 351167, '1937': 353673, '1939': 290394, '1941': 284288, '1942': 266226, '1943': 230964, '1944': 275204, '1945': 282851, '1946': 434627, '1947': 435814, '1950': 490616, '1951': 498945, '1952': 679304, '1953': 505419, '1954': 478037, '1955': 491710, '1956': 473502, '1957': 507906, '1958': 477655, '1959': 516251, '1960': 563834, '1961': 624757, '1962': 594215, '1963': 620739, '1964': 517700, '1965': 609971, '1966': 604658, '1967': 706052, '1968': 748539, '1969': 747081, '1970': 785636, '1971': 655694, '1972': 662361, '1973': 673460, '1974': 696432, '1975': 696144, '1976': 830700, '1977': 830018, '1978': 870790, '1979': 938734, '1980': 1015464, '1981': 1152610, '1982': 1216364, '1983': 1278938, '1984': 1379912, '1985': 1522863, '1986': 1667606, '1987': 1832120, '1988': 1903984, '1989': 2061085, '1990': 2224384, '1991': 2298812, '1992': 2427949, '1993': 2506803, '1994': 2652271, '1995': 2697294, '1996': 2808222, '1997': 2844978, '1998': 3044246, '1999': 3322803, '2000': 5035157, '2001': 5331121, '2002': 5895096, '2003': 6486288, '2004': 6957584, '2005': 6729361, '2006': 7463025, '2007': 8624470, '2008': 10097555, '2009': 11822456, '2010': 12998064, '2011': 16380576, '2012': 20424276, '2013': 20048888, '2014': 24382777, '2015': 19304215, '2016': 17376449, '2017': 20539850, '2018': 18223904, '2019': 18547945, '1862': 106973, '1882': 209368, '1888': 291516, '1907': 469658, '1925': 358717, '1948': 429226, '1908': 505502, '1714': 45, '1726': 2788, '1773': 1358, '1790': 6104, '1795': 2973, '1796': 6069, '1798': 4426, '1800': 16905, '1804': 5556, '1805': 5344, '1806': 9605, '1810': 34921, '1811': 13910, '1816': 13247, '1818': 23862, '1820': 45703, '1821': 36111, '1825': 45808, '1827': 51532, '1830': 58422, '1840': 109959, '1841': 112930, '1843': 82241, '1845': 123368, '1849': 102312, '1851': 90496, '1852': 130396, '1854': 120750, '1855': 132549, '1856': 154706, '1860': 152340, '1863': 117073, '1866': 192125, '1869': 186814, '1871': 220040, '1872': 194613, '1873': 203140, '1875': 191419, '1876': 196912, '1877': 195224, '1878': 163140, '1880': 228229, '1883': 290853, '1884': 245368, '1887': 261475, '1898': 480192, '1901': 597684, '1915': 385903, '1926': 360298, '1927': 395918, '1933': 288404, '1934': 336638, '1940': 307142, '1949': 394035, '1836': 88811, '1758': 179, '1834': 79679, '1749': 2000, '1823': 35111, '1839': 89005, '1594': 16, '1603': 30, '1604': 16, '1650': 81, '1667': 69, '1671': 13, '1679': 92, '1684': 1114, '1685': 125, '1689': 30, '1703': 109, '1704': 219, '1705': 60, '1706': 186, '1708': 180, '1709': 115, '1710': 242, '1711': 233, '1717': 95, '1718': 10, '1719': 2686, '1720': 1014, '1722': 1275, '1723': 157, '1724': 232, '1727': 1218, '1728': 768, '1729': 91, '1730': 705, '1732': 240, '1733': 1041, '1736': 520, '1738': 382, '1739': 360, '1742': 2723, '1743': 1177, '1744': 532, '1746': 343, '1747': 2167, '1748': 391, '1750': 1006, '1751': 1591, '1752': 1602, '1753': 1320, '1754': 1061, '1755': 1530, '1756': 705, '1757': 1460, '1760': 1356, '1761': 234, '1762': 486, '1763': 344, '1764': 97, '1765': 1409, '1766': 1205, '1767': 934, '1768': 853, '1769': 544, '1770': 2088, '1771': 1306, '1772': 1056, '1774': 1344, '1775': 1257, '1776': 418, '1777': 1156, '1778': 384, '1779': 1023, '1780': 1210, '1781': 765, '1782': 3213, '1783': 1504, '1784': 5029, '1786': 1742, '1787': 614, '1788': 844, '1789': 3816, '1791': 1775, '1792': 2130, '1793': 2881, '1794': 3425, '1797': 3354, '1799': 2437, '1801': 5482, '1802': 6278, '1803': 7118, '1807': 6596, '1808': 10345, '1809': 16709, '1812': 26550, '1813': 13927, '1814': 14656, '1815': 17639, '1817': 15866, '1824': 75190, '1826': 42929, '1828': 42216, '1829': 46670, '1831': 56745, '1832': 82480, '1838': 68116, '1842': 116197, '1844': 100811, '1847': 114279, '1858': 114544, '1861': 99978, '1865': 157456, '1938': 322340, '1587': 122, '1595': 2, '1597': 5, '1598': 1, '1600': 9, '1623': 3, '1626': 1, '1627': 24, '1629': 9, '1631': 27, '1640': 2, '1643': 1, '1647': 3, '1652': 8, '1660': 4, '1661': 5, '1662': 3, '1668': 10, '1673': 26, '1675': 21, '1678': 66, '1680': 2, '1681': 108, '1682': 80, '1683': 33, '1686': 4, '1687': 2, '1691': 20, '1692': 20, '1693': 2, '1694': 3, '1696': 3, '1699': 50, '1700': 18, '1701': 7, '1702': 8, '1707': 14, '1713': 14, '1715': 102, '1716': 350, '1721': 70, '1725': 41, '1731': 153, '1734': 3, '1735': 6, '1740': 473, '1741': 185, '1745': 184, '1759': 98}, 'doc': {'1688': 4, '1737': 13, '1785': 25, '1819': 269, '1822': 516, '1833': 698, '1835': 722, '1837': 756, '1846': 910, '1848': 853, '1850': 963, '1853': 1079, '1857': 1196, '1859': 1060, '1864': 1224, '1867': 1519, '1868': 1584, '1870': 1321, '1874': 1422, '1879': 1640, '1881': 1926, '1885': 2193, '1886': 1979, '1889': 2356, '1890': 2896, '1891': 3018, '1892': 3456, '1893': 3658, '1894': 3519, '1895': 4802, '1896': 5001, '1897': 4464, '1899': 7286, '1900': 6805, '1902': 4988, '1903': 5138, '1904': 4954, '1905': 4435, '1906': 5110, '1909': 5277, '1910': 5729, '1911': 4955, '1912': 4958, '1913': 4429, '1914': 3972, '1916': 3661, '1917': 4180, '1918': 3045, '1919': 4006, '1920': 4771, '1921': 3906, '1922': 4916, '1923': 3455, '1924': 3047, '1928': 3479, '1929': 3668, '1930': 3599, '1931': 3126, '1932': 2834, '1935': 2820, '1936': 2700, '1937': 2827, '1939': 2397, '1941': 2221, '1942': 2034, '1943': 1809, '1944': 2147, '1945': 2251, '1946': 3146, '1947': 3320, '1950': 3758, '1951': 3788, '1952': 4590, '1953': 3757, '1954': 3985, '1955': 3989, '1956': 3825, '1957': 4216, '1958': 4050, '1959': 4308, '1960': 4781, '1961': 5146, '1962': 5140, '1963': 5603, '1964': 4777, '1965': 5511, '1966': 5580, '1967': 6176, '1968': 6890, '1969': 7308, '1970': 7330, '1971': 6534, '1972': 6397, '1973': 6754, '1974': 6869, '1975': 7033, '1976': 7906, '1977': 8098, '1978': 8338, '1979': 8575, '1980': 8994, '1981': 9856, '1982': 10638, '1983': 11149, '1984': 12241, '1985': 13190, '1986': 14333, '1987': 15611, '1988': 16486, '1989': 18062, '1990': 19289, '1991': 19479, '1992': 20595, '1993': 20950, '1994': 21991, '1995': 22699, '1996': 23453, '1997': 24595, '1998': 26038, '1999': 28543, '2000': 42018, '2001': 43605, '2002': 48227, '2003': 52647, '2004': 59497, '2005': 56224, '2006': 63965, '2007': 71375, '2008': 85802, '2009': 96151, '2010': 101894, '2011': 133366, '2012': 166114, '2013': 159195, '2014': 200741, '2015': 154473, '2016': 137863, '2017': 155168, '2018': 144223, '2019': 144919, '1862': 838, '1882': 1675, '1888': 2516, '1907': 4842, '1925': 3492, '1948': 3207, '1908': 4891, '1714': 6, '1726': 28, '1773': 21, '1790': 48, '1795': 51, '1796': 72, '1798': 59, '1800': 183, '1804': 101, '1805': 91, '1806': 156, '1810': 319, '1811': 167, '1816': 179, '1818': 287, '1820': 469, '1821': 255, '1825': 521, '1827': 492, '1830': 639, '1840': 754, '1841': 843, '1843': 666, '1845': 970, '1849': 877, '1851': 775, '1852': 1053, '1854': 1010, '1855': 1049, '1856': 1257, '1860': 1321, '1863': 1003, '1866': 1565, '1869': 1348, '1871': 1545, '1872': 1471, '1873': 1454, '1875': 1539, '1876': 1625, '1877': 1600, '1878': 1411, '1880': 1662, '1883': 2449, '1884': 2158, '1887': 2373, '1898': 4605, '1901': 5871, '1915': 3809, '1926': 3402, '1927': 3613, '1933': 2425, '1934': 2599, '1940': 2415, '1949': 3141, '1836': 750, '1758': 5, '1834': 654, '1749': 43, '1823': 407, '1839': 769, '1594': 2, '1603': 3, '1604': 2, '1650': 2, '1667': 3, '1671': 2, '1679': 3, '1684': 4, '1685': 3, '1689': 5, '1703': 4, '1704': 11, '1705': 5, '1706': 9, '1708': 5, '1709': 3, '1710': 11, '1711': 9, '1717': 4, '1718': 2, '1719': 15, '1720': 19, '1722': 13, '1723': 9, '1724': 10, '1727': 21, '1728': 13, '1729': 6, '1730': 4, '1732': 6, '1733': 7, '1736': 5, '1738': 6, '1739': 8, '1742': 19, '1743': 18, '1744': 8, '1746': 6, '1747': 31, '1748': 7, '1750': 19, '1751': 19, '1752': 22, '1753': 17, '1754': 13, '1755': 19, '1756': 11, '1757': 17, '1760': 11, '1761': 16, '1762': 10, '1763': 9, '1764': 7, '1765': 18, '1766': 17, '1767': 25, '1768': 16, '1769': 19, '1770': 22, '1771': 18, '1772': 14, '1774': 20, '1775': 19, '1776': 13, '1777': 15, '1778': 10, '1779': 26, '1780': 26, '1781': 12, '1782': 35, '1783': 26, '1784': 46, '1786': 22, '1787': 25, '1788': 33, '1789': 70, '1791': 30, '1792': 46, '1793': 55, '1794': 63, '1797': 56, '1799': 47, '1801': 98, '1802': 97, '1803': 106, '1807': 161, '1808': 147, '1809': 219, '1812': 284, '1813': 225, '1814': 173, '1815': 228, '1817': 191, '1824': 454, '1826': 530, '1828': 447, '1829': 451, '1831': 524, '1832': 762, '1838': 585, '1842': 851, '1844': 784, '1847': 905, '1858': 945, '1861': 811, '1865': 1347, '1938': 2587, '1587': 1, '1595': 1, '1597': 1, '1598': 1, '1600': 2, '1623': 2, '1626': 1, '1627': 2, '1629': 1, '1631': 1, '1640': 1, '1643': 1, '1647': 1, '1652': 3, '1660': 1, '1661': 2, '1662': 1, '1668': 1, '1673': 3, '1675': 3, '1678': 1, '1680': 1, '1681': 5, '1682': 2, '1683': 1, '1686': 1, '1687': 1, '1691': 2, '1692': 1, '1693': 1, '1694': 1, '1696': 1, '1699': 2, '1700': 5, '1701': 2, '1702': 3, '1707': 1, '1713': 4, '1715': 6, '1716': 4, '1721': 3, '1725': 7, '1731': 5, '1734': 1, '1735': 4, '1740': 5, '1741': 9, '1745': 4, '1759': 3}, 'idx': 5}\n"
     ]
    }
   ],
   "source": [
    "print_jsonl_lines(\n",
    "    file_path=(\n",
    "        '/vast/edk202/NLP_corpora/Google_Books/20200217/eng-fiction/'\n",
    "        '1gram_files/6corpus/1gram-corpus-indexed.jsonl.lz4'\n",
    "    ),\n",
    "    start_line=1,\n",
    "    end_line=5,\n",
    "    parse_json=True\n",
    ")"
   ]
  }
 ],
 "metadata": {
  "kernelspec": {
   "display_name": "hist_w2v_env",
   "language": "python",
   "name": "hist_w2v_env"
  },
  "language_info": {
   "codemirror_mode": {
    "name": "ipython",
    "version": 3
   },
   "file_extension": ".py",
   "mimetype": "text/x-python",
   "name": "python",
   "nbconvert_exporter": "python",
   "pygments_lexer": "ipython3",
   "version": "3.12.8"
  }
 },
 "nbformat": 4,
 "nbformat_minor": 5
}
