{
 "cells": [
  {
   "cell_type": "code",
   "execution_count": 9,
   "id": "b50e6a0e-e26c-45d6-977b-15aad5e7477f",
   "metadata": {},
   "outputs": [
    {
     "name": "stdout",
     "output_type": "stream",
     "text": [
      "The autoreload extension is already loaded. To reload it, use:\n",
      "  %reload_ext autoreload\n"
     ]
    }
   ],
   "source": [
    "%load_ext autoreload\n",
    "\n",
    "%autoreload 2"
   ]
  },
  {
   "cell_type": "code",
   "execution_count": 10,
   "id": "b8ffefae-714c-4ff8-b207-230d6d0f63f3",
   "metadata": {},
   "outputs": [],
   "source": [
    "from ngram_tools.download_ngrams import download_ngram_files\n",
    "from ngram_tools.convert_to_jsonl import convert_to_jsonl_files\n",
    "from ngram_tools.lowercase_ngrams import lowercase_ngrams\n",
    "from ngram_tools.lemmatize_ngrams import lemmatize_ngrams\n",
    "from ngram_tools.filter_ngrams import filter_ngrams\n",
    "from ngram_tools.sort_ngrams import sort_ngrams\n",
    "from ngram_tools.consolidate_ngrams import consolidate_duplicate_ngrams\n",
    "from ngram_tools.index_and_create_vocab import index_and_create_vocab_files\n",
    "from ngram_tools.helpers.verify_sort import check_file_sorted\n",
    "from ngram_tools.helpers.print_jsonl_lines import print_jsonl_lines"
   ]
  },
  {
   "cell_type": "markdown",
   "id": "33cdb7cc-0186-4bbc-bc10-22b433eca869",
   "metadata": {
    "editable": true,
    "slideshow": {
     "slide_type": ""
    },
    "tags": []
   },
   "source": [
    "# **Process Unigrams to Generate a Vocabulary File**"
   ]
  },
  {
   "cell_type": "markdown",
   "id": "ecddde54-96c0-4461-a0f7-6ef2bbecd065",
   "metadata": {},
   "source": [
    "## **Goal**: Make a list of the _n_ most common unigrams for later use filtering multigrams"
   ]
  },
  {
   "attachments": {},
   "cell_type": "markdown",
   "id": "195fa408-af40-4c69-b360-018748472598",
   "metadata": {},
   "source": [
    "This workflow is resource-intensive and is probably only practical when run on a computing cluster. On my university's High Performance Computing (HPC) cluster, I request the maximum 14 cores (48 logical processors) and 128G of memory and use a 2T fast-I/O NVMe SSD filespace—and I still run up against time and resource limits. I've designed the code to be efficient, although further optimization is surely possible.\n",
    "\n",
    "The code affords options to conserve resources. Throughout the workflow you can specify `compress=True`, which tells a script to compress its output files. In my experience, there is little downside to using LZ4 compression, since it's very fast and cuts file sizes by about half. Downstream modules will see the `.lz4` extensions and handle the files accordingly. If you know your workflow runs correctly and wish to further conserve space, you can specify `delete_input=True` for many of the scripts; this will delete the source files for a given step once it is complete. The scripts are fairly memory-efficient—with the exception of `sort_ngrams` and `index_and_create_vocab_files`, which sort multiple files in memory at once. When processing multigrams, I've found that allocating more than ~10 workers in these scripts leads to memory exhaustion (with 128G!) and slow processing."
   ]
  },
  {
   "cell_type": "markdown",
   "id": "b97fea36-f682-4a1c-aedc-d905ba30c001",
   "metadata": {},
   "source": [
    "### Download unigrams\n",
    "Here, I'm using the `download_ngrams` module to fetch unigrams appended with part-of-speech (POS) tags (e.g., `_VERB`). Although you can specify `ngram_type='untagged'`, POS tags are necessary to lemmatize the tokens. Specify the number of parallel processes you wish to use by setting `workers` (the default is all available processors). Note the `repo_release_id` and `repo_corpus_id` parameters; these tell the module which ngram corpus and release to download."
   ]
  },
  {
   "cell_type": "code",
   "execution_count": 3,
   "id": "25bd2f2a-e4fb-4af0-bd94-71ef7c5dcdb9",
   "metadata": {},
   "outputs": [
    {
     "name": "stdout",
     "output_type": "stream",
     "text": [
      "\u001b[31mStart Time:                2025-04-05 20:25:57.254973\n",
      "\u001b[0m\n",
      "\u001b[4mDownload Info\u001b[0m\n",
      "Ngram repository:          https://storage.googleapis.com/books/ngrams/books/20200217/eng-us/eng-us-1-ngrams_exports.html\n",
      "Output directory:          /vast/edk202/NLP_corpora/Google_Books/20200217/eng-us/1gram_files/1download\n",
      "File index range:          0 to 13\n",
      "File URLs available:       14\n",
      "File URLs to use:          14\n",
      "First file to get:         https://storage.googleapis.com/books/ngrams/books/20200217/eng-us/1-00000-of-00014.gz\n",
      "Last file to get:          https://storage.googleapis.com/books/ngrams/books/20200217/eng-us/1-00013-of-00014.gz\n",
      "Ngram size:                1\n",
      "Ngram type:                tagged\n",
      "Number of workers:         48\n",
      "Compress saved files:      False\n",
      "Overwrite existing files:  True\n",
      "\n"
     ]
    },
    {
     "data": {
      "application/vnd.jupyter.widget-view+json": {
       "model_id": "3c03620353a544d3a66f499bf0c9ea0d",
       "version_major": 2,
       "version_minor": 0
      },
      "text/plain": [
       "Downloading:   0%|          | 0/14 [00:00<?, ?files/s]"
      ]
     },
     "metadata": {},
     "output_type": "display_data"
    },
    {
     "name": "stdout",
     "output_type": "stream",
     "text": [
      "\u001b[31m\n",
      "End Time:                  2025-04-05 20:26:21.430271\u001b[0m\n",
      "\u001b[31mTotal runtime:             0:00:24.175298\n",
      "\u001b[0m\n"
     ]
    }
   ],
   "source": [
    "download_ngram_files(\n",
    "    ngram_size=1,\n",
    "    ngram_type='tagged',\n",
    "    repo_release_id='20200217',\n",
    "    repo_corpus_id='eng-us',\n",
    "    proj_dir='/vast/edk202/NLP_corpora/Google_Books/20200217/eng-us',\n",
    "    compress=False,\n",
    "    overwrite=True\n",
    ")"
   ]
  },
  {
   "cell_type": "markdown",
   "id": "799d4fd8-2fe9-4fe3-8a37-20f0e1b81eef",
   "metadata": {},
   "source": [
    "### Convert files from TXT to JSONL\n",
    "This module converts the original unigram files' text data to a more flexible JSON Lines (JSONL) format. Although this increases storage demands, it makes downstream processing more efficient."
   ]
  },
  {
   "cell_type": "code",
   "execution_count": 4,
   "id": "ccf070c7-54bd-44b0-aff7-e86a3b36291e",
   "metadata": {},
   "outputs": [
    {
     "name": "stdout",
     "output_type": "stream",
     "text": [
      "\u001b[31mStart Time:                2025-04-05 20:26:32.159192\n",
      "\u001b[0m\n",
      "\u001b[4mConversion Info\u001b[0m\n",
      "Input directory:           /vast/edk202/NLP_corpora/Google_Books/20200217/eng-us/1gram_files/1download\n",
      "Output directory:          /vast/edk202/NLP_corpora/Google_Books/20200217/eng-us/1gram_files/2convert\n",
      "File index range:          0 to 13\n",
      "Files available:           14\n",
      "Files to use:              14\n",
      "First file to get:         /vast/edk202/NLP_corpora/Google_Books/20200217/eng-us/1gram_files/1download/1-00000-of-00014.txt\n",
      "Last file to get:          /vast/edk202/NLP_corpora/Google_Books/20200217/eng-us/1gram_files/1download/1-00013-of-00014.txt\n",
      "Ngram size:                1\n",
      "Ngram type:                tagged\n",
      "Number of workers:         48\n",
      "Compress output files:     False\n",
      "Overwrite existing files:  True\n",
      "Delete input directory:    False\n",
      "\n"
     ]
    },
    {
     "data": {
      "application/vnd.jupyter.widget-view+json": {
       "model_id": "3fd52d7e06fe45a6be1a5b5bbea26ad9",
       "version_major": 2,
       "version_minor": 0
      },
      "text/plain": [
       "Converting:   0%|          | 0/14 [00:00<?, ?files/s]"
      ]
     },
     "metadata": {},
     "output_type": "display_data"
    },
    {
     "name": "stdout",
     "output_type": "stream",
     "text": [
      "\u001b[31m\n",
      "End Time:                  2025-04-05 20:28:14.470697\u001b[0m\n",
      "\u001b[31mTotal runtime:             0:01:42.311505\n",
      "\u001b[0m\n"
     ]
    }
   ],
   "source": [
    "convert_to_jsonl_files(\n",
    "    ngram_size=1,\n",
    "    ngram_type='tagged',\n",
    "    proj_dir='/vast/edk202/NLP_corpora/Google_Books/20200217/eng-us',\n",
    "    compress=False,\n",
    "    overwrite=True,\n",
    "    delete_input=False\n",
    ")"
   ]
  },
  {
   "cell_type": "markdown",
   "id": "60ad8638-1ed1-4ce6-b864-70e17635a3a8",
   "metadata": {},
   "source": [
    "### Make unigrams all lowercase\n",
    "This module lowercases all characters in the unigrams. Most use cases benefit from this."
   ]
  },
  {
   "cell_type": "code",
   "execution_count": 5,
   "id": "6cc700cf-dba7-40d6-b5f0-e98723af2e14",
   "metadata": {},
   "outputs": [
    {
     "name": "stdout",
     "output_type": "stream",
     "text": [
      "\u001b[31mStart Time:                2025-04-05 20:28:33.554586\n",
      "\u001b[0m\n",
      "\u001b[4mLowercasing Info\u001b[0m\n",
      "Input directory:           /vast/edk202/NLP_corpora/Google_Books/20200217/eng-us/1gram_files/2convert\n",
      "Output directory:          /vast/edk202/NLP_corpora/Google_Books/20200217/eng-us/1gram_files/3lowercase\n",
      "File index range:          0 to 13\n",
      "Files available:           14\n",
      "Files to use:              14\n",
      "First file to get:         /vast/edk202/NLP_corpora/Google_Books/20200217/eng-us/1gram_files/2convert/1-00000-of-00014.jsonl\n",
      "Last file to get:          /vast/edk202/NLP_corpora/Google_Books/20200217/eng-us/1gram_files/2convert/1-00013-of-00014.jsonl\n",
      "Ngram size:                1\n",
      "Number of workers:         48\n",
      "Compress output files:     False\n",
      "Overwrite existing files:  True\n",
      "Delete input directory:    False\n",
      "\n"
     ]
    },
    {
     "data": {
      "application/vnd.jupyter.widget-view+json": {
       "model_id": "ce461e3ba13c45b189f86e6438a14ab9",
       "version_major": 2,
       "version_minor": 0
      },
      "text/plain": [
       "Lowercasing:   0%|          | 0/14 [00:00<?, ?files/s]"
      ]
     },
     "metadata": {},
     "output_type": "display_data"
    },
    {
     "name": "stdout",
     "output_type": "stream",
     "text": [
      "\u001b[31m\n",
      "End Time:                  2025-04-05 20:29:22.536318\u001b[0m\n",
      "\u001b[31mTotal runtime:             0:00:48.981732\n",
      "\u001b[0m\n"
     ]
    }
   ],
   "source": [
    "lowercase_ngrams(\n",
    "    ngram_size=1,\n",
    "    proj_dir='/vast/edk202/NLP_corpora/Google_Books/20200217/eng-us',\n",
    "    compress=False,\n",
    "    overwrite=True,\n",
    "    delete_input=False\n",
    ")"
   ]
  },
  {
   "cell_type": "markdown",
   "id": "8426e48d-76d8-42ff-9e95-7d9c44bdc331",
   "metadata": {},
   "source": [
    "### Lemmatize the unigrams\n",
    "This module lemmatizes the unigrams—that is, reduces them to their base forms. This is desirable for most use cases. Example: `people_NOUN` (\"the people of this land\") will be converted to `person` in the output; `people_VERB` (\"to people this land\") will not. My code uses the [NLTK Lemmatizer](https://www.nltk.org/api/nltk.stem.WordNetLemmatizer.html?highlight=wordnet), which requires requires POS-tagged unigrams. The tags are discarded after lemmatization as they're no longer useful, saving space."
   ]
  },
  {
   "cell_type": "code",
   "execution_count": 6,
   "id": "82eb3d13-9d51-4ea2-8708-9c3eadb3feae",
   "metadata": {},
   "outputs": [
    {
     "name": "stdout",
     "output_type": "stream",
     "text": [
      "\u001b[31mStart Time:                2025-04-05 20:29:37.159819\n",
      "\u001b[0m\n",
      "\u001b[4mLemmatizing Info\u001b[0m\n",
      "Input directory:           /vast/edk202/NLP_corpora/Google_Books/20200217/eng-us/1gram_files/3lowercase\n",
      "Output directory:          /vast/edk202/NLP_corpora/Google_Books/20200217/eng-us/1gram_files/4lemmatize\n",
      "File index range:          0 to 13\n",
      "Files available:           14\n",
      "Files to use:              14\n",
      "First file to get:         /vast/edk202/NLP_corpora/Google_Books/20200217/eng-us/1gram_files/3lowercase/1-00000-of-00014.jsonl\n",
      "Last file to get:          /vast/edk202/NLP_corpora/Google_Books/20200217/eng-us/1gram_files/3lowercase/1-00013-of-00014.jsonl\n",
      "Ngram size:                1\n",
      "Number of workers:         48\n",
      "Compress output files:     False\n",
      "Overwrite existing files:  True\n",
      "Delete input directory:    False\n",
      "\n"
     ]
    },
    {
     "data": {
      "application/vnd.jupyter.widget-view+json": {
       "model_id": "9f86a4892e9a4909b81fb6c704d2d828",
       "version_major": 2,
       "version_minor": 0
      },
      "text/plain": [
       "Lemmatizing:   0%|          | 0/14 [00:00<?, ?files/s]"
      ]
     },
     "metadata": {},
     "output_type": "display_data"
    },
    {
     "name": "stdout",
     "output_type": "stream",
     "text": [
      "\u001b[31m\n",
      "End Time:                  2025-04-05 20:30:30.555406\u001b[0m\n",
      "\u001b[31mTotal runtime:             0:00:53.395587\n",
      "\u001b[0m\n"
     ]
    }
   ],
   "source": [
    "lemmatize_ngrams(\n",
    "    ngram_size=1,\n",
    "    proj_dir='/vast/edk202/NLP_corpora/Google_Books/20200217/eng-us',\n",
    "    compress=False,\n",
    "    overwrite=True,\n",
    "    delete_input=False\n",
    ")"
   ]
  },
  {
   "cell_type": "markdown",
   "id": "dd52fad3-d372-4613-9c36-b153ca004976",
   "metadata": {},
   "source": [
    "### Filter the unigrams\n",
    "This module removes tokens that provide little information about words' semantic context: those that contain numerals (`numerals=True`), nonalphabetic characters (`nonalpha=True`), stopwords (high-frequency, low information tokens like \"the\" and \"into\"; `stops=True`), or short words (those below a certain user-specified character count; here, `min_token_length=3`).\n",
    "\n",
    "You can also specify `min_tokens`—the minumum length of a retained ngram after filtering its tokens. This is mainly intended for use when processing multigrams. However, it's still good to specify `min_tokens=1` for unigrams, as it completely discards the data for any unigram violating our criteria. Empty output files will be deleted."
   ]
  },
  {
   "cell_type": "code",
   "execution_count": 11,
   "id": "68104701-700e-4b0d-8b3e-b69127a75ad0",
   "metadata": {},
   "outputs": [
    {
     "name": "stdout",
     "output_type": "stream",
     "text": [
      "\u001b[31mStart Time:                   2025-04-05 20:50:24.917836\n",
      "\u001b[0m\n",
      "\u001b[4mFiltering Info\u001b[0m\n",
      "Input directory:              /vast/edk202/NLP_corpora/Google_Books/20200217/eng-us/1gram_files/4lemmatize\n",
      "Output directory:             /vast/edk202/NLP_corpora/Google_Books/20200217/eng-us/1gram_files/5filter\n",
      "File index range:             0 to 13\n",
      "Files available:              14\n",
      "Files to use:                 14\n",
      "First file to get:            /vast/edk202/NLP_corpora/Google_Books/20200217/eng-us/1gram_files/4lemmatize/1-00000-of-00014.jsonl\n",
      "Last file to get:             /vast/edk202/NLP_corpora/Google_Books/20200217/eng-us/1gram_files/4lemmatize/1-00013-of-00014.jsonl\n",
      "Ngram size:                   1\n",
      "Number of workers:            48\n",
      "Compress output files:        False\n",
      "Overwrite existing files:     True\n",
      "Delete input directory:       False\n",
      "\n",
      "\u001b[4mFiltering Options\u001b[0m\n",
      "Drop stopwords:               True\n",
      "Drop tokens under:            3 chars\n",
      "Drop tokens with numerals:    True\n",
      "Drop non-alphabetic:          True\n",
      "Drop ngrams under:            1 token(s)\n",
      "Replace tokens:               True\n",
      "\n"
     ]
    },
    {
     "data": {
      "application/vnd.jupyter.widget-view+json": {
       "model_id": "b79a57a92d4a471e8c563114171b724b",
       "version_major": 2,
       "version_minor": 0
      },
      "text/plain": [
       "Filtering:   0%|          | 0/14 [00:00<?, ?files/s]"
      ]
     },
     "metadata": {},
     "output_type": "display_data"
    },
    {
     "name": "stdout",
     "output_type": "stream",
     "text": [
      "\n",
      "\u001b[4mFiltering Results (Dropped)\u001b[0m\n",
      "Stopword tokens:              4993 \n",
      "Short-word tokens:            20751 \n",
      "Tokens with numerals:         9437345 \n",
      "Tokens with non-alpha chars:  1388761\n",
      "Out-of-vocab tokens:          0\n",
      "Entire ngrams:                10851850 \n",
      "\u001b[31m\n",
      "End Time:                  2025-04-05 20:51:08.081778\u001b[0m\n",
      "\u001b[31mTotal runtime:             0:00:43.163942\n",
      "\u001b[0m\n"
     ]
    }
   ],
   "source": [
    "filter_ngrams(\n",
    "    ngram_size=1,\n",
    "    proj_dir='/vast/edk202/NLP_corpora/Google_Books/20200217/eng-us',\n",
    "    numerals=True,\n",
    "    nonalpha=True,\n",
    "    stops=True,\n",
    "    min_token_length=3,\n",
    "    min_tokens=1,\n",
    "    compress=False,\n",
    "    overwrite=True,\n",
    "    replace_unk=True,\n",
    "    delete_input=False\n",
    ")"
   ]
  },
  {
   "cell_type": "markdown",
   "id": "dffd5722-7816-4c68-89a4-6f824ccb3e1a",
   "metadata": {},
   "source": [
    "### Sort and combine the unigram files\n",
    "This modules creates a single, fully-sorted unigram file out of the filtered files. This is crucial for the next step (ngram consolidation; see below).   \n",
    "\n",
    "Sorting a giant file is a resource-hungry process and I've tried to implement an efficient approach that leverages parallelism: We first sort the filtered files in parallel using Python's standard sorting algorithm [Timsort](https://en.wikipedia.org/wiki/Timsort); then, we incrementally [heapsort](https://en.wikipedia.org/wiki/Heapsort) the files in parallel until we get down to 2 files. Finally, we heapsort the final 2 files (necessarily using one processor) to arrive at a single combined and sorted unigram file."
   ]
  },
  {
   "cell_type": "code",
   "execution_count": 13,
   "id": "52e80618-397f-4051-b064-a8b689e77c43",
   "metadata": {},
   "outputs": [
    {
     "name": "stdout",
     "output_type": "stream",
     "text": [
      "\u001b[31mStart Time:                2025-04-05 20:54:51.374121\n",
      "\u001b[0m\n",
      "\u001b[4mSort Info\u001b[0m\n",
      "Input directory:           /vast/edk202/NLP_corpora/Google_Books/20200217/eng-us/1gram_files/5filter\n",
      "Sorted directory:          /vast/edk202/NLP_corpora/Google_Books/20200217/eng-us/1gram_files/temp\n",
      "Temp directory:            /vast/edk202/NLP_corpora/Google_Books/20200217/eng-us/1gram_files/tmp\n",
      "Merged file:               /vast/edk202/NLP_corpora/Google_Books/20200217/eng-us/1gram_files/6corpus/1gram-merged.jsonl\n",
      "Files available:           10\n",
      "First file to get:         /vast/edk202/NLP_corpora/Google_Books/20200217/eng-us/1gram_files/5filter/1-00004-of-00014.jsonl\n",
      "Last file to get:          /vast/edk202/NLP_corpora/Google_Books/20200217/eng-us/1gram_files/5filter/1-00013-of-00014.jsonl\n",
      "Files to use:              10\n",
      "Ngram size:                1\n",
      "Number of workers:         12\n",
      "Compress output files:     False\n",
      "Overwrite existing files:  True\n",
      "Sort key:                  ngram\n",
      "Sort order:                ascending\n",
      "Heap-merge start iter:     1\n",
      "Heap-merge end iter:       None\n",
      "Deleted sorted files:      False\n",
      "\n"
     ]
    },
    {
     "data": {
      "application/vnd.jupyter.widget-view+json": {
       "model_id": "ea71ea69db6548838bfa9225a45175f0",
       "version_major": 2,
       "version_minor": 0
      },
      "text/plain": [
       "Sorting:   0%|          | 0/10 [00:00<?, ?files/s]"
      ]
     },
     "metadata": {},
     "output_type": "display_data"
    },
    {
     "name": "stdout",
     "output_type": "stream",
     "text": [
      "\n",
      "Iteration 1: merging 10 files into 5 chunks using 5 workers.\n",
      "  5 chunk(s) with 2 file(s)\n",
      "\n",
      "Iteration 2: merging 5 files into 2 chunks using 2 workers.\n",
      "  1 chunk(s) with 2 file(s)\n",
      "  1 chunk(s) with 3 file(s)\n",
      "\n",
      "Iteration 3: final merge of 2 files.\n"
     ]
    },
    {
     "data": {
      "application/vnd.jupyter.widget-view+json": {
       "model_id": "a9d83c1138ab4ab98f09a06af58a25d8",
       "version_major": 2,
       "version_minor": 0
      },
      "text/plain": [
       "Merging:   0%|          | 0/15441065 [00:00<?, ?lines/s]"
      ]
     },
     "metadata": {},
     "output_type": "display_data"
    },
    {
     "name": "stdout",
     "output_type": "stream",
     "text": [
      "\n",
      "Merging complete. Final merged file:\n",
      "/vast/edk202/NLP_corpora/Google_Books/20200217/eng-us/1gram_files/6corpus/1gram-merged.jsonl\n",
      "\u001b[31m\n",
      "End Time:                  2025-04-05 21:02:39.314724\u001b[0m\n",
      "\u001b[31mTotal runtime:             0:07:47.940603\n",
      "\u001b[0m\n"
     ]
    }
   ],
   "source": [
    "sort_ngrams(\n",
    "    ngram_size=1,\n",
    "    proj_dir='/vast/edk202/NLP_corpora/Google_Books/20200217/eng-us',\n",
    "    workers=12,\n",
    "    sort_key='ngram',\n",
    "    compress=False,\n",
    "    overwrite=True,\n",
    "    sort_order='ascending',\n",
    "    delete_input=False\n",
    ")"
   ]
  },
  {
   "cell_type": "markdown",
   "id": "5cc33c06-ca7f-4d99-9949-7520ef0e0c98",
   "metadata": {},
   "source": [
    "### Verify sort [OPTIONAL]\n",
    "If we want, we can verify that the output file is correctly sorted. If the script outputs `True`, then the file is sorted. Bear in mind that you need to specify the file path manually here; be sure to use the right file extension based on whether `sort_ngrams` was run with `compress=True`."
   ]
  },
  {
   "cell_type": "code",
   "execution_count": 17,
   "id": "2cfd12d0-5dfc-482e-a145-0306b4e01ab2",
   "metadata": {},
   "outputs": [
    {
     "name": "stdout",
     "output_type": "stream",
     "text": [
      "Lines: 15441065line [02:35, 99058.29line/s] \n",
      "\n",
      "The file is sorted.\n"
     ]
    }
   ],
   "source": [
    "check_file_sorted(\n",
    "    input_file=(\n",
    "        '/vast/edk202/NLP_corpora/Google_Books/20200217/eng-us/'\n",
    "        '1gram_files/6corpus/1gram-merged.jsonl'\n",
    "    ),\n",
    "    field=\"ngram\",\n",
    "    sort_order=\"ascending\"\n",
    ")"
   ]
  },
  {
   "cell_type": "markdown",
   "id": "353a8ec7-38b8-4d5d-8356-1af9f8e26bf9",
   "metadata": {},
   "source": [
    "### Consolidate duplicate unigrams\n",
    "This module consolidates the sorted unigram file. Lowercasing and lemmatizing produce duplicate unigrams. Now that the file is sorted, we can scan through it and consolidate consecutive idential duplicates. This involves summing their overall and yearly frequencies and document counts. It also leads to a much smaller file.\n",
    "\n",
    "`[Runtime with compression:  0:07:33.662163`"
   ]
  },
  {
   "cell_type": "code",
   "execution_count": 18,
   "id": "d8609476-7636-43c6-8945-1eb6b104f999",
   "metadata": {},
   "outputs": [
    {
     "name": "stdout",
     "output_type": "stream",
     "text": [
      "\u001b[31mStart Time:                2025-04-05 21:19:40.172839\n",
      "\u001b[0m\n",
      "\u001b[4mConsolidation Info\u001b[0m\n",
      "Merged file:               /vast/edk202/NLP_corpora/Google_Books/20200217/eng-us/1gram_files/6corpus/1gram-merged.jsonl\n",
      "Corpus file:               /vast/edk202/NLP_corpora/Google_Books/20200217/eng-us/1gram_files/6corpus/1gram-corpus.jsonl\n",
      "Temporary directory:       /vast/edk202/NLP_corpora/Google_Books/20200217/eng-us/1gram_files/temp_chunks\n",
      "Ngram size:                1\n",
      "Number of workers:         48\n",
      "Compress output files:     False\n",
      "Overwrite existing files:  True\n",
      "\n",
      "Created and Sorted: 31 chunks\n",
      "Merged: 31 chunks\n",
      "\n",
      "\u001b[31m\n",
      "End Time:                  2025-04-05 21:23:20.433356\u001b[0m\n",
      "\u001b[31mTotal runtime:             0:03:40.260517\n",
      "\u001b[0m\n"
     ]
    }
   ],
   "source": [
    "consolidate_duplicate_ngrams(\n",
    "    ngram_size=1,\n",
    "    proj_dir='/vast/edk202/NLP_corpora/Google_Books/20200217/eng-us',\n",
    "    lines_per_chunk=500000,\n",
    "    compress=False,\n",
    "    overwrite=True\n",
    ")"
   ]
  },
  {
   "cell_type": "markdown",
   "id": "fc294ed6-399f-4fbd-91e4-8e55e86950d0",
   "metadata": {},
   "source": [
    "### Index unigrams and create vocabulary file\n",
    "Most use cases will require an indexed list of \"valid\" (i.e., reasonably common) vocabulary words. This indexing script serves the dual functions of (1) mapping each unigram to an index number (saved in `/6corpus/1gram-corpus-indexed.jsonl`) and (2) culling this file into a vocabulary list consisting of the _n_ most frequent unigrams (saved in `6corpus/1gram-corpus-vocab_list_match.txt`). The vocabulary file provides a critical means of filtering excessively rare words out of the corpus. Unlike files upstream in the workflow, the vocabulary files are not large and don't need to be compressed."
   ]
  },
  {
   "cell_type": "code",
   "execution_count": 19,
   "id": "e858de53-fe04-4a7d-bab5-9eed5cdf0011",
   "metadata": {},
   "outputs": [
    {
     "name": "stdout",
     "output_type": "stream",
     "text": [
      "\u001b[31mStart Time:                2025-04-05 21:31:34.037914\n",
      "\u001b[0m\n",
      "\u001b[4mIndexing Info\u001b[0m\n",
      "Corpus file:               /vast/edk202/NLP_corpora/Google_Books/20200217/eng-us/1gram_files/6corpus/1gram-corpus.jsonl\n",
      "Indexed file:              /vast/edk202/NLP_corpora/Google_Books/20200217/eng-us/1gram_files/6corpus/1gram-indexed.jsonl\n",
      "Ngram size:                1\n",
      "Number of workers:         48\n",
      "Compress output files:     False\n",
      "Overwrite existing files:  True\n",
      "\n",
      "\u001b[4mVocabulary Info\u001b[0m\n",
      "Vocab size (top N):        80000\n",
      "Match File:                /vast/edk202/NLP_corpora/Google_Books/20200217/eng-us/1gram_files/6corpus/1gram-corpus-vocab_list_match.txt\n",
      "Lookup File:               /vast/edk202/NLP_corpora/Google_Books/20200217/eng-us/1gram_files/6corpus/1gram-corpus-vocab_list_lookup.jsonl\n",
      "\n"
     ]
    },
    {
     "data": {
      "application/vnd.jupyter.widget-view+json": {
       "model_id": "740da6c42bd34547abaca54999e2594d",
       "version_major": 2,
       "version_minor": 0
      },
      "text/plain": [
       "Chunking:   0%|          | 0/8221439 [00:00<?, ?lines/s]"
      ]
     },
     "metadata": {},
     "output_type": "display_data"
    },
    {
     "data": {
      "application/vnd.jupyter.widget-view+json": {
       "model_id": "94db9df906f04885924af49869375e18",
       "version_major": 2,
       "version_minor": 0
      },
      "text/plain": [
       "Sorting:   0%|          | 0/83 [00:00<?, ?chunks/s]"
      ]
     },
     "metadata": {},
     "output_type": "display_data"
    },
    {
     "data": {
      "application/vnd.jupyter.widget-view+json": {
       "model_id": "ffb1ced2450e46fca7530425bc242459",
       "version_major": 2,
       "version_minor": 0
      },
      "text/plain": [
       "Merging:   0%|          | 0/8221439 [00:00<?, ?lines/s]"
      ]
     },
     "metadata": {},
     "output_type": "display_data"
    },
    {
     "data": {
      "application/vnd.jupyter.widget-view+json": {
       "model_id": "5cd98685356f475cb87d9feac3dd9693",
       "version_major": 2,
       "version_minor": 0
      },
      "text/plain": [
       "Indexing:   0%|          | 0/8221439 [00:00<?, ?lines/s]"
      ]
     },
     "metadata": {},
     "output_type": "display_data"
    },
    {
     "name": "stdout",
     "output_type": "stream",
     "text": [
      "\n",
      "Indexed 8221439 lines.\n",
      "Final indexed file: 1gram-corpus-indexed.jsonl\n",
      "Created vocab_list_match and vocab_list_lookup files for top 80000 ngrams.\n",
      "\u001b[31m\n",
      "End Time:                  2025-04-05 21:37:42.289504\u001b[0m\n",
      "\u001b[31mTotal runtime:             0:06:08.251590\n",
      "\u001b[0m\n"
     ]
    }
   ],
   "source": [
    "index_and_create_vocab_files(\n",
    "    ngram_size=1,\n",
    "    proj_dir='/vast/edk202/NLP_corpora/Google_Books/20200217/eng-us',\n",
    "    compress=False,\n",
    "    overwrite=True,\n",
    "    vocab_n=80000\n",
    ")"
   ]
  },
  {
   "cell_type": "markdown",
   "id": "f5142c8d-50fa-4387-9383-f901492bace2",
   "metadata": {},
   "source": [
    "### Verify indexing [OPTIONAL]\n",
    "We can verify that the final indexed file looks right."
   ]
  },
  {
   "cell_type": "code",
   "execution_count": 23,
   "id": "2824a58d-213e-4c4a-8917-78909994239b",
   "metadata": {},
   "outputs": [
    {
     "name": "stdout",
     "output_type": "stream",
     "text": [
      "Line 70000: {'ngram': 'enue', 'freq_tot': 140480, 'doc_tot': 92524, 'freq': {'1501': 2, '1681': 2, '1701': 2, '1717': 1, '1751': 4, '1753': 1, '1759': 2, '1776': 1, '1778': 2, '1789': 13, '1795': 1, '1796': 1, '1798': 3, '1800': 3, '1802': 2, '1804': 3, '1805': 3, '1807': 13, '1808': 53, '1809': 15, '1810': 6, '1811': 7, '1812': 11, '1813': 15, '1814': 5, '1815': 7, '1816': 8, '1817': 9, '1818': 8, '1819': 18, '1820': 3, '1821': 5, '1822': 12, '1823': 8, '1824': 15, '1825': 66, '1826': 12, '1827': 9, '1828': 39, '1829': 42, '1830': 23, '1831': 37, '1832': 245, '1833': 56, '1834': 119, '1835': 109, '1836': 167, '1837': 225, '1838': 49, '1839': 51, '1840': 41, '1841': 97, '1842': 100, '1843': 134, '1844': 635, '1845': 113, '1846': 135, '1847': 105, '1848': 98, '1849': 113, '1850': 122, '1851': 200, '1852': 154, '1853': 217, '1854': 231, '1855': 166, '1856': 154, '1857': 160, '1858': 181, '1859': 225, '1860': 189, '1861': 206, '1862': 113, '1863': 149, '1864': 125, '1865': 118, '1866': 324, '1867': 263, '1868': 529, '1869': 301, '1870': 361, '1871': 300, '1872': 329, '1873': 250, '1874': 347, '1875': 309, '1876': 328, '1877': 360, '1878': 426, '1879': 384, '1880': 317, '1881': 379, '1882': 552, '1883': 370, '1884': 465, '1885': 402, '1886': 527, '1887': 455, '1888': 418, '1889': 540, '1890': 469, '1891': 453, '1892': 505, '1893': 496, '1894': 596, '1895': 613, '1896': 722, '1897': 539, '1898': 562, '1899': 627, '1900': 575, '1901': 716, '1902': 744, '1903': 743, '1904': 600, '1905': 654, '1906': 821, '1907': 728, '1908': 770, '1909': 935, '1910': 840, '1911': 879, '1912': 961, '1913': 1257, '1914': 1113, '1915': 1132, '1916': 1171, '1917': 1134, '1918': 975, '1919': 1143, '1920': 1016, '1921': 1083, '1922': 880, '1923': 536, '1924': 432, '1925': 540, '1926': 428, '1927': 520, '1928': 564, '1929': 501, '1930': 796, '1931': 512, '1932': 629, '1933': 461, '1934': 442, '1935': 562, '1936': 553, '1937': 656, '1938': 469, '1939': 700, '1940': 705, '1941': 692, '1942': 666, '1943': 649, '1944': 523, '1945': 631, '1946': 593, '1947': 801, '1948': 564, '1949': 768, '1950': 678, '1951': 839, '1952': 759, '1953': 796, '1954': 729, '1955': 955, '1956': 716, '1957': 855, '1958': 892, '1959': 925, '1960': 867, '1961': 959, '1962': 764, '1963': 1111, '1964': 744, '1965': 959, '1966': 950, '1967': 1190, '1968': 993, '1969': 1399, '1970': 1192, '1971': 1111, '1972': 1246, '1973': 1909, '1974': 1329, '1975': 1587, '1976': 1277, '1977': 1166, '1978': 1207, '1979': 1379, '1980': 1080, '1981': 1089, '1982': 1222, '1983': 1258, '1984': 979, '1985': 1051, '1986': 1023, '1987': 1099, '1988': 953, '1989': 1089, '1990': 1004, '1991': 1420, '1992': 1473, '1993': 1149, '1994': 1328, '1995': 1721, '1996': 1561, '1997': 1896, '1998': 2117, '1999': 1883, '2000': 2565, '2001': 2210, '2002': 2215, '2003': 2117, '2004': 2154, '2005': 1854, '2006': 2077, '2007': 1888, '2008': 1647, '2009': 1520, '2010': 1493, '2011': 883, '2012': 768, '2013': 659, '2014': 405, '2015': 260, '2016': 264, '2017': 95, '2018': 90, '2019': 58, '1803': 1, '1773': 1, '1801': 1, '1806': 2}, 'doc': {'1501': 1, '1681': 2, '1701': 2, '1717': 1, '1751': 3, '1753': 1, '1759': 2, '1776': 1, '1778': 2, '1789': 8, '1795': 1, '1796': 1, '1798': 3, '1800': 3, '1802': 2, '1804': 2, '1805': 3, '1807': 13, '1808': 5, '1809': 10, '1810': 6, '1811': 7, '1812': 10, '1813': 13, '1814': 5, '1815': 4, '1816': 8, '1817': 8, '1818': 8, '1819': 17, '1820': 3, '1821': 5, '1822': 12, '1823': 8, '1824': 15, '1825': 42, '1826': 11, '1827': 9, '1828': 30, '1829': 33, '1830': 18, '1831': 35, '1832': 197, '1833': 48, '1834': 69, '1835': 64, '1836': 109, '1837': 107, '1838': 41, '1839': 38, '1840': 38, '1841': 58, '1842': 67, '1843': 84, '1844': 120, '1845': 76, '1846': 83, '1847': 65, '1848': 69, '1849': 88, '1850': 99, '1851': 137, '1852': 109, '1853': 137, '1854': 150, '1855': 114, '1856': 99, '1857': 98, '1858': 120, '1859': 117, '1860': 107, '1861': 136, '1862': 81, '1863': 102, '1864': 96, '1865': 95, '1866': 198, '1867': 171, '1868': 247, '1869': 189, '1870': 227, '1871': 172, '1872': 228, '1873': 177, '1874': 238, '1875': 217, '1876': 240, '1877': 207, '1878': 260, '1879': 276, '1880': 235, '1881': 262, '1882': 348, '1883': 222, '1884': 312, '1885': 245, '1886': 299, '1887': 308, '1888': 284, '1889': 372, '1890': 300, '1891': 340, '1892': 343, '1893': 345, '1894': 397, '1895': 475, '1896': 434, '1897': 432, '1898': 464, '1899': 443, '1900': 461, '1901': 550, '1902': 498, '1903': 519, '1904': 430, '1905': 488, '1906': 545, '1907': 538, '1908': 548, '1909': 638, '1910': 582, '1911': 649, '1912': 697, '1913': 741, '1914': 812, '1915': 826, '1916': 745, '1917': 868, '1918': 742, '1919': 827, '1920': 782, '1921': 843, '1922': 691, '1923': 416, '1924': 318, '1925': 397, '1926': 337, '1927': 408, '1928': 374, '1929': 401, '1930': 342, '1931': 354, '1932': 415, '1933': 316, '1934': 356, '1935': 371, '1936': 405, '1937': 491, '1938': 366, '1939': 448, '1940': 440, '1941': 534, '1942': 472, '1943': 467, '1944': 404, '1945': 462, '1946': 454, '1947': 566, '1948': 453, '1949': 605, '1950': 533, '1951': 612, '1952': 566, '1953': 609, '1954': 590, '1955': 717, '1956': 548, '1957': 614, '1958': 589, '1959': 659, '1960': 632, '1961': 686, '1962': 597, '1963': 761, '1964': 604, '1965': 690, '1966': 707, '1967': 806, '1968': 724, '1969': 853, '1970': 825, '1971': 816, '1972': 818, '1973': 928, '1974': 797, '1975': 969, '1976': 963, '1977': 898, '1978': 896, '1979': 870, '1980': 844, '1981': 769, '1982': 835, '1983': 829, '1984': 756, '1985': 798, '1986': 799, '1987': 821, '1988': 714, '1989': 753, '1990': 682, '1991': 764, '1992': 837, '1993': 759, '1994': 862, '1995': 1075, '1996': 929, '1997': 1005, '1998': 915, '1999': 1137, '2000': 1252, '2001': 1225, '2002': 1135, '2003': 1149, '2004': 1161, '2005': 1047, '2006': 1077, '2007': 1098, '2008': 995, '2009': 792, '2010': 638, '2011': 472, '2012': 506, '2013': 486, '2014': 244, '2015': 181, '2016': 205, '2017': 82, '2018': 70, '2019': 54, '1803': 1, '1773': 1, '1801': 1, '1806': 2}, 'idx': 70000}\n",
      "Line 70001: {'ngram': 'typicality', 'freq_tot': 140473, 'doc_tot': 44426, 'freq': {'1832': 37, '1834': 1, '1852': 2, '1855': 5, '1863': 14, '1864': 3, '1866': 4, '1869': 4, '1877': 1, '1880': 2, '1882': 2, '1889': 4, '1890': 9, '1891': 14, '1892': 7, '1895': 1, '1897': 1, '1898': 99, '1899': 6, '1900': 1, '1901': 5, '1902': 13, '1903': 1, '1906': 26, '1907': 7, '1908': 51, '1909': 26, '1910': 5, '1911': 17, '1912': 9, '1913': 7, '1914': 14, '1915': 8, '1917': 5, '1918': 8, '1919': 10, '1920': 13, '1921': 17, '1922': 10, '1923': 3, '1924': 26, '1925': 26, '1926': 34, '1927': 26, '1928': 19, '1929': 57, '1930': 136, '1931': 29, '1932': 36, '1933': 63, '1934': 42, '1935': 79, '1936': 41, '1937': 64, '1938': 58, '1939': 61, '1940': 85, '1941': 3866, '1942': 50, '1943': 72, '1944': 42, '1945': 40, '1946': 45, '1947': 92, '1948': 188, '1949': 387, '1950': 187, '1951': 136, '1952': 171, '1953': 274, '1954': 246, '1955': 201, '1956': 159, '1957': 185, '1958': 157, '1959': 213, '1960': 212, '1961': 294, '1962': 359, '1963': 305, '1964': 514, '1965': 402, '1966': 438, '1967': 397, '1968': 542, '1969': 422, '1970': 800, '1971': 598, '1972': 1588, '1973': 1383, '1974': 937, '1975': 857, '1976': 1306, '1977': 1956, '1978': 1984, '1979': 2083, '1980': 1751, '1981': 2391, '1982': 3244, '1983': 1945, '1984': 1763, '1985': 3573, '1986': 2043, '1987': 2638, '1988': 2583, '1989': 2175, '1990': 2355, '1991': 3489, '1992': 3573, '1993': 3607, '1994': 2567, '1995': 2845, '1996': 2657, '1997': 2470, '1998': 3293, '1999': 3150, '2000': 4259, '2001': 6139, '2002': 5882, '2003': 4548, '2004': 3687, '2005': 3872, '2006': 3211, '2007': 3529, '2008': 4845, '2009': 4454, '2010': 2388, '2011': 1736, '2012': 2345, '2013': 2122, '2014': 1399, '2015': 1278, '2016': 1210, '2017': 1382, '2018': 1194, '2019': 1434, '1881': 1, '1885': 4}, 'doc': {'1832': 14, '1834': 1, '1852': 1, '1855': 5, '1863': 7, '1864': 3, '1866': 2, '1869': 4, '1877': 1, '1880': 2, '1882': 2, '1889': 4, '1890': 9, '1891': 9, '1892': 6, '1895': 1, '1897': 1, '1898': 6, '1899': 6, '1900': 1, '1901': 3, '1902': 13, '1903': 1, '1906': 25, '1907': 5, '1908': 24, '1909': 19, '1910': 4, '1911': 15, '1912': 9, '1913': 5, '1914': 13, '1915': 8, '1917': 5, '1918': 7, '1919': 8, '1920': 13, '1921': 14, '1922': 10, '1923': 3, '1924': 12, '1925': 11, '1926': 9, '1927': 17, '1928': 18, '1929': 33, '1930': 37, '1931': 21, '1932': 31, '1933': 51, '1934': 29, '1935': 53, '1936': 36, '1937': 50, '1938': 50, '1939': 38, '1940': 50, '1941': 191, '1942': 38, '1943': 57, '1944': 42, '1945': 36, '1946': 36, '1947': 49, '1948': 81, '1949': 102, '1950': 89, '1951': 95, '1952': 127, '1953': 142, '1954': 134, '1955': 124, '1956': 132, '1957': 144, '1958': 127, '1959': 156, '1960': 149, '1961': 208, '1962': 240, '1963': 211, '1964': 259, '1965': 288, '1966': 291, '1967': 292, '1968': 383, '1969': 298, '1970': 436, '1971': 338, '1972': 371, '1973': 420, '1974': 419, '1975': 434, '1976': 541, '1977': 593, '1978': 673, '1979': 673, '1980': 614, '1981': 647, '1982': 760, '1983': 693, '1984': 744, '1985': 763, '1986': 734, '1987': 794, '1988': 863, '1989': 837, '1990': 880, '1991': 877, '1992': 922, '1993': 957, '1994': 948, '1995': 965, '1996': 1007, '1997': 926, '1998': 1069, '1999': 1045, '2000': 1120, '2001': 1020, '2002': 1155, '2003': 1200, '2004': 1122, '2005': 1104, '2006': 1014, '2007': 1058, '2008': 1031, '2009': 939, '2010': 792, '2011': 585, '2012': 854, '2013': 840, '2014': 616, '2015': 591, '2016': 561, '2017': 587, '2018': 527, '2019': 406, '1881': 1, '1885': 4}, 'idx': 70001}\n",
      "Line 70002: {'ngram': 'pianissimo', 'freq_tot': 140464, 'doc_tot': 66793, 'freq': {'1810': 1, '1824': 2, '1834': 35, '1842': 28, '1848': 34, '1850': 36, '1851': 37, '1852': 65, '1854': 133, '1855': 114, '1856': 100, '1857': 69, '1859': 143, '1860': 87, '1861': 65, '1864': 63, '1865': 83, '1866': 33, '1870': 71, '1872': 127, '1873': 206, '1875': 197, '1880': 228, '1881': 140, '1886': 191, '1887': 190, '1888': 244, '1889': 260, '1890': 391, '1891': 360, '1894': 324, '1895': 426, '1896': 369, '1903': 677, '1904': 652, '1905': 645, '1906': 716, '1907': 543, '1908': 891, '1909': 805, '1910': 1131, '1911': 859, '1912': 976, '1913': 823, '1914': 883, '1915': 967, '1916': 1208, '1917': 1264, '1918': 1018, '1919': 963, '1920': 1223, '1921': 1062, '1922': 931, '1923': 640, '1924': 430, '1925': 580, '1926': 537, '1927': 535, '1928': 921, '1930': 965, '1931': 656, '1932': 549, '1934': 593, '1935': 998, '1936': 805, '1937': 733, '1938': 710, '1939': 1033, '1941': 843, '1943': 648, '1944': 632, '1945': 743, '1946': 790, '1947': 1235, '1948': 1233, '1949': 900, '1950': 1055, '1951': 1094, '1952': 793, '1953': 933, '1954': 1082, '1955': 990, '1956': 856, '1957': 941, '1958': 878, '1959': 991, '1960': 1190, '1961': 1136, '1962': 1255, '1963': 1329, '1964': 951, '1965': 1057, '1966': 1298, '1967': 1706, '1968': 1455, '1969': 1288, '1970': 1075, '1971': 1106, '1972': 1669, '1973': 1148, '1974': 1022, '1975': 1138, '1976': 1063, '1977': 1172, '1978': 1428, '1979': 1260, '1980': 1816, '1981': 1490, '1982': 1300, '1983': 1333, '1984': 1271, '1985': 1404, '1986': 1491, '1987': 1244, '1988': 1450, '1989': 1468, '1991': 1189, '1992': 1957, '1993': 1516, '1994': 1685, '1995': 1916, '1996': 1170, '1997': 1745, '1998': 1445, '1999': 1550, '2000': 1440, '2001': 1620, '2002': 1948, '2003': 1868, '2004': 1622, '2005': 1794, '2006': 1796, '2007': 1475, '2008': 1650, '2009': 1593, '2011': 938, '2012': 1206, '2014': 1294, '2015': 865, '2016': 1079, '2017': 572, '1700': 51, '1805': 9, '1840': 16, '1846': 39, '1858': 50, '1862': 109, '1867': 128, '1869': 115, '1871': 105, '1874': 122, '1877': 173, '1879': 104, '1882': 210, '1883': 151, '1885': 130, '1892': 249, '1893': 444, '1897': 432, '1898': 486, '1899': 661, '1900': 735, '1901': 610, '1902': 538, '1929': 703, '1933': 482, '1940': 861, '1942': 469, '1990': 1578, '2010': 862, '2013': 1216, '2018': 473, '2019': 706, '1800': 5, '1823': 4, '1827': 6, '1832': 30, '1836': 30, '1838': 19, '1839': 54, '1841': 33, '1847': 48, '1853': 71, '1868': 50, '1876': 174, '1878': 150, '1884': 144, '1826': 4, '1837': 2, '1843': 10, '1863': 66, '1792': 1, '1807': 1, '1808': 2, '1809': 1, '1812': 6, '1816': 3, '1818': 3, '1819': 1, '1821': 3, '1822': 4, '1825': 12, '1828': 5, '1830': 7, '1831': 9, '1833': 33, '1835': 7, '1844': 13, '1845': 32, '1849': 44, '1708': 1, '1829': 2}, 'doc': {'1810': 1, '1824': 2, '1834': 21, '1842': 21, '1848': 32, '1850': 23, '1851': 31, '1852': 36, '1854': 81, '1855': 51, '1856': 40, '1857': 36, '1859': 78, '1860': 41, '1861': 39, '1864': 45, '1865': 39, '1866': 25, '1870': 57, '1872': 91, '1873': 126, '1875': 116, '1880': 119, '1881': 103, '1886': 136, '1887': 139, '1888': 129, '1889': 129, '1890': 188, '1891': 199, '1894': 202, '1895': 272, '1896': 216, '1903': 275, '1904': 295, '1905': 305, '1906': 323, '1907': 293, '1908': 381, '1909': 435, '1910': 524, '1911': 394, '1912': 469, '1913': 404, '1914': 371, '1915': 440, '1916': 464, '1917': 444, '1918': 421, '1919': 401, '1920': 498, '1921': 454, '1922': 422, '1923': 334, '1924': 265, '1925': 354, '1926': 301, '1927': 299, '1928': 335, '1930': 402, '1931': 384, '1932': 246, '1934': 285, '1935': 345, '1936': 365, '1937': 340, '1938': 331, '1939': 427, '1941': 343, '1943': 275, '1944': 284, '1945': 313, '1946': 371, '1947': 470, '1948': 465, '1949': 414, '1950': 434, '1951': 389, '1952': 346, '1953': 457, '1954': 506, '1955': 431, '1956': 467, '1957': 439, '1958': 458, '1959': 461, '1960': 526, '1961': 568, '1962': 607, '1963': 584, '1964': 453, '1965': 503, '1966': 628, '1967': 724, '1968': 640, '1969': 623, '1970': 562, '1971': 606, '1972': 664, '1973': 540, '1974': 504, '1975': 533, '1976': 549, '1977': 602, '1978': 635, '1979': 603, '1980': 920, '1981': 674, '1982': 602, '1983': 644, '1984': 616, '1985': 627, '1986': 644, '1987': 588, '1988': 703, '1989': 741, '1991': 671, '1992': 771, '1993': 703, '1994': 676, '1995': 727, '1996': 684, '1997': 686, '1998': 687, '1999': 755, '2000': 747, '2001': 947, '2002': 872, '2003': 857, '2004': 888, '2005': 952, '2006': 867, '2007': 742, '2008': 803, '2009': 756, '2011': 505, '2012': 638, '2014': 623, '2015': 427, '2016': 428, '2017': 339, '1700': 9, '1805': 4, '1840': 10, '1846': 29, '1858': 29, '1862': 50, '1867': 39, '1869': 52, '1871': 42, '1874': 100, '1877': 89, '1879': 73, '1882': 132, '1883': 117, '1885': 94, '1892': 181, '1893': 225, '1897': 218, '1898': 258, '1899': 301, '1900': 356, '1901': 337, '1902': 251, '1929': 301, '1933': 252, '1940': 407, '1942': 232, '1990': 690, '2010': 486, '2013': 614, '2018': 330, '2019': 335, '1800': 3, '1823': 4, '1827': 5, '1832': 23, '1836': 26, '1838': 11, '1839': 32, '1841': 19, '1847': 37, '1853': 37, '1868': 36, '1876': 126, '1878': 76, '1884': 98, '1826': 4, '1837': 2, '1843': 10, '1863': 47, '1792': 1, '1807': 1, '1808': 2, '1809': 1, '1812': 6, '1816': 3, '1818': 3, '1819': 1, '1821': 3, '1822': 3, '1825': 10, '1828': 5, '1830': 6, '1831': 9, '1833': 32, '1835': 7, '1844': 11, '1845': 28, '1849': 42, '1708': 1, '1829': 2}, 'idx': 70002}\n"
     ]
    }
   ],
   "source": [
    "print_jsonl_lines(\n",
    "    file_path=(\n",
    "        '/vast/edk202/NLP_corpora/Google_Books/20200217/eng-us/'\n",
    "        '1gram_files/6corpus/1gram-corpus-indexed.jsonl'\n",
    "    ),\n",
    "    start_line=70000,\n",
    "    end_line=70002,\n",
    "    parse_json=True\n",
    ")"
   ]
  },
  {
   "cell_type": "markdown",
   "id": "694b77d7-8250-4edc-998d-da6ff9580fab",
   "metadata": {},
   "source": [
    "## Next Steps\n",
    "If you've gotten this far, you're ready to start pre-processing multigrams using the `workflow_multigrams.ipynb` notebook!"
   ]
  }
 ],
 "metadata": {
  "kernelspec": {
   "display_name": "hist_w2v_env",
   "language": "python",
   "name": "hist_w2v_env"
  },
  "language_info": {
   "codemirror_mode": {
    "name": "ipython",
    "version": 3
   },
   "file_extension": ".py",
   "mimetype": "text/x-python",
   "name": "python",
   "nbconvert_exporter": "python",
   "pygments_lexer": "ipython3",
   "version": "3.12.8"
  }
 },
 "nbformat": 4,
 "nbformat_minor": 5
}
