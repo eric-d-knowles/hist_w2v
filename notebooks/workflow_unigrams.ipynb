{
 "cells": [
  {
   "cell_type": "code",
   "execution_count": 1,
   "id": "ad3a5e53-0843-4a9c-b586-97a906f14293",
   "metadata": {},
   "outputs": [],
   "source": [
    "from ngram_embeddings.download_ngrams import download_ngram_files\n",
    "from ngram_embeddings.convert_to_jsonl import convert_to_jsonl_files\n",
    "from ngram_embeddings.lowercase_ngrams import lowercase_ngrams\n",
    "from ngram_embeddings.lemmatize_ngrams import lemmatize_ngrams\n",
    "from ngram_embeddings.filter_ngrams import filter_ngrams\n",
    "from ngram_embeddings.sort_ngrams import sort_ngrams\n",
    "from ngram_embeddings.helpers.verify_sort import check_file_sorted\n",
    "from ngram_embeddings.consolidate_ngrams import consolidate_duplicate_ngrams\n",
    "from ngram_embeddings.helpers.print_jsonl_lines import print_jsonl_lines\n",
    "from ngram_embeddings.index_and_create_vocab import index_and_create_vocab_files"
   ]
  },
  {
   "cell_type": "markdown",
   "id": "33cdb7cc-0186-4bbc-bc10-22b433eca869",
   "metadata": {
    "editable": true,
    "slideshow": {
     "slide_type": ""
    },
    "tags": []
   },
   "source": [
    "# **Process Unigrams to Generate a Vocabulary File**"
   ]
  },
  {
   "cell_type": "markdown",
   "id": "ecddde54-96c0-4461-a0f7-6ef2bbecd065",
   "metadata": {},
   "source": [
    "## **Goal**: Make a list of the _n_ most common unigrams for later use filtering multigrams"
   ]
  },
  {
   "cell_type": "markdown",
   "id": "195fa408-af40-4c69-b360-018748472598",
   "metadata": {},
   "source": [
    "This workflow is resource-intensive and is probably only practical when run on a computing cluster. On my university's High Performance Computing (HPC) cluster, I request the maximum 14 cores (48 logical processors) and 128G of memory and use a 2T fast-I/O NVMe SSD filespace. I _still_ run up against resource limits and have designed the code to contend with them.\n",
    "\n",
    "The code affords some options to keep things efficient. Throughout the workflow you can specify `compress=True`, which tells the code to compress its output files. Downstream scripts will see the `.lz4` extensions and handle the files accordingly. If you know your workflow runs correctly and wish to further conserve space, you can specify `delete_input=True` for  many of the scripts; this will delete the source files for a step once that step is complete. The scripts are fairly memory-efficient—with the exception of `sort_ngrams` and `index_and_create_vocab_files`, which sort multiple files in memory at once. When processing multigrams, I've found that allocating more than ~10 workers in these scripts leads to memory exhaustion (with 128G!) and slow processing.\n",
    "\n",
    "`[Total runtime: ~50 minutes]`"
   ]
  },
  {
   "cell_type": "markdown",
   "id": "b97fea36-f682-4a1c-aedc-d905ba30c001",
   "metadata": {},
   "source": [
    "### Download unigrams\n",
    "Here, I'm using the `download_ngrams` module to fetch unigrams appended with part-of-speech (POS) tags (e.g., `_VERB`). Although you can specify `ngram_type='untagged'`, POS tags are necessary to lemmatize the tokens. Specify the number of parallel processes you wish to use by setting `workers` (the default is all available processors).\n",
    "\n",
    "`[Runtime: 0:00:28.561167]`"
   ]
  },
  {
   "cell_type": "code",
   "execution_count": 9,
   "id": "25bd2f2a-e4fb-4af0-bd94-71ef7c5dcdb9",
   "metadata": {},
   "outputs": [
    {
     "name": "stdout",
     "output_type": "stream",
     "text": [
      "\u001b[31mStart Time:                2025-01-04 14:25:49.123343\n",
      "\u001b[0m\n",
      "\u001b[4mDownload Info\u001b[0m\n",
      "Ngram repository:          https://storage.googleapis.com/books/ngrams/books/20200217/eng/eng-1-ngrams_exports.html\n",
      "Output directory:          /vast/edk202/NLP_corpora/Google_Books/20200217/eng/1gram_files/1download\n",
      "File index range:          0 to 24\n",
      "File URLs available:       24\n",
      "File URLs to use:          24\n",
      "First file to get:         https://storage.googleapis.com/books/ngrams/books/20200217/eng/1-00000-of-00024.gz\n",
      "Last file to get:          https://storage.googleapis.com/books/ngrams/books/20200217/eng/1-00023-of-00024.gz\n",
      "Ngram size:                1\n",
      "Ngram type:                tagged\n",
      "Number of workers:         48\n",
      "Compress saved files:      False\n",
      "Overwrite existing files:  False\n",
      "\n",
      "Downloading     |\u001b[32m██████████████████████████████████████████████████\u001b[0m| 100.0% 24          /24         \u001b[0m\n",
      "\u001b[31m\n",
      "End Time:                  2025-01-04 14:26:17.684510\u001b[0m\n",
      "\u001b[31mTotal runtime:             0:00:28.561167\n",
      "\u001b[0m\n"
     ]
    }
   ],
   "source": [
    "download_ngram_files(\n",
    "    ngram_size=1,\n",
    "    ngram_type='tagged',\n",
    "    file_range=(0, 24),\n",
    "    proj_dir='/vast/edk202/NLP_corpora/Google_Books/20200217/eng',\n",
    "    compress=False,\n",
    "    overwrite=False\n",
    ")"
   ]
  },
  {
   "cell_type": "markdown",
   "id": "799d4fd8-2fe9-4fe3-8a37-20f0e1b81eef",
   "metadata": {},
   "source": [
    "### Convert files from TXT to JSONL\n",
    "This module converts the original unigram files' text data to a more flexible JSON Lines (JSONL) format. Although this increases storage demands, it makes downstream processing more efficient.\n",
    "\n",
    "`[Runtime: 0:02:11.280650]`"
   ]
  },
  {
   "cell_type": "code",
   "execution_count": 10,
   "id": "ccf070c7-54bd-44b0-aff7-e86a3b36291e",
   "metadata": {},
   "outputs": [
    {
     "name": "stdout",
     "output_type": "stream",
     "text": [
      "\u001b[31mStart Time:                2025-01-04 14:26:17.687659\n",
      "\u001b[0m\n",
      "\u001b[4mConversion Info\u001b[0m\n",
      "Input directory:           /vast/edk202/NLP_corpora/Google_Books/20200217/eng/1gram_files/1download\n",
      "Output directory:          /vast/edk202/NLP_corpora/Google_Books/20200217/eng/1gram_files/2convert\n",
      "File index range:          0 to 23\n",
      "Files available:           24\n",
      "Files to use:              24\n",
      "First file to get:         /vast/edk202/NLP_corpora/Google_Books/20200217/eng/1gram_files/1download/1-00000-of-00024.txt\n",
      "Last file to get:          /vast/edk202/NLP_corpora/Google_Books/20200217/eng/1gram_files/1download/1-00023-of-00024.txt\n",
      "Ngram size:                1\n",
      "Ngram type:                tagged\n",
      "Number of workers:         48\n",
      "Compress output files:     False\n",
      "Overwrite existing files:  False\n",
      "Delete input directory:    True\n",
      "\n",
      "Converting      |\u001b[32m██████████████████████████████████████████████████\u001b[0m| 100.0% 24          /24         \u001b[0m\n",
      "\u001b[31m\n",
      "End Time:                  2025-01-04 14:28:28.968309\u001b[0m\n",
      "\u001b[31mTotal runtime:             0:02:11.280650\n",
      "\u001b[0m\n"
     ]
    }
   ],
   "source": [
    "convert_to_jsonl_files(\n",
    "    ngram_size=1,\n",
    "    ngram_type='tagged',\n",
    "    proj_dir='/vast/edk202/NLP_corpora/Google_Books/20200217/eng',\n",
    "    compress=False,\n",
    "    overwrite=False,\n",
    "    delete_input=True\n",
    ")"
   ]
  },
  {
   "cell_type": "markdown",
   "id": "60ad8638-1ed1-4ce6-b864-70e17635a3a8",
   "metadata": {},
   "source": [
    "### Make unigrams all lowercase\n",
    "This module lowercases all characters in the unigrams. Most use cases benefit from this.\n",
    "\n",
    "`[Runtime: 0:01:05.096278]`"
   ]
  },
  {
   "cell_type": "code",
   "execution_count": 11,
   "id": "6cc700cf-dba7-40d6-b5f0-e98723af2e14",
   "metadata": {},
   "outputs": [
    {
     "name": "stdout",
     "output_type": "stream",
     "text": [
      "\u001b[31mStart Time:                2025-01-04 14:28:28.973191\n",
      "\u001b[0m\n",
      "\u001b[4mLowercasing Info\u001b[0m\n",
      "Input directory:           /vast/edk202/NLP_corpora/Google_Books/20200217/eng/1gram_files/2convert\n",
      "Output directory:          /vast/edk202/NLP_corpora/Google_Books/20200217/eng/1gram_files/3lowercase\n",
      "File index range:          0 to 23\n",
      "Files available:           24\n",
      "Files to use:              24\n",
      "First file to get:         /vast/edk202/NLP_corpora/Google_Books/20200217/eng/1gram_files/2convert/1-00000-of-00024.jsonl\n",
      "Last file to get:          /vast/edk202/NLP_corpora/Google_Books/20200217/eng/1gram_files/2convert/1-00023-of-00024.jsonl\n",
      "Ngram size:                1\n",
      "Number of workers:         48\n",
      "Compress output files:     False\n",
      "Overwrite existing files:  False\n",
      "Delete input directory:    True\n",
      "\n",
      "Lowercasing     |\u001b[32m██████████████████████████████████████████████████\u001b[0m| 100.0% 24          /24         \u001b[0m\n",
      "\u001b[31m\n",
      "End Time:                  2025-01-04 14:29:34.069469\u001b[0m\n",
      "\u001b[31mTotal runtime:             0:01:05.096278\n",
      "\u001b[0m\n"
     ]
    }
   ],
   "source": [
    "lowercase_ngrams(\n",
    "    ngram_size=1,\n",
    "    proj_dir='/vast/edk202/NLP_corpora/Google_Books/20200217/eng',\n",
    "    compress=False,\n",
    "    overwrite=False,\n",
    "    delete_input=True\n",
    ")"
   ]
  },
  {
   "cell_type": "markdown",
   "id": "8426e48d-76d8-42ff-9e95-7d9c44bdc331",
   "metadata": {},
   "source": [
    "### Lemmatize the unigrams\n",
    "This module lemmatizes the unigrams—that is, reduces them to their base forms. This is desirable for most use cases. Example: `people_NOUN` (\"the people of this land\") will be converted to `person` in the output; `people_VERB` (\"to people this land\") will not. My code uses the [NLTK Lemmatizer](https://www.nltk.org/api/nltk.stem.WordNetLemmatizer.html?highlight=wordnet), which requires requires POS-tagged unigrams. The tags are discarded after lemmatization as they're no longer useful, saving space.\n",
    "\n",
    "`[Runtime: 0:01:11.958027]`"
   ]
  },
  {
   "cell_type": "code",
   "execution_count": 12,
   "id": "82eb3d13-9d51-4ea2-8708-9c3eadb3feae",
   "metadata": {},
   "outputs": [
    {
     "name": "stdout",
     "output_type": "stream",
     "text": [
      "\u001b[31mStart Time:                2025-01-04 14:29:34.075213\n",
      "\u001b[0m\n",
      "\u001b[4mLemmatizing Info\u001b[0m\n",
      "Input directory:           /vast/edk202/NLP_corpora/Google_Books/20200217/eng/1gram_files/3lowercase\n",
      "Output directory:          /vast/edk202/NLP_corpora/Google_Books/20200217/eng/1gram_files/4lemmatize\n",
      "File index range:          0 to 23\n",
      "Files available:           24\n",
      "Files to use:              24\n",
      "First file to get:         /vast/edk202/NLP_corpora/Google_Books/20200217/eng/1gram_files/3lowercase/1-00000-of-00024.jsonl\n",
      "Last file to get:          /vast/edk202/NLP_corpora/Google_Books/20200217/eng/1gram_files/3lowercase/1-00023-of-00024.jsonl\n",
      "Ngram size:                1\n",
      "Number of workers:         48\n",
      "Compress output files:     False\n",
      "Overwrite existing files:  False\n",
      "Delete input directory:    True\n",
      "\n",
      "Lemmatizing     |\u001b[32m██████████████████████████████████████████████████\u001b[0m| 100.0% 24          /24         \u001b[0m\n",
      "\u001b[31m\n",
      "End Time:                  2025-01-04 14:30:46.033240\u001b[0m\n",
      "\u001b[31mTotal runtime:             0:01:11.958027\n",
      "\u001b[0m\n"
     ]
    }
   ],
   "source": [
    "lemmatize_ngrams(\n",
    "    ngram_size=1,\n",
    "    proj_dir='/vast/edk202/NLP_corpora/Google_Books/20200217/eng',\n",
    "    compress=False,\n",
    "    overwrite=False,\n",
    "    delete_input=True\n",
    ")"
   ]
  },
  {
   "cell_type": "markdown",
   "id": "dd52fad3-d372-4613-9c36-b153ca004976",
   "metadata": {},
   "source": [
    "### Filter the unigrams\n",
    "This module removes tokens that provide little information about words' semantic context: those that contain numerals (`numerals=True`), nonalphabetic characters (`nonalpha=True`), stopwords (high-frequency, low information tokens like \"the\" and \"into\"; `stops=True`), or short words (those below a certain user-specified character count; here, `min_token_length=3`).\n",
    "\n",
    "You can also specify `min_tokens`—the minumum length of a retained ngram after filtering its tokens. This is mainly intended for use when processing multigrams. However, it's still good to specify `min_tokens=1` for unigrams, as it completely discards the data for any unigram violating our criteria. Empty output files will be deleted.\n",
    "\n",
    "`[Runtime: 0:00:52.431029]`"
   ]
  },
  {
   "cell_type": "code",
   "execution_count": 13,
   "id": "68104701-700e-4b0d-8b3e-b69127a75ad0",
   "metadata": {},
   "outputs": [
    {
     "name": "stdout",
     "output_type": "stream",
     "text": [
      "\u001b[31mStart Time:                   2025-01-04 14:30:46.038412\n",
      "\u001b[0m\n",
      "\u001b[4mFiltering Info\u001b[0m\n",
      "Input directory:              /vast/edk202/NLP_corpora/Google_Books/20200217/eng/1gram_files/4lemmatize\n",
      "Output directory:             /vast/edk202/NLP_corpora/Google_Books/20200217/eng/1gram_files/5filter\n",
      "File index range:             0 to 23\n",
      "Files available:              24\n",
      "Files to use:                 24\n",
      "First file to get:            /vast/edk202/NLP_corpora/Google_Books/20200217/eng/1gram_files/4lemmatize/1-00000-of-00024.jsonl\n",
      "Last file to get:             /vast/edk202/NLP_corpora/Google_Books/20200217/eng/1gram_files/4lemmatize/1-00023-of-00024.jsonl\n",
      "Ngram size:                   1\n",
      "Number of workers:            48\n",
      "Compress output files:        False\n",
      "Overwrite existing files:     False\n",
      "Delete input directory:       True\n",
      "\n",
      "\u001b[4mFiltering Options\u001b[0m\n",
      "Drop stopwords:               True\n",
      "Drop tokens under:            3 chars\n",
      "Drop tokens with numerals:    True\n",
      "Drop non-alphabetic:          True\n",
      "Drop ngrams under:            1 token(s)\n",
      "\n",
      "Filtering       |\u001b[32m██████████████████████████████████████████████████\u001b[0m| 100.0% 24          /24         \u001b[0m\n",
      "\n",
      "\u001b[4mFiltering Results (Dropped)\u001b[0m\n",
      "Stopword tokens:              5359 \n",
      "Short-word tokens:            22810 \n",
      "Tokens with numerals:         13740955 \n",
      "Tokens with non-alpha chars:  2886365\n",
      "Out-of-vocab tokens:          0\n",
      "Entire ngrams:                16655489 \n",
      "\u001b[31m\n",
      "End Time:                  2025-01-04 14:31:38.469441\u001b[0m\n",
      "\u001b[31mTotal runtime:             0:00:52.431029\n",
      "\u001b[0m\n"
     ]
    }
   ],
   "source": [
    "filter_ngrams(\n",
    "    ngram_size=1,\n",
    "    proj_dir='/vast/edk202/NLP_corpora/Google_Books/20200217/eng',\n",
    "    numerals=True,\n",
    "    nonalpha=True,\n",
    "    stops=True,\n",
    "    min_token_length=3,\n",
    "    min_tokens=1,\n",
    "    compress=False,\n",
    "    overwrite=False,\n",
    "    delete_input=True\n",
    ")"
   ]
  },
  {
   "cell_type": "markdown",
   "id": "dffd5722-7816-4c68-89a4-6f824ccb3e1a",
   "metadata": {},
   "source": [
    "### Sort and combine the unigram files\n",
    "This modules creates a single, fully-sorted unigram file out of the filtered files. This is crucial for the next step (ngram consolidation; see below).   \n",
    "\n",
    "Sorting a giant file is a resource-hungry process and I've tried to implement an efficient approach that leverages parallelism: We first sort the filtered files in parallel using Python's standard sorting algorithm [Timsort](https://en.wikipedia.org/wiki/Timsort); then, we incrementally [heapsort](https://en.wikipedia.org/wiki/Heapsort) the files in parallel until we get down to 2 files. Finally, we heapsort the final 2 files (necessarily using one processor) to arrive at a single combined and sorted unigram file.\n",
    "\n",
    "`[Runtime: 0:19:30.426425]`"
   ]
  },
  {
   "cell_type": "code",
   "execution_count": 14,
   "id": "52e80618-397f-4051-b064-a8b689e77c43",
   "metadata": {},
   "outputs": [
    {
     "name": "stdout",
     "output_type": "stream",
     "text": [
      "\u001b[31mStart Time:                2025-01-04 14:31:41.430644\n",
      "\u001b[0m\n",
      "\u001b[4mSort Info\u001b[0m\n",
      "Input directory:           /vast/edk202/NLP_corpora/Google_Books/20200217/eng/1gram_files/5filter\n",
      "Sorted directory:          /vast/edk202/NLP_corpora/Google_Books/20200217/eng/1gram_files/temp\n",
      "Temp directory:            /vast/edk202/NLP_corpora/Google_Books/20200217/eng/1gram_files/tmp\n",
      "Merged file:               /vast/edk202/NLP_corpora/Google_Books/20200217/eng/1gram_files/6corpus/1gram-merged.jsonl.lz4\n",
      "Files available:           18\n",
      "First file to get:         /vast/edk202/NLP_corpora/Google_Books/20200217/eng/1gram_files/5filter/1-00006-of-00024.jsonl\n",
      "Last file to get:          /vast/edk202/NLP_corpora/Google_Books/20200217/eng/1gram_files/5filter/1-00023-of-00024.jsonl\n",
      "Files to use:              18\n",
      "Ngram size:                1\n",
      "Number of workers:         10\n",
      "Compress output files:     True\n",
      "Overwrite existing files:  False\n",
      "Sort key:                  ngram\n",
      "Sort order:                ascending\n",
      "Heap-merge start iter:     1\n",
      "Heap-merge end iter:       None\n",
      "Deleted sorted files:      True\n",
      "\n",
      "Sorting         |\u001b[32m██████████████████████████████████████████████████\u001b[0m| 100.0% 18          /18         \u001b[0m\n",
      "\n",
      "Iteration 1: merging 18 files into 6 chunks using 6 workers.\n",
      "  6 chunk(s) with 3 file(s)\n",
      "\n",
      "Iteration 2: merging 6 files into 3 chunks using 3 workers.\n",
      "  3 chunk(s) with 2 file(s)\n",
      "\n",
      "Iteration 3: merging 3 files into 2 chunks using 2 workers.\n",
      "  1 chunk(s) with 1 file(s)\n",
      "  1 chunk(s) with 2 file(s)\n",
      "\n",
      "Iteration 4: final merge of 2 files.\n",
      "Merging         |\u001b[32m██████████████████████████████████████████████████\u001b[0m| 100.0% 25127726    /25127726   \u001b[0m\n",
      "\n",
      "Merging complete. Final merged file:\n",
      "/vast/edk202/NLP_corpora/Google_Books/20200217/eng/1gram_files/6corpus/1gram-merged.jsonl.lz4\n",
      "\u001b[31m\n",
      "End Time:                  2025-01-04 14:51:11.857069\u001b[0m\n",
      "\u001b[31mTotal runtime:             0:19:30.426425\n",
      "\u001b[0m\n"
     ]
    }
   ],
   "source": [
    "sort_ngrams(\n",
    "    ngram_size=1,\n",
    "    proj_dir='/vast/edk202/NLP_corpora/Google_Books/20200217/eng',\n",
    "    workers=10,\n",
    "    sort_key='ngram',\n",
    "    compress=True,\n",
    "    overwrite=False,\n",
    "    sort_order='ascending',\n",
    "    start_iteration=1,\n",
    "    end_iteration=None,\n",
    "    delete_input=True\n",
    ")"
   ]
  },
  {
   "cell_type": "markdown",
   "id": "5cc33c06-ca7f-4d99-9949-7520ef0e0c98",
   "metadata": {},
   "source": [
    "### Verify sort [OPTIONAL]\n",
    "If we want, we can verify that the output file is correctly sorted. If the script outputs `True`, then the file is sorted. Bear in mind that you need to specify the file path manually here; be sure to use the right file extension based on whether `sort_ngrams` was run with `compress=True`."
   ]
  },
  {
   "cell_type": "code",
   "execution_count": 15,
   "id": "2cfd12d0-5dfc-482e-a145-0306b4e01ab2",
   "metadata": {},
   "outputs": [
    {
     "name": "stderr",
     "output_type": "stream",
     "text": [
      "Lines: 25127726line [05:09, 81196.04line/s] \n"
     ]
    },
    {
     "data": {
      "text/plain": [
       "True"
      ]
     },
     "execution_count": 15,
     "metadata": {},
     "output_type": "execute_result"
    }
   ],
   "source": [
    "check_file_sorted(\n",
    "    input_file='/vast/edk202/NLP_corpora/Google_Books/20200217/eng/1gram_files/6corpus/1gram-merged.jsonl.lz4',\n",
    "    field=\"ngram\",\n",
    "    sort_order=\"ascending\"\n",
    ")"
   ]
  },
  {
   "cell_type": "markdown",
   "id": "353a8ec7-38b8-4d5d-8356-1af9f8e26bf9",
   "metadata": {},
   "source": [
    "### Consolidate duplicate unigrams\n",
    "This module consolidates the sorted unigram file. Lowercasing and lemmatizing produce duplicate unigrams. Now that the file is sorted, we can scan through it and consolidate consecutive idential duplicates. This involves summing their overall and yearly frequencies and document counts. It also leads to a much smaller file.\n",
    "\n",
    "`[Runtime: 0:12:33.459340]`"
   ]
  },
  {
   "cell_type": "code",
   "execution_count": 16,
   "id": "d8609476-7636-43c6-8945-1eb6b104f999",
   "metadata": {},
   "outputs": [
    {
     "name": "stdout",
     "output_type": "stream",
     "text": [
      "\u001b[31mStart Time:                2025-01-04 14:56:21.337198\n",
      "\u001b[0m\n",
      "\u001b[4mConsolidation Info\u001b[0m\n",
      "Merged file:               /vast/edk202/NLP_corpora/Google_Books/20200217/eng/1gram_files/6corpus/1gram-merged.jsonl.lz4\n",
      "Consolidated files:        /vast/edk202/NLP_corpora/Google_Books/20200217/eng/1gram_files/6corpus/1gram-consolidated.jsonl.lz4\n",
      "Ngram size:                1\n",
      "Compress output files:     True\n",
      "Overwrite existing files:  False\n",
      "\n",
      "Consolidating   |\u001b[32m██████████████████████████████████████████████████\u001b[0m| 100.0% 25127726    /25127726   \u001b[0m\n",
      "\n",
      "Lines before consolidation:  25127726\n",
      "Lines after consolidation:   13499384\n",
      "\u001b[31m\n",
      "End Time:                  2025-01-04 15:08:54.796538\u001b[0m\n",
      "\u001b[31mTotal runtime:             0:12:33.459340\n",
      "\u001b[0m\n"
     ]
    }
   ],
   "source": [
    "consolidate_duplicate_ngrams(\n",
    "    ngram_size=1,\n",
    "    proj_dir='/vast/edk202/NLP_corpora/Google_Books/20200217/eng',\n",
    "    compress=True,\n",
    "    overwrite=False\n",
    ")"
   ]
  },
  {
   "cell_type": "markdown",
   "id": "fc294ed6-399f-4fbd-91e4-8e55e86950d0",
   "metadata": {},
   "source": [
    "### Index unigrams and create vocabulary file\n",
    "Most use cases will require an indexed list of \"valid\" (i.e., reasonably common) vocabulary words. This indexing script serves the dual functions of (1) mapping each unigram to an index number (saved in `/6corpus/1gram-consolidated-indexed.jsonl`) and (2) culling this file into a vocabulary list consisting of the _n_ most frequent unigrams (saved in `6corpus/1gram-consolidated-vocab_list_match.txt`). The vocabulary file provides a critical means of filtering excessively rare words out of the corpus. Unlike files upstream in the workflow, the vocabulary files are not large and don't need to be compressed.\n",
    "\n",
    "`[Runtime: 0:12:02.432830]`"
   ]
  },
  {
   "cell_type": "code",
   "execution_count": 18,
   "id": "e858de53-fe04-4a7d-bab5-9eed5cdf0011",
   "metadata": {},
   "outputs": [
    {
     "name": "stdout",
     "output_type": "stream",
     "text": [
      "\u001b[31mStart Time:                2025-01-04 15:08:54.835535\n",
      "\u001b[0m\n",
      "\u001b[4mIndexing Info\u001b[0m\n",
      "Consolidated file:         /vast/edk202/NLP_corpora/Google_Books/20200217/eng/1gram_files/6corpus/1gram-consolidated.jsonl.lz4\n",
      "Indexed file:              /vast/edk202/NLP_corpora/Google_Books/20200217/eng/1gram_files/6corpus/1gram-indexed.jsonl.lz4\n",
      "Ngram size:                1\n",
      "Number of workers:         48\n",
      "Compress output files:     True\n",
      "Overwrite existing files:  False\n",
      "Vocab size (top N):        80000\n",
      "\n",
      "Chunking        |\u001b[32m██████████████████████████████████████████████████\u001b[0m| 100.0% 13499384    /13499384   \u001b[0m\n",
      "Sorting         |\u001b[32m██████████████████████████████████████████████████\u001b[0m| 100.0% 135         /135        \u001b[0m\n",
      "Merging         |\u001b[32m██████████████████████████████████████████████████\u001b[0m| 100.0% 13499384    /13499384   \u001b[0m\n",
      "Indexing        |\u001b[32m██████████████████████████████████████████████████\u001b[0m| 100.0% 13499384    /13499384   \u001b[0m\n",
      "\n",
      "Indexed 13499384 lines.\n",
      "Final indexed file: 1gram-consolidated-indexed.jsonl.lz4\n",
      "Created vocab_list_match and vocab_list_lookup files for top 80000 ngrams.\n",
      "\u001b[31m\n",
      "End Time:                  2025-01-04 15:20:57.268365\u001b[0m\n",
      "\u001b[31mTotal runtime:             0:12:02.432830\n",
      "\u001b[0m\n"
     ]
    }
   ],
   "source": [
    "index_and_create_vocab_files(\n",
    "    ngram_size=1,\n",
    "    proj_dir='/vast/edk202/NLP_corpora/Google_Books/20200217/eng',\n",
    "    compress=True,\n",
    "    overwrite=False,\n",
    "    vocab_n=80000\n",
    ")"
   ]
  },
  {
   "cell_type": "markdown",
   "id": "f5142c8d-50fa-4387-9383-f901492bace2",
   "metadata": {},
   "source": [
    "### Verify indexing [OPTIONAL]\n",
    "We verify that the final indexed file is looks right."
   ]
  },
  {
   "cell_type": "code",
   "execution_count": 21,
   "id": "2824a58d-213e-4c4a-8917-78909994239b",
   "metadata": {},
   "outputs": [
    {
     "name": "stdout",
     "output_type": "stream",
     "text": [
      "Line 1100050: {'ngram': 'zpinch', 'freq_tot': 3384, 'doc_tot': 2350, 'freq': {'1960': 7, '1962': 5, '1964': 1, '1967': 10, '1968': 20, '1969': 52, '1970': 14, '1971': 48, '1972': 13, '1973': 73, '1976': 43, '1977': 60, '1978': 158, '1979': 74, '1981': 59, '1982': 120, '1983': 113, '1984': 106, '1985': 134, '1986': 237, '1987': 192, '1988': 181, '1989': 285, '1990': 111, '1991': 67, '1992': 60, '1993': 101, '1994': 153, '1995': 92, '1996': 43, '1997': 53, '1998': 77, '1999': 84, '2000': 20, '2001': 48, '2002': 50, '2003': 33, '2004': 48, '2005': 17, '2006': 32, '2007': 21, '2008': 10, '2010': 3, '2011': 7, '2012': 35, '2013': 11, '2014': 4, '2018': 7, '2019': 8, '1961': 2, '1965': 19, '1904': 1, '1951': 1, '1963': 9, '1966': 7, '1974': 42, '1975': 28, '1980': 61, '2009': 2, '2015': 4, '2016': 2, '2017': 5, '1919': 1}, 'doc': {'1960': 7, '1962': 5, '1964': 1, '1967': 9, '1968': 17, '1969': 44, '1970': 13, '1971': 33, '1972': 13, '1973': 52, '1976': 42, '1977': 42, '1978': 91, '1979': 65, '1981': 53, '1982': 90, '1983': 98, '1984': 92, '1985': 108, '1986': 130, '1987': 135, '1988': 144, '1989': 138, '1990': 81, '1991': 53, '1992': 56, '1993': 73, '1994': 95, '1995': 71, '1996': 31, '1997': 18, '1998': 47, '1999': 39, '2000': 17, '2001': 36, '2002': 23, '2003': 23, '2004': 30, '2005': 10, '2006': 15, '2007': 12, '2008': 9, '2010': 3, '2011': 7, '2012': 9, '2013': 8, '2014': 4, '2018': 6, '2019': 5, '1961': 2, '1965': 19, '1904': 1, '1951': 1, '1963': 9, '1966': 7, '1974': 34, '1975': 24, '1980': 38, '2009': 2, '2015': 4, '2016': 1, '2017': 4, '1919': 1}, 'idx': 1100050}\n"
     ]
    }
   ],
   "source": [
    "print_jsonl_lines(\n",
    "    file_path=(\n",
    "        '/vast/edk202/NLP_corpora/Google_Books/20200217/eng/'\n",
    "        '1gram_files/6corpus/1gram-consolidated-indexed.jsonl.lz4'\n",
    "    ),\n",
    "    start_line=1100050,\n",
    "    end_line=1100050,\n",
    "    parse_json=True\n",
    ")"
   ]
  }
 ],
 "metadata": {
  "kernelspec": {
   "display_name": "hist_w2v_env",
   "language": "python",
   "name": "hist_w2v_env"
  },
  "language_info": {
   "codemirror_mode": {
    "name": "ipython",
    "version": 3
   },
   "file_extension": ".py",
   "mimetype": "text/x-python",
   "name": "python",
   "nbconvert_exporter": "python",
   "pygments_lexer": "ipython3",
   "version": "3.12.7"
  }
 },
 "nbformat": 4,
 "nbformat_minor": 5
}
