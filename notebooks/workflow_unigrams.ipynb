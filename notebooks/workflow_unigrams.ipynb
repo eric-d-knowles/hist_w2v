{
 "cells": [
  {
   "cell_type": "code",
   "execution_count": null,
   "id": "b50e6a0e-e26c-45d6-977b-15aad5e7477f",
   "metadata": {},
   "outputs": [],
   "source": [
    "%load_ext autoreload\n",
    "\n",
    "%autoreload 2"
   ]
  },
  {
   "cell_type": "code",
   "execution_count": 2,
   "id": "b8ffefae-714c-4ff8-b207-230d6d0f63f3",
   "metadata": {},
   "outputs": [],
   "source": [
    "from ngram_tools.download_ngrams import download_ngram_files\n",
    "from ngram_tools.convert_to_jsonl import convert_to_jsonl_files\n",
    "from ngram_tools.lowercase_ngrams import lowercase_ngrams\n",
    "from ngram_tools.lemmatize_ngrams import lemmatize_ngrams\n",
    "from ngram_tools.filter_ngrams import filter_ngrams\n",
    "from ngram_tools.sort_ngrams import sort_ngrams\n",
    "from ngram_tools.consolidate_ngrams import consolidate_duplicate_ngrams\n",
    "from ngram_tools.index_and_create_vocab import index_and_create_vocab_files\n",
    "from ngram_tools.helpers.verify_sort import check_file_sorted\n",
    "from ngram_tools.helpers.print_jsonl_lines import print_jsonl_lines"
   ]
  },
  {
   "cell_type": "markdown",
   "id": "33cdb7cc-0186-4bbc-bc10-22b433eca869",
   "metadata": {
    "editable": true,
    "slideshow": {
     "slide_type": ""
    },
    "tags": []
   },
   "source": [
    "# **Process Unigrams to Generate a Vocabulary File**"
   ]
  },
  {
   "cell_type": "markdown",
   "id": "ecddde54-96c0-4461-a0f7-6ef2bbecd065",
   "metadata": {},
   "source": [
    "## **Goal**: Make a list of the _n_ most common unigrams for later use filtering multigrams"
   ]
  },
  {
   "attachments": {},
   "cell_type": "markdown",
   "id": "195fa408-af40-4c69-b360-018748472598",
   "metadata": {},
   "source": [
    "This workflow is resource-intensive and is probably only practical when run on a computing cluster. On my university's High Performance Computing (HPC) cluster, I request the maximum 14 cores (48 logical processors) and 128G of memory and use a 2T fast-I/O NVMe SSD filespace—and I still run up against time and resource limits. I've designed the code to be efficient, although further optimization is surely possible.\n",
    "\n",
    "The code affords options to conserve resources. Throughout the workflow you can specify `compress=True`, which tells a script to compress its output files. In my experience, there is little downside to using LZ4 compression, since it's very fast and cuts file sizes by about half. Downstream modules will see the `.lz4` extensions and handle the files accordingly. If you know your workflow runs correctly and wish to further conserve space, you can specify `delete_input=True` for many of the scripts; this will delete the source files for a given step once it is complete. The scripts are fairly memory-efficient—with the exception of `sort_ngrams` and `index_and_create_vocab_files`, which sort multiple files in memory at once. When processing multigrams, I've found that allocating more than ~10 workers in these scripts leads to memory exhaustion (with 128G!) and slow processing."
   ]
  },
  {
   "cell_type": "markdown",
   "id": "b97fea36-f682-4a1c-aedc-d905ba30c001",
   "metadata": {},
   "source": [
    "### Download unigrams\n",
    "Here, I'm using the `download_ngrams` module to fetch unigrams appended with part-of-speech (POS) tags (e.g., `_VERB`). Although you can specify `ngram_type='untagged'`, POS tags are necessary to lemmatize the tokens. Specify the number of parallel processes you wish to use by setting `workers` (the default is all available processors). Note the `repo_release_id` and `repo_corpus_id` parameters; these tell the module which ngram corpus and release to download."
   ]
  },
  {
   "cell_type": "code",
   "execution_count": 5,
   "id": "25bd2f2a-e4fb-4af0-bd94-71ef7c5dcdb9",
   "metadata": {},
   "outputs": [
    {
     "name": "stdout",
     "output_type": "stream",
     "text": [
      "\u001b[31mStart Time:                2025-07-21 12:25:33.347383\n",
      "\u001b[0m\n",
      "\u001b[4mDownload Info\u001b[0m\n",
      "Ngram repository:          https://storage.googleapis.com/books/ngrams/books/20200217/eng/eng-1-ngrams_exports.html\n",
      "Output directory:          /vast/edk202/NLP_corpora/Google_Books/20200217/eng/1gram_files/1download\n",
      "File index range:          0 to 23\n",
      "File URLs available:       24\n",
      "File URLs to use:          24\n",
      "First file to get:         https://storage.googleapis.com/books/ngrams/books/20200217/eng/1-00000-of-00024.gz\n",
      "Last file to get:          https://storage.googleapis.com/books/ngrams/books/20200217/eng/1-00023-of-00024.gz\n",
      "Ngram size:                1\n",
      "Ngram type:                tagged\n",
      "Number of workers:         27\n",
      "Compress saved files:      True\n",
      "Overwrite existing files:  True\n",
      "\n"
     ]
    },
    {
     "data": {
      "application/vnd.jupyter.widget-view+json": {
       "model_id": "3a54b8b79def42df80051b45d385b655",
       "version_major": 2,
       "version_minor": 0
      },
      "text/plain": [
       "Downloading:   0%|          | 0/24 [00:00<?, ?files/s]"
      ]
     },
     "metadata": {},
     "output_type": "display_data"
    },
    {
     "name": "stdout",
     "output_type": "stream",
     "text": [
      "\u001b[31m\n",
      "End Time:                  2025-07-21 12:26:03.543466\u001b[0m\n",
      "\u001b[31mTotal runtime:             0:00:30.196083\n",
      "\u001b[0m\n"
     ]
    }
   ],
   "source": [
    "download_ngram_files(\n",
    "    ngram_size=1,\n",
    "    ngram_type='tagged',\n",
    "    repo_release_id='20200217',\n",
    "    repo_corpus_id='eng',\n",
    "    proj_dir='/vast/edk202/NLP_corpora/Google_Books/20200217/eng',\n",
    "    workers=27,\n",
    "    compress=True,\n",
    "    overwrite=True\n",
    ")"
   ]
  },
  {
   "cell_type": "markdown",
   "id": "799d4fd8-2fe9-4fe3-8a37-20f0e1b81eef",
   "metadata": {},
   "source": [
    "### Convert files from TXT to JSONL\n",
    "This module converts the original unigram files' text data to a more flexible JSON Lines (JSONL) format. Although this increases storage demands, it makes downstream processing more efficient."
   ]
  },
  {
   "cell_type": "code",
   "execution_count": 7,
   "id": "ccf070c7-54bd-44b0-aff7-e86a3b36291e",
   "metadata": {},
   "outputs": [
    {
     "name": "stdout",
     "output_type": "stream",
     "text": [
      "\u001b[31mStart Time:                2025-07-21 12:26:32.204413\n",
      "\u001b[0m\n",
      "\u001b[4mConversion Info\u001b[0m\n",
      "Input directory:           /vast/edk202/NLP_corpora/Google_Books/20200217/eng/1gram_files/1download\n",
      "Output directory:          /vast/edk202/NLP_corpora/Google_Books/20200217/eng/1gram_files/2convert\n",
      "File index range:          0 to 23\n",
      "Files available:           24\n",
      "Files to use:              24\n",
      "First file to get:         /vast/edk202/NLP_corpora/Google_Books/20200217/eng/1gram_files/1download/1-00000-of-00024.txt.lz4\n",
      "Last file to get:          /vast/edk202/NLP_corpora/Google_Books/20200217/eng/1gram_files/1download/1-00023-of-00024.txt.lz4\n",
      "Ngram size:                1\n",
      "Ngram type:                tagged\n",
      "Number of workers:         27\n",
      "Compress output files:     True\n",
      "Overwrite existing files:  True\n",
      "Delete input directory:    True\n",
      "\n"
     ]
    },
    {
     "data": {
      "application/vnd.jupyter.widget-view+json": {
       "model_id": "f3b564a457e44392a2e975826e8d6919",
       "version_major": 2,
       "version_minor": 0
      },
      "text/plain": [
       "Converting:   0%|          | 0/24 [00:00<?, ?files/s]"
      ]
     },
     "metadata": {},
     "output_type": "display_data"
    },
    {
     "name": "stdout",
     "output_type": "stream",
     "text": [
      "\u001b[31m\n",
      "End Time:                  2025-07-21 12:28:12.188452\u001b[0m\n",
      "\u001b[31mTotal runtime:             0:01:39.984039\n",
      "\u001b[0m\n"
     ]
    }
   ],
   "source": [
    "convert_to_jsonl_files(\n",
    "    ngram_size=1,\n",
    "    ngram_type='tagged',\n",
    "    proj_dir='/vast/edk202/NLP_corpora/Google_Books/20200217/eng',\n",
    "    workers=27,\n",
    "    compress=True,\n",
    "    overwrite=True,\n",
    "    delete_input=True\n",
    ")"
   ]
  },
  {
   "cell_type": "markdown",
   "id": "60ad8638-1ed1-4ce6-b864-70e17635a3a8",
   "metadata": {},
   "source": [
    "### Make unigrams all lowercase\n",
    "This module lowercases all characters in the unigrams. Most use cases benefit from this."
   ]
  },
  {
   "cell_type": "code",
   "execution_count": null,
   "id": "6cc700cf-dba7-40d6-b5f0-e98723af2e14",
   "metadata": {},
   "outputs": [
    {
     "name": "stdout",
     "output_type": "stream",
     "text": [
      "\u001b[31mStart Time:                2025-07-21 12:31:58.586521\n",
      "\u001b[0m\n",
      "\u001b[4mLowercasing Info\u001b[0m\n",
      "Input directory:           /vast/edk202/NLP_corpora/Google_Books/20200217/eng/1gram_files/2convert\n",
      "Output directory:          /vast/edk202/NLP_corpora/Google_Books/20200217/eng/1gram_files/3lowercase\n",
      "File index range:          0 to 23\n",
      "Files available:           24\n",
      "Files to use:              24\n",
      "First file to get:         /vast/edk202/NLP_corpora/Google_Books/20200217/eng/1gram_files/2convert/1-00000-of-00024.jsonl.lz4\n",
      "Last file to get:          /vast/edk202/NLP_corpora/Google_Books/20200217/eng/1gram_files/2convert/1-00023-of-00024.jsonl.lz4\n",
      "Ngram size:                1\n",
      "Number of workers:         48\n",
      "Compress output files:     True\n",
      "Overwrite existing files:  True\n",
      "Delete input directory:    True\n",
      "\n"
     ]
    },
    {
     "data": {
      "application/vnd.jupyter.widget-view+json": {
       "model_id": "5a7a24b2c2f3489a855ab526fb56cd74",
       "version_major": 2,
       "version_minor": 0
      },
      "text/plain": [
       "Lowercasing:   0%|          | 0/24 [00:00<?, ?files/s]"
      ]
     },
     "metadata": {},
     "output_type": "display_data"
    },
    {
     "name": "stdout",
     "output_type": "stream",
     "text": [
      "\u001b[31m\n",
      "End Time:                  2025-07-21 12:32:49.420301\u001b[0m\n",
      "\u001b[31mTotal runtime:             0:00:50.833780\n",
      "\u001b[0m\n"
     ]
    }
   ],
   "source": [
    "lowercase_ngrams(\n",
    "    ngram_size=1,\n",
    "    proj_dir='/vast/edk202/NLP_corpora/Google_Books/20200217/eng',\n",
    "    workers=27,\n",
    "    compress=True,\n",
    "    overwrite=True,\n",
    "    delete_input=True\n",
    ")"
   ]
  },
  {
   "cell_type": "markdown",
   "id": "8426e48d-76d8-42ff-9e95-7d9c44bdc331",
   "metadata": {},
   "source": [
    "### Lemmatize the unigrams\n",
    "This module lemmatizes the unigrams—that is, reduces them to their base forms. This is desirable for most use cases. Example: `people_NOUN` (\"the people of this land\") will be converted to `person` in the output; `people_VERB` (\"to people this land\") will not. My code uses the [NLTK Lemmatizer](https://www.nltk.org/api/nltk.stem.WordNetLemmatizer.html?highlight=wordnet), which requires requires POS-tagged unigrams. The tags are discarded after lemmatization as they're no longer useful, saving space."
   ]
  },
  {
   "cell_type": "code",
   "execution_count": 11,
   "id": "82eb3d13-9d51-4ea2-8708-9c3eadb3feae",
   "metadata": {},
   "outputs": [
    {
     "name": "stdout",
     "output_type": "stream",
     "text": [
      "\u001b[31mStart Time:                2025-07-21 12:33:10.922534\n",
      "\u001b[0m\n",
      "\u001b[4mLemmatizing Info\u001b[0m\n",
      "Input directory:           /vast/edk202/NLP_corpora/Google_Books/20200217/eng/1gram_files/3lowercase\n",
      "Output directory:          /vast/edk202/NLP_corpora/Google_Books/20200217/eng/1gram_files/4lemmatize\n",
      "File index range:          0 to 23\n",
      "Files available:           24\n",
      "Files to use:              24\n",
      "First file to get:         /vast/edk202/NLP_corpora/Google_Books/20200217/eng/1gram_files/3lowercase/1-00000-of-00024.jsonl.lz4\n",
      "Last file to get:          /vast/edk202/NLP_corpora/Google_Books/20200217/eng/1gram_files/3lowercase/1-00023-of-00024.jsonl.lz4\n",
      "Ngram size:                1\n",
      "Number of workers:         48\n",
      "Compress output files:     True\n",
      "Overwrite existing files:  True\n",
      "Delete input directory:    True\n",
      "\n"
     ]
    },
    {
     "data": {
      "application/vnd.jupyter.widget-view+json": {
       "model_id": "79751c4e04314d61940e32b4a1147561",
       "version_major": 2,
       "version_minor": 0
      },
      "text/plain": [
       "Lemmatizing:   0%|          | 0/24 [00:00<?, ?files/s]"
      ]
     },
     "metadata": {},
     "output_type": "display_data"
    },
    {
     "name": "stdout",
     "output_type": "stream",
     "text": [
      "\u001b[31m\n",
      "End Time:                  2025-07-21 12:34:23.972694\u001b[0m\n",
      "\u001b[31mTotal runtime:             0:01:13.050160\n",
      "\u001b[0m\n"
     ]
    }
   ],
   "source": [
    "lemmatize_ngrams(\n",
    "    ngram_size=1,\n",
    "    proj_dir='/vast/edk202/NLP_corpora/Google_Books/20200217/eng',\n",
    "    workers=27,\n",
    "    compress=True,\n",
    "    overwrite=True,\n",
    "    delete_input=True\n",
    ")"
   ]
  },
  {
   "cell_type": "markdown",
   "id": "dd52fad3-d372-4613-9c36-b153ca004976",
   "metadata": {},
   "source": [
    "### Filter the unigrams\n",
    "This module removes tokens that provide little information about words' semantic context: those that contain numerals (`numerals=True`), nonalphabetic characters (`nonalpha=True`), stopwords (high-frequency, low information tokens like \"the\" and \"into\"; `stops=True`), or short words (those below a certain user-specified character count; here, `min_token_length=3`).\n",
    "\n",
    "You can also specify `min_tokens`—the minumum length of a retained ngram after filtering its tokens. This is mainly intended for use when processing multigrams. However, it's still good to specify `min_tokens=1` for unigrams, as it completely discards the data for any unigram violating our criteria. Empty output files will be deleted."
   ]
  },
  {
   "cell_type": "code",
   "execution_count": null,
   "id": "68104701-700e-4b0d-8b3e-b69127a75ad0",
   "metadata": {},
   "outputs": [
    {
     "name": "stdout",
     "output_type": "stream",
     "text": [
      "\u001b[31mStart Time:                   2025-07-21 12:34:51.670848\n",
      "\u001b[0m\n",
      "\u001b[4mFiltering Info\u001b[0m\n",
      "Input directory:              /vast/edk202/NLP_corpora/Google_Books/20200217/eng/1gram_files/4lemmatize\n",
      "Output directory:             /vast/edk202/NLP_corpora/Google_Books/20200217/eng/1gram_files/5filter\n",
      "File index range:             0 to 23\n",
      "Files available:              24\n",
      "Files to use:                 24\n",
      "First file to get:            /vast/edk202/NLP_corpora/Google_Books/20200217/eng/1gram_files/4lemmatize/1-00000-of-00024.jsonl.lz4\n",
      "Last file to get:             /vast/edk202/NLP_corpora/Google_Books/20200217/eng/1gram_files/4lemmatize/1-00023-of-00024.jsonl.lz4\n",
      "Ngram size:                   1\n",
      "Number of workers:            27\n",
      "Compress output files:        True\n",
      "Overwrite existing files:     True\n",
      "Delete input directory:       True\n",
      "\n",
      "\u001b[4mFiltering Options\u001b[0m\n",
      "Drop stopwords:               True\n",
      "Drop tokens under:            3 chars\n",
      "Drop tokens with numerals:    True\n",
      "Drop non-alphabetic:          True\n",
      "Drop ngrams under:            1 token(s)\n",
      "Replace tokens:               True\n",
      "\n"
     ]
    },
    {
     "data": {
      "application/vnd.jupyter.widget-view+json": {
       "model_id": "307806f2879349d18cc9fef700123519",
       "version_major": 2,
       "version_minor": 0
      },
      "text/plain": [
       "Filtering:   0%|          | 0/24 [00:00<?, ?files/s]"
      ]
     },
     "metadata": {},
     "output_type": "display_data"
    },
    {
     "name": "stdout",
     "output_type": "stream",
     "text": [
      "\n",
      "\u001b[4mFiltering Results (Dropped)\u001b[0m\n",
      "Stopword tokens:              5609 \n",
      "Short-word tokens:            22810 \n",
      "Tokens with numerals:         13740955 \n",
      "Tokens with non-alpha chars:  2886115\n",
      "Out-of-vocab tokens:          0\n",
      "Entire ngrams:                16655489 \n",
      "\u001b[31m\n",
      "End Time:                  2025-07-21 12:35:45.574792\u001b[0m\n",
      "\u001b[31mTotal runtime:             0:00:53.903944\n",
      "\u001b[0m\n"
     ]
    }
   ],
   "source": [
    "filter_ngrams(\n",
    "    ngram_size=1,\n",
    "    proj_dir='/vast/edk202/NLP_corpora/Google_Books/20200217/eng',\n",
    "    numerals=True,\n",
    "    nonalpha=True,\n",
    "    stops=True,\n",
    "    min_token_length=3,\n",
    "    min_tokens=1,\n",
    "    workers=27,\n",
    "    compress=True,\n",
    "    overwrite=True,\n",
    "    replace_unk=False,\n",
    "    delete_input=True\n",
    ")"
   ]
  },
  {
   "cell_type": "markdown",
   "id": "dffd5722-7816-4c68-89a4-6f824ccb3e1a",
   "metadata": {},
   "source": [
    "### Sort and combine the unigram files\n",
    "This modules creates a single, fully-sorted unigram file out of the filtered files. This is crucial for the next step (ngram consolidation; see below).   \n",
    "\n",
    "Sorting a giant file is a resource-hungry process and I've tried to implement an efficient approach that leverages parallelism: We first sort the filtered files in parallel using Python's standard sorting algorithm [Timsort](https://en.wikipedia.org/wiki/Timsort); then, we incrementally [heapsort](https://en.wikipedia.org/wiki/Heapsort) the files in parallel until we get down to 2 files. Finally, we heapsort the final 2 files (necessarily using one processor) to arrive at a single combined and sorted unigram file."
   ]
  },
  {
   "cell_type": "code",
   "execution_count": 14,
   "id": "52e80618-397f-4051-b064-a8b689e77c43",
   "metadata": {},
   "outputs": [
    {
     "name": "stdout",
     "output_type": "stream",
     "text": [
      "\u001b[31mStart Time:                2025-07-21 12:37:40.299651\n",
      "\u001b[0m\n",
      "\u001b[4mSort Info\u001b[0m\n",
      "Input directory:           /vast/edk202/NLP_corpora/Google_Books/20200217/eng/1gram_files/5filter\n",
      "Sorted directory:          /vast/edk202/NLP_corpora/Google_Books/20200217/eng/1gram_files/temp\n",
      "Temp directory:            /vast/edk202/NLP_corpora/Google_Books/20200217/eng/1gram_files/tmp\n",
      "Merged file:               /vast/edk202/NLP_corpora/Google_Books/20200217/eng/1gram_files/6corpus/1gram-merged.jsonl.lz4\n",
      "Files available:           18\n",
      "First file to get:         /vast/edk202/NLP_corpora/Google_Books/20200217/eng/1gram_files/5filter/1-00006-of-00024.jsonl.lz4\n",
      "Last file to get:          /vast/edk202/NLP_corpora/Google_Books/20200217/eng/1gram_files/5filter/1-00023-of-00024.jsonl.lz4\n",
      "Files to use:              18\n",
      "Ngram size:                1\n",
      "Number of workers:         27\n",
      "Compress output files:     True\n",
      "Overwrite existing files:  True\n",
      "Sort key:                  ngram\n",
      "Sort order:                ascending\n",
      "Heap-merge start iter:     1\n",
      "Heap-merge end iter:       None\n",
      "Deleted sorted files:      True\n",
      "\n"
     ]
    },
    {
     "data": {
      "application/vnd.jupyter.widget-view+json": {
       "model_id": "1aaf9bf547f04094853c6fd29444ad4f",
       "version_major": 2,
       "version_minor": 0
      },
      "text/plain": [
       "Sorting:   0%|          | 0/18 [00:00<?, ?files/s]"
      ]
     },
     "metadata": {},
     "output_type": "display_data"
    },
    {
     "name": "stdout",
     "output_type": "stream",
     "text": [
      "\n",
      "Iteration 1: merging 18 files into 9 chunks using 9 workers.\n",
      "  9 chunk(s) with 2 file(s)\n",
      "\n",
      "Iteration 2: merging 9 files into 4 chunks using 4 workers.\n",
      "  3 chunk(s) with 2 file(s)\n",
      "  1 chunk(s) with 3 file(s)\n",
      "\n",
      "Iteration 3: merging 4 files into 2 chunks using 2 workers.\n",
      "  2 chunk(s) with 2 file(s)\n",
      "\n",
      "Iteration 4: final merge of 2 files.\n"
     ]
    },
    {
     "data": {
      "application/vnd.jupyter.widget-view+json": {
       "model_id": "339fa797a360462eb00f75e37a461d2d",
       "version_major": 2,
       "version_minor": 0
      },
      "text/plain": [
       "Merging:   0%|          | 0/25127726 [00:00<?, ?lines/s]"
      ]
     },
     "metadata": {},
     "output_type": "display_data"
    },
    {
     "name": "stdout",
     "output_type": "stream",
     "text": [
      "\n",
      "Merging complete. Final merged file:\n",
      "/vast/edk202/NLP_corpora/Google_Books/20200217/eng/1gram_files/6corpus/1gram-merged.jsonl.lz4\n",
      "\u001b[31m\n",
      "End Time:                  2025-07-21 12:57:48.057527\u001b[0m\n",
      "\u001b[31mTotal runtime:             0:20:07.757876\n",
      "\u001b[0m\n"
     ]
    }
   ],
   "source": [
    "sort_ngrams(\n",
    "    ngram_size=1,\n",
    "    proj_dir='/vast/edk202/NLP_corpora/Google_Books/20200217/eng',\n",
    "    sort_key='ngram',\n",
    "    workers=27,\n",
    "    compress=True,\n",
    "    overwrite=True,\n",
    "    sort_order='ascending',\n",
    "    delete_input=True\n",
    ")"
   ]
  },
  {
   "cell_type": "markdown",
   "id": "5cc33c06-ca7f-4d99-9949-7520ef0e0c98",
   "metadata": {},
   "source": [
    "### Verify sort [OPTIONAL]\n",
    "If we want, we can verify that the output file is correctly sorted. If the script outputs `True`, then the file is sorted. Bear in mind that you need to specify the file path manually here; be sure to use the right file extension based on whether `sort_ngrams` was run with `compress=True`."
   ]
  },
  {
   "cell_type": "code",
   "execution_count": 19,
   "id": "2cfd12d0-5dfc-482e-a145-0306b4e01ab2",
   "metadata": {},
   "outputs": [
    {
     "name": "stdout",
     "output_type": "stream",
     "text": [
      "Lines: 0line [00:00, ?line/s]"
     ]
    },
    {
     "name": "stdout",
     "output_type": "stream",
     "text": [
      "Lines: 25127726line [06:14, 67058.01line/s]\n",
      "\n",
      "The file is sorted.\n"
     ]
    }
   ],
   "source": [
    "check_file_sorted(\n",
    "    input_file=(\n",
    "        '/vast/edk202/NLP_corpora/Google_Books/20200217/eng/'\n",
    "        '1gram_files/6corpus/1gram-merged.jsonl.lz4'\n",
    "    ),\n",
    "    field=\"ngram\",\n",
    "    sort_order=\"ascending\"\n",
    ")"
   ]
  },
  {
   "cell_type": "markdown",
   "id": "353a8ec7-38b8-4d5d-8356-1af9f8e26bf9",
   "metadata": {},
   "source": [
    "### Consolidate duplicate unigrams\n",
    "This module consolidates the sorted unigram file. Lowercasing and lemmatizing produce duplicate unigrams. Now that the file is sorted, we can scan through it and consolidate consecutive idential duplicates. This involves summing their overall and yearly frequencies and documents."
   ]
  },
  {
   "cell_type": "code",
   "execution_count": 21,
   "id": "d8609476-7636-43c6-8945-1eb6b104f999",
   "metadata": {},
   "outputs": [
    {
     "name": "stdout",
     "output_type": "stream",
     "text": [
      "\u001b[31mStart Time:                2025-07-21 13:06:53.071867\n",
      "\u001b[0m\n",
      "\u001b[4mConsolidation Info\u001b[0m\n",
      "Merged file:               /vast/edk202/NLP_corpora/Google_Books/20200217/eng/1gram_files/6corpus/1gram-merged.jsonl.lz4\n",
      "Corpus file:               /vast/edk202/NLP_corpora/Google_Books/20200217/eng/1gram_files/6corpus/1gram-corpus.jsonl.lz4\n",
      "Temporary directory:       /vast/edk202/NLP_corpora/Google_Books/20200217/eng/1gram_files/temp_chunks\n",
      "Ngram size:                1\n",
      "Number of workers:         48\n",
      "Compress output files:     True\n",
      "Overwrite existing files:  True\n",
      "\n",
      "Created and Sorted: 0 chunks\r"
     ]
    },
    {
     "name": "stdout",
     "output_type": "stream",
     "text": [
      "Created and Sorted: 51 chunks\n",
      "Merged: 51 chunks\n",
      "\n",
      "\u001b[31m\n",
      "End Time:                  2025-07-21 13:14:57.147241\u001b[0m\n",
      "\u001b[31mTotal runtime:             0:08:04.075374\n",
      "\u001b[0m\n"
     ]
    }
   ],
   "source": [
    "consolidate_duplicate_ngrams(\n",
    "    ngram_size=1,\n",
    "    proj_dir='/vast/edk202/NLP_corpora/Google_Books/20200217/eng',\n",
    "    lines_per_chunk=500000,\n",
    "    workers=27,\n",
    "    compress=True,\n",
    "    overwrite=True\n",
    ")"
   ]
  },
  {
   "cell_type": "markdown",
   "id": "fc294ed6-399f-4fbd-91e4-8e55e86950d0",
   "metadata": {},
   "source": [
    "### Index unigrams and create vocabulary file\n",
    "Most use cases will require an indexed list of \"valid\" (i.e., reasonably common) vocabulary words. This indexing script serves the dual functions of (1) mapping each unigram to an index number (saved in `/6corpus/1gram-corpus-indexed.jsonl`) and (2) culling this file into a vocabulary list consisting of the _n_ most frequent unigrams (saved in `6corpus/1gram-corpus-vocab_list_match.txt`). The vocabulary file provides a critical means of filtering excessively rare words out of the corpus. Unlike files upstream in the workflow, the vocabulary files are not large and don't need to be compressed."
   ]
  },
  {
   "cell_type": "code",
   "execution_count": 22,
   "id": "e858de53-fe04-4a7d-bab5-9eed5cdf0011",
   "metadata": {},
   "outputs": [
    {
     "name": "stdout",
     "output_type": "stream",
     "text": [
      "\u001b[31mStart Time:                2025-07-21 13:16:00.237393\n",
      "\u001b[0m\n",
      "\u001b[4mIndexing Info\u001b[0m\n",
      "Corpus file:               /vast/edk202/NLP_corpora/Google_Books/20200217/eng/1gram_files/6corpus/1gram-corpus.jsonl.lz4\n",
      "Indexed file:              /vast/edk202/NLP_corpora/Google_Books/20200217/eng/1gram_files/6corpus/1gram-indexed.jsonl.lz4\n",
      "Ngram size:                1\n",
      "Number of workers:         27\n",
      "Compress output files:     True\n",
      "Overwrite existing files:  True\n",
      "\n",
      "\u001b[4mVocabulary Info\u001b[0m\n",
      "Vocab size (top N):        80000\n",
      "Match File:                /vast/edk202/NLP_corpora/Google_Books/20200217/eng/1gram_files/6corpus/1gram-corpus-vocab_list_match.txt\n",
      "Lookup File:               /vast/edk202/NLP_corpora/Google_Books/20200217/eng/1gram_files/6corpus/1gram-corpus-vocab_list_lookup.jsonl\n",
      "\n"
     ]
    },
    {
     "data": {
      "application/vnd.jupyter.widget-view+json": {
       "model_id": "ef54a3f55f684562a81d212e355b3705",
       "version_major": 2,
       "version_minor": 0
      },
      "text/plain": [
       "Chunking:   0%|          | 0/13499384 [00:00<?, ?lines/s]"
      ]
     },
     "metadata": {},
     "output_type": "display_data"
    },
    {
     "data": {
      "application/vnd.jupyter.widget-view+json": {
       "model_id": "2172f3962af74ea08717df07e35e6331",
       "version_major": 2,
       "version_minor": 0
      },
      "text/plain": [
       "Sorting:   0%|          | 0/135 [00:00<?, ?chunks/s]"
      ]
     },
     "metadata": {},
     "output_type": "display_data"
    },
    {
     "data": {
      "application/vnd.jupyter.widget-view+json": {
       "model_id": "c2163be15dc74418ad9825f42fcc791d",
       "version_major": 2,
       "version_minor": 0
      },
      "text/plain": [
       "Merging:   0%|          | 0/13499384 [00:00<?, ?lines/s]"
      ]
     },
     "metadata": {},
     "output_type": "display_data"
    },
    {
     "data": {
      "application/vnd.jupyter.widget-view+json": {
       "model_id": "cebc6fc628484f999c0e057ae575aba1",
       "version_major": 2,
       "version_minor": 0
      },
      "text/plain": [
       "Indexing:   0%|          | 0/13499384 [00:00<?, ?lines/s]"
      ]
     },
     "metadata": {},
     "output_type": "display_data"
    },
    {
     "name": "stdout",
     "output_type": "stream",
     "text": [
      "\n",
      "Indexed 13499384 lines.\n",
      "Final indexed file: 1gram-corpus-indexed.jsonl.lz4\n",
      "Created vocab_list_match and vocab_list_lookup files for top 80000 ngrams.\n",
      "\u001b[31m\n",
      "End Time:                  2025-07-21 13:29:42.404221\u001b[0m\n",
      "\u001b[31mTotal runtime:             0:13:42.166828\n",
      "\u001b[0m\n"
     ]
    }
   ],
   "source": [
    "index_and_create_vocab_files(\n",
    "    ngram_size=1,\n",
    "    proj_dir='/vast/edk202/NLP_corpora/Google_Books/20200217/eng',\n",
    "    workers=27,\n",
    "    compress=True,\n",
    "    overwrite=True,\n",
    "    vocab_n=80000\n",
    ")"
   ]
  },
  {
   "cell_type": "markdown",
   "id": "f5142c8d-50fa-4387-9383-f901492bace2",
   "metadata": {},
   "source": [
    "### Verify indexing [OPTIONAL]\n",
    "We can verify that the final indexed file looks right."
   ]
  },
  {
   "cell_type": "code",
   "execution_count": 27,
   "id": "2824a58d-213e-4c4a-8917-78909994239b",
   "metadata": {},
   "outputs": [
    {
     "name": "stdout",
     "output_type": "stream",
     "text": [
      "Line 70000: {'ngram': 'herve', 'freq_tot': 259695, 'doc_tot': 121103, 'freq': {'1633': 1, '1675': 1, '1677': 1, '1679': 1, '1683': 1, '1686': 1, '1693': 1, '1705': 2, '1723': 1, '1728': 1, '1738': 1, '1739': 1, '1741': 1, '1742': 2, '1746': 1, '1748': 1, '1752': 1, '1754': 2, '1756': 1, '1757': 2, '1758': 1, '1760': 6, '1761': 3, '1762': 1, '1763': 1, '1764': 2, '1765': 2, '1766': 2, '1767': 1, '1769': 6, '1773': 4, '1774': 4, '1775': 1, '1776': 2, '1781': 1, '1782': 7, '1784': 4, '1786': 2, '1788': 2, '1790': 6, '1791': 2, '1792': 3, '1793': 10, '1794': 14, '1795': 7, '1796': 26, '1797': 2, '1798': 6, '1799': 3, '1800': 29, '1802': 10, '1803': 7, '1804': 22, '1805': 66, '1806': 65, '1807': 14, '1808': 95, '1809': 4, '1810': 33, '1811': 30, '1812': 10, '1813': 12, '1814': 16, '1815': 36, '1816': 38, '1817': 89, '1818': 17, '1819': 17, '1820': 27, '1821': 33, '1822': 19, '1823': 16, '1824': 43, '1825': 31, '1826': 21, '1827': 33, '1828': 14, '1829': 27, '1830': 34, '1831': 26, '1832': 35, '1833': 29, '1834': 23, '1835': 55, '1836': 39, '1837': 94, '1838': 138, '1839': 148, '1840': 45, '1841': 43, '1842': 42, '1843': 35, '1844': 56, '1845': 60, '1846': 38, '1847': 78, '1848': 32, '1849': 93, '1850': 79, '1851': 197, '1852': 137, '1853': 120, '1854': 167, '1855': 427, '1856': 189, '1857': 180, '1858': 125, '1859': 152, '1860': 201, '1861': 174, '1862': 123, '1863': 189, '1864': 95, '1865': 129, '1866': 188, '1867': 137, '1868': 155, '1869': 170, '1870': 262, '1871': 355, '1872': 285, '1873': 364, '1874': 378, '1875': 342, '1876': 281, '1877': 359, '1878': 337, '1879': 303, '1880': 323, '1881': 275, '1882': 260, '1883': 370, '1884': 431, '1885': 402, '1886': 402, '1887': 536, '1888': 426, '1889': 443, '1890': 816, '1891': 457, '1892': 391, '1893': 404, '1894': 517, '1895': 743, '1896': 649, '1897': 711, '1898': 551, '1899': 915, '1900': 1022, '1901': 615, '1902': 820, '1903': 697, '1904': 552, '1905': 911, '1906': 985, '1907': 1110, '1908': 1034, '1909': 1048, '1910': 1127, '1911': 1036, '1912': 1273, '1913': 962, '1914': 965, '1915': 1720, '1916': 1531, '1917': 1366, '1918': 1276, '1919': 1054, '1920': 959, '1921': 870, '1922': 833, '1923': 423, '1924': 472, '1925': 476, '1926': 546, '1927': 459, '1928': 456, '1929': 443, '1930': 460, '1931': 545, '1932': 487, '1933': 297, '1934': 430, '1935': 367, '1936': 453, '1937': 415, '1938': 456, '1939': 298, '1940': 473, '1941': 356, '1942': 381, '1943': 473, '1944': 514, '1945': 340, '1946': 560, '1947': 507, '1948': 529, '1949': 793, '1950': 1438, '1951': 1339, '1952': 1034, '1953': 919, '1954': 808, '1955': 1119, '1956': 1288, '1957': 1119, '1958': 1357, '1959': 1280, '1960': 1065, '1961': 1073, '1962': 1342, '1963': 1589, '1964': 1615, '1965': 1479, '1966': 1860, '1967': 1953, '1968': 2083, '1969': 1734, '1970': 2273, '1971': 1946, '1972': 1884, '1973': 2073, '1974': 2176, '1975': 1986, '1976': 1884, '1977': 2142, '1978': 1871, '1979': 2368, '1980': 2561, '1981': 2320, '1982': 2627, '1983': 2482, '1984': 3123, '1985': 3262, '1986': 3507, '1987': 3564, '1988': 3509, '1989': 3937, '1990': 4123, '1991': 4443, '1992': 4683, '1993': 4415, '1994': 5030, '1995': 5125, '1996': 5795, '1997': 5555, '1998': 5234, '1999': 5923, '2000': 5398, '2001': 5238, '2002': 5702, '2003': 6485, '2004': 6481, '2005': 5366, '2006': 5467, '2007': 5769, '2008': 4690, '2009': 3259, '2010': 2552, '2011': 2230, '2012': 2805, '2013': 2773, '2014': 2247, '2015': 2021, '2016': 2366, '2017': 1692, '2018': 1490, '2019': 1366, '1692': 1, '1727': 1, '1753': 1, '1768': 1, '1770': 2, '1789': 1, '1717': 1, '1779': 1, '1785': 1, '1737': 1, '1771': 1, '1772': 2}, 'doc': {'1633': 1, '1675': 1, '1677': 1, '1679': 1, '1683': 1, '1686': 1, '1693': 1, '1705': 2, '1723': 1, '1728': 1, '1738': 1, '1739': 1, '1741': 1, '1742': 2, '1746': 1, '1748': 1, '1752': 1, '1754': 2, '1756': 1, '1757': 2, '1758': 1, '1760': 5, '1761': 3, '1762': 1, '1763': 1, '1764': 2, '1765': 2, '1766': 2, '1767': 1, '1769': 6, '1773': 3, '1774': 3, '1775': 1, '1776': 2, '1781': 1, '1782': 4, '1784': 1, '1786': 2, '1788': 2, '1790': 1, '1791': 2, '1792': 3, '1793': 5, '1794': 9, '1795': 7, '1796': 9, '1797': 2, '1798': 6, '1799': 3, '1800': 11, '1802': 8, '1803': 7, '1804': 17, '1805': 10, '1806': 24, '1807': 12, '1808': 23, '1809': 3, '1810': 21, '1811': 24, '1812': 9, '1813': 10, '1814': 11, '1815': 25, '1816': 37, '1817': 19, '1818': 15, '1819': 11, '1820': 21, '1821': 8, '1822': 15, '1823': 12, '1824': 39, '1825': 18, '1826': 14, '1827': 26, '1828': 11, '1829': 21, '1830': 19, '1831': 13, '1832': 26, '1833': 24, '1834': 17, '1835': 32, '1836': 21, '1837': 49, '1838': 80, '1839': 61, '1840': 38, '1841': 33, '1842': 36, '1843': 27, '1844': 43, '1845': 51, '1846': 25, '1847': 35, '1848': 25, '1849': 49, '1850': 57, '1851': 78, '1852': 49, '1853': 81, '1854': 80, '1855': 81, '1856': 78, '1857': 98, '1858': 56, '1859': 71, '1860': 93, '1861': 87, '1862': 74, '1863': 42, '1864': 63, '1865': 75, '1866': 82, '1867': 81, '1868': 99, '1869': 108, '1870': 130, '1871': 149, '1872': 137, '1873': 152, '1874': 176, '1875': 159, '1876': 167, '1877': 208, '1878': 157, '1879': 149, '1880': 210, '1881': 165, '1882': 158, '1883': 193, '1884': 218, '1885': 186, '1886': 223, '1887': 217, '1888': 257, '1889': 241, '1890': 340, '1891': 272, '1892': 264, '1893': 253, '1894': 295, '1895': 323, '1896': 334, '1897': 349, '1898': 313, '1899': 400, '1900': 339, '1901': 321, '1902': 409, '1903': 383, '1904': 351, '1905': 445, '1906': 493, '1907': 553, '1908': 489, '1909': 490, '1910': 599, '1911': 603, '1912': 583, '1913': 563, '1914': 562, '1915': 788, '1916': 669, '1917': 749, '1918': 597, '1919': 558, '1920': 565, '1921': 473, '1922': 507, '1923': 285, '1924': 252, '1925': 236, '1926': 266, '1927': 242, '1928': 264, '1929': 255, '1930': 242, '1931': 257, '1932': 246, '1933': 175, '1934': 217, '1935': 210, '1936': 172, '1937': 205, '1938': 196, '1939': 178, '1940': 250, '1941': 200, '1942': 202, '1943': 259, '1944': 219, '1945': 196, '1946': 313, '1947': 253, '1948': 310, '1949': 385, '1950': 445, '1951': 520, '1952': 471, '1953': 405, '1954': 463, '1955': 571, '1956': 624, '1957': 607, '1958': 590, '1959': 612, '1960': 612, '1961': 614, '1962': 664, '1963': 800, '1964': 704, '1965': 813, '1966': 909, '1967': 916, '1968': 990, '1969': 969, '1970': 986, '1971': 1045, '1972': 930, '1973': 977, '1974': 943, '1975': 899, '1976': 1025, '1977': 1033, '1978': 1018, '1979': 1157, '1980': 1163, '1981': 1121, '1982': 1260, '1983': 1318, '1984': 1435, '1985': 1496, '1986': 1646, '1987': 1688, '1988': 1741, '1989': 1790, '1990': 1929, '1991': 2009, '1992': 2113, '1993': 2069, '1994': 2165, '1995': 2324, '1996': 2459, '1997': 2408, '1998': 2187, '1999': 2176, '2000': 2355, '2001': 2342, '2002': 2388, '2003': 2468, '2004': 2484, '2005': 2353, '2006': 2410, '2007': 2354, '2008': 1998, '2009': 1682, '2010': 1151, '2011': 1130, '2012': 1399, '2013': 1441, '2014': 1003, '2015': 900, '2016': 925, '2017': 804, '2018': 787, '2019': 706, '1692': 1, '1727': 1, '1753': 1, '1768': 1, '1770': 1, '1789': 1, '1717': 1, '1779': 1, '1785': 1, '1737': 1, '1771': 1, '1772': 1}, 'idx': 70000}\n",
      "Line 70001: {'ngram': 'gmm', 'freq_tot': 259687, 'doc_tot': 52524, 'freq': {'1707': 1, '1727': 2, '1737': 1, '1824': 6, '1841': 7, '1850': 20, '1853': 16, '1860': 66, '1868': 38, '1871': 38, '1875': 77, '1884': 53, '1898': 67, '1899': 86, '1900': 102, '1907': 71, '1912': 96, '1914': 102, '1916': 133, '1917': 76, '1919': 88, '1921': 102, '1922': 106, '1923': 49, '1926': 21, '1928': 24, '1929': 37, '1936': 52, '1938': 31, '1948': 49, '1950': 140, '1951': 58, '1952': 91, '1954': 148, '1955': 85, '1956': 72, '1957': 166, '1958': 165, '1959': 176, '1960': 160, '1961': 281, '1962': 212, '1964': 1201, '1965': 195, '1966': 186, '1967': 282, '1968': 170, '1969': 308, '1970': 255, '1972': 322, '1973': 373, '1974': 423, '1975': 464, '1976': 350, '1977': 541, '1978': 496, '1979': 892, '1980': 717, '1981': 629, '1982': 514, '1983': 1001, '1984': 862, '1985': 860, '1986': 932, '1988': 1091, '1989': 1222, '1990': 1618, '1991': 1859, '1992': 2104, '1993': 2766, '1994': 4482, '1995': 3333, '1996': 4221, '1997': 4943, '1998': 4609, '1999': 5343, '2000': 6992, '2001': 7429, '2002': 7180, '2003': 10505, '2004': 11226, '2005': 13251, '2006': 9933, '2007': 11461, '2008': 9761, '2009': 9504, '2010': 7688, '2011': 12074, '2012': 12887, '2013': 10647, '2015': 9899, '2016': 10204, '1715': 1, '1766': 1, '1790': 2, '1838': 6, '1866': 28, '1877': 73, '1878': 81, '1890': 72, '1893': 91, '1896': 76, '1905': 67, '1908': 100, '1910': 100, '1915': 87, '1918': 92, '1932': 21, '1949': 119, '1971': 460, '2014': 10286, '1789': 2, '1801': 2, '1809': 2, '1816': 2, '1819': 6, '1822': 6, '1825': 3, '1828': 7, '1839': 10, '1840': 8, '1843': 6, '1845': 7, '1849': 12, '1851': 30, '1852': 13, '1854': 19, '1855': 14, '1856': 22, '1857': 20, '1858': 21, '1859': 24, '1861': 22, '1863': 28, '1864': 17, '1865': 36, '1867': 24, '1869': 37, '1870': 37, '1872': 43, '1873': 63, '1874': 56, '1876': 65, '1879': 99, '1880': 66, '1881': 57, '1882': 74, '1883': 51, '1885': 60, '1886': 68, '1887': 69, '1888': 45, '1891': 68, '1892': 91, '1894': 66, '1895': 73, '1897': 53, '1901': 113, '1902': 99, '1903': 127, '1904': 105, '1906': 108, '1909': 109, '1911': 106, '1913': 88, '1920': 100, '1924': 33, '1925': 25, '1927': 20, '1930': 144, '1931': 20, '1935': 20, '1937': 38, '1939': 29, '1940': 123, '1942': 55, '1943': 65, '1944': 24, '1946': 30, '1947': 60, '1963': 292, '1987': 1258, '2017': 9720, '2018': 9071, '2019': 10239, '1500': 2, '1674': 2, '1688': 1, '1752': 1, '1755': 1, '1783': 1, '1785': 1, '1804': 6, '1805': 3, '1806': 2, '1807': 4, '1810': 1, '1813': 4, '1814': 2, '1821': 4, '1823': 1, '1826': 5, '1829': 1, '1831': 3, '1833': 3, '1835': 6, '1836': 3, '1837': 4, '1842': 3, '1844': 12, '1847': 11, '1848': 6, '1862': 27, '1889': 78, '1933': 28, '1934': 20, '1941': 84, '1945': 28, '1953': 113, '1676': 1, '1832': 5, '1812': 4, '1602': 1, '1679': 1, '1701': 1, '1777': 1, '1792': 1, '1811': 2, '1846': 4, '1501': 1, '1712': 1, '1767': 1, '1803': 1, '1834': 3, '1705': 1, '1725': 1, '1759': 3, '1702': 1, '1717': 2, '1784': 1, '1605': 1, '1641': 1, '1704': 1, '1710': 1, '1720': 1, '1729': 1, '1745': 1, '1760': 1, '1782': 1, '1817': 1, '1820': 1, '1827': 2, '1830': 1, '1795': 1}, 'doc': {'1707': 1, '1727': 2, '1737': 1, '1824': 6, '1841': 7, '1850': 18, '1853': 16, '1860': 31, '1868': 33, '1871': 30, '1875': 51, '1884': 52, '1898': 67, '1899': 80, '1900': 86, '1907': 67, '1912': 91, '1914': 99, '1916': 117, '1917': 71, '1919': 84, '1921': 93, '1922': 92, '1923': 46, '1926': 21, '1928': 24, '1929': 37, '1936': 31, '1938': 18, '1948': 38, '1950': 68, '1951': 43, '1952': 46, '1954': 72, '1955': 61, '1956': 53, '1957': 79, '1958': 86, '1959': 97, '1960': 100, '1961': 140, '1962': 106, '1964': 162, '1965': 122, '1966': 125, '1967': 161, '1968': 138, '1969': 202, '1970': 190, '1972': 206, '1973': 214, '1974': 211, '1975': 241, '1976': 204, '1977': 245, '1978': 248, '1979': 251, '1980': 256, '1981': 376, '1982': 223, '1983': 250, '1984': 295, '1985': 292, '1986': 292, '1988': 377, '1989': 420, '1990': 484, '1991': 527, '1992': 557, '1993': 615, '1994': 882, '1995': 770, '1996': 804, '1997': 900, '1998': 953, '1999': 982, '2000': 1131, '2001': 1343, '2002': 1395, '2003': 1619, '2004': 1786, '2005': 1884, '2006': 1964, '2007': 1788, '2008': 1650, '2009': 1662, '2010': 1457, '2011': 1622, '2012': 2047, '2013': 1771, '2015': 1477, '2016': 1535, '1715': 1, '1766': 1, '1790': 2, '1838': 6, '1866': 28, '1877': 50, '1878': 61, '1890': 64, '1893': 82, '1896': 68, '1905': 66, '1908': 99, '1910': 97, '1915': 84, '1918': 86, '1932': 19, '1949': 58, '1971': 246, '2014': 1452, '1789': 2, '1801': 2, '1809': 2, '1816': 2, '1819': 6, '1822': 6, '1825': 3, '1828': 7, '1839': 10, '1840': 7, '1843': 6, '1845': 7, '1849': 10, '1851': 24, '1852': 13, '1854': 19, '1855': 14, '1856': 21, '1857': 20, '1858': 21, '1859': 21, '1861': 21, '1863': 26, '1864': 16, '1865': 34, '1867': 23, '1869': 36, '1870': 35, '1872': 35, '1873': 38, '1874': 44, '1876': 50, '1879': 71, '1880': 60, '1881': 49, '1882': 62, '1883': 51, '1885': 54, '1886': 63, '1887': 66, '1888': 41, '1891': 56, '1892': 61, '1894': 60, '1895': 71, '1897': 52, '1901': 84, '1902': 89, '1903': 94, '1904': 86, '1906': 92, '1909': 72, '1911': 102, '1913': 84, '1920': 79, '1924': 21, '1925': 18, '1927': 20, '1930': 32, '1931': 20, '1935': 20, '1937': 31, '1939': 27, '1940': 23, '1942': 43, '1943': 37, '1944': 23, '1946': 28, '1947': 28, '1963': 120, '1987': 337, '2017': 1638, '2018': 1577, '2019': 1677, '1500': 2, '1674': 2, '1688': 1, '1752': 1, '1755': 1, '1783': 1, '1785': 1, '1804': 5, '1805': 2, '1806': 2, '1807': 4, '1810': 1, '1813': 4, '1814': 2, '1821': 4, '1823': 1, '1826': 5, '1829': 1, '1831': 3, '1833': 3, '1835': 6, '1836': 3, '1837': 4, '1842': 3, '1844': 11, '1847': 11, '1848': 6, '1862': 25, '1889': 69, '1933': 20, '1934': 18, '1941': 45, '1945': 27, '1953': 41, '1676': 1, '1832': 5, '1812': 4, '1602': 1, '1679': 1, '1701': 1, '1777': 1, '1792': 1, '1811': 2, '1846': 4, '1501': 1, '1712': 1, '1767': 1, '1803': 1, '1834': 3, '1705': 1, '1725': 1, '1759': 3, '1702': 1, '1717': 2, '1784': 1, '1605': 1, '1641': 1, '1704': 1, '1710': 1, '1720': 1, '1729': 1, '1745': 1, '1760': 1, '1782': 1, '1817': 1, '1820': 1, '1827': 2, '1830': 1, '1795': 1}, 'idx': 70001}\n",
      "Line 70002: {'ngram': 'societas', 'freq_tot': 259684, 'doc_tot': 128189, 'freq': {'1841': 407, '1856': 266, '1858': 226, '1860': 234, '1865': 174, '1870': 400, '1872': 236, '1884': 372, '1892': 719, '1906': 676, '1918': 453, '1922': 600, '1928': 539, '1949': 722, '1953': 3170, '1964': 1412, '1967': 3191, '1968': 1958, '1971': 2162, '1976': 2276, '1977': 2172, '1978': 2919, '1979': 2584, '1980': 3051, '1981': 3004, '1985': 3861, '1994': 3186, '2006': 4439, '2015': 3874, '2016': 4857, '1563': 1, '1601': 1, '1631': 6, '1655': 3, '1656': 3, '1661': 1, '1662': 4, '1670': 1, '1693': 3, '1697': 1, '1698': 2, '1702': 1, '1703': 1, '1707': 1, '1708': 3, '1712': 1, '1715': 2, '1716': 1, '1721': 1, '1722': 2, '1723': 2, '1727': 2, '1729': 8, '1731': 3, '1732': 3, '1733': 4, '1737': 6, '1742': 4, '1744': 6, '1745': 1, '1748': 4, '1750': 6, '1752': 4, '1755': 7, '1760': 5, '1761': 20, '1763': 4, '1766': 13, '1767': 6, '1768': 3, '1770': 4, '1772': 3, '1773': 1, '1775': 7, '1777': 7, '1779': 7, '1780': 3, '1782': 6, '1783': 8, '1784': 19, '1785': 2, '1786': 3, '1787': 15, '1789': 5, '1790': 7, '1792': 14, '1793': 6, '1794': 18, '1795': 14, '1796': 14, '1797': 13, '1798': 9, '1799': 15, '1800': 14, '1801': 18, '1802': 16, '1803': 38, '1804': 47, '1805': 6, '1806': 48, '1807': 47, '1808': 52, '1809': 23, '1810': 58, '1811': 54, '1812': 111, '1813': 58, '1814': 61, '1815': 46, '1816': 113, '1817': 38, '1818': 62, '1819': 49, '1820': 37, '1821': 50, '1822': 59, '1823': 65, '1824': 90, '1825': 129, '1826': 90, '1827': 59, '1828': 95, '1829': 89, '1830': 181, '1831': 65, '1832': 101, '1833': 76, '1834': 141, '1835': 105, '1836': 96, '1837': 132, '1838': 176, '1839': 205, '1840': 129, '1842': 188, '1843': 316, '1844': 144, '1845': 308, '1846': 428, '1847': 144, '1848': 305, '1849': 193, '1850': 233, '1851': 249, '1852': 242, '1853': 348, '1854': 443, '1855': 319, '1857': 284, '1859': 529, '1861': 276, '1862': 159, '1863': 284, '1864': 158, '1866': 175, '1867': 175, '1868': 243, '1869': 216, '1871': 320, '1873': 280, '1874': 287, '1875': 287, '1876': 463, '1877': 237, '1878': 366, '1879': 228, '1880': 426, '1881': 453, '1882': 276, '1883': 464, '1885': 425, '1886': 595, '1887': 489, '1888': 349, '1889': 410, '1890': 584, '1891': 429, '1893': 485, '1894': 519, '1895': 616, '1896': 505, '1897': 441, '1898': 639, '1899': 508, '1900': 501, '1901': 773, '1902': 698, '1903': 649, '1904': 609, '1905': 658, '1907': 791, '1908': 657, '1909': 607, '1910': 795, '1911': 939, '1912': 912, '1913': 705, '1914': 822, '1915': 497, '1916': 652, '1917': 1310, '1919': 390, '1920': 459, '1921': 608, '1923': 588, '1924': 286, '1925': 615, '1926': 779, '1927': 493, '1929': 435, '1930': 390, '1931': 582, '1932': 687, '1933': 483, '1934': 1185, '1935': 673, '1936': 939, '1937': 570, '1938': 639, '1939': 895, '1940': 476, '1941': 581, '1942': 300, '1943': 308, '1944': 433, '1945': 443, '1946': 510, '1947': 540, '1948': 645, '1950': 1123, '1951': 905, '1952': 852, '1954': 934, '1955': 1466, '1956': 1070, '1957': 2164, '1958': 948, '1959': 942, '1960': 1135, '1961': 1468, '1962': 2359, '1963': 1788, '1965': 1809, '1966': 1833, '1969': 2038, '1970': 2242, '1972': 2483, '1973': 2605, '1974': 2454, '1975': 2350, '1982': 2479, '1983': 2489, '1984': 2821, '1986': 2465, '1987': 3263, '1988': 3047, '1989': 4039, '1990': 3391, '1991': 3250, '1992': 3091, '1993': 3283, '1995': 2968, '1996': 3700, '1997': 3869, '1998': 3436, '1999': 3413, '2000': 3605, '2001': 4367, '2002': 4149, '2003': 5001, '2004': 4227, '2005': 4607, '2007': 4494, '2008': 4378, '2009': 4145, '2010': 3558, '2011': 2985, '2012': 4180, '2013': 4943, '2014': 3902, '2017': 4439, '2018': 3919, '2019': 3149, '1659': 1, '1675': 1, '1682': 1, '1696': 1, '1709': 2, '1726': 1, '1738': 3, '1739': 3, '1741': 5, '1753': 7, '1788': 13, '1774': 9, '1756': 1, '1651': 1, '1654': 3, '1704': 1, '1719': 2, '1724': 1, '1730': 1, '1740': 5, '1743': 1, '1751': 2, '1754': 2, '1757': 2, '1758': 1, '1759': 2, '1762': 1, '1764': 1, '1765': 4, '1769': 3, '1771': 3, '1791': 3, '1582': 1, '1669': 1, '1710': 1, '1734': 2, '1746': 2, '1776': 1, '1781': 3}, 'doc': {'1841': 173, '1856': 180, '1858': 185, '1860': 205, '1865': 105, '1870': 223, '1872': 173, '1884': 281, '1892': 352, '1906': 471, '1918': 281, '1922': 399, '1928': 320, '1949': 480, '1953': 580, '1964': 826, '1967': 1259, '1968': 1169, '1971': 1072, '1976': 1067, '1977': 1028, '1978': 1153, '1979': 1205, '1980': 1344, '1981': 1251, '1985': 1323, '1994': 1504, '2006': 2153, '2015': 1935, '2016': 2303, '1563': 1, '1601': 1, '1631': 6, '1655': 2, '1656': 3, '1661': 1, '1662': 2, '1670': 1, '1693': 3, '1697': 1, '1698': 2, '1702': 1, '1703': 1, '1707': 1, '1708': 2, '1712': 1, '1715': 2, '1716': 1, '1721': 1, '1722': 2, '1723': 2, '1727': 2, '1729': 7, '1731': 3, '1732': 3, '1733': 4, '1737': 5, '1742': 4, '1744': 6, '1745': 1, '1748': 4, '1750': 4, '1752': 4, '1755': 7, '1760': 5, '1761': 15, '1763': 4, '1766': 12, '1767': 5, '1768': 3, '1770': 3, '1772': 3, '1773': 1, '1775': 5, '1777': 5, '1779': 7, '1780': 3, '1782': 6, '1783': 7, '1784': 16, '1785': 2, '1786': 3, '1787': 14, '1789': 5, '1790': 6, '1792': 12, '1793': 5, '1794': 15, '1795': 14, '1796': 13, '1797': 11, '1798': 9, '1799': 14, '1800': 12, '1801': 18, '1802': 10, '1803': 31, '1804': 39, '1805': 6, '1806': 42, '1807': 43, '1808': 50, '1809': 23, '1810': 48, '1811': 44, '1812': 85, '1813': 41, '1814': 57, '1815': 40, '1816': 46, '1817': 35, '1818': 60, '1819': 46, '1820': 31, '1821': 36, '1822': 54, '1823': 58, '1824': 83, '1825': 90, '1826': 81, '1827': 52, '1828': 72, '1829': 85, '1830': 133, '1831': 62, '1832': 95, '1833': 63, '1834': 116, '1835': 91, '1836': 80, '1837': 123, '1838': 136, '1839': 181, '1840': 106, '1842': 119, '1843': 166, '1844': 122, '1845': 217, '1846': 224, '1847': 111, '1848': 191, '1849': 143, '1850': 123, '1851': 178, '1852': 177, '1853': 219, '1854': 220, '1855': 177, '1857': 157, '1859': 216, '1861': 158, '1862': 101, '1863': 135, '1864': 143, '1866': 110, '1867': 129, '1868': 168, '1869': 171, '1871': 223, '1873': 178, '1874': 212, '1875': 188, '1876': 257, '1877': 191, '1878': 213, '1879': 181, '1880': 291, '1881': 262, '1882': 220, '1883': 317, '1885': 244, '1886': 300, '1887': 272, '1888': 256, '1889': 311, '1890': 394, '1891': 316, '1893': 289, '1894': 318, '1895': 365, '1896': 337, '1897': 310, '1898': 446, '1899': 370, '1900': 353, '1901': 469, '1902': 436, '1903': 385, '1904': 383, '1905': 407, '1907': 411, '1908': 422, '1909': 380, '1910': 492, '1911': 568, '1912': 546, '1913': 421, '1914': 483, '1915': 357, '1916': 303, '1917': 351, '1919': 289, '1920': 303, '1921': 382, '1923': 363, '1924': 194, '1925': 324, '1926': 381, '1927': 296, '1929': 317, '1930': 267, '1931': 331, '1932': 303, '1933': 271, '1934': 363, '1935': 408, '1936': 412, '1937': 385, '1938': 361, '1939': 369, '1940': 306, '1941': 308, '1942': 210, '1943': 192, '1944': 218, '1945': 270, '1946': 272, '1947': 317, '1948': 351, '1950': 547, '1951': 494, '1952': 461, '1954': 538, '1955': 612, '1956': 574, '1957': 644, '1958': 590, '1959': 619, '1960': 680, '1961': 802, '1962': 885, '1963': 987, '1965': 916, '1966': 950, '1969': 1079, '1970': 1129, '1972': 1071, '1973': 1140, '1974': 1086, '1975': 1095, '1982': 1173, '1983': 1250, '1984': 1231, '1986': 1167, '1987': 1284, '1988': 1447, '1989': 1502, '1990': 1378, '1991': 1402, '1992': 1575, '1993': 1411, '1995': 1477, '1996': 1673, '1997': 1666, '1998': 1651, '1999': 1608, '2000': 1760, '2001': 1969, '2002': 1923, '2003': 2201, '2004': 2236, '2005': 2040, '2007': 2110, '2008': 2098, '2009': 1907, '2010': 1725, '2011': 1548, '2012': 2016, '2013': 2394, '2014': 1972, '2017': 2059, '2018': 1840, '2019': 1524, '1659': 1, '1675': 1, '1682': 1, '1696': 1, '1709': 2, '1726': 1, '1738': 3, '1739': 2, '1741': 5, '1753': 7, '1788': 10, '1774': 9, '1756': 1, '1651': 1, '1654': 3, '1704': 1, '1719': 1, '1724': 1, '1730': 1, '1740': 3, '1743': 1, '1751': 2, '1754': 2, '1757': 1, '1758': 1, '1759': 2, '1762': 1, '1764': 1, '1765': 4, '1769': 3, '1771': 2, '1791': 3, '1582': 1, '1669': 1, '1710': 1, '1734': 2, '1746': 2, '1776': 1, '1781': 3}, 'idx': 70002}\n"
     ]
    }
   ],
   "source": [
    "print_jsonl_lines(\n",
    "    file_path=(\n",
    "        '/vast/edk202/NLP_corpora/Google_Books/20200217/eng/'\n",
    "        '1gram_files/6corpus/1gram-corpus-indexed.jsonl.lz4'\n",
    "    ),\n",
    "    start_line=70000,\n",
    "    end_line=70002,\n",
    "    parse_json=True\n",
    ")"
   ]
  },
  {
   "cell_type": "markdown",
   "id": "694b77d7-8250-4edc-998d-da6ff9580fab",
   "metadata": {},
   "source": [
    "## Next Steps\n",
    "If you've gotten this far, you're ready to start pre-processing multigrams using the `workflow_multigrams.ipynb` notebook!"
   ]
  }
 ],
 "metadata": {
  "kernelspec": {
   "display_name": "Remote kernel: hist_w2v",
   "language": "python",
   "name": "hist_w2v"
  },
  "language_info": {
   "codemirror_mode": {
    "name": "ipython",
    "version": 3
   },
   "file_extension": ".py",
   "mimetype": "text/x-python",
   "name": "python",
   "nbconvert_exporter": "python",
   "pygments_lexer": "ipython3",
   "version": "3.11.13"
  }
 },
 "nbformat": 4,
 "nbformat_minor": 5
}
