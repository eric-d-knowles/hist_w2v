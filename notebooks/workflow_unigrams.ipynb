{
 "cells": [
  {
   "cell_type": "code",
   "execution_count": 1,
   "id": "b8ffefae-714c-4ff8-b207-230d6d0f63f3",
   "metadata": {},
   "outputs": [],
   "source": [
    "from ngram_tools.download_ngrams import download_ngram_files\n",
    "from ngram_tools.convert_to_jsonl import convert_to_jsonl_files\n",
    "from ngram_tools.lowercase_ngrams import lowercase_ngrams\n",
    "from ngram_tools.lemmatize_ngrams import lemmatize_ngrams\n",
    "from ngram_tools.filter_ngrams import filter_ngrams\n",
    "from ngram_tools.sort_ngrams import sort_ngrams\n",
    "from ngram_tools.consolidate_ngrams import consolidate_duplicate_ngrams\n",
    "from ngram_tools.index_and_create_vocab import index_and_create_vocab_files\n",
    "from ngram_tools.helpers.verify_sort import check_file_sorted\n",
    "from ngram_tools.helpers.print_jsonl_lines import print_jsonl_lines"
   ]
  },
  {
   "cell_type": "markdown",
   "id": "33cdb7cc-0186-4bbc-bc10-22b433eca869",
   "metadata": {
    "editable": true,
    "slideshow": {
     "slide_type": ""
    },
    "tags": []
   },
   "source": [
    "# **Process Unigrams to Generate a Vocabulary File**"
   ]
  },
  {
   "cell_type": "markdown",
   "id": "ecddde54-96c0-4461-a0f7-6ef2bbecd065",
   "metadata": {},
   "source": [
    "## **Goal**: Make a list of the _n_ most common unigrams for later use filtering multigrams"
   ]
  },
  {
   "attachments": {},
   "cell_type": "markdown",
   "id": "195fa408-af40-4c69-b360-018748472598",
   "metadata": {},
   "source": [
    "This workflow is resource-intensive and is probably only practical when run on a computing cluster. On my university's High Performance Computing (HPC) cluster, I request the maximum 14 cores (48 logical processors) and 128G of memory and use a 2T fast-I/O NVMe SSD filespace—and I still run up against time and resource limits. I've designed the code to be efficient, although further optimization is surely possible.\n",
    "\n",
    "The code affords options to conserve resources. Throughout the workflow you can specify `compress=True`, which tells a script to compress its output files. In my experience, there is little downside to using LZ4 compression, since it's very fast and cuts file sizes by about half. Downstream modules will see the `.lz4` extensions and handle the files accordingly. If you know your workflow runs correctly and wish to further conserve space, you can specify `delete_input=True` for many of the scripts; this will delete the source files for a given step once it is complete. The scripts are fairly memory-efficient—with the exception of `sort_ngrams` and `index_and_create_vocab_files`, which sort multiple files in memory at once. When processing multigrams, I've found that allocating more than ~10 workers in these scripts leads to memory exhaustion (with 128G!) and slow processing."
   ]
  },
  {
   "cell_type": "markdown",
   "id": "b97fea36-f682-4a1c-aedc-d905ba30c001",
   "metadata": {},
   "source": [
    "### Download unigrams\n",
    "Here, I'm using the `download_ngrams` module to fetch unigrams appended with part-of-speech (POS) tags (e.g., `_VERB`). Although you can specify `ngram_type='untagged'`, POS tags are necessary to lemmatize the tokens. Specify the number of parallel processes you wish to use by setting `workers` (the default is all available processors). Note the `repo_release_id` and `repo_corpus_id` parameters; these tell the module which ngram corpus and release to download."
   ]
  },
  {
   "cell_type": "code",
   "execution_count": 2,
   "id": "25bd2f2a-e4fb-4af0-bd94-71ef7c5dcdb9",
   "metadata": {},
   "outputs": [
    {
     "name": "stdout",
     "output_type": "stream",
     "text": [
      "\u001b[31mStart Time:                2025-02-21 21:10:20.487804\n",
      "\u001b[0m\n",
      "\u001b[4mDownload Info\u001b[0m\n",
      "Ngram repository:          https://storage.googleapis.com/books/ngrams/books/20200217/eng-us/eng-us-1-ngrams_exports.html\n",
      "Output directory:          /vast/edk202/NLP_corpora/Google_Books/20200217/eng-us/1gram_files/1download\n",
      "File index range:          0 to 13\n",
      "File URLs available:       14\n",
      "File URLs to use:          14\n",
      "First file to get:         https://storage.googleapis.com/books/ngrams/books/20200217/eng-us/1-00000-of-00014.gz\n",
      "Last file to get:          https://storage.googleapis.com/books/ngrams/books/20200217/eng-us/1-00013-of-00014.gz\n",
      "Ngram size:                1\n",
      "Ngram type:                tagged\n",
      "Number of workers:         48\n",
      "Compress saved files:      True\n",
      "Overwrite existing files:  True\n",
      "\n"
     ]
    },
    {
     "data": {
      "application/vnd.jupyter.widget-view+json": {
       "model_id": "c139f4946ba44e1daa87bb48cbf9b6e3",
       "version_major": 2,
       "version_minor": 0
      },
      "text/plain": [
       "Downloading:   0%|          | 0/14 [00:00<?, ?files/s]"
      ]
     },
     "metadata": {},
     "output_type": "display_data"
    },
    {
     "name": "stdout",
     "output_type": "stream",
     "text": [
      "\u001b[31m\n",
      "End Time:                  2025-02-21 21:10:54.214987\u001b[0m\n",
      "\u001b[31mTotal runtime:             0:00:33.727183\n",
      "\u001b[0m\n"
     ]
    }
   ],
   "source": [
    "download_ngram_files(\n",
    "    ngram_size=1,\n",
    "    ngram_type='tagged',\n",
    "    repo_release_id='20200217',\n",
    "    repo_corpus_id='eng-us',\n",
    "    proj_dir='/vast/edk202/NLP_corpora/Google_Books/20200217/eng-us',\n",
    "    compress=True,\n",
    "    overwrite=True\n",
    ")"
   ]
  },
  {
   "cell_type": "markdown",
   "id": "799d4fd8-2fe9-4fe3-8a37-20f0e1b81eef",
   "metadata": {},
   "source": [
    "### Convert files from TXT to JSONL\n",
    "This module converts the original unigram files' text data to a more flexible JSON Lines (JSONL) format. Although this increases storage demands, it makes downstream processing more efficient."
   ]
  },
  {
   "cell_type": "code",
   "execution_count": 3,
   "id": "ccf070c7-54bd-44b0-aff7-e86a3b36291e",
   "metadata": {},
   "outputs": [
    {
     "name": "stdout",
     "output_type": "stream",
     "text": [
      "\u001b[31mStart Time:                2025-02-21 21:11:03.119738\n",
      "\u001b[0m\n",
      "\u001b[4mConversion Info\u001b[0m\n",
      "Input directory:           /vast/edk202/NLP_corpora/Google_Books/20200217/eng-us/1gram_files/1download\n",
      "Output directory:          /vast/edk202/NLP_corpora/Google_Books/20200217/eng-us/1gram_files/2convert\n",
      "File index range:          0 to 13\n",
      "Files available:           14\n",
      "Files to use:              14\n",
      "First file to get:         /vast/edk202/NLP_corpora/Google_Books/20200217/eng-us/1gram_files/1download/1-00000-of-00014.txt.lz4\n",
      "Last file to get:          /vast/edk202/NLP_corpora/Google_Books/20200217/eng-us/1gram_files/1download/1-00013-of-00014.txt.lz4\n",
      "Ngram size:                1\n",
      "Ngram type:                tagged\n",
      "Number of workers:         48\n",
      "Compress output files:     True\n",
      "Overwrite existing files:  True\n",
      "Delete input directory:    True\n",
      "\n"
     ]
    },
    {
     "data": {
      "application/vnd.jupyter.widget-view+json": {
       "model_id": "a82993ecfd204aca9a0bc765c6f79e8c",
       "version_major": 2,
       "version_minor": 0
      },
      "text/plain": [
       "Converting:   0%|          | 0/14 [00:00<?, ?files/s]"
      ]
     },
     "metadata": {},
     "output_type": "display_data"
    },
    {
     "name": "stdout",
     "output_type": "stream",
     "text": [
      "\u001b[31m\n",
      "End Time:                  2025-02-21 21:13:03.404228\u001b[0m\n",
      "\u001b[31mTotal runtime:             0:02:00.284490\n",
      "\u001b[0m\n"
     ]
    }
   ],
   "source": [
    "convert_to_jsonl_files(\n",
    "    ngram_size=1,\n",
    "    ngram_type='tagged',\n",
    "    proj_dir='/vast/edk202/NLP_corpora/Google_Books/20200217/eng-us',\n",
    "    compress=True,\n",
    "    overwrite=True,\n",
    "    delete_input=True\n",
    ")"
   ]
  },
  {
   "cell_type": "markdown",
   "id": "60ad8638-1ed1-4ce6-b864-70e17635a3a8",
   "metadata": {},
   "source": [
    "### Make unigrams all lowercase\n",
    "This module lowercases all characters in the unigrams. Most use cases benefit from this."
   ]
  },
  {
   "cell_type": "code",
   "execution_count": 4,
   "id": "6cc700cf-dba7-40d6-b5f0-e98723af2e14",
   "metadata": {},
   "outputs": [
    {
     "name": "stdout",
     "output_type": "stream",
     "text": [
      "\u001b[31mStart Time:                2025-02-21 21:13:23.779161\n",
      "\u001b[0m\n",
      "\u001b[4mLowercasing Info\u001b[0m\n",
      "Input directory:           /vast/edk202/NLP_corpora/Google_Books/20200217/eng-us/1gram_files/2convert\n",
      "Output directory:          /vast/edk202/NLP_corpora/Google_Books/20200217/eng-us/1gram_files/3lowercase\n",
      "File index range:          0 to 13\n",
      "Files available:           14\n",
      "Files to use:              14\n",
      "First file to get:         /vast/edk202/NLP_corpora/Google_Books/20200217/eng-us/1gram_files/2convert/1-00000-of-00014.jsonl.lz4\n",
      "Last file to get:          /vast/edk202/NLP_corpora/Google_Books/20200217/eng-us/1gram_files/2convert/1-00013-of-00014.jsonl.lz4\n",
      "Ngram size:                1\n",
      "Number of workers:         48\n",
      "Compress output files:     True\n",
      "Overwrite existing files:  True\n",
      "Delete input directory:    True\n",
      "\n"
     ]
    },
    {
     "data": {
      "application/vnd.jupyter.widget-view+json": {
       "model_id": "9152b8d586d34cb68807bd7e3eda6f24",
       "version_major": 2,
       "version_minor": 0
      },
      "text/plain": [
       "Lowercasing:   0%|          | 0/14 [00:00<?, ?files/s]"
      ]
     },
     "metadata": {},
     "output_type": "display_data"
    },
    {
     "name": "stdout",
     "output_type": "stream",
     "text": [
      "\u001b[31m\n",
      "End Time:                  2025-02-21 21:14:30.085361\u001b[0m\n",
      "\u001b[31mTotal runtime:             0:01:06.306200\n",
      "\u001b[0m\n"
     ]
    }
   ],
   "source": [
    "lowercase_ngrams(\n",
    "    ngram_size=1,\n",
    "    proj_dir='/vast/edk202/NLP_corpora/Google_Books/20200217/eng-us',\n",
    "    compress=True,\n",
    "    overwrite=True,\n",
    "    delete_input=True\n",
    ")"
   ]
  },
  {
   "cell_type": "markdown",
   "id": "8426e48d-76d8-42ff-9e95-7d9c44bdc331",
   "metadata": {},
   "source": [
    "### Lemmatize the unigrams\n",
    "This module lemmatizes the unigrams—that is, reduces them to their base forms. This is desirable for most use cases. Example: `people_NOUN` (\"the people of this land\") will be converted to `person` in the output; `people_VERB` (\"to people this land\") will not. My code uses the [NLTK Lemmatizer](https://www.nltk.org/api/nltk.stem.WordNetLemmatizer.html?highlight=wordnet), which requires requires POS-tagged unigrams. The tags are discarded after lemmatization as they're no longer useful, saving space."
   ]
  },
  {
   "cell_type": "code",
   "execution_count": 5,
   "id": "82eb3d13-9d51-4ea2-8708-9c3eadb3feae",
   "metadata": {},
   "outputs": [
    {
     "name": "stdout",
     "output_type": "stream",
     "text": [
      "\u001b[31mStart Time:                2025-02-21 21:14:49.807204\n",
      "\u001b[0m\n",
      "\u001b[4mLemmatizing Info\u001b[0m\n",
      "Input directory:           /vast/edk202/NLP_corpora/Google_Books/20200217/eng-us/1gram_files/3lowercase\n",
      "Output directory:          /vast/edk202/NLP_corpora/Google_Books/20200217/eng-us/1gram_files/4lemmatize\n",
      "File index range:          0 to 13\n",
      "Files available:           14\n",
      "Files to use:              14\n",
      "First file to get:         /vast/edk202/NLP_corpora/Google_Books/20200217/eng-us/1gram_files/3lowercase/1-00000-of-00014.jsonl.lz4\n",
      "Last file to get:          /vast/edk202/NLP_corpora/Google_Books/20200217/eng-us/1gram_files/3lowercase/1-00013-of-00014.jsonl.lz4\n",
      "Ngram size:                1\n",
      "Number of workers:         48\n",
      "Compress output files:     True\n",
      "Overwrite existing files:  True\n",
      "Delete input directory:    True\n",
      "\n"
     ]
    },
    {
     "data": {
      "application/vnd.jupyter.widget-view+json": {
       "model_id": "09f30c921ba7499db17580423916b6e3",
       "version_major": 2,
       "version_minor": 0
      },
      "text/plain": [
       "Lemmatizing:   0%|          | 0/14 [00:00<?, ?files/s]"
      ]
     },
     "metadata": {},
     "output_type": "display_data"
    },
    {
     "name": "stdout",
     "output_type": "stream",
     "text": [
      "\u001b[31m\n",
      "End Time:                  2025-02-21 21:16:08.371058\u001b[0m\n",
      "\u001b[31mTotal runtime:             0:01:18.563854\n",
      "\u001b[0m\n"
     ]
    }
   ],
   "source": [
    "lemmatize_ngrams(\n",
    "    ngram_size=1,\n",
    "    proj_dir='/vast/edk202/NLP_corpora/Google_Books/20200217/eng-us',\n",
    "    compress=True,\n",
    "    overwrite=True,\n",
    "    delete_input=True\n",
    ")"
   ]
  },
  {
   "cell_type": "markdown",
   "id": "dd52fad3-d372-4613-9c36-b153ca004976",
   "metadata": {},
   "source": [
    "### Filter the unigrams\n",
    "This module removes tokens that provide little information about words' semantic context: those that contain numerals (`numerals=True`), nonalphabetic characters (`nonalpha=True`), stopwords (high-frequency, low information tokens like \"the\" and \"into\"; `stops=True`), or short words (those below a certain user-specified character count; here, `min_token_length=3`).\n",
    "\n",
    "You can also specify `min_tokens`—the minumum length of a retained ngram after filtering its tokens. This is mainly intended for use when processing multigrams. However, it's still good to specify `min_tokens=1` for unigrams, as it completely discards the data for any unigram violating our criteria. Empty output files will be deleted."
   ]
  },
  {
   "cell_type": "code",
   "execution_count": 6,
   "id": "68104701-700e-4b0d-8b3e-b69127a75ad0",
   "metadata": {},
   "outputs": [
    {
     "name": "stdout",
     "output_type": "stream",
     "text": [
      "\u001b[31mStart Time:                   2025-02-21 21:16:23.727626\n",
      "\u001b[0m\n",
      "\u001b[4mFiltering Info\u001b[0m\n",
      "Input directory:              /vast/edk202/NLP_corpora/Google_Books/20200217/eng-us/1gram_files/4lemmatize\n",
      "Output directory:             /vast/edk202/NLP_corpora/Google_Books/20200217/eng-us/1gram_files/5filter\n",
      "File index range:             0 to 13\n",
      "Files available:              14\n",
      "Files to use:                 14\n",
      "First file to get:            /vast/edk202/NLP_corpora/Google_Books/20200217/eng-us/1gram_files/4lemmatize/1-00000-of-00014.jsonl.lz4\n",
      "Last file to get:             /vast/edk202/NLP_corpora/Google_Books/20200217/eng-us/1gram_files/4lemmatize/1-00013-of-00014.jsonl.lz4\n",
      "Ngram size:                   1\n",
      "Number of workers:            48\n",
      "Compress output files:        True\n",
      "Overwrite existing files:     True\n",
      "Delete input directory:       True\n",
      "\n",
      "\u001b[4mFiltering Options\u001b[0m\n",
      "Drop stopwords:               True\n",
      "Drop tokens under:            3 chars\n",
      "Drop tokens with numerals:    True\n",
      "Drop non-alphabetic:          True\n",
      "Drop ngrams under:            1 token(s)\n",
      "\n"
     ]
    },
    {
     "data": {
      "application/vnd.jupyter.widget-view+json": {
       "model_id": "47fe1e2835ad40e8b5a18f3b82a5754e",
       "version_major": 2,
       "version_minor": 0
      },
      "text/plain": [
       "Filtering:   0%|          | 0/14 [00:00<?, ?files/s]"
      ]
     },
     "metadata": {},
     "output_type": "display_data"
    },
    {
     "name": "stdout",
     "output_type": "stream",
     "text": [
      "\n",
      "\u001b[4mFiltering Results (Dropped)\u001b[0m\n",
      "Stopword tokens:              4993 \n",
      "Short-word tokens:            20751 \n",
      "Tokens with numerals:         9437345 \n",
      "Tokens with non-alpha chars:  1388761\n",
      "Out-of-vocab tokens:          0\n",
      "Entire ngrams:                10851850 \n",
      "\u001b[31m\n",
      "End Time:                  2025-02-21 21:17:26.506087\u001b[0m\n",
      "\u001b[31mTotal runtime:             0:01:02.778461\n",
      "\u001b[0m\n"
     ]
    }
   ],
   "source": [
    "filter_ngrams(\n",
    "    ngram_size=1,\n",
    "    proj_dir='/vast/edk202/NLP_corpora/Google_Books/20200217/eng-us',\n",
    "    numerals=True,\n",
    "    nonalpha=True,\n",
    "    stops=True,\n",
    "    min_token_length=3,\n",
    "    min_tokens=1,\n",
    "    compress=True,\n",
    "    overwrite=True,\n",
    "    delete_input=True\n",
    ")"
   ]
  },
  {
   "cell_type": "markdown",
   "id": "dffd5722-7816-4c68-89a4-6f824ccb3e1a",
   "metadata": {},
   "source": [
    "### Sort and combine the unigram files\n",
    "This modules creates a single, fully-sorted unigram file out of the filtered files. This is crucial for the next step (ngram consolidation; see below).   \n",
    "\n",
    "Sorting a giant file is a resource-hungry process and I've tried to implement an efficient approach that leverages parallelism: We first sort the filtered files in parallel using Python's standard sorting algorithm [Timsort](https://en.wikipedia.org/wiki/Timsort); then, we incrementally [heapsort](https://en.wikipedia.org/wiki/Heapsort) the files in parallel until we get down to 2 files. Finally, we heapsort the final 2 files (necessarily using one processor) to arrive at a single combined and sorted unigram file."
   ]
  },
  {
   "cell_type": "code",
   "execution_count": 7,
   "id": "52e80618-397f-4051-b064-a8b689e77c43",
   "metadata": {},
   "outputs": [
    {
     "name": "stdout",
     "output_type": "stream",
     "text": [
      "\u001b[31mStart Time:                2025-02-21 21:17:38.717811\n",
      "\u001b[0m\n",
      "\u001b[4mSort Info\u001b[0m\n",
      "Input directory:           /vast/edk202/NLP_corpora/Google_Books/20200217/eng-us/1gram_files/5filter\n",
      "Sorted directory:          /vast/edk202/NLP_corpora/Google_Books/20200217/eng-us/1gram_files/temp\n",
      "Temp directory:            /vast/edk202/NLP_corpora/Google_Books/20200217/eng-us/1gram_files/tmp\n",
      "Merged file:               /vast/edk202/NLP_corpora/Google_Books/20200217/eng-us/1gram_files/6corpus/1gram-merged.jsonl.lz4\n",
      "Files available:           10\n",
      "First file to get:         /vast/edk202/NLP_corpora/Google_Books/20200217/eng-us/1gram_files/5filter/1-00004-of-00014.jsonl.lz4\n",
      "Last file to get:          /vast/edk202/NLP_corpora/Google_Books/20200217/eng-us/1gram_files/5filter/1-00013-of-00014.jsonl.lz4\n",
      "Files to use:              10\n",
      "Ngram size:                1\n",
      "Number of workers:         12\n",
      "Compress output files:     True\n",
      "Overwrite existing files:  True\n",
      "Sort key:                  ngram\n",
      "Sort order:                ascending\n",
      "Heap-merge start iter:     1\n",
      "Heap-merge end iter:       None\n",
      "Deleted sorted files:      True\n",
      "\n"
     ]
    },
    {
     "data": {
      "application/vnd.jupyter.widget-view+json": {
       "model_id": "69be77f145644d01a0fcda160db36752",
       "version_major": 2,
       "version_minor": 0
      },
      "text/plain": [
       "Sorting:   0%|          | 0/10 [00:00<?, ?files/s]"
      ]
     },
     "metadata": {},
     "output_type": "display_data"
    },
    {
     "name": "stdout",
     "output_type": "stream",
     "text": [
      "\n",
      "Iteration 1: merging 10 files into 5 chunks using 5 workers.\n",
      "  5 chunk(s) with 2 file(s)\n",
      "\n",
      "Iteration 2: merging 5 files into 2 chunks using 2 workers.\n",
      "  1 chunk(s) with 2 file(s)\n",
      "  1 chunk(s) with 3 file(s)\n",
      "\n",
      "Iteration 3: final merge of 2 files.\n"
     ]
    },
    {
     "data": {
      "application/vnd.jupyter.widget-view+json": {
       "model_id": "f8f133a114934ee0b07bb6d0f23514bc",
       "version_major": 2,
       "version_minor": 0
      },
      "text/plain": [
       "Merging:   0%|          | 0/15441065 [00:00<?, ?lines/s]"
      ]
     },
     "metadata": {},
     "output_type": "display_data"
    },
    {
     "name": "stdout",
     "output_type": "stream",
     "text": [
      "\n",
      "Merging complete. Final merged file:\n",
      "/vast/edk202/NLP_corpora/Google_Books/20200217/eng-us/1gram_files/6corpus/1gram-merged.jsonl.lz4\n",
      "\u001b[31m\n",
      "End Time:                  2025-02-21 21:29:33.587902\u001b[0m\n",
      "\u001b[31mTotal runtime:             0:11:54.870091\n",
      "\u001b[0m\n"
     ]
    }
   ],
   "source": [
    "sort_ngrams(\n",
    "    ngram_size=1,\n",
    "    proj_dir='/vast/edk202/NLP_corpora/Google_Books/20200217/eng-us',\n",
    "    workers=12,\n",
    "    sort_key='ngram',\n",
    "    compress=True,\n",
    "    overwrite=True,\n",
    "    sort_order='ascending',\n",
    "    delete_input=True\n",
    ")"
   ]
  },
  {
   "cell_type": "markdown",
   "id": "5cc33c06-ca7f-4d99-9949-7520ef0e0c98",
   "metadata": {},
   "source": [
    "### Verify sort [OPTIONAL]\n",
    "If we want, we can verify that the output file is correctly sorted. If the script outputs `True`, then the file is sorted. Bear in mind that you need to specify the file path manually here; be sure to use the right file extension based on whether `sort_ngrams` was run with `compress=True`."
   ]
  },
  {
   "cell_type": "code",
   "execution_count": 8,
   "id": "2cfd12d0-5dfc-482e-a145-0306b4e01ab2",
   "metadata": {},
   "outputs": [
    {
     "name": "stdout",
     "output_type": "stream",
     "text": [
      "Lines: 15441065line [03:17, 78062.60line/s]\n",
      "\n",
      "The file is sorted.\n"
     ]
    }
   ],
   "source": [
    "check_file_sorted(\n",
    "    input_file=(\n",
    "        '/vast/edk202/NLP_corpora/Google_Books/20200217/eng-us/'\n",
    "        '1gram_files/6corpus/1gram-merged.jsonl.lz4'\n",
    "    ),\n",
    "    field=\"ngram\",\n",
    "    sort_order=\"ascending\"\n",
    ")"
   ]
  },
  {
   "cell_type": "markdown",
   "id": "353a8ec7-38b8-4d5d-8356-1af9f8e26bf9",
   "metadata": {},
   "source": [
    "### Consolidate duplicate unigrams\n",
    "This module consolidates the sorted unigram file. Lowercasing and lemmatizing produce duplicate unigrams. Now that the file is sorted, we can scan through it and consolidate consecutive idential duplicates. This involves summing their overall and yearly frequencies and document counts. It also leads to a much smaller file.\n",
    "\n",
    "`[Runtime with compression:  0:07:33.662163`"
   ]
  },
  {
   "cell_type": "code",
   "execution_count": 9,
   "id": "d8609476-7636-43c6-8945-1eb6b104f999",
   "metadata": {},
   "outputs": [
    {
     "name": "stdout",
     "output_type": "stream",
     "text": [
      "\u001b[31mStart Time:                2025-02-21 21:33:52.297785\n",
      "\u001b[0m\n",
      "\u001b[4mConsolidation Info\u001b[0m\n",
      "Merged file:               /vast/edk202/NLP_corpora/Google_Books/20200217/eng-us/1gram_files/6corpus/1gram-merged.jsonl.lz4\n",
      "Corpus file:               /vast/edk202/NLP_corpora/Google_Books/20200217/eng-us/1gram_files/6corpus/1gram-corpus.jsonl.lz4\n",
      "Temporary directory:       /vast/edk202/NLP_corpora/Google_Books/20200217/eng-us/1gram_files/temp_chunks\n",
      "Ngram size:                1\n",
      "Number of workers:         48\n",
      "Compress output files:     True\n",
      "Overwrite existing files:  True\n",
      "\n",
      "Created and Sorted: 31 chunks\n",
      "Merged: 31 chunks\n",
      "\n",
      "\u001b[31m\n",
      "End Time:                  2025-02-21 21:38:34.099404\u001b[0m\n",
      "\u001b[31mTotal runtime:             0:04:41.801619\n",
      "\u001b[0m\n"
     ]
    }
   ],
   "source": [
    "consolidate_duplicate_ngrams(\n",
    "    ngram_size=1,\n",
    "    proj_dir='/vast/edk202/NLP_corpora/Google_Books/20200217/eng-us',\n",
    "    lines_per_chunk=500000,\n",
    "    compress=True,\n",
    "    overwrite=True\n",
    ")"
   ]
  },
  {
   "cell_type": "markdown",
   "id": "fc294ed6-399f-4fbd-91e4-8e55e86950d0",
   "metadata": {},
   "source": [
    "### Index unigrams and create vocabulary file\n",
    "Most use cases will require an indexed list of \"valid\" (i.e., reasonably common) vocabulary words. This indexing script serves the dual functions of (1) mapping each unigram to an index number (saved in `/6corpus/1gram-corpus-indexed.jsonl`) and (2) culling this file into a vocabulary list consisting of the _n_ most frequent unigrams (saved in `6corpus/1gram-corpus-vocab_list_match.txt`). The vocabulary file provides a critical means of filtering excessively rare words out of the corpus. Unlike files upstream in the workflow, the vocabulary files are not large and don't need to be compressed."
   ]
  },
  {
   "cell_type": "code",
   "execution_count": 10,
   "id": "e858de53-fe04-4a7d-bab5-9eed5cdf0011",
   "metadata": {},
   "outputs": [
    {
     "name": "stdout",
     "output_type": "stream",
     "text": [
      "\u001b[31mStart Time:                2025-02-21 21:39:44.379890\n",
      "\u001b[0m\n",
      "\u001b[4mIndexing Info\u001b[0m\n",
      "Corpus file:               /vast/edk202/NLP_corpora/Google_Books/20200217/eng-us/1gram_files/6corpus/1gram-corpus.jsonl.lz4\n",
      "Indexed file:              /vast/edk202/NLP_corpora/Google_Books/20200217/eng-us/1gram_files/6corpus/1gram-indexed.jsonl.lz4\n",
      "Ngram size:                1\n",
      "Number of workers:         48\n",
      "Compress output files:     True\n",
      "Overwrite existing files:  True\n",
      "\n",
      "\u001b[4mVocabulary Info\u001b[0m\n",
      "Vocab size (top N):        80000\n",
      "Match File:                /vast/edk202/NLP_corpora/Google_Books/20200217/eng-us/1gram_files/6corpus/1gram-corpus-vocab_list_match.txt\n",
      "Lookup File:               /vast/edk202/NLP_corpora/Google_Books/20200217/eng-us/1gram_files/6corpus/1gram-corpus-vocab_list_lookup.jsonl\n",
      "\n"
     ]
    },
    {
     "data": {
      "application/vnd.jupyter.widget-view+json": {
       "model_id": "a27af6cf92d34ab7a44383adf441e551",
       "version_major": 2,
       "version_minor": 0
      },
      "text/plain": [
       "Chunking:   0%|          | 0/8221439 [00:00<?, ?lines/s]"
      ]
     },
     "metadata": {},
     "output_type": "display_data"
    },
    {
     "data": {
      "application/vnd.jupyter.widget-view+json": {
       "model_id": "f236a40d259a4c3584dbaa74a30b0064",
       "version_major": 2,
       "version_minor": 0
      },
      "text/plain": [
       "Sorting:   0%|          | 0/83 [00:00<?, ?chunks/s]"
      ]
     },
     "metadata": {},
     "output_type": "display_data"
    },
    {
     "data": {
      "application/vnd.jupyter.widget-view+json": {
       "model_id": "8a48d41826c144ec9b81a16bbccba949",
       "version_major": 2,
       "version_minor": 0
      },
      "text/plain": [
       "Merging:   0%|          | 0/8221439 [00:00<?, ?lines/s]"
      ]
     },
     "metadata": {},
     "output_type": "display_data"
    },
    {
     "data": {
      "application/vnd.jupyter.widget-view+json": {
       "model_id": "df470a1331b1419eb3597d6a534f0f90",
       "version_major": 2,
       "version_minor": 0
      },
      "text/plain": [
       "Indexing:   0%|          | 0/8221439 [00:00<?, ?lines/s]"
      ]
     },
     "metadata": {},
     "output_type": "display_data"
    },
    {
     "name": "stdout",
     "output_type": "stream",
     "text": [
      "\n",
      "Indexed 8221439 lines.\n",
      "Final indexed file: 1gram-corpus-indexed.jsonl.lz4\n",
      "Created vocab_list_match and vocab_list_lookup files for top 80000 ngrams.\n",
      "\u001b[31m\n",
      "End Time:                  2025-02-21 21:47:52.697742\u001b[0m\n",
      "\u001b[31mTotal runtime:             0:08:08.317852\n",
      "\u001b[0m\n"
     ]
    }
   ],
   "source": [
    "index_and_create_vocab_files(\n",
    "    ngram_size=1,\n",
    "    proj_dir='/vast/edk202/NLP_corpora/Google_Books/20200217/eng-us',\n",
    "    compress=True,\n",
    "    overwrite=True,\n",
    "    vocab_n=80000\n",
    ")"
   ]
  },
  {
   "cell_type": "markdown",
   "id": "f5142c8d-50fa-4387-9383-f901492bace2",
   "metadata": {},
   "source": [
    "### Verify indexing [OPTIONAL]\n",
    "We can verify that the final indexed file looks right."
   ]
  },
  {
   "cell_type": "code",
   "execution_count": 12,
   "id": "2824a58d-213e-4c4a-8917-78909994239b",
   "metadata": {},
   "outputs": [
    {
     "name": "stdout",
     "output_type": "stream",
     "text": [
      "Line 1: {'ngram': 'one', 'freq_tot': 2373486232, 'doc_tot': 55886009, 'freq': {'1480': 477, '1489': 295, '1501': 8219, '1506': 48, '1508': 674, '1535': 460, '1539': 433, '1551': 1327, '1553': 439, '1572': 413, '1598': 42, '1601': 5182, '1603': 16, '1612': 240, '1616': 394, '1620': 105, '1622': 165, '1623': 207, '1625': 369, '1626': 532, '1627': 1053, '1634': 976, '1637': 443, '1638': 377, '1642': 477, '1648': 744, '1649': 207, '1655': 245, '1657': 153, '1658': 492, '1659': 540, '1661': 536, '1662': 1124, '1663': 758, '1666': 2838, '1669': 689, '1670': 496, '1671': 786, '1673': 37, '1675': 1111, '1681': 1246, '1682': 787, '1683': 1030, '1689': 526, '1690': 601, '1691': 299, '1693': 3422, '1694': 996, '1700': 6021, '1701': 10951, '1703': 807, '1706': 882, '1707': 575, '1710': 610, '1712': 181, '1716': 3026, '1717': 1588, '1720': 279, '1721': 488, '1723': 781, '1726': 1027, '1729': 1668, '1731': 3521, '1732': 189, '1733': 1498, '1734': 1823, '1735': 1392, '1736': 1093, '1740': 529, '1741': 946, '1743': 788, '1744': 562, '1745': 609, '1746': 638, '1747': 606, '1748': 362, '1750': 650, '1752': 908, '1753': 2515, '1754': 2821, '1755': 1658, '1756': 2418, '1757': 879, '1758': 5999, '1759': 2221, '1760': 2276, '1761': 1753, '1762': 1771, '1763': 1248, '1764': 3532, '1765': 654, '1766': 1345, '1768': 868, '1769': 2424, '1770': 849, '1771': 14101, '1772': 1973, '1773': 916, '1774': 3449, '1775': 3762, '1776': 8414, '1777': 5918, '1778': 2160, '1779': 1689, '1780': 3158, '1781': 2701, '1783': 2320, '1784': 6038, '1785': 7784, '1786': 7023, '1787': 5204, '1788': 3605, '1789': 13314, '1790': 8846, '1791': 5985, '1792': 12271, '1793': 7715, '1794': 8201, '1795': 9885, '1796': 24427, '1797': 19152, '1798': 57255, '1799': 16726, '1800': 109431, '1801': 50544, '1802': 63964, '1803': 89233, '1804': 110576, '1805': 100000, '1806': 118299, '1807': 131989, '1808': 162027, '1809': 178075, '1810': 312014, '1811': 222799, '1812': 201138, '1813': 202667, '1814': 196849, '1815': 192714, '1816': 222474, '1817': 243907, '1818': 292187, '1819': 294251, '1820': 215576, '1821': 328228, '1822': 350192, '1823': 400043, '1824': 485615, '1825': 551463, '1826': 519775, '1827': 557154, '1828': 668126, '1829': 747474, '1830': 854971, '1831': 920409, '1832': 2165788, '1833': 1233416, '1834': 1275823, '1835': 1359643, '1836': 1522290, '1837': 1353617, '1838': 1248225, '1839': 1408316, '1840': 1316881, '1841': 1464414, '1842': 1256560, '1843': 1483838, '1844': 1721895, '1845': 1891041, '1846': 2034900, '1847': 1862538, '1848': 2041492, '1849': 2046238, '1850': 2365686, '1851': 2741716, '1852': 2855299, '1853': 3107669, '1854': 3430932, '1855': 3139044, '1856': 3487193, '1857': 3050539, '1858': 2869541, '1859': 3190026, '1860': 3276159, '1861': 2267873, '1862': 2009272, '1863': 2131320, '1864': 2629399, '1865': 2439290, '1866': 3209946, '1867': 3071643, '1868': 3605852, '1869': 3470768, '1870': 3686421, '1871': 3513279, '1872': 4415885, '1873': 3877171, '1874': 4052320, '1875': 3868077, '1876': 4243205, '1877': 4149744, '1878': 4086630, '1879': 4411007, '1880': 5340802, '1881': 5367659, '1882': 5429745, '1883': 5955859, '1884': 6174209, '1885': 5935222, '1886': 6388413, '1887': 6632820, '1888': 7021161, '1889': 7749646, '1890': 7793211, '1891': 7839415, '1892': 8181332, '1893': 8425564, '1894': 8531112, '1895': 9818057, '1896': 9346836, '1897': 9807703, '1898': 10159724, '1899': 11459005, '1900': 12195367, '1901': 12132794, '1902': 12062583, '1903': 12279252, '1904': 12812330, '1905': 12797068, '1906': 13502425, '1907': 13626214, '1908': 14124400, '1909': 15651866, '1910': 16589120, '1911': 17216501, '1912': 17533780, '1913': 17223203, '1914': 17019696, '1915': 17392442, '1916': 18117030, '1917': 17577332, '1918': 15807286, '1919': 16112979, '1920': 16864873, '1921': 16283880, '1922': 16543230, '1923': 9791600, '1924': 8233333, '1925': 8911452, '1926': 8705193, '1927': 8948102, '1928': 9489118, '1929': 9568175, '1930': 9511175, '1931': 9209587, '1932': 8219067, '1933': 7350301, '1934': 7554023, '1935': 8522616, '1936': 8712064, '1937': 9133841, '1938': 9185366, '1939': 9961853, '1940': 9681254, '1941': 10016065, '1942': 8944133, '1943': 8390170, '1944': 7809108, '1945': 8381057, '1946': 9441607, '1947': 10862931, '1948': 10542974, '1949': 11866451, '1950': 11484909, '1951': 11336138, '1952': 11626022, '1953': 11216910, '1954': 11638963, '1955': 12225138, '1956': 11946728, '1957': 12928347, '1958': 12829070, '1959': 14234646, '1960': 14580654, '1961': 15765850, '1962': 16319200, '1963': 17469866, '1964': 15926191, '1965': 18044164, '1966': 18296819, '1967': 20493973, '1968': 21224072, '1969': 21374192, '1970': 20780766, '1971': 20351882, '1972': 19913183, '1973': 19708087, '1974': 19426158, '1975': 19574901, '1976': 20582510, '1977': 20944969, '1978': 20541507, '1979': 20428294, '1980': 20600192, '1981': 19891544, '1982': 20042578, '1983': 20783014, '1984': 21056811, '1985': 21351131, '1986': 21548954, '1987': 21691958, '1988': 22047452, '1989': 22938365, '1990': 24197034, '1991': 23465003, '1992': 24367885, '1993': 24478275, '1994': 24354260, '1995': 24942841, '1996': 24870730, '1997': 24790780, '1998': 25445893, '1999': 25581421, '2000': 28937311, '2001': 28878222, '2002': 29822168, '2003': 31694019, '2004': 32555574, '2005': 29819278, '2006': 29652063, '2007': 29224357, '2008': 28849559, '2009': 30249408, '2010': 25318039, '2011': 25071285, '2012': 31470002, '2013': 29139789, '2014': 25379179, '2015': 20758766, '2016': 19945974, '2017': 17064395, '2018': 15947220, '2019': 12421320, '1475': 302, '1478': 352, '1500': 1074, '1542': 191, '1561': 455, '1580': 114, '1588': 123, '1592': 586, '1593': 126, '1602': 667, '1605': 239, '1614': 575, '1639': 255, '1647': 326, '1651': 562, '1665': 1622, '1676': 483, '1680': 128, '1684': 358, '1708': 836, '1709': 218, '1713': 866, '1737': 1139, '1738': 531, '1739': 58, '1751': 2738, '1782': 2987, '1472': 72, '1481': 451, '1487': 80, '1490': 71, '1491': 123, '1494': 163, '1507': 63, '1520': 218, '1525': 222, '1526': 373, '1531': 116, '1545': 205, '1550': 7, '1555': 258, '1559': 207, '1563': 566, '1569': 40, '1570': 54, '1571': 3, '1575': 137, '1576': 20, '1577': 33, '1581': 61, '1582': 481, '1586': 104, '1596': 643, '1597': 4, '1599': 12, '1600': 139, '1609': 405, '1610': 9, '1611': 14, '1613': 59, '1621': 2129, '1624': 460, '1628': 324, '1630': 37, '1631': 139, '1632': 44, '1633': 101, '1635': 349, '1636': 399, '1640': 811, '1641': 397, '1646': 433, '1650': 235, '1652': 290, '1653': 178, '1654': 339, '1656': 401, '1660': 495, '1664': 194, '1667': 1959, '1668': 333, '1672': 139, '1674': 150, '1678': 122, '1679': 296, '1685': 1357, '1687': 30, '1692': 10, '1695': 18, '1697': 204, '1698': 163, '1699': 562, '1705': 170, '1711': 253, '1714': 103, '1715': 69, '1718': 829, '1719': 73, '1722': 216, '1724': 299, '1725': 1124, '1727': 61, '1728': 155, '1730': 536, '1742': 34, '1749': 21, '1767': 436, '1541': 58, '1476': 15, '1477': 15, '1527': 3, '1567': 8, '1619': 14, '1499': 6, '1558': 15, '1587': 7, '1590': 12, '1595': 33, '1618': 10, '1643': 5, '1704': 19, '1543': 2, '1547': 1, '1549': 3, '1589': 3, '1606': 15, '1607': 1, '1608': 8, '1617': 1, '1677': 1, '1686': 17, '1688': 5, '1702': 2}, 'doc': {'1480': 12, '1489': 10, '1501': 94, '1506': 5, '1508': 13, '1535': 9, '1539': 8, '1551': 12, '1553': 10, '1572': 7, '1598': 8, '1601': 62, '1603': 4, '1612': 14, '1616': 14, '1620': 8, '1622': 13, '1623': 14, '1625': 8, '1626': 7, '1627': 24, '1634': 29, '1637': 22, '1638': 11, '1642': 14, '1648': 8, '1649': 14, '1655': 6, '1657': 5, '1658': 8, '1659': 11, '1661': 15, '1662': 15, '1663': 37, '1666': 24, '1669': 21, '1670': 15, '1671': 14, '1673': 7, '1675': 29, '1681': 28, '1682': 14, '1683': 30, '1689': 20, '1690': 20, '1691': 12, '1693': 24, '1694': 24, '1700': 97, '1701': 83, '1703': 15, '1706': 35, '1707': 14, '1710': 14, '1712': 13, '1716': 27, '1717': 31, '1720': 20, '1721': 22, '1723': 23, '1726': 32, '1729': 34, '1731': 43, '1732': 15, '1733': 19, '1734': 25, '1735': 16, '1736': 36, '1740': 15, '1741': 32, '1743': 33, '1744': 21, '1745': 36, '1746': 20, '1747': 23, '1748': 30, '1750': 45, '1752': 37, '1753': 69, '1754': 35, '1755': 52, '1756': 42, '1757': 38, '1758': 78, '1759': 58, '1760': 52, '1761': 34, '1762': 68, '1763': 56, '1764': 59, '1765': 40, '1766': 59, '1768': 31, '1769': 83, '1770': 49, '1771': 105, '1772': 75, '1773': 42, '1774': 129, '1775': 133, '1776': 158, '1777': 136, '1778': 43, '1779': 48, '1780': 97, '1781': 67, '1783': 89, '1784': 99, '1785': 205, '1786': 131, '1787': 158, '1788': 129, '1789': 230, '1790': 178, '1791': 135, '1792': 279, '1793': 229, '1794': 271, '1795': 316, '1796': 466, '1797': 414, '1798': 558, '1799': 390, '1800': 2128, '1801': 1134, '1802': 1534, '1803': 1966, '1804': 2684, '1805': 2406, '1806': 2673, '1807': 2839, '1808': 3224, '1809': 4092, '1810': 4672, '1811': 4214, '1812': 3945, '1813': 3842, '1814': 3804, '1815': 3702, '1816': 3922, '1817': 4728, '1818': 5253, '1819': 5118, '1820': 4197, '1821': 5751, '1822': 6456, '1823': 6724, '1824': 7837, '1825': 8076, '1826': 8062, '1827': 8938, '1828': 10065, '1829': 11564, '1830': 12626, '1831': 13909, '1832': 33528, '1833': 17532, '1834': 16758, '1835': 19173, '1836': 21490, '1837': 16832, '1838': 17495, '1839': 20664, '1840': 20305, '1841': 20732, '1842': 18615, '1843': 20593, '1844': 24432, '1845': 26581, '1846': 28387, '1847': 27225, '1848': 29292, '1849': 28373, '1850': 32895, '1851': 37220, '1852': 39975, '1853': 43799, '1854': 48574, '1855': 43928, '1856': 50592, '1857': 44398, '1858': 38733, '1859': 45643, '1860': 47719, '1861': 32511, '1862': 27405, '1863': 31315, '1864': 40799, '1865': 38064, '1866': 45116, '1867': 42668, '1868': 48311, '1869': 46524, '1870': 47395, '1871': 48714, '1872': 54096, '1873': 50707, '1874': 52268, '1875': 52901, '1876': 56496, '1877': 54743, '1878': 54641, '1879': 59478, '1880': 70313, '1881': 71350, '1882': 72331, '1883': 81106, '1884': 83740, '1885': 80171, '1886': 84553, '1887': 90224, '1888': 95569, '1889': 102869, '1890': 107170, '1891': 109486, '1892': 123430, '1893': 121218, '1894': 121495, '1895': 140843, '1896': 142490, '1897': 144537, '1898': 155432, '1899': 178683, '1900': 197622, '1901': 187792, '1902': 193334, '1903': 190659, '1904': 202526, '1905': 197756, '1906': 209071, '1907': 214318, '1908': 219804, '1909': 249513, '1910': 263129, '1911': 268455, '1912': 279188, '1913': 277319, '1914': 279470, '1915': 280990, '1916': 297406, '1917': 296921, '1918': 266989, '1919': 272282, '1920': 288901, '1921': 265788, '1922': 279082, '1923': 184161, '1924': 163457, '1925': 176677, '1926': 174290, '1927': 183167, '1928': 187099, '1929': 189272, '1930': 194996, '1931': 189856, '1932': 171479, '1933': 157707, '1934': 163660, '1935': 179044, '1936': 188000, '1937': 198067, '1938': 203184, '1939': 211721, '1940': 216652, '1941': 217505, '1942': 200361, '1943': 182621, '1944': 172986, '1945': 179581, '1946': 204857, '1947': 232480, '1948': 228242, '1949': 264281, '1950': 250169, '1951': 238319, '1952': 243023, '1953': 246111, '1954': 259027, '1955': 273464, '1956': 277535, '1957': 293216, '1958': 298122, '1959': 332491, '1960': 359255, '1961': 383712, '1962': 403872, '1963': 429521, '1964': 400632, '1965': 436872, '1966': 447623, '1967': 482679, '1968': 511817, '1969': 516545, '1970': 521711, '1971': 512638, '1972': 531128, '1973': 529017, '1974': 534645, '1975': 553134, '1976': 591371, '1977': 610459, '1978': 607608, '1979': 604098, '1980': 613182, '1981': 581172, '1982': 579061, '1983': 593114, '1984': 618881, '1985': 618617, '1986': 629813, '1987': 626870, '1988': 655320, '1989': 675879, '1990': 713858, '1991': 686891, '1992': 706558, '1993': 698974, '1994': 698179, '1995': 701805, '1996': 702953, '1997': 705514, '1998': 713588, '1999': 722340, '2000': 813036, '2001': 796692, '2002': 840166, '2003': 891446, '2004': 915877, '2005': 835015, '2006': 830031, '2007': 817782, '2008': 809826, '2009': 867238, '2010': 721028, '2011': 723721, '2012': 936326, '2013': 858654, '2014': 741858, '2015': 601436, '2016': 585726, '2017': 509184, '2018': 465806, '2019': 384993, '1475': 9, '1478': 8, '1500': 24, '1542': 6, '1561': 10, '1580': 7, '1588': 8, '1592': 21, '1593': 7, '1602': 11, '1605': 8, '1614': 15, '1639': 14, '1647': 14, '1651': 6, '1665': 17, '1676': 25, '1680': 10, '1684': 11, '1708': 25, '1709': 7, '1713': 22, '1737': 29, '1738': 18, '1739': 9, '1751': 61, '1782': 63, '1472': 5, '1481': 7, '1487': 5, '1490': 8, '1491': 6, '1494': 6, '1507': 5, '1520': 7, '1525': 7, '1526': 8, '1531': 5, '1545': 6, '1550': 3, '1555': 10, '1559': 6, '1563': 12, '1569': 7, '1570': 7, '1571': 3, '1575': 5, '1576': 3, '1577': 7, '1581': 3, '1582': 6, '1586': 5, '1596': 15, '1597': 4, '1599': 4, '1600': 15, '1609': 21, '1610': 5, '1611': 3, '1613': 8, '1621': 13, '1624': 8, '1628': 10, '1630': 9, '1631': 10, '1632': 7, '1633': 6, '1635': 11, '1636': 4, '1640': 40, '1641': 17, '1646': 7, '1650': 9, '1652': 14, '1653': 10, '1654': 9, '1656': 21, '1660': 16, '1664': 6, '1667': 37, '1668': 13, '1672': 14, '1674': 7, '1678': 7, '1679': 5, '1685': 29, '1687': 4, '1692': 2, '1695': 7, '1697': 23, '1698': 14, '1699': 24, '1705': 7, '1711': 15, '1714': 11, '1715': 9, '1718': 25, '1719': 14, '1722': 12, '1724': 25, '1725': 15, '1727': 7, '1728': 20, '1730': 18, '1742': 9, '1749': 7, '1767': 32, '1541': 4, '1476': 2, '1477': 3, '1527': 2, '1567': 3, '1619': 3, '1499': 2, '1558': 2, '1587': 2, '1590': 3, '1595': 2, '1618': 3, '1643': 2, '1704': 3, '1543': 2, '1547': 1, '1549': 2, '1589': 3, '1606': 1, '1607': 1, '1608': 2, '1617': 1, '1677': 1, '1686': 2, '1688': 1, '1702': 1}, 'idx': 1}\n",
      "Line 2: {'ngram': 'state', 'freq_tot': 2120507567, 'doc_tot': 54330769, 'freq': {'1790': 16506, '1802': 45404, '1803': 59732, '1804': 73351, '1805': 68193, '1806': 65025, '1807': 108499, '1808': 118768, '1809': 113123, '1810': 151366, '1811': 143492, '1812': 156601, '1813': 158686, '1814': 182794, '1815': 190204, '1816': 203401, '1817': 242327, '1818': 233633, '1819': 279746, '1820': 223384, '1821': 294153, '1823': 342975, '1826': 488674, '1828': 607612, '1829': 585863, '1830': 790489, '1831': 641519, '1832': 3761975, '1833': 1088211, '1834': 1258168, '1835': 1034217, '1836': 1199353, '1837': 1092345, '1838': 857866, '1839': 982240, '1840': 966864, '1841': 1053848, '1842': 803307, '1843': 924929, '1844': 1081985, '1845': 1289778, '1846': 1376578, '1847': 1155264, '1848': 1295607, '1849': 1452762, '1850': 1587115, '1851': 1939179, '1852': 2063423, '1853': 2184378, '1854': 2406633, '1855': 2187242, '1856': 2430045, '1857': 2077728, '1858': 2349599, '1859': 2148801, '1860': 2362481, '1861': 1959079, '1862': 1718924, '1863': 1556118, '1864': 2064300, '1865': 1859884, '1866': 2902119, '1867': 2245715, '1868': 3075559, '1869': 2397053, '1870': 2789330, '1871': 2408713, '1872': 3684798, '1873': 2846057, '1874': 3100477, '1875': 2819400, '1876': 3121725, '1877': 3205681, '1878': 2924155, '1879': 3385141, '1880': 3504822, '1881': 3549529, '1882': 3637568, '1883': 3684760, '1884': 4394087, '1885': 3900781, '1886': 4628496, '1887': 4813832, '1888': 4868925, '1889': 5591805, '1890': 5037703, '1891': 5216716, '1892': 5333244, '1893': 5561238, '1894': 5605296, '1895': 7550113, '1896': 6534779, '1897': 7604138, '1898': 7470609, '1899': 7668085, '1900': 8600346, '1901': 9779199, '1902': 8525772, '1903': 9279981, '1904': 9092417, '1905': 9416679, '1906': 10830082, '1907': 10405664, '1908': 10912839, '1909': 12383166, '1910': 12864855, '1911': 14313638, '1912': 14708399, '1913': 14399715, '1914': 14399522, '1915': 15466533, '1916': 15779944, '1917': 15705533, '1918': 14097538, '1919': 15078976, '1920': 14724791, '1921': 14883487, '1922': 14698632, '1923': 9036125, '1924': 7930478, '1925': 8584418, '1926': 8350306, '1927': 8654565, '1928': 9189392, '1929': 9360524, '1930': 9298557, '1931': 9836223, '1932': 8849052, '1933': 8311801, '1934': 8161471, '1935': 9367083, '1936': 9728116, '1937': 10220849, '1938': 10292445, '1939': 11939156, '1940': 11010045, '1941': 12110924, '1942': 9822637, '1943': 9537553, '1944': 8360179, '1945': 9939951, '1946': 10505559, '1947': 12351800, '1948': 11971219, '1949': 14490799, '1950': 12457010, '1951': 12245485, '1952': 11581509, '1953': 12358591, '1954': 12742441, '1955': 13876346, '1956': 12708001, '1957': 14478160, '1958': 13491147, '1959': 14800480, '1960': 14793315, '1961': 16013266, '1962': 15782514, '1963': 17493659, '1964': 15451767, '1965': 18653126, '1966': 17851331, '1967': 20848268, '1968': 20275894, '1969': 21168692, '1970': 20356299, '1971': 21240406, '1972': 20797049, '1973': 23243233, '1974': 21342162, '1975': 22802546, '1976': 25027223, '1977': 24769308, '1978': 25669813, '1979': 24643710, '1980': 23279104, '1981': 23147798, '1982': 23655572, '1983': 23158420, '1984': 23485841, '1985': 23897807, '1986': 23413216, '1987': 23420018, '1988': 23565723, '1989': 24829281, '1990': 25515698, '1991': 25509131, '1992': 26399013, '1993': 26687539, '1994': 25622140, '1995': 27530316, '1996': 24337602, '1997': 23420155, '1998': 23614528, '1999': 23851996, '2000': 24476797, '2001': 24319408, '2002': 24113467, '2003': 23970192, '2004': 23405139, '2005': 21182045, '2006': 21291712, '2007': 20566047, '2008': 20231987, '2009': 17667043, '2010': 14446415, '2011': 12252742, '2012': 15303093, '2013': 14210184, '2014': 10398723, '2015': 8831577, '2016': 8671129, '2017': 6828533, '2018': 6871270, '2019': 5341684, '1796': 32869, '1827': 414823, '1472': 461, '1475': 243, '1476': 24, '1477': 147, '1478': 417, '1480': 2288, '1481': 542, '1487': 391, '1489': 191, '1490': 314, '1491': 545, '1494': 50, '1500': 3993, '1501': 11351, '1507': 293, '1508': 3999, '1520': 26, '1525': 1, '1526': 523, '1531': 450, '1535': 184, '1539': 784, '1542': 74, '1545': 58, '1547': 618, '1551': 1319, '1553': 447, '1555': 186, '1558': 87, '1559': 156, '1561': 315, '1563': 94, '1569': 67, '1570': 17, '1571': 314, '1572': 115, '1580': 20, '1582': 214, '1586': 403, '1592': 1697, '1596': 121, '1600': 153, '1601': 3408, '1602': 3841, '1605': 22, '1608': 49, '1609': 136, '1610': 4, '1614': 2265, '1618': 15, '1619': 26, '1620': 52, '1621': 584, '1622': 5, '1623': 497, '1624': 52, '1625': 23, '1626': 518, '1627': 2630, '1628': 34, '1631': 478, '1633': 10, '1634': 97, '1635': 22, '1636': 63, '1637': 404, '1638': 77, '1639': 359, '1640': 49, '1641': 134, '1642': 396, '1646': 85, '1647': 52, '1648': 502, '1650': 65, '1651': 249, '1652': 55, '1654': 63, '1655': 132, '1656': 29, '1658': 71, '1659': 78, '1660': 104, '1661': 1766, '1662': 167, '1663': 287, '1664': 54, '1665': 423, '1666': 914, '1667': 270, '1668': 101, '1669': 155, '1670': 2413, '1671': 153, '1672': 5, '1675': 823, '1676': 176, '1679': 91, '1681': 168, '1682': 86, '1683': 93, '1684': 135, '1685': 215, '1689': 150, '1690': 123, '1693': 618, '1694': 663, '1695': 2, '1697': 7, '1698': 63, '1699': 204, '1700': 5335, '1701': 8218, '1703': 94, '1704': 657, '1705': 512, '1706': 587, '1707': 96, '1708': 497, '1709': 1033, '1710': 305, '1711': 29, '1712': 83, '1713': 132, '1715': 34, '1716': 220, '1717': 1083, '1718': 1064, '1719': 19, '1720': 79, '1721': 64, '1722': 17, '1723': 363, '1724': 577, '1725': 2535, '1726': 213, '1727': 2, '1729': 708, '1730': 136, '1731': 894, '1732': 32, '1733': 256, '1734': 261, '1735': 344, '1736': 287, '1737': 64, '1738': 1107, '1740': 86, '1741': 276, '1743': 526, '1744': 155, '1745': 179, '1746': 1503, '1747': 168, '1748': 89, '1750': 190, '1751': 4884, '1752': 173, '1753': 2854, '1754': 517, '1755': 3158, '1756': 2352, '1757': 259, '1758': 1164, '1759': 3995, '1760': 2191, '1761': 60, '1762': 2420, '1763': 574, '1764': 2431, '1765': 186, '1766': 722, '1768': 84, '1769': 1268, '1770': 401, '1771': 4791, '1772': 501, '1773': 2942, '1774': 1427, '1775': 1655, '1776': 7453, '1777': 8793, '1778': 2315, '1779': 1300, '1780': 5302, '1781': 4058, '1782': 4614, '1783': 1163, '1784': 7244, '1785': 6654, '1786': 3941, '1787': 11043, '1788': 3437, '1789': 99024, '1791': 3510, '1792': 8535, '1793': 4471, '1794': 6969, '1795': 8488, '1797': 19357, '1798': 25866, '1799': 11232, '1800': 46339, '1801': 40997, '1822': 269911, '1824': 317197, '1825': 532265, '1497': 287, '1499': 1610, '1506': 11, '1549': 355, '1550': 211, '1554': 1, '1556': 1, '1599': 994, '1632': 3, '1673': 7, '1680': 13, '1702': 257, '1714': 4, '1767': 94, '1496': 352, '1575': 34, '1590': 1, '1593': 9, '1607': 2, '1612': 35, '1613': 4, '1616': 96, '1630': 4, '1649': 68, '1653': 5, '1674': 13, '1686': 3, '1691': 22, '1728': 7, '1739': 1, '1749': 1, '1598': 4, '1657': 30, '1581': 2, '1588': 12, '1603': 1, '1541': 3, '1678': 2, '1611': 2}, 'doc': {'1790': 198, '1802': 1504, '1803': 1804, '1804': 2467, '1805': 2854, '1806': 2781, '1807': 2970, '1808': 3408, '1809': 3971, '1810': 4569, '1811': 4378, '1812': 4307, '1813': 4192, '1814': 4377, '1815': 4000, '1816': 4543, '1817': 5481, '1818': 5694, '1819': 5950, '1820': 4747, '1821': 6283, '1823': 7288, '1826': 9030, '1828': 10993, '1829': 12841, '1830': 13986, '1831': 14905, '1832': 45047, '1833': 18852, '1834': 19020, '1835': 20684, '1836': 22974, '1837': 18498, '1838': 18981, '1839': 21837, '1840': 21874, '1841': 21901, '1842': 19783, '1843': 21601, '1844': 25845, '1845': 27504, '1846': 29719, '1847': 28553, '1848': 30426, '1849': 30064, '1850': 33590, '1851': 39482, '1852': 42068, '1853': 45253, '1854': 49318, '1855': 45442, '1856': 52483, '1857': 45837, '1858': 41115, '1859': 46612, '1860': 49903, '1861': 35461, '1862': 29442, '1863': 32843, '1864': 41845, '1865': 38852, '1866': 46632, '1867': 43335, '1868': 49807, '1869': 46455, '1870': 48433, '1871': 49464, '1872': 57221, '1873': 52223, '1874': 55061, '1875': 54149, '1876': 57774, '1877': 56753, '1878': 55999, '1879': 60990, '1880': 71030, '1881': 71969, '1882': 72832, '1883': 80877, '1884': 85219, '1885': 81480, '1886': 85967, '1887': 90260, '1888': 95561, '1889': 103124, '1890': 106233, '1891': 108424, '1892': 125896, '1893': 119842, '1894': 120928, '1895': 139156, '1896': 140352, '1897': 143026, '1898': 151814, '1899': 166999, '1900': 185532, '1901': 179993, '1902': 183252, '1903': 183659, '1904': 192101, '1905': 192628, '1906': 206633, '1907': 208662, '1908': 219110, '1909': 246007, '1910': 263294, '1911': 269815, '1912': 280577, '1913': 281440, '1914': 284321, '1915': 287660, '1916': 301625, '1917': 299982, '1918': 271876, '1919': 281123, '1920': 291376, '1921': 270875, '1922': 279699, '1923': 185849, '1924': 165736, '1925': 179354, '1926': 177928, '1927': 184957, '1928': 190795, '1929': 191785, '1930': 199138, '1931': 196789, '1932': 181658, '1933': 169114, '1934': 175182, '1935': 190074, '1936': 200344, '1937': 212073, '1938': 218411, '1939': 232906, '1940': 233991, '1941': 237134, '1942': 214625, '1943': 194578, '1944': 182596, '1945': 191984, '1946': 218163, '1947': 249383, '1948': 244755, '1949': 285417, '1950': 269163, '1951': 254452, '1952': 257756, '1953': 260816, '1954': 273803, '1955': 290145, '1956': 292808, '1957': 308490, '1958': 311724, '1959': 349252, '1960': 372976, '1961': 398228, '1962': 417083, '1963': 444011, '1964': 415064, '1965': 457645, '1966': 461975, '1967': 505263, '1968': 531269, '1969': 536868, '1970': 542895, '1971': 535589, '1972': 556513, '1973': 564900, '1974': 566952, '1975': 594794, '1976': 638198, '1977': 655910, '1978': 648923, '1979': 642343, '1980': 654053, '1981': 616993, '1982': 607023, '1983': 615176, '1984': 643267, '1985': 639282, '1986': 649511, '1987': 639584, '1988': 663924, '1989': 678695, '1990': 717741, '1991': 683361, '1992': 706216, '1993': 694045, '1994': 684414, '1995': 687613, '1996': 682544, '1997': 681165, '1998': 684749, '1999': 683524, '2000': 744313, '2001': 721831, '2002': 752484, '2003': 785639, '2004': 790149, '2005': 719384, '2006': 717212, '2007': 699605, '2008': 686251, '2009': 704831, '2010': 586871, '2011': 564208, '2012': 725182, '2013': 662256, '2014': 547839, '2015': 450290, '2016': 437051, '2017': 372377, '2018': 346401, '2019': 279348, '1796': 504, '1827': 9571, '1472': 9, '1475': 9, '1476': 3, '1477': 9, '1478': 10, '1480': 20, '1481': 9, '1487': 11, '1489': 8, '1490': 12, '1491': 11, '1494': 8, '1500': 58, '1501': 155, '1507': 8, '1508': 16, '1520': 6, '1525': 1, '1526': 13, '1531': 10, '1535': 9, '1539': 10, '1542': 8, '1545': 6, '1547': 5, '1551': 20, '1553': 10, '1555': 14, '1558': 8, '1559': 7, '1561': 11, '1563': 12, '1569': 11, '1570': 12, '1571': 6, '1572': 7, '1580': 7, '1582': 5, '1586': 13, '1592': 14, '1596': 14, '1600': 10, '1601': 80, '1602': 12, '1605': 8, '1608': 6, '1609': 15, '1610': 1, '1614': 21, '1618': 4, '1619': 6, '1620': 4, '1621': 19, '1622': 4, '1623': 17, '1624': 11, '1625': 6, '1626': 9, '1627': 33, '1628': 12, '1631': 15, '1633': 5, '1634': 19, '1635': 7, '1636': 8, '1637': 25, '1638': 9, '1639': 20, '1640': 22, '1641': 10, '1642': 21, '1646': 6, '1647': 15, '1648': 10, '1650': 8, '1651': 11, '1652': 12, '1654': 7, '1655': 7, '1656': 16, '1658': 10, '1659': 8, '1660': 17, '1661': 15, '1662': 14, '1663': 42, '1664': 8, '1665': 22, '1666': 27, '1667': 36, '1668': 9, '1669': 14, '1670': 15, '1671': 8, '1672': 4, '1675': 31, '1676': 11, '1679': 5, '1681': 22, '1682': 8, '1683': 12, '1684': 6, '1685': 22, '1689': 14, '1690': 17, '1693': 20, '1694': 27, '1695': 2, '1697': 3, '1698': 10, '1699': 30, '1700': 102, '1701': 127, '1703': 12, '1704': 5, '1705': 10, '1706': 22, '1707': 11, '1708': 20, '1709': 10, '1710': 13, '1711': 10, '1712': 9, '1713': 13, '1715': 4, '1716': 19, '1717': 24, '1718': 29, '1719': 7, '1720': 9, '1721': 14, '1722': 3, '1723': 15, '1724': 14, '1725': 19, '1726': 16, '1727': 2, '1729': 24, '1730': 10, '1731': 34, '1732': 7, '1733': 14, '1734': 13, '1735': 14, '1736': 17, '1737': 16, '1738': 12, '1740': 9, '1741': 19, '1743': 26, '1744': 9, '1745': 25, '1746': 18, '1747': 16, '1748': 13, '1750': 28, '1751': 71, '1752': 15, '1753': 43, '1754': 23, '1755': 37, '1756': 36, '1757': 34, '1758': 54, '1759': 50, '1760': 45, '1761': 13, '1762': 47, '1763': 37, '1764': 53, '1765': 23, '1766': 40, '1768': 16, '1769': 69, '1770': 37, '1771': 97, '1772': 49, '1773': 50, '1774': 87, '1775': 92, '1776': 152, '1777': 135, '1778': 57, '1779': 56, '1780': 110, '1781': 92, '1782': 84, '1783': 85, '1784': 117, '1785': 168, '1786': 148, '1787': 192, '1788': 126, '1789': 302, '1791': 122, '1792': 276, '1793': 226, '1794': 252, '1795': 320, '1797': 484, '1798': 572, '1799': 370, '1800': 1691, '1801': 1231, '1822': 7087, '1824': 8365, '1825': 8451, '1497': 5, '1499': 3, '1506': 3, '1549': 5, '1550': 5, '1554': 1, '1556': 1, '1599': 5, '1632': 3, '1673': 5, '1680': 7, '1702': 5, '1714': 4, '1767': 12, '1496': 1, '1575': 6, '1590': 1, '1593': 2, '1607': 1, '1612': 9, '1613': 2, '1616': 10, '1630': 3, '1649': 8, '1653': 4, '1674': 2, '1686': 2, '1691': 4, '1728': 5, '1739': 1, '1749': 1, '1598': 4, '1657': 3, '1581': 2, '1588': 4, '1603': 1, '1541': 1, '1678': 1, '1611': 1}, 'idx': 2}\n",
      "Line 3: {'ngram': 'make', 'freq_tot': 1931351052, 'doc_tot': 45965129, 'freq': {'1859': 2546586, '1867': 2422994, '1894': 7057313, '1895': 8217274, '1896': 7775323, '1898': 8539898, '1901': 10465305, '1902': 10020427, '1903': 10211998, '1904': 10667229, '1905': 10839217, '1906': 11813596, '1907': 11709250, '1908': 12302693, '1909': 13619694, '1910': 14461784, '1911': 15237784, '1912': 15618972, '1913': 15553290, '1914': 15255049, '1915': 15772968, '1916': 16619477, '1917': 16180983, '1918': 14797948, '1919': 15369945, '1920': 16026205, '1921': 15494811, '1922': 15580866, '1923': 8982452, '1925': 8143341, '1928': 8751610, '1929': 8708575, '1937': 8575332, '1939': 9754720, '1944': 7640552, '1946': 9152462, '1949': 11403735, '1951': 10551852, '1954': 10683811, '1955': 11202238, '1956': 10673208, '1957': 11783302, '1959': 12284485, '1961': 13282529, '1962': 13488023, '1963': 14373879, '1964': 12855166, '1966': 14692287, '1967': 16607387, '1969': 16909206, '1970': 16407180, '1971': 16371818, '1972': 15690317, '1974': 15431833, '1975': 15730161, '1976': 16641853, '1977': 16628609, '1978': 16420063, '1979': 16272553, '1980': 15943954, '1981': 15473517, '1982': 15516200, '1983': 15776507, '1984': 16015066, '1985': 16261867, '1987': 16425995, '1988': 16707449, '1989': 17123866, '1990': 17851342, '1993': 17868030, '1994': 18188970, '1995': 19168900, '1996': 18553897, '1997': 18703201, '1998': 18945781, '1999': 19145202, '2000': 21381051, '2001': 21529208, '2002': 22241941, '2003': 23526156, '2004': 24124610, '2005': 21908487, '2006': 21884470, '2007': 21548970, '2008': 21678834, '2009': 22339470, '2010': 18555971, '2011': 18058033, '2012': 21816051, '2013': 20265741, '2014': 18040567, '2015': 14917625, '2016': 14094856, '2017': 11978106, '2018': 11178148, '2019': 8687286, '1882': 4516820, '1943': 8330548, '1973': 15970624, '1992': 18088803, '1837': 1143210, '1852': 2375566, '1855': 2549381, '1863': 1672299, '1886': 5508956, '1889': 6534111, '1899': 9512850, '1924': 7744720, '1926': 8069320, '1931': 8340577, '1933': 6934634, '1835': 1160503, '1836': 1323920, '1846': 1636905, '1849': 1656668, '1853': 2589009, '1858': 2352961, '1876': 3595796, '1932': 7647495, '1941': 9820616, '1942': 8702401, '1948': 9943122, '1965': 14817423, '1841': 1203610, '1842': 1003661, '1880': 4365121, '1887': 5577806, '1888': 5929248, '1893': 6885236, '1927': 8059367, '1938': 8553588, '1945': 8345250, '1947': 10455432, '1950': 10590572, '1952': 10339796, '1953': 10281684, '1958': 11241701, '1960': 12339709, '1968': 16776026, '1991': 17416516, '1808': 170177, '1818': 270434, '1821': 294107, '1824': 417217, '1826': 463755, '1827': 497662, '1828': 624629, '1830': 765898, '1831': 787151, '1832': 2333762, '1833': 1041182, '1834': 1155344, '1838': 1029838, '1839': 1148171, '1840': 1110318, '1843': 1156839, '1844': 1413951, '1845': 1506256, '1847': 1511111, '1848': 1567676, '1850': 1884876, '1851': 2272750, '1854': 2804770, '1856': 2834912, '1857': 2441281, '1860': 2638132, '1861': 1848220, '1862': 1622173, '1864': 2121014, '1865': 1950804, '1866': 2604443, '1868': 2942160, '1869': 2713900, '1870': 2983068, '1871': 2795618, '1872': 3655185, '1873': 3107719, '1874': 3349234, '1875': 3133025, '1877': 3368171, '1878': 3374439, '1879': 3746096, '1881': 4299370, '1883': 4755706, '1884': 5146784, '1885': 4836765, '1890': 6374439, '1891': 6368047, '1892': 6710233, '1897': 8251413, '1900': 10240541, '1930': 8653295, '1934': 7258538, '1935': 8052177, '1936': 8298451, '1940': 9282004, '1986': 16241464, '1825': 525412, '1500': 765, '1501': 5598, '1508': 605, '1542': 140, '1551': 749, '1553': 666, '1601': 4371, '1616': 489, '1624': 575, '1639': 314, '1651': 151, '1700': 3645, '1701': 6692, '1708': 1145, '1716': 1921, '1734': 2081, '1751': 2154, '1753': 3919, '1756': 2765, '1759': 3055, '1761': 2213, '1764': 3356, '1774': 3750, '1779': 2023, '1782': 3617, '1784': 5996, '1787': 5675, '1789': 31314, '1792': 11862, '1794': 8719, '1795': 9577, '1796': 19164, '1797': 19638, '1798': 58492, '1800': 86092, '1801': 49446, '1802': 63517, '1803': 85813, '1804': 108117, '1805': 113500, '1806': 111146, '1807': 134885, '1809': 180277, '1810': 298155, '1811': 227253, '1812': 198401, '1813': 196065, '1814': 190618, '1815': 187615, '1816': 219409, '1817': 242105, '1819': 284881, '1820': 210932, '1822': 320035, '1823': 374548, '1829': 673039, '1705': 556, '1781': 3595, '1614': 683, '1670': 1011, '1729': 1597, '1736': 1296, '1755': 2448, '1762': 2130, '1766': 1547, '1769': 2945, '1777': 5835, '1780': 4101, '1786': 5958, '1788': 3348, '1793': 7101, '1685': 1375, '1776': 8726, '1623': 272, '1760': 2616, '1478': 341, '1480': 389, '1481': 538, '1494': 166, '1561': 487, '1575': 180, '1576': 40, '1592': 675, '1593': 195, '1595': 41, '1596': 799, '1598': 36, '1600': 190, '1602': 847, '1609': 633, '1612': 214, '1620': 180, '1622': 180, '1626': 457, '1627': 608, '1632': 34, '1634': 1149, '1635': 476, '1637': 231, '1638': 413, '1640': 1317, '1641': 556, '1648': 615, '1652': 278, '1656': 349, '1659': 403, '1660': 476, '1661': 692, '1662': 1358, '1665': 2020, '1666': 2553, '1667': 2549, '1669': 788, '1671': 813, '1675': 1493, '1678': 125, '1679': 341, '1680': 113, '1682': 1419, '1683': 1340, '1684': 261, '1687': 15, '1689': 933, '1693': 3099, '1697': 331, '1699': 638, '1703': 659, '1706': 1467, '1709': 440, '1711': 321, '1712': 91, '1713': 556, '1714': 81, '1717': 864, '1718': 1162, '1719': 80, '1720': 181, '1721': 845, '1723': 904, '1724': 295, '1725': 2568, '1726': 1793, '1727': 81, '1730': 670, '1731': 2562, '1733': 1847, '1735': 1843, '1737': 2131, '1738': 401, '1739': 84, '1741': 766, '1743': 1176, '1744': 698, '1745': 694, '1746': 385, '1748': 386, '1750': 664, '1752': 1283, '1754': 2733, '1758': 3573, '1763': 496, '1767': 798, '1770': 1335, '1771': 11302, '1772': 1553, '1773': 1245, '1775': 4901, '1778': 2579, '1783': 2134, '1785': 5443, '1790': 10949, '1791': 5810, '1799': 15685, '1555': 273, '1563': 417, '1621': 690, '1631': 195, '1507': 71, '1545': 148, '1570': 81, '1642': 499, '1647': 262, '1664': 243, '1668': 495, '1673': 53, '1676': 527, '1677': 1, '1681': 2086, '1686': 12, '1690': 704, '1691': 235, '1694': 148, '1695': 19, '1722': 122, '1747': 758, '1757': 778, '1765': 707, '1597': 3, '1698': 105, '1707': 1545, '1625': 136, '1653': 340, '1476': 31, '1489': 147, '1535': 313, '1539': 646, '1663': 820, '1692': 7, '1742': 67, '1768': 1079, '1472': 144, '1475': 129, '1477': 45, '1490': 46, '1506': 23, '1520': 168, '1525': 112, '1526': 431, '1531': 167, '1559': 78, '1569': 46, '1572': 436, '1580': 50, '1581': 68, '1582': 386, '1586': 155, '1588': 213, '1603': 5, '1611': 7, '1628': 366, '1630': 56, '1633': 77, '1636': 560, '1646': 476, '1649': 123, '1650': 299, '1654': 229, '1655': 262, '1657': 89, '1658': 369, '1672': 212, '1674': 146, '1704': 72, '1710': 843, '1715': 72, '1728': 91, '1732': 339, '1740': 635, '1749': 40, '1487': 140, '1491': 202, '1497': 1, '1499': 3, '1541': 125, '1547': 1, '1549': 8, '1558': 33, '1566': 2, '1567': 11, '1577': 34, '1587': 2, '1589': 6, '1590': 17, '1591': 2, '1599': 8, '1605': 19, '1606': 8, '1607': 2, '1608': 19, '1610': 9, '1613': 48, '1618': 4, '1619': 9, '1643': 6, '1688': 11, '1702': 8, '1527': 1, '1571': 1}, 'doc': {'1859': 36650, '1867': 34482, '1894': 98930, '1895': 113781, '1896': 116015, '1898': 126088, '1901': 153554, '1902': 157204, '1903': 156166, '1904': 166486, '1905': 164498, '1906': 173724, '1907': 177991, '1908': 185433, '1909': 210322, '1910': 220888, '1911': 225606, '1912': 235828, '1913': 235022, '1914': 237564, '1915': 240901, '1916': 254967, '1917': 254989, '1918': 230997, '1919': 236894, '1920': 249714, '1921': 230129, '1922': 239611, '1923': 157758, '1925': 150079, '1928': 157719, '1929': 160581, '1937': 168295, '1939': 181863, '1944': 149958, '1946': 177053, '1949': 224758, '1951': 203421, '1954': 218805, '1955': 229642, '1956': 232110, '1957': 243612, '1959': 272942, '1961': 309253, '1962': 321817, '1963': 340008, '1964': 314826, '1966': 348371, '1967': 377286, '1969': 401101, '1970': 405394, '1971': 398344, '1972': 412825, '1974': 419142, '1975': 435559, '1976': 463573, '1977': 480693, '1978': 479069, '1979': 476351, '1980': 486590, '1981': 462555, '1982': 457775, '1983': 470903, '1984': 495296, '1985': 493558, '1987': 498806, '1988': 521473, '1989': 539449, '1990': 571493, '1993': 562605, '1994': 565728, '1995': 575273, '1996': 575487, '1997': 581295, '1998': 590990, '1999': 600244, '2000': 675108, '2001': 660475, '2002': 700226, '2003': 742608, '2004': 762261, '2005': 698058, '2006': 693465, '2007': 686432, '2008': 684769, '2009': 736701, '2010': 613624, '2011': 619521, '2012': 780159, '2013': 721291, '2014': 633124, '2015': 516233, '2016': 502171, '2017': 439464, '2018': 399150, '2019': 326595, '1882': 58221, '1943': 157442, '1973': 415001, '1992': 566818, '1837': 13916, '1852': 32150, '1855': 35191, '1863': 25399, '1886': 68643, '1889': 82870, '1899': 145482, '1924': 139306, '1926': 147471, '1931': 159700, '1933': 133484, '1835': 15621, '1836': 17493, '1846': 23048, '1849': 22858, '1853': 35081, '1858': 31200, '1876': 45171, '1932': 144411, '1941': 188091, '1942': 172989, '1948': 195121, '1965': 342704, '1841': 16813, '1842': 15356, '1880': 56550, '1887': 73100, '1888': 77621, '1893': 98515, '1927': 155575, '1938': 172983, '1945': 155396, '1947': 198402, '1950': 213446, '1952': 205571, '1953': 208404, '1958': 246313, '1960': 291205, '1968': 397762, '1991': 551903, '1808': 2849, '1818': 4533, '1821': 5008, '1824': 6703, '1826': 6962, '1827': 7537, '1828': 8620, '1830': 10850, '1831': 11631, '1832': 27077, '1833': 14476, '1834': 13839, '1838': 14330, '1839': 16755, '1840': 16602, '1843': 16572, '1844': 19906, '1845': 21611, '1847': 22123, '1848': 23716, '1850': 27067, '1851': 29958, '1854': 38998, '1856': 40745, '1857': 36074, '1860': 38695, '1861': 26605, '1862': 22458, '1864': 33086, '1865': 30497, '1866': 36130, '1868': 38765, '1869': 37365, '1870': 37957, '1871': 39373, '1872': 43921, '1873': 40774, '1874': 41749, '1875': 42217, '1877': 43908, '1878': 44001, '1879': 48032, '1881': 57579, '1883': 65392, '1884': 67231, '1885': 64528, '1890': 86337, '1891': 88340, '1892': 102293, '1897': 117214, '1900': 160845, '1930': 165452, '1934': 139433, '1935': 152570, '1936': 159825, '1940': 186888, '1986': 500371, '1825': 6898, '1500': 18, '1501': 88, '1508': 12, '1542': 8, '1551': 13, '1553': 8, '1601': 68, '1616': 15, '1624': 13, '1639': 17, '1651': 7, '1700': 76, '1701': 79, '1708': 25, '1716': 30, '1734': 25, '1751': 59, '1753': 60, '1756': 35, '1759': 56, '1761': 33, '1764': 55, '1774': 129, '1779': 45, '1782': 53, '1784': 94, '1787': 150, '1789': 243, '1792': 259, '1794': 254, '1795': 282, '1796': 407, '1797': 385, '1798': 503, '1800': 1822, '1801': 1040, '1802': 1312, '1803': 1722, '1804': 2318, '1805': 2463, '1806': 2422, '1807': 2465, '1809': 3696, '1810': 4078, '1811': 3719, '1812': 3450, '1813': 3416, '1814': 3315, '1815': 3241, '1816': 3449, '1817': 3994, '1819': 4501, '1820': 3776, '1822': 5778, '1823': 5866, '1829': 9784, '1705': 6, '1781': 66, '1614': 16, '1670': 23, '1729': 33, '1736': 31, '1755': 50, '1762': 54, '1766': 61, '1769': 92, '1777': 113, '1780': 84, '1786': 107, '1788': 117, '1793': 238, '1685': 40, '1776': 152, '1623': 17, '1760': 58, '1478': 6, '1480': 8, '1481': 6, '1494': 5, '1561': 5, '1575': 7, '1576': 5, '1592': 26, '1593': 12, '1595': 6, '1596': 25, '1598': 12, '1600': 28, '1602': 10, '1609': 34, '1612': 17, '1620': 6, '1622': 10, '1626': 7, '1627': 27, '1632': 8, '1634': 25, '1635': 11, '1637': 20, '1638': 10, '1640': 50, '1641': 17, '1648': 6, '1652': 11, '1656': 22, '1659': 13, '1660': 15, '1661': 18, '1662': 15, '1665': 18, '1666': 20, '1667': 38, '1669': 21, '1671': 13, '1675': 26, '1678': 7, '1679': 9, '1680': 12, '1682': 17, '1683': 40, '1684': 10, '1687': 6, '1689': 23, '1693': 24, '1697': 28, '1699': 21, '1703': 12, '1706': 33, '1709': 11, '1711': 17, '1712': 12, '1713': 16, '1714': 17, '1717': 21, '1718': 26, '1719': 16, '1720': 16, '1721': 22, '1723': 18, '1724': 22, '1725': 21, '1726': 29, '1727': 14, '1730': 23, '1731': 34, '1733': 16, '1735': 25, '1737': 24, '1738': 22, '1739': 11, '1741': 23, '1743': 38, '1744': 20, '1745': 35, '1746': 15, '1748': 27, '1750': 42, '1752': 26, '1754': 34, '1758': 73, '1763': 43, '1767': 30, '1770': 52, '1771': 103, '1772': 67, '1773': 40, '1775': 149, '1778': 43, '1783': 83, '1785': 183, '1790': 153, '1791': 121, '1799': 340, '1555': 9, '1563': 11, '1621': 16, '1631': 8, '1507': 8, '1545': 5, '1570': 11, '1642': 10, '1647': 15, '1664': 6, '1668': 15, '1673': 5, '1676': 25, '1677': 1, '1681': 16, '1686': 5, '1690': 17, '1691': 14, '1694': 20, '1695': 7, '1722': 9, '1747': 26, '1757': 32, '1765': 41, '1597': 3, '1698': 13, '1707': 14, '1625': 5, '1653': 12, '1476': 5, '1489': 5, '1535': 6, '1539': 5, '1663': 29, '1692': 5, '1742': 9, '1768': 30, '1472': 4, '1475': 4, '1477': 4, '1490': 6, '1506': 4, '1520': 4, '1525': 4, '1526': 5, '1531': 5, '1559': 4, '1569': 6, '1572': 5, '1580': 4, '1581': 4, '1582': 4, '1586': 4, '1588': 11, '1603': 4, '1611': 4, '1628': 9, '1630': 12, '1633': 6, '1636': 6, '1646': 4, '1649': 6, '1650': 8, '1654': 7, '1655': 5, '1657': 4, '1658': 5, '1672': 20, '1674': 4, '1704': 7, '1710': 11, '1715': 8, '1728': 19, '1732': 12, '1740': 13, '1749': 12, '1487': 3, '1491': 4, '1497': 1, '1499': 2, '1541': 4, '1547': 1, '1549': 2, '1558': 4, '1566': 1, '1567': 2, '1577': 5, '1587': 2, '1589': 6, '1590': 3, '1591': 1, '1599': 3, '1605': 3, '1606': 3, '1607': 1, '1608': 5, '1610': 4, '1613': 5, '1618': 3, '1619': 3, '1643': 2, '1688': 3, '1702': 2, '1527': 1, '1571': 1}, 'idx': 3}\n",
      "Line 4: {'ngram': 'use', 'freq_tot': 1784078357, 'doc_tot': 54121634, 'freq': {'1477': 259, '1490': 86, '1508': 875, '1531': 697, '1586': 653, '1592': 266, '1623': 844, '1631': 792, '1637': 1035, '1639': 705, '1640': 218, '1642': 546, '1665': 434, '1666': 259, '1672': 59, '1675': 582, '1681': 438, '1682': 188, '1690': 130, '1693': 689, '1698': 238, '1700': 4205, '1701': 5492, '1707': 220, '1716': 715, '1717': 1856, '1718': 194, '1721': 177, '1724': 102, '1725': 1177, '1726': 402, '1729': 358, '1733': 445, '1734': 305, '1735': 407, '1736': 830, '1737': 627, '1738': 245, '1739': 12, '1741': 261, '1743': 327, '1746': 227, '1747': 302, '1748': 231, '1750': 263, '1752': 289, '1753': 2336, '1754': 693, '1756': 1060, '1757': 495, '1758': 1022, '1759': 1128, '1760': 1095, '1761': 655, '1762': 924, '1764': 1181, '1765': 135, '1766': 458, '1770': 298, '1771': 6191, '1775': 1859, '1776': 2369, '1777': 1819, '1781': 767, '1782': 724, '1784': 1339, '1785': 2017, '1786': 1456, '1787': 1235, '1789': 17851, '1790': 3372, '1791': 1357, '1792': 2849, '1793': 2758, '1796': 4469, '1797': 4700, '1798': 15119, '1799': 4560, '1800': 23538, '1801': 14418, '1802': 17335, '1803': 26105, '1804': 31088, '1805': 36368, '1806': 36005, '1807': 41403, '1808': 45127, '1809': 53273, '1810': 106044, '1811': 66184, '1812': 56576, '1813': 52933, '1814': 53258, '1815': 51315, '1816': 65523, '1817': 68291, '1818': 84454, '1819': 89800, '1820': 57599, '1821': 90571, '1822': 94073, '1823': 109111, '1824': 137154, '1825': 143009, '1826': 141555, '1827': 148552, '1828': 170686, '1829': 192425, '1830': 227594, '1831': 239288, '1832': 881828, '1833': 293525, '1834': 318656, '1835': 360350, '1836': 365069, '1837': 339070, '1838': 304351, '1839': 336229, '1840': 320001, '1841': 350286, '1842': 294706, '1843': 349785, '1844': 414845, '1845': 466763, '1846': 492750, '1847': 484373, '1848': 488945, '1849': 510831, '1850': 585513, '1851': 739935, '1852': 730855, '1853': 772545, '1854': 866450, '1855': 778642, '1856': 873424, '1857': 775863, '1858': 746592, '1859': 850395, '1860': 876839, '1861': 616051, '1862': 525203, '1863': 577360, '1864': 677487, '1865': 627270, '1866': 843823, '1867': 853744, '1868': 985938, '1869': 957042, '1870': 1074242, '1871': 1012631, '1872': 1299216, '1873': 1119013, '1874': 1188545, '1875': 1144161, '1876': 1276864, '1877': 1281773, '1878': 1309681, '1879': 1439970, '1880': 1720517, '1881': 1708638, '1882': 1761673, '1883': 1941118, '1884': 2056075, '1885': 1998406, '1886': 2203495, '1887': 2327864, '1888': 2441686, '1889': 2720719, '1890': 2773403, '1891': 2749607, '1892': 2942018, '1893': 2962133, '1894': 3186934, '1895': 3603109, '1896': 3449086, '1897': 3664797, '1898': 3788042, '1899': 4034143, '1900': 4475970, '1901': 4599864, '1902': 4646214, '1903': 4816571, '1904': 5051184, '1905': 5404443, '1906': 5737709, '1907': 5866811, '1908': 6298216, '1909': 7071099, '1910': 7472481, '1911': 8012721, '1912': 8384379, '1913': 8476274, '1914': 8469752, '1915': 8787381, '1916': 9154978, '1917': 9259657, '1918': 8423300, '1919': 8455323, '1920': 9059981, '1921': 8694594, '1922': 8917353, '1923': 5400832, '1924': 4481824, '1925': 5148952, '1926': 4870124, '1927': 5120169, '1928': 5421622, '1929': 5461471, '1930': 5516511, '1931': 5222556, '1932': 4779539, '1933': 4514314, '1934': 4503926, '1935': 5063255, '1936': 5348811, '1937': 5567367, '1938': 5813618, '1939': 6522288, '1940': 6451379, '1941': 6973304, '1942': 6594921, '1943': 6095353, '1944': 5684745, '1945': 6012449, '1946': 6683244, '1947': 7756093, '1948': 7711752, '1949': 9282625, '1950': 8389400, '1951': 8396278, '1952': 8250061, '1953': 8394169, '1954': 8787436, '1955': 9306708, '1956': 9159751, '1957': 9982655, '1958': 10102685, '1959': 11111393, '1960': 11484521, '1961': 12421893, '1962': 13064038, '1963': 13895536, '1964': 12630235, '1965': 14066180, '1966': 13955270, '1967': 15600658, '1968': 15630556, '1969': 15491190, '1970': 16321788, '1971': 16501370, '1972': 17082098, '1973': 17456936, '1974': 17816820, '1975': 18824777, '1976': 19831367, '1977': 20923556, '1978': 20978141, '1979': 21300894, '1980': 21429956, '1981': 20715747, '1982': 21024385, '1983': 22472662, '1984': 22284318, '1985': 23098362, '1986': 23374937, '1987': 23101862, '1988': 23360937, '1989': 24702599, '1990': 27004389, '1991': 25614824, '1992': 27303440, '1993': 26443462, '1994': 26990498, '1995': 28482380, '1996': 26542419, '1997': 27092131, '1998': 28452763, '1999': 27024845, '2000': 28916374, '2001': 28481583, '2002': 30593916, '2003': 31209322, '2004': 30790163, '2005': 27415927, '2006': 27131343, '2007': 26740266, '2008': 23767973, '2009': 22994250, '2010': 21437059, '2011': 20798154, '2012': 27653500, '2013': 24748939, '2014': 18797452, '2015': 15023550, '2016': 15355723, '2017': 12737069, '2018': 11722701, '2019': 8798158, '1476': 89, '1500': 1889, '1501': 4205, '1542': 814, '1627': 1404, '1651': 102, '1783': 737, '1551': 439, '1780': 1225, '1475': 347, '1487': 568, '1489': 441, '1491': 796, '1506': 40, '1520': 376, '1535': 878, '1545': 242, '1559': 252, '1609': 303, '1614': 386, '1625': 121, '1647': 103, '1649': 238, '1661': 546, '1662': 275, '1684': 1800, '1685': 323, '1706': 487, '1708': 421, '1709': 298, '1713': 386, '1744': 150, '1763': 288, '1769': 656, '1773': 586, '1779': 594, '1601': 2144, '1751': 1245, '1774': 1129, '1593': 23, '1671': 179, '1745': 244, '1553': 243, '1723': 348, '1772': 386, '1778': 573, '1795': 1972, '1480': 761, '1539': 192, '1558': 111, '1569': 109, '1572': 229, '1599': 638, '1602': 400, '1634': 239, '1638': 111, '1648': 69, '1668': 90, '1669': 198, '1670': 585, '1674': 3, '1679': 87, '1680': 23, '1686': 13, '1692': 1, '1694': 44, '1711': 111, '1712': 56, '1720': 30, '1728': 29, '1768': 408, '1788': 788, '1794': 1323, '1472': 668, '1478': 117, '1507': 196, '1526': 208, '1547': 545, '1561': 164, '1588': 30, '1596': 131, '1598': 10, '1600': 97, '1605': 38, '1610': 7, '1611': 8, '1616': 220, '1621': 250, '1624': 52, '1628': 6, '1632': 1, '1633': 13, '1635': 112, '1641': 12, '1653': 70, '1654': 117, '1655': 82, '1656': 78, '1657': 41, '1658': 99, '1659': 106, '1663': 252, '1667': 699, '1683': 532, '1688': 10, '1689': 95, '1691': 53, '1697': 33, '1699': 185, '1702': 118, '1710': 184, '1719': 17, '1722': 56, '1727': 26, '1730': 194, '1731': 850, '1732': 84, '1740': 85, '1749': 1, '1755': 787, '1555': 117, '1575': 37, '1525': 12, '1576': 6, '1577': 3, '1582': 103, '1612': 17, '1620': 49, '1626': 108, '1646': 41, '1650': 76, '1703': 144, '1481': 488, '1494': 27, '1499': 315, '1550': 30, '1563': 86, '1580': 22, '1622': 32, '1652': 50, '1660': 69, '1664': 60, '1676': 47, '1705': 123, '1767': 71, '1497': 35, '1527': 1, '1543': 1, '1549': 46, '1567': 6, '1570': 47, '1571': 128, '1581': 27, '1587': 2, '1595': 8, '1608': 3, '1618': 2, '1619': 4, '1630': 9, '1636': 38, '1643': 1, '1678': 7, '1704': 665, '1687': 4, '1714': 4, '1715': 6, '1590': 1, '1603': 1, '1673': 2}, 'doc': {'1477': 9, '1490': 11, '1508': 17, '1531': 9, '1586': 12, '1592': 17, '1623': 20, '1631': 15, '1637': 28, '1639': 18, '1640': 33, '1642': 20, '1665': 23, '1666': 19, '1672': 18, '1675': 31, '1681': 22, '1682': 13, '1690': 17, '1693': 22, '1698': 19, '1700': 88, '1701': 103, '1707': 8, '1716': 20, '1717': 23, '1718': 18, '1721': 22, '1724': 21, '1725': 16, '1726': 24, '1729': 22, '1733': 15, '1734': 22, '1735': 17, '1736': 30, '1737': 26, '1738': 12, '1739': 4, '1741': 22, '1743': 28, '1746': 16, '1747': 14, '1748': 22, '1750': 26, '1752': 22, '1753': 45, '1754': 31, '1756': 33, '1757': 31, '1758': 53, '1759': 43, '1760': 44, '1761': 28, '1762': 49, '1764': 50, '1765': 24, '1766': 43, '1770': 32, '1771': 89, '1775': 110, '1776': 109, '1777': 90, '1781': 45, '1782': 43, '1784': 69, '1785': 142, '1786': 96, '1787': 112, '1789': 216, '1790': 108, '1791': 96, '1792': 179, '1793': 164, '1796': 289, '1797': 275, '1798': 378, '1799': 248, '1800': 1415, '1801': 825, '1802': 1095, '1803': 1484, '1804': 2044, '1805': 2292, '1806': 2040, '1807': 2162, '1808': 2374, '1809': 3097, '1810': 3532, '1811': 3321, '1812': 3060, '1813': 2857, '1814': 2784, '1815': 2791, '1816': 3021, '1817': 3594, '1818': 3955, '1819': 3900, '1820': 3223, '1821': 4249, '1822': 4856, '1823': 5065, '1824': 5767, '1825': 5886, '1826': 6154, '1827': 6606, '1828': 7342, '1829': 8676, '1830': 9398, '1831': 10456, '1832': 26383, '1833': 12787, '1834': 12238, '1835': 14108, '1836': 15447, '1837': 12218, '1838': 12636, '1839': 14845, '1840': 14586, '1841': 15049, '1842': 13450, '1843': 14536, '1844': 17525, '1845': 19115, '1846': 20383, '1847': 19529, '1848': 20524, '1849': 20196, '1850': 23813, '1851': 27068, '1852': 28512, '1853': 31144, '1854': 34400, '1855': 31662, '1856': 36227, '1857': 32079, '1858': 27884, '1859': 33007, '1860': 34316, '1861': 23520, '1862': 19831, '1863': 22488, '1864': 28891, '1865': 26522, '1866': 32254, '1867': 30843, '1868': 35063, '1869': 33816, '1870': 34814, '1871': 35878, '1872': 40120, '1873': 37890, '1874': 39279, '1875': 39265, '1876': 42077, '1877': 41165, '1878': 41466, '1879': 44954, '1880': 53539, '1881': 54309, '1882': 54350, '1883': 61623, '1884': 63642, '1885': 61571, '1886': 65008, '1887': 69257, '1888': 73128, '1889': 79543, '1890': 81760, '1891': 84331, '1892': 94163, '1893': 93127, '1894': 93725, '1895': 107698, '1896': 108990, '1897': 110962, '1898': 118919, '1899': 134198, '1900': 150706, '1901': 144715, '1902': 149551, '1903': 148762, '1904': 157022, '1905': 157241, '1906': 166872, '1907': 170010, '1908': 179074, '1909': 202658, '1910': 214309, '1911': 220912, '1912': 231354, '1913': 231825, '1914': 234477, '1915': 237493, '1916': 250616, '1917': 255426, '1918': 230166, '1919': 232405, '1920': 245350, '1921': 227612, '1922': 238237, '1923': 158423, '1924': 139517, '1925': 153298, '1926': 149040, '1927': 158856, '1928': 160542, '1929': 162605, '1930': 169909, '1931': 165047, '1932': 150397, '1933': 140838, '1934': 146049, '1935': 160842, '1936': 170097, '1937': 179717, '1938': 186461, '1939': 196238, '1940': 204634, '1941': 206385, '1942': 193309, '1943': 175284, '1944': 167206, '1945': 173922, '1946': 197856, '1947': 223102, '1948': 220986, '1949': 265401, '1950': 247982, '1951': 236356, '1952': 241416, '1953': 244842, '1954': 258365, '1955': 272944, '1956': 277343, '1957': 291484, '1958': 298559, '1959': 332680, '1960': 360264, '1961': 385352, '1962': 403556, '1963': 426893, '1964': 400473, '1965': 436184, '1966': 440389, '1967': 474798, '1968': 497204, '1969': 502415, '1970': 517264, '1971': 517171, '1972': 545810, '1973': 551395, '1974': 566087, '1975': 594649, '1976': 638859, '1977': 669030, '1978': 673327, '1979': 668465, '1980': 682762, '1981': 643753, '1982': 628513, '1983': 650473, '1984': 680431, '1985': 680815, '1986': 681855, '1987': 670630, '1988': 696854, '1989': 727411, '1990': 769014, '1991': 737401, '1992': 757617, '1993': 756694, '1994': 750047, '1995': 755562, '1996': 748255, '1997': 751146, '1998': 755658, '1999': 761295, '2000': 828825, '2001': 804196, '2002': 845808, '2003': 882509, '2004': 888247, '2005': 806912, '2006': 800309, '2007': 792470, '2008': 769395, '2009': 799057, '2010': 685291, '2011': 677124, '2012': 890512, '2013': 814883, '2014': 682059, '2015': 555229, '2016': 543684, '2017': 472649, '2018': 433291, '2019': 352819, '1476': 10, '1500': 46, '1501': 110, '1542': 12, '1627': 20, '1651': 7, '1783': 55, '1551': 16, '1780': 60, '1475': 7, '1487': 8, '1489': 8, '1491': 8, '1506': 5, '1520': 7, '1535': 11, '1545': 7, '1559': 7, '1609': 18, '1614': 17, '1625': 9, '1647': 12, '1649': 8, '1661': 14, '1662': 14, '1684': 13, '1685': 30, '1706': 26, '1708': 23, '1709': 10, '1713': 11, '1744': 18, '1763': 34, '1769': 55, '1773': 40, '1779': 34, '1601': 56, '1751': 58, '1774': 79, '1593': 6, '1671': 14, '1745': 31, '1553': 6, '1723': 17, '1772': 38, '1778': 26, '1795': 185, '1480': 11, '1539': 7, '1558': 7, '1569': 9, '1572': 7, '1599': 6, '1602': 8, '1634': 23, '1638': 8, '1648': 6, '1668': 12, '1669': 18, '1670': 13, '1674': 2, '1679': 8, '1680': 6, '1686': 7, '1692': 1, '1694': 15, '1711': 17, '1712': 11, '1720': 9, '1728': 11, '1768': 21, '1788': 81, '1794': 153, '1472': 6, '1478': 7, '1507': 10, '1526': 8, '1547': 5, '1561': 8, '1588': 8, '1596': 17, '1598': 5, '1600': 17, '1605': 4, '1610': 3, '1611': 4, '1616': 12, '1621': 7, '1624': 5, '1628': 5, '1632': 1, '1633': 5, '1635': 11, '1641': 6, '1653': 12, '1654': 4, '1655': 7, '1656': 18, '1657': 6, '1658': 6, '1659': 11, '1663': 30, '1667': 34, '1683': 24, '1688': 4, '1689': 14, '1691': 5, '1697': 9, '1699': 20, '1702': 6, '1710': 9, '1719': 8, '1722': 10, '1727': 10, '1730': 16, '1731': 27, '1732': 10, '1740': 13, '1749': 1, '1755': 35, '1555': 12, '1575': 4, '1525': 6, '1576': 4, '1577': 3, '1582': 5, '1612': 4, '1620': 5, '1626': 5, '1646': 5, '1650': 9, '1703': 10, '1481': 8, '1494': 4, '1499': 4, '1550': 5, '1563': 6, '1580': 4, '1622': 7, '1652': 9, '1660': 10, '1664': 4, '1676': 11, '1705': 4, '1767': 11, '1497': 2, '1527': 1, '1543': 1, '1549': 5, '1567': 2, '1570': 6, '1571': 3, '1581': 3, '1587': 1, '1595': 3, '1608': 3, '1618': 1, '1619': 3, '1630': 3, '1636': 3, '1643': 1, '1678': 3, '1704': 6, '1687': 2, '1714': 2, '1715': 2, '1590': 1, '1603': 1, '1673': 1}, 'idx': 4}\n",
      "Line 5: {'ngram': 'may', 'freq_tot': 1748106161, 'doc_tot': 22571247, 'freq': {'1869': 2261295, '1879': 2952472, '1882': 3527460, '1893': 5149093, '1898': 6664576, '1904': 8130336, '1909': 10638767, '1915': 12454173, '1917': 12864326, '1919': 11499182, '1921': 11808605, '1922': 11789020, '1934': 6125075, '1936': 7028276, '1938': 7475524, '1939': 8630149, '1941': 8826368, '1951': 9340135, '1955': 10103238, '1963': 13799958, '1964': 12337254, '1965': 14185756, '1967': 15593605, '1968': 15841469, '1969': 15883247, '1970': 15709699, '1971': 16096334, '1972': 15767607, '1973': 16133260, '1974': 15721364, '1975': 16577750, '1976': 17500095, '1977': 17639046, '1978': 17691776, '1979': 17991988, '1981': 17264400, '1982': 17296762, '1983': 17811803, '1984': 17173312, '1985': 18125189, '1986': 17706934, '1987': 18075412, '1988': 18349771, '1989': 18720442, '1990': 19790587, '1991': 19073742, '1994': 19654032, '1995': 21306305, '1997': 19780385, '1998': 20420742, '1999': 19831326, '2000': 20822568, '2001': 20927019, '2002': 20982741, '2003': 21665435, '2004': 21896821, '2006': 20283913, '2007': 19155743, '2009': 17622937, '2013': 18593523, '1472': 350, '1475': 275, '1476': 49, '1477': 167, '1478': 365, '1480': 930, '1481': 317, '1487': 229, '1489': 390, '1490': 52, '1491': 334, '1499': 9, '1500': 2281, '1501': 8109, '1507': 88, '1508': 1561, '1520': 103, '1525': 11, '1526': 169, '1531': 391, '1535': 435, '1539': 822, '1542': 460, '1545': 102, '1547': 6, '1549': 7, '1551': 1002, '1553': 523, '1555': 269, '1558': 67, '1559': 123, '1561': 443, '1563': 146, '1569': 62, '1570': 44, '1571': 8, '1572': 192, '1575': 214, '1580': 31, '1581': 83, '1582': 216, '1586': 275, '1588': 104, '1592': 823, '1593': 146, '1596': 378, '1597': 1, '1599': 2, '1600': 274, '1601': 4053, '1602': 1712, '1605': 12, '1608': 14, '1609': 278, '1612': 343, '1613': 58, '1614': 1462, '1616': 457, '1621': 1149, '1623': 338, '1624': 286, '1625': 68, '1626': 235, '1627': 595, '1628': 51, '1631': 401, '1633': 59, '1634': 615, '1635': 318, '1636': 678, '1637': 562, '1638': 749, '1639': 693, '1640': 998, '1641': 547, '1642': 729, '1646': 315, '1647': 288, '1648': 208, '1649': 125, '1650': 303, '1651': 254, '1652': 275, '1653': 357, '1656': 207, '1659': 559, '1660': 421, '1661': 1169, '1662': 989, '1663': 432, '1664': 63, '1665': 678, '1666': 1360, '1667': 2054, '1668': 420, '1669': 801, '1670': 1406, '1671': 815, '1672': 137, '1674': 242, '1675': 1158, '1676': 422, '1678': 70, '1679': 471, '1681': 2279, '1682': 970, '1683': 958, '1684': 1083, '1685': 1359, '1688': 34, '1689': 659, '1690': 545, '1691': 345, '1692': 8, '1693': 1776, '1694': 297, '1695': 7, '1698': 146, '1699': 654, '1700': 4249, '1701': 8255, '1703': 394, '1704': 27, '1705': 492, '1706': 1031, '1707': 1031, '1708': 1080, '1709': 851, '1710': 592, '1711': 196, '1712': 179, '1713': 559, '1714': 70, '1715': 104, '1716': 1817, '1717': 1111, '1718': 907, '1720': 199, '1721': 808, '1722': 239, '1723': 964, '1724': 352, '1725': 2980, '1726': 1547, '1727': 74, '1728': 112, '1729': 993, '1730': 629, '1731': 1961, '1733': 1372, '1734': 1617, '1735': 1656, '1736': 1791, '1737': 505, '1738': 871, '1740': 524, '1741': 663, '1742': 25, '1743': 1392, '1744': 598, '1745': 635, '1746': 681, '1747': 287, '1748': 279, '1750': 470, '1751': 3685, '1752': 1211, '1753': 3937, '1754': 2300, '1755': 3347, '1756': 3806, '1757': 964, '1758': 3731, '1759': 4025, '1760': 2924, '1761': 1313, '1762': 2196, '1763': 1074, '1764': 5160, '1765': 721, '1766': 1969, '1767': 315, '1768': 1579, '1769': 3632, '1770': 1010, '1771': 10597, '1772': 971, '1773': 1645, '1774': 4181, '1775': 4527, '1776': 10795, '1777': 7357, '1778': 3964, '1779': 2611, '1780': 6126, '1781': 2681, '1782': 4815, '1783': 2242, '1784': 7398, '1785': 13663, '1786': 5631, '1787': 4284, '1788': 3150, '1789': 18798, '1790': 10867, '1791': 4015, '1792': 14112, '1793': 7428, '1794': 6425, '1795': 9291, '1796': 20491, '1797': 18804, '1798': 45580, '1799': 15398, '1800': 66291, '1801': 47084, '1802': 52802, '1803': 85286, '1804': 86183, '1805': 91481, '1806': 116160, '1807': 125447, '1808': 153362, '1809': 166647, '1810': 263789, '1811': 226570, '1812': 197110, '1813': 183355, '1814': 181244, '1815': 184976, '1816': 204517, '1817': 223641, '1818': 259660, '1819': 291764, '1820': 206449, '1821': 310528, '1822': 309396, '1823': 358596, '1824': 413488, '1825': 452033, '1826': 434741, '1827': 466503, '1828': 542712, '1829': 643204, '1830': 716809, '1831': 759444, '1832': 1924818, '1833': 966570, '1834': 1034991, '1835': 1053507, '1836': 1204862, '1837': 1071679, '1838': 977136, '1839': 1058527, '1840': 1055702, '1841': 1091647, '1842': 912449, '1843': 1056399, '1844': 1267777, '1845': 1403442, '1846': 1523612, '1847': 1379220, '1848': 1477075, '1849': 1466561, '1850': 1722323, '1851': 2080414, '1852': 2102704, '1853': 2309838, '1854': 2444724, '1855': 2228407, '1856': 2439889, '1857': 2147099, '1858': 2102125, '1859': 2212612, '1860': 2335948, '1861': 1637224, '1862': 1404353, '1863': 1445796, '1864': 1749699, '1865': 1605320, '1866': 2298659, '1867': 2088311, '1868': 2474206, '1870': 2442319, '1871': 2355542, '1872': 2874169, '1873': 2606749, '1874': 2627977, '1875': 2464908, '1876': 2696586, '1877': 2648969, '1878': 2647458, '1880': 3435434, '1881': 3530921, '1883': 3790220, '1884': 4064289, '1885': 3839188, '1886': 4237100, '1887': 4362544, '1888': 4411196, '1889': 4989349, '1890': 4922915, '1891': 4951783, '1892': 5111998, '1894': 5445346, '1895': 6389090, '1896': 5985802, '1897': 6462739, '1899': 7102501, '1900': 7900829, '1901': 8178067, '1902': 7887796, '1903': 8134870, '1905': 8559174, '1906': 9039620, '1907': 9186514, '1908': 9330170, '1910': 11338230, '1911': 11878211, '1912': 11974859, '1913': 12039043, '1914': 11914060, '1916': 12715277, '1918': 11231920, '1920': 11931089, '1923': 7172233, '1924': 5890271, '1925': 6570970, '1926': 6282355, '1927': 6600222, '1928': 6967563, '1929': 6931008, '1930': 7050327, '1931': 7603397, '1932': 6332365, '1933': 6032958, '1935': 6886761, '1937': 7393135, '1940': 8084120, '1942': 7637019, '1943': 7150285, '1944': 6553186, '1945': 7194030, '1946': 7722439, '1947': 8891349, '1948': 8571886, '1949': 10568625, '1950': 9672461, '1952': 9126208, '1953': 9253189, '1954': 9856446, '1956': 9294661, '1957': 10987534, '1958': 10101172, '1959': 11638053, '1960': 11353731, '1961': 12609365, '1962': 12601082, '1966': 13974041, '1980': 17401831, '1992': 20077292, '1993': 19811953, '1996': 20052025, '2005': 20038037, '2008': 18534036, '2010': 15319274, '2011': 14891641, '2012': 20132751, '2014': 13711477, '2015': 11400385, '2016': 10678629, '2017': 8058475, '2018': 7907699, '2019': 5817968, '1610': 4, '1619': 21, '1632': 23, '1654': 245, '1658': 416, '1680': 38, '1697': 174, '1732': 178, '1739': 75, '1567': 6, '1719': 71, '1577': 8, '1603': 21, '1686': 21, '1643': 1, '1606': 7, '1655': 365, '1657': 144, '1749': 46, '1494': 90, '1506': 61, '1541': 6, '1550': 2, '1566': 1, '1576': 23, '1590': 3, '1595': 23, '1598': 20, '1611': 4, '1617': 1, '1618': 6, '1620': 160, '1622': 56, '1630': 51, '1673': 77, '1687': 19, '1702': 2}, 'doc': {'1869': 21717, '1879': 27266, '1882': 32895, '1893': 54352, '1898': 69226, '1904': 88230, '1909': 108650, '1915': 122830, '1917': 130052, '1919': 120375, '1921': 115717, '1922': 119895, '1934': 71949, '1936': 82790, '1938': 88328, '1939': 93647, '1941': 97155, '1951': 103751, '1955': 118247, '1963': 177072, '1964': 164705, '1965': 181959, '1967': 198949, '1968': 209461, '1969': 211400, '1970': 214979, '1971': 211328, '1972': 216888, '1973': 220372, '1974': 223375, '1975': 232636, '1976': 250555, '1977': 259398, '1978': 258246, '1979': 257497, '1981': 245088, '1982': 238439, '1983': 244606, '1984': 256891, '1985': 256523, '1986': 258877, '1987': 254916, '1988': 265312, '1989': 274124, '1990': 287886, '1991': 274360, '1994': 275191, '1995': 276439, '1997': 273247, '1998': 274431, '1999': 276439, '2000': 304309, '2001': 295965, '2002': 308008, '2003': 324804, '2004': 333678, '2006': 299184, '2007': 291496, '2009': 306434, '2013': 287313, '1472': 4, '1475': 2, '1476': 2, '1477': 4, '1478': 2, '1480': 4, '1481': 4, '1487': 4, '1489': 2, '1490': 4, '1491': 4, '1499': 2, '1500': 30, '1501': 66, '1507': 4, '1508': 5, '1520': 2, '1525': 2, '1526': 5, '1531': 5, '1535': 4, '1539': 3, '1542': 5, '1545': 4, '1547': 1, '1549': 3, '1551': 5, '1553': 3, '1555': 5, '1558': 2, '1559': 2, '1561': 5, '1563': 5, '1569': 5, '1570': 8, '1571': 4, '1572': 4, '1575': 3, '1580': 2, '1581': 2, '1582': 2, '1586': 3, '1588': 8, '1592': 15, '1593': 5, '1596': 11, '1597': 1, '1599': 2, '1600': 13, '1601': 38, '1602': 6, '1605': 3, '1608': 3, '1609': 14, '1612': 12, '1613': 6, '1614': 10, '1616': 8, '1621': 9, '1623': 11, '1624': 7, '1625': 3, '1626': 3, '1627': 16, '1628': 5, '1631': 7, '1633': 5, '1634': 13, '1635': 6, '1636': 6, '1637': 9, '1638': 5, '1639': 10, '1640': 13, '1641': 5, '1642': 11, '1646': 3, '1647': 11, '1648': 5, '1649': 3, '1650': 7, '1651': 4, '1652': 7, '1653': 8, '1656': 14, '1659': 6, '1660': 9, '1661': 10, '1662': 10, '1663': 18, '1664': 3, '1665': 13, '1666': 11, '1667': 19, '1668': 11, '1669': 11, '1670': 9, '1671': 11, '1672': 11, '1674': 4, '1675': 13, '1676': 11, '1678': 5, '1679': 9, '1681': 14, '1682': 6, '1683': 11, '1684': 8, '1685': 15, '1688': 2, '1689': 17, '1690': 12, '1691': 6, '1692': 4, '1693': 15, '1694': 12, '1695': 4, '1698': 6, '1699': 13, '1700': 40, '1701': 54, '1703': 6, '1704': 3, '1705': 4, '1706': 15, '1707': 6, '1708': 14, '1709': 5, '1710': 5, '1711': 12, '1712': 5, '1713': 8, '1714': 9, '1715': 4, '1716': 17, '1717': 14, '1718': 15, '1720': 13, '1721': 12, '1722': 5, '1723': 13, '1724': 13, '1725': 10, '1726': 16, '1727': 6, '1728': 8, '1729': 15, '1730': 11, '1731': 25, '1733': 11, '1734': 13, '1735': 13, '1736': 14, '1737': 9, '1738': 10, '1740': 9, '1741': 17, '1742': 5, '1743': 28, '1744': 10, '1745': 23, '1746': 9, '1747': 13, '1748': 12, '1750': 20, '1751': 35, '1752': 13, '1753': 33, '1754': 18, '1755': 27, '1756': 19, '1757': 19, '1758': 37, '1759': 35, '1760': 32, '1761': 21, '1762': 23, '1763': 32, '1764': 35, '1765': 26, '1766': 44, '1767': 20, '1768': 16, '1769': 55, '1770': 26, '1771': 62, '1772': 38, '1773': 25, '1774': 72, '1775': 70, '1776': 77, '1777': 59, '1778': 32, '1779': 30, '1780': 47, '1781': 38, '1782': 39, '1783': 44, '1784': 70, '1785': 103, '1786': 90, '1787': 90, '1788': 63, '1789': 143, '1790': 96, '1791': 80, '1792': 169, '1793': 134, '1794': 148, '1795': 178, '1796': 265, '1797': 266, '1798': 306, '1799': 205, '1800': 1031, '1801': 648, '1802': 805, '1803': 1075, '1804': 1359, '1805': 1401, '1806': 1462, '1807': 1470, '1808': 1761, '1809': 2218, '1810': 2458, '1811': 2348, '1812': 2190, '1813': 2147, '1814': 2177, '1815': 2077, '1816': 2177, '1817': 2578, '1818': 2793, '1819': 2893, '1820': 2364, '1821': 3155, '1822': 3488, '1823': 3647, '1824': 4104, '1825': 4336, '1826': 4356, '1827': 4715, '1828': 5330, '1829': 6111, '1830': 6672, '1831': 7121, '1832': 17614, '1833': 8971, '1834': 8834, '1835': 9693, '1836': 10823, '1837': 8738, '1838': 8763, '1839': 10470, '1840': 10046, '1841': 10543, '1842': 9266, '1843': 10202, '1844': 12165, '1845': 12968, '1846': 13841, '1847': 13492, '1848': 14444, '1849': 14057, '1850': 16001, '1851': 18133, '1852': 19360, '1853': 20889, '1854': 23466, '1855': 21028, '1856': 24302, '1857': 21465, '1858': 18915, '1859': 21832, '1860': 23066, '1861': 15782, '1862': 13324, '1863': 14970, '1864': 19080, '1865': 17971, '1866': 21617, '1867': 20048, '1868': 22703, '1870': 21727, '1871': 22587, '1872': 25216, '1873': 23289, '1874': 24165, '1875': 24173, '1876': 26044, '1877': 25156, '1878': 25259, '1880': 32351, '1881': 32778, '1883': 36637, '1884': 37853, '1885': 36309, '1886': 38261, '1887': 40864, '1888': 42936, '1889': 46043, '1890': 47437, '1891': 49060, '1892': 56480, '1894': 54857, '1895': 62833, '1896': 63329, '1897': 64694, '1899': 78599, '1900': 86318, '1901': 83433, '1902': 84298, '1903': 84043, '1905': 86340, '1906': 91171, '1907': 92647, '1908': 95835, '1910': 115057, '1911': 116626, '1912': 120758, '1913': 121003, '1914': 121105, '1916': 130590, '1918': 117399, '1920': 126060, '1923': 81053, '1924': 70510, '1925': 76395, '1926': 75227, '1927': 78822, '1928': 80894, '1929': 81220, '1930': 83604, '1931': 82091, '1932': 74328, '1933': 69287, '1935': 78184, '1937': 86582, '1940': 95135, '1942': 88330, '1943': 80370, '1944': 75471, '1945': 79387, '1946': 90022, '1947': 101386, '1948': 99282, '1949': 114913, '1950': 109726, '1952': 105774, '1953': 106531, '1954': 111699, '1956': 118922, '1957': 125471, '1958': 126609, '1959': 140983, '1960': 149806, '1961': 160988, '1962': 166705, '1966': 183220, '1980': 259352, '1992': 281030, '1993': 275875, '1996': 273899, '2005': 300991, '2008': 288741, '2010': 249025, '2011': 245417, '2012': 319018, '2014': 248257, '2015': 201608, '2016': 196124, '2017': 169676, '2018': 156678, '2019': 128570, '1610': 4, '1619': 2, '1632': 4, '1654': 4, '1658': 2, '1680': 7, '1697': 7, '1732': 4, '1739': 4, '1567': 2, '1719': 5, '1577': 3, '1603': 4, '1686': 4, '1643': 1, '1606': 2, '1655': 2, '1657': 2, '1749': 5, '1494': 1, '1506': 1, '1541': 1, '1550': 2, '1566': 1, '1576': 1, '1590': 1, '1595': 1, '1598': 3, '1611': 3, '1617': 1, '1618': 2, '1620': 2, '1622': 2, '1630': 3, '1673': 1, '1687': 1, '1702': 2}, 'idx': 5}\n"
     ]
    }
   ],
   "source": [
    "print_jsonl_lines(\n",
    "    file_path=(\n",
    "        '/vast/edk202/NLP_corpora/Google_Books/20200217/eng-us/'\n",
    "        '1gram_files/6corpus/1gram-corpus-indexed.jsonl.lz4'\n",
    "    ),\n",
    "    start_line=1,\n",
    "    end_line=5,\n",
    "    parse_json=True\n",
    ")"
   ]
  },
  {
   "cell_type": "markdown",
   "id": "694b77d7-8250-4edc-998d-da6ff9580fab",
   "metadata": {},
   "source": [
    "## Next Steps\n",
    "If you've gotten this far, you're ready to start pre-processing multigrams using the `workflow_multigrams.ipynb` notebook!"
   ]
  }
 ],
 "metadata": {
  "kernelspec": {
   "display_name": "hist_w2v_env",
   "language": "python",
   "name": "hist_w2v_env"
  },
  "language_info": {
   "codemirror_mode": {
    "name": "ipython",
    "version": 3
   },
   "file_extension": ".py",
   "mimetype": "text/x-python",
   "name": "python",
   "nbconvert_exporter": "python",
   "pygments_lexer": "ipython3",
   "version": "3.12.8"
  }
 },
 "nbformat": 4,
 "nbformat_minor": 5
}
