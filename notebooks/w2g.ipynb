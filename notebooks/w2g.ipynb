{
 "cells": [
  {
   "cell_type": "code",
   "execution_count": 2,
   "id": "f0d3f5a1-3ffd-476f-9cff-bbf8bed1cb9f",
   "metadata": {},
   "outputs": [
    {
     "ename": "NameError",
     "evalue": "name 'lz4' is not defined",
     "output_type": "error",
     "traceback": [
      "\u001b[0;31m---------------------------------------------------------------------------\u001b[0m",
      "\u001b[0;31mNameError\u001b[0m                                 Traceback (most recent call last)",
      "Cell \u001b[0;32mIn[2], line 9\u001b[0m\n\u001b[1;32m      7\u001b[0m \u001b[38;5;66;03m# Load n-grams into memory\u001b[39;00m\n\u001b[1;32m      8\u001b[0m ngrams \u001b[38;5;241m=\u001b[39m []\n\u001b[0;32m----> 9\u001b[0m \u001b[38;5;28;01mwith\u001b[39;00m \u001b[43mlz4\u001b[49m\u001b[38;5;241m.\u001b[39mframe\u001b[38;5;241m.\u001b[39mopen(corpus_path, \u001b[38;5;124m'\u001b[39m\u001b[38;5;124mrt\u001b[39m\u001b[38;5;124m'\u001b[39m) \u001b[38;5;28;01mas\u001b[39;00m f:\n\u001b[1;32m     10\u001b[0m     \u001b[38;5;28;01mfor\u001b[39;00m line \u001b[38;5;129;01min\u001b[39;00m f:\n\u001b[1;32m     11\u001b[0m         data \u001b[38;5;241m=\u001b[39m json\u001b[38;5;241m.\u001b[39mloads(line)\n",
      "\u001b[0;31mNameError\u001b[0m: name 'lz4' is not defined"
     ]
    }
   ],
   "source": [
    "#import lz4.frame\n",
    "import json\n",
    "\n",
    "# Path to the compressed corpus\n",
    "corpus_path = \"2019.jsonl.lz4\"\n",
    "\n",
    "# Load n-grams into memory\n",
    "ngrams = []\n",
    "with lz4.frame.open(corpus_path, 'rt') as f:\n",
    "    for line in f:\n",
    "        data = json.loads(line)\n",
    "        ngrams.append(data[\"ngram\"])  # Only keep the n-gram itself\n",
    "\n",
    "print(f\"Loaded {len(ngrams)} n-grams.\")"
   ]
  },
  {
   "cell_type": "code",
   "execution_count": null,
   "id": "19dab0f0-8e6a-4319-b1ff-6ad18f68a0e8",
   "metadata": {},
   "outputs": [],
   "source": []
  }
 ],
 "metadata": {
  "kernelspec": {
   "display_name": "w2g_env",
   "language": "python",
   "name": "w2g_env"
  },
  "language_info": {
   "codemirror_mode": {
    "name": "ipython",
    "version": 3
   },
   "file_extension": ".py",
   "mimetype": "text/x-python",
   "name": "python",
   "nbconvert_exporter": "python",
   "pygments_lexer": "ipython3",
   "version": "3.9.21"
  }
 },
 "nbformat": 4,
 "nbformat_minor": 5
}
