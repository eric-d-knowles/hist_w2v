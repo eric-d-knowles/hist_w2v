{
 "cells": [
  {
   "cell_type": "markdown",
   "id": "33cdb7cc-0186-4bbc-bc10-22b433eca869",
   "metadata": {
    "editable": true,
    "slideshow": {
     "slide_type": ""
    },
    "tags": []
   },
   "source": [
    "# **Process Ngram Files**"
   ]
  },
  {
   "cell_type": "markdown",
   "id": "419bae7e-21c4-4030-aea5-8f94bb094407",
   "metadata": {},
   "source": [
    "## Generate Vocabulary File\n",
    "Make a list of the _n_ most common unigrams (1grams). This file can be used for filtering multi-token ngrams. Unigrams containing **untagged tokens**, **numerals**, **non-alphabetic** characters are dropped."
   ]
  },
  {
   "cell_type": "markdown",
   "id": "d50e3576-db55-4cd9-bfc1-6aaaf976c37d",
   "metadata": {},
   "source": [
    "#### Select the appropriate base directory"
   ]
  },
  {
   "cell_type": "code",
   "execution_count": null,
   "id": "61537949-2ba2-47fe-863e-effb6f03ece3",
   "metadata": {},
   "outputs": [],
   "source": [
    "base_dir = \"/vast/edk202/NLP_corpora/Google_Books/20200217/eng\""
   ]
  },
  {
   "cell_type": "markdown",
   "id": "5eaa3e14-d707-41b9-a0fc-0d53257a7457",
   "metadata": {},
   "source": [
    "#### Download"
   ]
  },
  {
   "cell_type": "code",
   "execution_count": null,
   "id": "396be76b-ce50-4e53-bc26-753905724ff8",
   "metadata": {},
   "outputs": [],
   "source": [
    "!python download_and_filter_ngrams.py \\\n",
    "    --ngram_size 1 \\\n",
    "    --processes 24 \\\n",
    "    --file_range 0 0 \\\n",
    "    --output_dir {base_dir} \\\n",
    "    --save_empty"
   ]
  },
  {
   "cell_type": "markdown",
   "id": "ee67f5d6-83b9-42ef-9e8c-1c9879608d2c",
   "metadata": {},
   "source": [
    "#### Lowercase"
   ]
  },
  {
   "cell_type": "code",
   "execution_count": null,
   "id": "82cc8dd3-1b2b-41fa-aefc-44698ad4b6ba",
   "metadata": {},
   "outputs": [],
   "source": [
    "!python lowercase.py \\\n",
    "    --input_dir \"{base_dir}/1gram_files/orig\" \\\n",
    "    --output_dir \"{base_dir}/1gram_files/lower\" \\\n",
    "    --processes 24"
   ]
  },
  {
   "cell_type": "markdown",
   "id": "fd2158ee-cc08-4001-ae54-f182241fa080",
   "metadata": {},
   "source": [
    "#### Lemmatize"
   ]
  },
  {
   "cell_type": "code",
   "execution_count": null,
   "id": "819e25ea-184b-496c-85b8-8d1bc41b58e3",
   "metadata": {},
   "outputs": [],
   "source": [
    "!python lemmatize.py \\\n",
    "    --input_dir \"{base_dir}//1gram_files/lower\" \\\n",
    "    --output_dir \"{base_dir}/1gram_files/lemmas\" \\\n",
    "    --processes 24"
   ]
  },
  {
   "cell_type": "markdown",
   "id": "015269cc-de10-4e7e-b171-326e97a5e9c3",
   "metadata": {},
   "source": [
    "#### Remove stopwords"
   ]
  },
  {
   "cell_type": "code",
   "execution_count": null,
   "id": "3ed40ed4-80d0-41df-9587-74faa94f538a",
   "metadata": {},
   "outputs": [],
   "source": [
    "!python remove_stopwords.py \\\n",
    "    --input_dir \"{base_dir}/1gram_files/lemmas\" \\\n",
    "    --output_dir \"{base_dir}/1gram_files/stop\" \\\n",
    "    --processes 24 \\\n",
    "    --removal_method token \\\n",
    "    --min_tokens 1"
   ]
  },
  {
   "cell_type": "markdown",
   "id": "9a86f14e-27fb-4bc1-8274-362f366dfc37",
   "metadata": {},
   "source": [
    "#### Remove short words"
   ]
  },
  {
   "cell_type": "code",
   "execution_count": null,
   "id": "2ec8d798-5ac1-4d29-a617-123d2a0bc8ed",
   "metadata": {},
   "outputs": [],
   "source": [
    "!python remove_short_words.py \\\n",
    "    --input_dir \"{base_dir}/1gram_files/stop\" \\\n",
    "    --output_dir \"{base_dir}/1gram_files/short\" \\\n",
    "    --processes 24 \\\n",
    "    --min_length 3 \\\n",
    "    --removal_method token \\\n",
    "    --min_tokens 1 \\\n",
    "    --overwrite"
   ]
  },
  {
   "cell_type": "markdown",
   "id": "2dcb7d96-090c-4cf7-9a38-ff50b07e8495",
   "metadata": {},
   "source": [
    "#### Sort and concatenate"
   ]
  },
  {
   "cell_type": "code",
   "execution_count": null,
   "id": "32899e45-f860-4190-89da-95a1e6559d66",
   "metadata": {},
   "outputs": [],
   "source": [
    "!python sort_into_single_file.py \\\n",
    "    --input_dir \"{base_dir}/1gram_files/short\" \\\n",
    "    --temp_dir \"{base_dir}/1gram_files/temp\" \\\n",
    "    --output_file \"{base_dir}/1gram_files/concat/1grams_prepped.jsonl\" \\\n",
    "    --processes 24 \\\n",
    "    --overwrite"
   ]
  },
  {
   "cell_type": "code",
   "execution_count": null,
   "id": "87da2a41-0a9f-4d47-b1a9-be474459035d",
   "metadata": {},
   "outputs": [],
   "source": [
    "!python verify_sort.py \\\n",
    "    --input_file \"{base_dir}/1gram_files/concat/1grams_prepped.jsonl\""
   ]
  },
  {
   "cell_type": "markdown",
   "id": "8196b097-ba19-44b9-a2a9-f622b40c9377",
   "metadata": {},
   "source": [
    "#### Consolidate"
   ]
  },
  {
   "cell_type": "code",
   "execution_count": null,
   "id": "7effa90f-3182-4aac-abc2-a436c95be187",
   "metadata": {},
   "outputs": [],
   "source": [
    "!python consolidate_ngrams.py \\\n",
    "    --input_file \"{base_dir}/1gram_files/concat/1grams_prepped.jsonl\" \\\n",
    "    --output_file \"{base_dir}/1gram_files/concat/1grams_consol.jsonl\" \\\n",
    "    --strip_tags \\\n",
    "    --overwrite"
   ]
  },
  {
   "cell_type": "markdown",
   "id": "1d6edbe5-93a8-45a2-b35d-ce50d2e5f925",
   "metadata": {},
   "source": [
    "#### Add index"
   ]
  },
  {
   "cell_type": "code",
   "execution_count": null,
   "id": "618a428f-24dc-41ef-a568-ef615655400c",
   "metadata": {},
   "outputs": [],
   "source": [
    "!python index_ngrams.py \\\n",
    "    --input_file \"{base_dir}/1gram_files/concat/1grams_consol.jsonl\" \\\n",
    "    --output_file \"{base_dir}/1gram_files/concat/1grams_indexed.jsonl\" \\\n",
    "    --overwrite"
   ]
  },
  {
   "cell_type": "markdown",
   "id": "bce53e7c-b79d-4d65-9c31-dedb535f1e81",
   "metadata": {},
   "source": [
    "#### Create file of _n_ most common tokens"
   ]
  },
  {
   "cell_type": "code",
   "execution_count": null,
   "id": "5ce4f734-db70-4d1f-81f8-5f46d49aad57",
   "metadata": {},
   "outputs": [],
   "source": [
    "!python make_vocab_list.py \\\n",
    "    --input_file \"{base_dir}/1gram_files/concat/1grams_indexed.jsonl\" \\\n",
    "    --n_vocab 80000 \\\n",
    "    --output_file \"{base_dir}/valid_vocab_lookup.txt\" \\\n",
    "    --membership_file \"{base_dir}/valid_vocab_membertest.txt\" \\\n",
    "    --plain_text"
   ]
  },
  {
   "cell_type": "markdown",
   "id": "e59e048e-91bd-4c8b-a17c-a067e47a7d16",
   "metadata": {},
   "source": [
    "#### View contents of ngram file"
   ]
  },
  {
   "cell_type": "code",
   "execution_count": null,
   "id": "a57b1104-696b-4f99-bb2c-ed1326b8d44b",
   "metadata": {},
   "outputs": [],
   "source": [
    "!python print_jsonl_lines.py \\\n",
    "    --file_path \"{base_dir}/1gram_files/concat/1grams_consol.jsonl\" \\\n",
    "    --start 50000 \\\n",
    "    --end 50001"
   ]
  },
  {
   "cell_type": "markdown",
   "id": "eb4d1bf3-85d8-477a-a481-ba2edb7fdbe3",
   "metadata": {},
   "source": [
    "## Process multigram files\n",
    "Download multigrams (_n_ = 2–5). Drop those containing **untagged tokens**, **numerals**, **non-alphabetic characters**. \n",
    "\n",
    "Optionally, specify a **vocabulary file** for additional filtering. Vocabulary filtering dicards ngrams containing tokens absent from the vocabulary file. Part-of-speech (POS) tags are stripped and base tokens lowercased and lemmatized during matching; when a ngram passes the vocabulary filter, the original case and inflection of the tokens are preserved and the POS tag reattached."
   ]
  },
  {
   "cell_type": "markdown",
   "id": "2b5dbec4-dcab-4375-9ea2-62349911f5a8",
   "metadata": {},
   "source": [
    "#### Set the appropriate base directory"
   ]
  },
  {
   "cell_type": "code",
   "execution_count": null,
   "id": "ee64401e-4d11-43e0-a729-d60b18ccf838",
   "metadata": {},
   "outputs": [],
   "source": [
    "base_dir = \"/vast/edk202/NLP_corpora/Google_Books/20200217/eng\""
   ]
  },
  {
   "cell_type": "markdown",
   "id": "872a5816-3681-4067-b94e-e6944bf874e6",
   "metadata": {},
   "source": [
    "#### Download"
   ]
  },
  {
   "cell_type": "code",
   "execution_count": null,
   "id": "5892ecdb-60af-4825-8f93-729386eddeae",
   "metadata": {},
   "outputs": [],
   "source": [
    "!python download_and_filter_ngrams.py \\\n",
    "    --ngram_size 5 \\\n",
    "    --processes 48 \\\n",
    "    --file_range 0 19422 \\\n",
    "    --vocab_file \"{base_dir}/valid_vocab_membertest.txt\" \\\n",
    "    --output_dir {base_dir} \\\n",
    "    --save_empty \\\n",
    "    --overwrite \\\n",
    "    --strip_tags \\\n",
    "    --test_file \"/scratch/edk202/hist_w2v/test.jsonl\""
   ]
  },
  {
   "cell_type": "markdown",
   "id": "7525cee4-33d9-4c56-aa5b-9d5d89eca328",
   "metadata": {},
   "source": [
    "#### Lowercase"
   ]
  },
  {
   "cell_type": "code",
   "execution_count": null,
   "id": "d5f61d99-6c37-4d7f-8f21-d7c6bc12f434",
   "metadata": {},
   "outputs": [],
   "source": [
    "!python lowercase.py \\\n",
    "    --input_dir \"{base_dir}/5gram_files/orig\" \\\n",
    "    --output_dir \"{base_dir}/5gram_files/lower\" \\\n",
    "    --processes 24"
   ]
  },
  {
   "cell_type": "markdown",
   "id": "e53fb171-1cd9-4c1f-8719-3019762f8a65",
   "metadata": {},
   "source": [
    "#### Lemmatize"
   ]
  },
  {
   "cell_type": "code",
   "execution_count": null,
   "id": "47d079b5-b599-4d5e-963f-ed1d8fae6fb5",
   "metadata": {},
   "outputs": [],
   "source": [
    "!python lemmatize.py \\\n",
    "    --input_dir \"{base_dir}/5gram_files/lower\" \\\n",
    "    --output_dir \"{base_dir}/5gram_files/lemmas\" \\\n",
    "    --processes 24"
   ]
  },
  {
   "cell_type": "markdown",
   "id": "273f5046-71cc-4c7a-a548-45615c2ee7c6",
   "metadata": {},
   "source": [
    "#### Remove stopwords"
   ]
  },
  {
   "cell_type": "code",
   "execution_count": null,
   "id": "6089028d-909f-4925-b937-37dc9e7e75d2",
   "metadata": {},
   "outputs": [],
   "source": [
    "!python remove_stopwords.py \\\n",
    "    --input_dir \"{base_dir}/5gram_files/lemmas\" \\\n",
    "    --output_dir \"{base_dir}/5gram_files/stop\" \\\n",
    "    --processes 24 \\\n",
    "    --removal_method token \\\n",
    "    --min_tokens 2"
   ]
  },
  {
   "cell_type": "markdown",
   "id": "fcd4b764-837a-41b9-95bd-7643d4dc5836",
   "metadata": {},
   "source": [
    "#### Remove short words"
   ]
  },
  {
   "cell_type": "code",
   "execution_count": null,
   "id": "9f561476-a25b-450d-800d-3144a77afed7",
   "metadata": {},
   "outputs": [],
   "source": [
    "!python remove_short_words.py \\\n",
    "    --input_dir \"{base_dir}/5gram_files/stop\" \\\n",
    "    --output_dir \"{base_dir}/5gram_files/short\" \\\n",
    "    --processes 24 \\\n",
    "    --min_length 3 \\\n",
    "    --removal_method token \\\n",
    "    --min_tokens 2"
   ]
  },
  {
   "cell_type": "markdown",
   "id": "6e30b118-ef7a-4950-99b8-d9ed928e2fdf",
   "metadata": {},
   "source": [
    "#### Sort and concatenate"
   ]
  },
  {
   "cell_type": "code",
   "execution_count": null,
   "id": "c00162fd-bd39-49d0-95fc-6339652f6b9c",
   "metadata": {},
   "outputs": [],
   "source": [
    "!python sort_into_single_file.py \\\n",
    "    --input_dir \"{base_dir}/5gram_files/short\" \\\n",
    "    --temp_dir \"{base_dir}/5gram_files/temp\" \\\n",
    "    --output_file \"{base_dir}/5gram_files/concat/5grams_prepped.jsonl\" \\\n",
    "    --processes 24"
   ]
  },
  {
   "cell_type": "code",
   "execution_count": null,
   "id": "052ecdcf-e765-48c2-8b0a-d045f12874c8",
   "metadata": {},
   "outputs": [],
   "source": [
    "!python verify_sort.py \\\n",
    "    --input_file \"{base_dir}/5gram_files/concat/5grams_prepped.jsonl\""
   ]
  },
  {
   "cell_type": "markdown",
   "id": "90abf9b6-1822-4160-8717-3bea1df23299",
   "metadata": {},
   "source": [
    "#### Consolidate ngrams"
   ]
  },
  {
   "cell_type": "code",
   "execution_count": null,
   "id": "7dc11f24-e898-4c08-831a-ced7f6cf3dc1",
   "metadata": {},
   "outputs": [],
   "source": [
    "!python consolidate_ngrams.py \\\n",
    "    --input_file \"{base_dir}/5gram_files/concat/5grams_prepped.jsonl\" \\\n",
    "    --output_file \"{base_dir}/5gram_files/concat/5grams_consol.jsonl\" \\\n",
    "    --strip_tags \\\n",
    "    --overwrite:"
   ]
  },
  {
   "cell_type": "markdown",
   "id": "d83bbed9-76e0-47d7-b9a3-dd47c501daad",
   "metadata": {},
   "source": [
    "#### View contents of ngram file"
   ]
  },
  {
   "cell_type": "code",
   "execution_count": null,
   "id": "95779ecd-1d22-4eec-a20c-bccf7d20f527",
   "metadata": {},
   "outputs": [],
   "source": [
    "!python print_jsonl_lines.py \\\n",
    "    --file_path \"{base_dir}/5gram_files/concat/5grams_consol.jsonl\" \\\n",
    "    --start 5000 \\\n",
    "    --end 5050"
   ]
  },
  {
   "cell_type": "markdown",
   "id": "ddc35dad-44fe-4b95-8ac1-a1de2cc922d3",
   "metadata": {},
   "source": [
    "## Make Yearly Files\n",
    "Reorganize ngrams into year-specific files specifying each ngram's frequency for the year."
   ]
  },
  {
   "cell_type": "markdown",
   "id": "a897d328-4a85-4728-a01b-56420ac8b89b",
   "metadata": {},
   "source": [
    "#### Select the appropriate base directory"
   ]
  },
  {
   "cell_type": "code",
   "execution_count": null,
   "id": "0d0a1e2b-bd06-4c65-9986-7f7fe5fb3760",
   "metadata": {},
   "outputs": [],
   "source": [
    "base_dir = \"/vast/edk202/NLP_corpora/Google_Books/20200217/eng\""
   ]
  },
  {
   "cell_type": "markdown",
   "id": "9bb3ade2-ddbc-42d2-8dcf-fea00e66928b",
   "metadata": {},
   "source": [
    "#### Create yearly files"
   ]
  },
  {
   "cell_type": "code",
   "execution_count": null,
   "id": "b811ee53-3213-4f7e-81cf-911b510fe475",
   "metadata": {},
   "outputs": [],
   "source": [
    "!python make_yearly_files.py \\\n",
    "    --input_file \"{base_dir}/5gram_files/concat/5grams_consol.jsonl\" \\\n",
    "    --output_dir \"{base_dir}/5gram_files/year_files/jsonl\" \\\n",
    "    --chunk_size 100000 \\\n",
    "    --processes 24"
   ]
  },
  {
   "cell_type": "markdown",
   "id": "d047c7da-f006-4c0c-b5f8-17131b6e1be2",
   "metadata": {},
   "source": [
    "#### View contents of ngram file"
   ]
  },
  {
   "cell_type": "code",
   "execution_count": null,
   "id": "31163e15-71ea-4ea9-9d81-38cbdbeddacb",
   "metadata": {},
   "outputs": [],
   "source": [
    "!python print_jsonl_lines.py \\\n",
    "    --file_path \"{base_dir}/5gram_files/year_files/jsonl/2019.jsonl\" \\\n",
    "    --start 10000 \\\n",
    "    --end 10500"
   ]
  },
  {
   "cell_type": "code",
   "execution_count": null,
   "id": "093e12ab-37f0-4992-9fa7-c97c0deb1ab1",
   "metadata": {},
   "outputs": [],
   "source": [
    "!python jsonl_to_plain_text.py \\\n",
    "    --input_dir \"{base_dir}/1gram_files/year_files/jsonl\" \\\n",
    "    --output_dir \"{base_dir}/1gram_files/year_files/text\" \\\n",
    "    --processes 48"
   ]
  },
  {
   "cell_type": "markdown",
   "id": "c654430f-a432-437b-8d9a-163e04e7d801",
   "metadata": {},
   "source": [
    "#### Convert JSONL files to plain text for Word2Vec efficiency"
   ]
  },
  {
   "cell_type": "code",
   "execution_count": null,
   "id": "e1d041d2-cb7b-476a-a59a-5df8b58b5e3e",
   "metadata": {},
   "outputs": [],
   "source": [
    "!python jsonl_to_plain_text.py \\\n",
    "    --input_dir \"{base_dir}/5gram_files/year_files/jsonl\" \\\n",
    "    --output_dir \"{base_dir}/5gram_files/year_files/text\" \\\n",
    "    --processes 48"
   ]
  },
  {
   "cell_type": "markdown",
   "id": "e6d1c865-9098-4063-b00c-c213f17386d6",
   "metadata": {
    "jp-MarkdownHeadingCollapsed": true
   },
   "source": [
    "# **Train Word2Vec**"
   ]
  },
  {
   "cell_type": "markdown",
   "id": "fdef6733-1a42-4884-a438-5a6cc9c36f58",
   "metadata": {},
   "source": [
    "#### Set the appropriate base directory"
   ]
  },
  {
   "cell_type": "code",
   "execution_count": null,
   "id": "d325d3c2-9b5a-44e2-aa7d-25b436881047",
   "metadata": {},
   "outputs": [],
   "source": [
    "base_dir = \"/vast/edk202/NLP_corpora/Google_Books/20200217/eng\""
   ]
  },
  {
   "cell_type": "markdown",
   "id": "650f6833-0dbb-4e04-9499-aca32bf644b9",
   "metadata": {},
   "source": [
    "#### Train a basic model"
   ]
  },
  {
   "cell_type": "code",
   "execution_count": null,
   "id": "3288e9d7-cd56-42c0-aa6c-f69a8aeae752",
   "metadata": {},
   "outputs": [],
   "source": [
    "!python train_word2vec.py \\\n",
    "    --corpus_file \"{base_dir}/5gram_files/year_files/text/2019.txt\" \\\n",
    "    --model_file \"{base_dir}/5gram_files/word2vec_model.model\" \\\n",
    "    --vector_file \"{base_dir}/5gram_files/word_vectors.txt\" \\\n",
    "    --vector_size 300 \\\n",
    "    --window 5 \\\n",
    "    --sg 1 \\\n",
    "    --negative 10 \\\n",
    "    --min_count 5 \\\n",
    "    --sample 1e-5 \\\n",
    "    --workers 48 \\\n",
    "    --epochs 10 \\\n",
    "    --alpha 0.025 \\\n",
    "    --min_alpha 0.0001"
   ]
  },
  {
   "cell_type": "code",
   "execution_count": null,
   "id": "84b9bfa8-d24d-4972-b9e5-7fc874fde98b",
   "metadata": {},
   "outputs": [],
   "source": [
    "from gensim.models import Word2Vec\n",
    "\n",
    "# Load the model\n",
    "model = Word2Vec.load(f'{base_dir}/5gram_files/word2vec_model.model')\n",
    "\n",
    "similar_words = model.wv.most_similar('water_ADJ', topn=10)\n",
    "print(similar_words)"
   ]
  },
  {
   "cell_type": "markdown",
   "id": "c47cff99-a6e6-4a36-9ad4-aec0658de8a6",
   "metadata": {},
   "source": [
    "# **Process Unigrams**"
   ]
  },
  {
   "cell_type": "markdown",
   "id": "ecddde54-96c0-4461-a0f7-6ef2bbecd065",
   "metadata": {},
   "source": [
    "## Process Unigrams"
   ]
  },
  {
   "cell_type": "code",
   "execution_count": null,
   "id": "7dea9f17-331d-40b5-b9e9-7bd8f254da64",
   "metadata": {},
   "outputs": [],
   "source": [
    "base_dir = \"/vast/edk202/NLP_corpora/Google_Books/20200217/eng\""
   ]
  },
  {
   "cell_type": "code",
   "execution_count": null,
   "id": "85c19814-cbee-4ce4-b2ca-0d4abf76d3dc",
   "metadata": {},
   "outputs": [],
   "source": [
    "!python 1_download.py --ngram_size 1 --ngram_type tagged --proj_dir {base_dir} --workers 48 \\\n",
    "--overwrite --compress"
   ]
  },
  {
   "cell_type": "code",
   "execution_count": null,
   "id": "84af60d9-2627-4a9c-80e4-dde2e1703d43",
   "metadata": {},
   "outputs": [],
   "source": [
    "!python 2_convert.py --ngram_size 1 --ngram_type tagged --proj_dir {base_dir} --workers 48 \\\n",
    "--overwrite --compress"
   ]
  },
  {
   "cell_type": "code",
   "execution_count": null,
   "id": "6cc700cf-dba7-40d6-b5f0-e98723af2e14",
   "metadata": {},
   "outputs": [],
   "source": [
    "!python 3_lowercase.py --ngram_size 1 --proj_dir {base_dir} --workers 48 \\\n",
    "--overwrite --compress"
   ]
  },
  {
   "cell_type": "code",
   "execution_count": null,
   "id": "82eb3d13-9d51-4ea2-8708-9c3eadb3feae",
   "metadata": {},
   "outputs": [],
   "source": [
    "!python 4_lemmatize.py --ngram_size 1 --proj_dir {base_dir} --workers 48 \\\n",
    "--overwrite --compress"
   ]
  },
  {
   "cell_type": "code",
   "execution_count": null,
   "id": "68104701-700e-4b0d-8b3e-b69127a75ad0",
   "metadata": {},
   "outputs": [],
   "source": [
    "!python 5_filter.py --ngram_size 1 --proj_dir {base_dir} --workers 48 \\\n",
    "--numerals --nonalpha --stopwords --min_token_length 3 --min_tokens 1 --overwrite --compress"
   ]
  },
  {
   "cell_type": "code",
   "execution_count": null,
   "id": "52e80618-397f-4051-b064-a8b689e77c43",
   "metadata": {},
   "outputs": [],
   "source": [
    "!python 6_combine.py --ngram_size 1 --proj_dir {base_dir} --overwrite --workers 48 --overwrite"
   ]
  },
  {
   "cell_type": "code",
   "execution_count": null,
   "id": "e858de53-fe04-4a7d-bab5-9eed5cdf0011",
   "metadata": {},
   "outputs": [],
   "source": [
    "!python 7_index.py --ngram_size 1 --proj_dir {base_dir} --input_file {base_dir}/1gram_files/6corpus/1-00000-to-00017.jsonl \\\n",
    "--overwrite --vocab_file 80000 --workers 48"
   ]
  },
  {
   "cell_type": "code",
   "execution_count": null,
   "id": "6fb39e85-ec72-4819-9978-bd7d3dba5618",
   "metadata": {},
   "outputs": [],
   "source": [
    "!python print_jsonl_lines.py --file_path \"{base_dir}/1gram_files/6corpus/1-00000-to-00017.jsonl\" --start 0 --end 5 --parse"
   ]
  },
  {
   "cell_type": "code",
   "execution_count": null,
   "id": "b51dc00a-925b-49f0-bc9d-679b3551554d",
   "metadata": {},
   "outputs": [],
   "source": [
    "!python verify_sort.py --input_file \"{base_dir}/1gram_files/6corpus/1-00000-to-00017.jsonl\""
   ]
  },
  {
   "cell_type": "markdown",
   "id": "8e5015c4-837e-4373-a3ef-0e31ae7b9b77",
   "metadata": {},
   "source": [
    "## Process Multigrams"
   ]
  },
  {
   "cell_type": "code",
   "execution_count": 1,
   "id": "feb02beb-cf0e-4beb-ba15-c18a5db621b7",
   "metadata": {},
   "outputs": [],
   "source": [
    "base_dir = \"/vast/edk202/NLP_corpora/Google_Books/20200217/eng\""
   ]
  },
  {
   "cell_type": "code",
   "execution_count": null,
   "id": "d990d95e-7676-4f91-bbbe-ee69164fc918",
   "metadata": {},
   "outputs": [],
   "source": [
    "!python 1_download.py \\\n",
    "    --ngram_size 5 \\\n",
    "    --ngram_type tagged \\\n",
    "    --proj_dir {base_dir} \\\n",
    "    --overwrite \\\n",
    "    --compress"
   ]
  },
  {
   "cell_type": "code",
   "execution_count": null,
   "id": "ade8be77-ed83-412a-ae1c-c1a71b9d4de8",
   "metadata": {},
   "outputs": [],
   "source": [
    "!python 2_convert.py \\\n",
    "    --ngram_size 5 \\\n",
    "    --ngram_type tagged \\\n",
    "    --proj_dir {base_dir} \\\n",
    "    --compress"
   ]
  },
  {
   "cell_type": "code",
   "execution_count": null,
   "id": "bb1f6316-f622-4a91-a8ed-fcf23acf222f",
   "metadata": {},
   "outputs": [],
   "source": [
    "!python 3_lowercase.py \\\n",
    "    --ngram_size 5 \\\n",
    "    --proj_dir {base_dir} \\\n",
    "    --compress"
   ]
  },
  {
   "cell_type": "code",
   "execution_count": null,
   "id": "7cf64680-b402-4b4d-b751-90046b87454a",
   "metadata": {},
   "outputs": [],
   "source": [
    "!python 4_lemmatize.py \\\n",
    "    --ngram_size 5 \\\n",
    "    --proj_dir {base_dir} \\\n",
    "    --compress"
   ]
  },
  {
   "cell_type": "code",
   "execution_count": null,
   "id": "ddb82465-1aaf-4e17-9a95-0d0c0c58d585",
   "metadata": {},
   "outputs": [],
   "source": [
    "!python 5_filter.py \\\n",
    "    --ngram_size 5 \\\n",
    "    --proj_dir {base_dir} \\\n",
    "    --numerals \\\n",
    "    --nonalpha \\\n",
    "    --stopwords \\\n",
    "    --min_token_length 3 \\\n",
    "    --min_tokens 2 \\\n",
    "    --compress \\\n",
    "    --vocab_file {base_dir}/1gram_files/6corpus/1-00000-to-00017-vocab_list_match.txt"
   ]
  },
  {
   "cell_type": "code",
   "execution_count": 1,
   "id": "97b1069b-c9ee-454a-82f9-893662094fbf",
   "metadata": {
    "editable": true,
    "slideshow": {
     "slide_type": ""
    },
    "tags": []
   },
   "outputs": [
    {
     "name": "stdout",
     "output_type": "stream",
     "text": [
      "\u001b[31mStart Time:                2025-01-01 16:52:43.530206\n",
      "\u001b[0m\n",
      "\u001b[4mSort Info\u001b[0m\n",
      "Input directory:           /vast/edk202/NLP_corpora/Google_Books/20200217/eng/5gram_files/5filter\n",
      "Sorted directory:          /vast/edk202/NLP_corpora/Google_Books/20200217/eng/5gram_files/temp\n",
      "Temp directory:            /vast/edk202/NLP_corpora/Google_Books/20200217/eng/5gram_files/tmp\n",
      "Merged file:               /vast/edk202/NLP_corpora/Google_Books/20200217/eng/5gram_files/6corpus/5gram-merged.jsonl.lz4\n",
      "Files available:           6520\n",
      "Files to use:              6520\n",
      "First file to get:         /vast/edk202/NLP_corpora/Google_Books/20200217/eng/5gram_files/5filter/5-00069-of-19423.jsonl.lz4\n",
      "Last file to get:          /vast/edk202/NLP_corpora/Google_Books/20200217/eng/5gram_files/5filter/5-19422-of-19423.jsonl.lz4\n",
      "Ngram size:                5\n",
      "Number of workers:         10\n",
      "Compress output files:     True\n",
      "Overwrite existing files:  False\n",
      "Sort key:                  ngram\n",
      "Sort order:                ascending\n",
      "Heap-merge start iter:     1\n",
      "Heap-merge end iter:       2\n",
      "\n",
      "Sorting         |\u001b[32m██████████████████████████████████████████████████\u001b[0m| 100.0% 6520        /6520       \u001b[0m\n",
      "\n",
      "Iteration 1: merging 6520 files into 48 chunks using 48 workers.\n",
      "  8 chunk(s) with 135 file(s)\n",
      "  40 chunk(s) with 136 file(s)\n",
      "\n",
      "Iteration 2: merging 48 files into 24 chunks using 24 workers.\n",
      "  24 chunk(s) with 2 file(s)\n",
      "\u001b[31m\n",
      "End Time:                  2025-01-01 17:57:12.153753\u001b[0m\n",
      "\u001b[31mTotal runtime:             1:04:28.623547\n",
      "\u001b[0m\n"
     ]
    }
   ],
   "source": [
    "base_dir = \"/vast/edk202/NLP_corpora/Google_Books/20200217/eng\"\n",
    "\n",
    "!python 6_sort2.py \\\n",
    "    --ngram_size 5 \\\n",
    "    --proj_dir {base_dir} \\\n",
    "    --workers 10 \\\n",
    "    --sort_key ngram \\\n",
    "    --compress \\\n",
    "    --sort_order ascending \\\n",
    "    --end_iteration 2"
   ]
  },
  {
   "cell_type": "code",
   "execution_count": 2,
   "id": "96f0706e-fc96-4bb8-a821-cb3d91299441",
   "metadata": {},
   "outputs": [
    {
     "name": "stdout",
     "output_type": "stream",
     "text": [
      "\u001b[31mStart Time:                2024-12-31 17:52:08.091974\n",
      "\u001b[0m\n",
      "\u001b[4mConsolidation Info\u001b[0m\n",
      "Merged file:               /vast/edk202/NLP_corpora/Google_Books/20200217/eng/5gram_files/6corpus/5gram-merged.jsonl.lz4\n",
      "Consolidated directory:    /vast/edk202/NLP_corpora/Google_Books/20200217/eng/5gram_files/6corpus/5gram-consolidated.jsonl.lz4\n",
      "Ngram size:                5\n",
      "Compress output files:     True\n",
      "Overwrite existing files:  True\n",
      "\n",
      "Consolidating   |\u001b[32m██████████████████████████████████████████████████\u001b[0m| 100.0% 276470316   /276470316  \u001b[0m\n",
      "\n",
      "Lines before consolidation:  276470316\n",
      "Lines after consolidation:   75107076\n",
      "\u001b[31m\n",
      "End Time:                  2024-12-31 19:10:05.741234\n",
      "\u001b[0m\n"
     ]
    }
   ],
   "source": [
    "!python 7_consolidate.py \\\n",
    "    --ngram_size 5 \\\n",
    "    --proj_dir {base_dir} \\\n",
    "    --overwrite \\\n",
    "    --compress"
   ]
  },
  {
   "cell_type": "code",
   "execution_count": 3,
   "id": "3271194c-308f-4446-8573-ea13a0f278da",
   "metadata": {
    "scrolled": true
   },
   "outputs": [],
   "source": [
    "import lz4.frame\n",
    "\n",
    "input_path = \"/vast/edk202/NLP_corpora/Google_Books/20200217/eng/5gram_files/6corpus/5gram-consolidated.jsonl.lz4\"\n",
    "output_path = \"/vast/edk202/NLP_corpora/Google_Books/20200217/eng/5gram_files/6corpus/5gram-consolidated.jsonl\"\n",
    "\n",
    "def decompress_lz4_file(input_path, output_path):\n",
    "    with lz4.frame.open(input_path, \"rb\") as compressed_file:\n",
    "        with open(output_path, \"wb\") as decompressed_file:\n",
    "            decompressed_file.write(compressed_file.read())\n",
    "\n",
    "decompress_lz4_file(input_path, output_path)"
   ]
  },
  {
   "cell_type": "code",
   "execution_count": 6,
   "id": "a7136660-a7a4-4bbf-b585-519681c1aa08",
   "metadata": {
    "scrolled": true
   },
   "outputs": [
    {
     "name": "stdout",
     "output_type": "stream",
     "text": [
      "Line 50000: {\"ngram\":\"abdallah tell\",\"freq_tot\":201,\"doc_tot\":199,\"freq\":{\"1758\":1,\"1845\":1,\"1848\":1,\"1849\":3,\"1850\":22,\"1851\":2,\"1852\":1,\"1853\":1,\"1854\":3,\"1855\":2,\"1856\":2,\"1857\":2,\"1859\":4,\"1861\":1,\"1863\":3,\"1864\":1,\"1865\":2,\"1866\":1,\"1867\":1,\"1868\":7,\"1869\":4,\"1871\":1,\"1872\":1,\"1873\":2,\"1874\":1,\"1880\":2,\"1881\":5,\"1882\":6,\"1883\":2,\"1884\":7,\"1885\":5,\"1886\":2,\"1888\":2,\"1889\":1,\"1890\":1,\"1891\":2,\"1892\":1,\"1893\":2,\"1895\":2,\"1896\":5,\"1897\":7,\"1898\":1,\"1899\":2,\"1900\":3,\"1902\":1,\"1904\":1,\"1907\":4,\"1908\":1,\"1909\":3,\"1910\":1,\"1911\":1,\"1915\":1,\"1970\":2,\"2003\":2,\"2007\":1,\"2014\":2,\"1887\":2,\"1894\":3,\"1901\":9,\"1914\":1,\"1930\":1,\"1932\":3,\"1934\":3,\"1954\":2,\"1955\":2,\"1957\":1,\"1962\":2,\"1978\":1,\"1979\":1,\"1991\":1,\"1997\":1,\"1999\":2,\"2000\":1,\"2001\":4,\"2008\":3,\"2013\":3,\"2015\":3,\"2017\":1,\"2018\":3},\"doc\":{\"1758\":1,\"1845\":1,\"1848\":1,\"1849\":3,\"1850\":22,\"1851\":2,\"1852\":1,\"1853\":1,\"1854\":3,\"1855\":2,\"1856\":2,\"1857\":2,\"1859\":4,\"1861\":1,\"1863\":3,\"1864\":1,\"1865\":2,\"1866\":1,\"1867\":1,\"1868\":7,\"1869\":4,\"1871\":1,\"1872\":1,\"1873\":2,\"1874\":1,\"1880\":2,\"1881\":5,\"1882\":5,\"1883\":2,\"1884\":7,\"1885\":5,\"1886\":2,\"1888\":2,\"1889\":1,\"1890\":1,\"1891\":2,\"1892\":1,\"1893\":2,\"1895\":2,\"1896\":5,\"1897\":7,\"1898\":1,\"1899\":2,\"1900\":3,\"1902\":1,\"1904\":1,\"1907\":4,\"1908\":1,\"1909\":3,\"1910\":1,\"1911\":1,\"1915\":1,\"1970\":2,\"2003\":2,\"2007\":1,\"2014\":2,\"1887\":2,\"1894\":3,\"1901\":9,\"1914\":1,\"1930\":1,\"1932\":3,\"1934\":3,\"1954\":1,\"1955\":2,\"1957\":1,\"1962\":2,\"1978\":1,\"1979\":1,\"1991\":1,\"1997\":1,\"1999\":2,\"2000\":1,\"2001\":4,\"2008\":3,\"2013\":3,\"2015\":3,\"2017\":1,\"2018\":3}}\n",
      "\n",
      "Line 50001: {\"ngram\":\"abdallah tell nothing\",\"freq_tot\":47,\"doc_tot\":47,\"freq\":{\"1789\":1,\"1811\":2,\"1812\":6,\"1818\":1,\"1820\":1,\"1821\":1,\"1827\":2,\"1835\":1,\"1842\":1,\"1844\":1,\"1879\":1,\"1880\":1,\"1883\":2,\"1891\":1,\"1899\":1,\"1915\":2,\"1951\":1,\"1995\":3,\"1998\":2,\"2004\":2,\"2006\":1,\"2007\":1,\"2008\":1,\"2009\":1,\"2010\":2,\"2013\":1,\"2015\":2,\"2016\":1,\"2018\":2,\"2019\":2},\"doc\":{\"1789\":1,\"1811\":2,\"1812\":6,\"1818\":1,\"1820\":1,\"1821\":1,\"1827\":2,\"1835\":1,\"1842\":1,\"1844\":1,\"1879\":1,\"1880\":1,\"1883\":2,\"1891\":1,\"1899\":1,\"1915\":2,\"1951\":1,\"1995\":3,\"1998\":2,\"2004\":2,\"2006\":1,\"2007\":1,\"2008\":1,\"2009\":1,\"2010\":2,\"2013\":1,\"2015\":2,\"2016\":1,\"2018\":2,\"2019\":2}}\n",
      "\n",
      "Line 50002: {\"ngram\":\"abdallah tempt\",\"freq_tot\":204,\"doc_tot\":202,\"freq\":{\"1849\":5,\"1850\":35,\"1852\":2,\"1854\":2,\"1859\":6,\"1865\":2,\"1866\":2,\"1868\":14,\"1869\":5,\"1871\":2,\"1872\":2,\"1873\":4,\"1874\":2,\"1880\":4,\"1881\":6,\"1882\":10,\"1883\":4,\"1884\":8,\"1885\":6,\"1886\":4,\"1888\":4,\"1889\":2,\"1890\":2,\"1892\":4,\"1893\":4,\"1895\":2,\"1896\":10,\"1897\":12,\"1898\":1,\"1899\":2,\"1900\":4,\"1902\":2,\"1904\":2,\"1909\":2,\"1910\":2,\"1911\":2,\"1915\":2,\"2003\":2,\"2007\":2,\"2014\":2,\"1851\":2,\"1853\":1,\"1855\":1,\"1857\":2,\"1861\":1,\"1863\":3,\"1864\":1,\"1867\":1,\"1970\":2},\"doc\":{\"1849\":5,\"1850\":35,\"1852\":2,\"1854\":2,\"1859\":6,\"1865\":2,\"1866\":2,\"1868\":14,\"1869\":5,\"1871\":2,\"1872\":2,\"1873\":4,\"1874\":2,\"1880\":4,\"1881\":6,\"1882\":8,\"1883\":4,\"1884\":8,\"1885\":6,\"1886\":4,\"1888\":4,\"1889\":2,\"1890\":2,\"1892\":4,\"1893\":4,\"1895\":2,\"1896\":10,\"1897\":12,\"1898\":1,\"1899\":2,\"1900\":4,\"1902\":2,\"1904\":2,\"1909\":2,\"1910\":2,\"1911\":2,\"1915\":2,\"2003\":2,\"2007\":2,\"2014\":2,\"1851\":2,\"1853\":1,\"1855\":1,\"1857\":2,\"1861\":1,\"1863\":3,\"1864\":1,\"1867\":1,\"1970\":2}}\n",
      "\n",
      "Line 50003: {\"ngram\":\"abdallah testify admiration\",\"freq_tot\":51,\"doc_tot\":49,\"freq\":{\"1837\":1,\"1838\":6,\"1839\":2,\"1841\":2,\"1842\":1,\"1844\":1,\"1846\":1,\"1849\":1,\"1851\":3,\"1854\":6,\"1857\":2,\"1859\":4,\"1861\":1,\"1862\":1,\"1866\":1,\"1872\":4,\"1873\":1,\"1874\":1,\"1881\":2,\"1882\":1,\"1892\":1,\"1893\":1,\"1896\":1,\"1904\":3,\"1968\":1,\"1977\":1,\"2004\":1},\"doc\":{\"1837\":1,\"1838\":5,\"1839\":2,\"1841\":2,\"1842\":1,\"1844\":1,\"1846\":1,\"1849\":1,\"1851\":3,\"1854\":5,\"1857\":2,\"1859\":4,\"1861\":1,\"1862\":1,\"1866\":1,\"1872\":4,\"1873\":1,\"1874\":1,\"1881\":2,\"1882\":1,\"1892\":1,\"1893\":1,\"1896\":1,\"1904\":3,\"1968\":1,\"1977\":1,\"2004\":1}}\n",
      "\n",
      "Line 50004: {\"ngram\":\"abdallah thank\",\"freq_tot\":54,\"doc_tot\":54,\"freq\":{\"1884\":3,\"1885\":3,\"1894\":3,\"1897\":1,\"1900\":1,\"1901\":8,\"1909\":1,\"1914\":1,\"1930\":1,\"1932\":3,\"1934\":3,\"1955\":2,\"1962\":2,\"1978\":1,\"1979\":1,\"1999\":2,\"2000\":1,\"2001\":4,\"2004\":2,\"2008\":3,\"2013\":2,\"2015\":2,\"2017\":1,\"2018\":3},\"doc\":{\"1884\":3,\"1885\":3,\"1894\":3,\"1897\":1,\"1900\":1,\"1901\":8,\"1909\":1,\"1914\":1,\"1930\":1,\"1932\":3,\"1934\":3,\"1955\":2,\"1962\":2,\"1978\":1,\"1979\":1,\"1999\":2,\"2000\":1,\"2001\":4,\"2004\":2,\"2008\":3,\"2013\":2,\"2015\":2,\"2017\":1,\"2018\":3}}\n",
      "\n",
      "Line 50005: {\"ngram\":\"abdallah third\",\"freq_tot\":55,\"doc_tot\":55,\"freq\":{\"1820\":4,\"1821\":4,\"1823\":4,\"1824\":1,\"1825\":1,\"1826\":1,\"1832\":4,\"1835\":1,\"1836\":8,\"1837\":2,\"1845\":1,\"1849\":3,\"1855\":1,\"1858\":1,\"1865\":4,\"1870\":3,\"1871\":1,\"1872\":3,\"1875\":1,\"1876\":1,\"1882\":1,\"1892\":1,\"1901\":1,\"1903\":1,\"1927\":1,\"2010\":1},\"doc\":{\"1820\":4,\"1821\":4,\"1823\":4,\"1824\":1,\"1825\":1,\"1826\":1,\"1832\":4,\"1835\":1,\"1836\":8,\"1837\":2,\"1845\":1,\"1849\":3,\"1855\":1,\"1858\":1,\"1865\":4,\"1870\":3,\"1871\":1,\"1872\":3,\"1875\":1,\"1876\":1,\"1882\":1,\"1892\":1,\"1901\":1,\"1903\":1,\"1927\":1,\"2010\":1}}\n",
      "\n",
      "Line 50006: {\"ngram\":\"abdallah thompson\",\"freq_tot\":76,\"doc_tot\":65,\"freq\":{\"2010\":4,\"2011\":17,\"2012\":16,\"2013\":9,\"2014\":9,\"2015\":3,\"2016\":4,\"2017\":1,\"2018\":7,\"2019\":6},\"doc\":{\"2010\":4,\"2011\":13,\"2012\":12,\"2013\":8,\"2014\":7,\"2015\":3,\"2016\":4,\"2017\":1,\"2018\":7,\"2019\":6}}\n",
      "\n",
      "Line 50007: {\"ngram\":\"abdallah though\",\"freq_tot\":46,\"doc_tot\":46,\"freq\":{\"1868\":3,\"1869\":1,\"1870\":2,\"1871\":1,\"1872\":1,\"1873\":1,\"1874\":2,\"1875\":1,\"1877\":1,\"1878\":1,\"1879\":1,\"1880\":2,\"1882\":2,\"1883\":1,\"1885\":2,\"1886\":1,\"1887\":2,\"1889\":1,\"1892\":2,\"1895\":1,\"1898\":1,\"1900\":1,\"1947\":6,\"1948\":1,\"1949\":2,\"1954\":1,\"1956\":1,\"1960\":3,\"1980\":1},\"doc\":{\"1868\":3,\"1869\":1,\"1870\":2,\"1871\":1,\"1872\":1,\"1873\":1,\"1874\":2,\"1875\":1,\"1877\":1,\"1878\":1,\"1879\":1,\"1880\":2,\"1882\":2,\"1883\":1,\"1885\":2,\"1886\":1,\"1887\":2,\"1889\":1,\"1892\":2,\"1895\":1,\"1898\":1,\"1900\":1,\"1947\":6,\"1948\":1,\"1949\":2,\"1954\":1,\"1956\":1,\"1960\":3,\"1980\":1}}\n",
      "\n",
      "Line 50008: {\"ngram\":\"abdallah though age\",\"freq_tot\":116,\"doc_tot\":115,\"freq\":{\"1849\":3,\"1850\":21,\"1851\":2,\"1852\":1,\"1853\":1,\"1854\":1,\"1855\":1,\"1857\":2,\"1859\":3,\"1863\":3,\"1864\":1,\"1865\":2,\"1866\":1,\"1867\":1,\"1868\":8,\"1869\":4,\"1871\":1,\"1872\":1,\"1873\":2,\"1874\":1,\"1880\":1,\"1881\":5,\"1882\":6,\"1883\":2,\"1884\":3,\"1885\":3,\"1886\":2,\"1888\":2,\"1889\":1,\"1892\":2,\"1893\":2,\"1895\":1,\"1896\":5,\"1897\":6,\"1898\":1,\"1899\":2,\"1900\":2,\"1902\":1,\"1904\":1,\"1907\":1,\"1909\":1,\"1910\":1,\"1911\":1,\"1915\":1,\"2003\":1,\"2007\":1,\"2014\":1},\"doc\":{\"1849\":3,\"1850\":21,\"1851\":2,\"1852\":1,\"1853\":1,\"1854\":1,\"1855\":1,\"1857\":2,\"1859\":3,\"1863\":3,\"1864\":1,\"1865\":2,\"1866\":1,\"1867\":1,\"1868\":8,\"1869\":4,\"1871\":1,\"1872\":1,\"1873\":2,\"1874\":1,\"1880\":1,\"1881\":5,\"1882\":5,\"1883\":2,\"1884\":3,\"1885\":3,\"1886\":2,\"1888\":2,\"1889\":1,\"1892\":2,\"1893\":2,\"1895\":1,\"1896\":5,\"1897\":6,\"1898\":1,\"1899\":2,\"1900\":2,\"1902\":1,\"1904\":1,\"1907\":1,\"1909\":1,\"1910\":1,\"1911\":1,\"1915\":1,\"2003\":1,\"2007\":1,\"2014\":1}}\n",
      "\n",
      "Line 50009: {\"ngram\":\"abdallah thus\",\"freq_tot\":43,\"doc_tot\":43,\"freq\":{\"1800\":1,\"1860\":1,\"1861\":2,\"1864\":1,\"1867\":1,\"1869\":1,\"1871\":1,\"1877\":1,\"1880\":2,\"1883\":2,\"1931\":2,\"1981\":3,\"1984\":1,\"1991\":3,\"1992\":1,\"1994\":1,\"2000\":1,\"2004\":1,\"2008\":7,\"2014\":2,\"2015\":1,\"2018\":3,\"2019\":4},\"doc\":{\"1800\":1,\"1860\":1,\"1861\":2,\"1864\":1,\"1867\":1,\"1869\":1,\"1871\":1,\"1877\":1,\"1880\":2,\"1883\":2,\"1931\":2,\"1981\":3,\"1984\":1,\"1991\":3,\"1992\":1,\"1994\":1,\"2000\":1,\"2004\":1,\"2008\":7,\"2014\":2,\"2015\":1,\"2018\":3,\"2019\":4}}\n",
      "\n",
      "Line 50010: {\"ngram\":\"abdallah thus invoke\",\"freq_tot\":43,\"doc_tot\":43,\"freq\":{\"1800\":1,\"1860\":1,\"1861\":2,\"1864\":1,\"1867\":1,\"1869\":1,\"1871\":1,\"1877\":1,\"1880\":2,\"1883\":2,\"1931\":2,\"1981\":3,\"1984\":1,\"1991\":3,\"1992\":1,\"1994\":1,\"2000\":1,\"2004\":1,\"2008\":7,\"2014\":2,\"2015\":1,\"2018\":3,\"2019\":4},\"doc\":{\"1800\":1,\"1860\":1,\"1861\":2,\"1864\":1,\"1867\":1,\"1869\":1,\"1871\":1,\"1877\":1,\"1880\":2,\"1883\":2,\"1931\":2,\"1981\":3,\"1984\":1,\"1991\":3,\"1992\":1,\"1994\":1,\"2000\":1,\"2004\":1,\"2008\":7,\"2014\":2,\"2015\":1,\"2018\":3,\"2019\":4}}\n",
      "\n",
      "Line 50011: {\"ngram\":\"abdallah thus translate\",\"freq_tot\":52,\"doc_tot\":51,\"freq\":{\"1832\":2,\"1837\":2,\"1839\":3,\"1845\":4,\"1846\":6,\"1850\":1,\"1853\":1,\"1860\":1,\"1869\":1,\"1871\":5,\"1878\":1,\"1881\":3,\"1882\":1,\"1888\":1,\"1900\":1,\"1901\":1,\"1904\":5,\"1919\":1,\"1927\":2,\"1934\":1,\"1976\":1,\"1977\":1,\"1991\":1,\"2004\":3,\"2006\":1,\"2010\":1,\"2016\":1},\"doc\":{\"1832\":2,\"1837\":2,\"1839\":3,\"1845\":4,\"1846\":6,\"1850\":1,\"1853\":1,\"1860\":1,\"1869\":1,\"1871\":4,\"1878\":1,\"1881\":3,\"1882\":1,\"1888\":1,\"1900\":1,\"1901\":1,\"1904\":5,\"1919\":1,\"1927\":2,\"1934\":1,\"1976\":1,\"1977\":1,\"1991\":1,\"2004\":3,\"2006\":1,\"2010\":1,\"2016\":1}}\n",
      "\n",
      "Line 50012: {\"ngram\":\"abdallah tradition rather\",\"freq_tot\":122,\"doc_tot\":122,\"freq\":{\"1825\":1,\"1827\":2,\"1828\":2,\"1838\":1,\"1840\":2,\"1845\":4,\"1846\":2,\"1850\":2,\"1852\":1,\"1853\":2,\"1854\":10,\"1855\":2,\"1856\":2,\"1858\":2,\"1861\":2,\"1862\":3,\"1867\":1,\"1871\":2,\"1877\":1,\"1879\":1,\"1880\":4,\"1882\":1,\"1887\":2,\"1896\":3,\"1898\":3,\"1899\":1,\"1901\":6,\"1902\":1,\"1906\":3,\"1907\":1,\"1909\":1,\"1911\":3,\"1914\":2,\"1923\":2,\"1932\":1,\"1944\":1,\"1946\":3,\"1949\":1,\"1952\":6,\"1955\":2,\"1974\":3,\"1982\":1,\"1983\":3,\"1988\":1,\"1990\":2,\"1993\":1,\"1994\":1,\"1995\":1,\"2000\":1,\"2004\":1,\"2008\":2,\"2013\":2,\"2014\":1,\"2015\":2,\"2016\":3,\"2017\":5},\"doc\":{\"1825\":1,\"1827\":2,\"1828\":2,\"1838\":1,\"1840\":2,\"1845\":4,\"1846\":2,\"1850\":2,\"1852\":1,\"1853\":2,\"1854\":10,\"1855\":2,\"1856\":2,\"1858\":2,\"1861\":2,\"1862\":3,\"1867\":1,\"1871\":2,\"1877\":1,\"1879\":1,\"1880\":4,\"1882\":1,\"1887\":2,\"1896\":3,\"1898\":3,\"1899\":1,\"1901\":6,\"1902\":1,\"1906\":3,\"1907\":1,\"1909\":1,\"1911\":3,\"1914\":2,\"1923\":2,\"1932\":1,\"1944\":1,\"1946\":3,\"1949\":1,\"1952\":6,\"1955\":2,\"1974\":3,\"1982\":1,\"1983\":3,\"1988\":1,\"1990\":2,\"1993\":1,\"1994\":1,\"1995\":1,\"2000\":1,\"2004\":1,\"2008\":2,\"2013\":2,\"2014\":1,\"2015\":2,\"2016\":3,\"2017\":5}}\n",
      "\n",
      "Line 50013: {\"ngram\":\"abdallah trans jordan\",\"freq_tot\":67,\"doc_tot\":52,\"freq\":{\"1924\":3,\"1939\":3,\"1942\":6,\"1943\":4,\"1947\":1,\"1967\":2,\"1968\":4,\"1969\":1,\"1980\":1,\"1981\":4,\"1982\":3,\"1983\":1,\"1986\":7,\"1989\":1,\"1994\":7,\"1995\":1,\"1997\":1,\"1998\":1,\"1999\":2,\"2000\":1,\"2005\":1,\"2007\":1,\"2009\":1,\"2012\":1,\"2014\":7,\"2016\":2},\"doc\":{\"1924\":3,\"1939\":3,\"1942\":2,\"1943\":4,\"1947\":1,\"1967\":2,\"1968\":4,\"1969\":1,\"1980\":1,\"1981\":4,\"1982\":3,\"1983\":1,\"1986\":3,\"1989\":1,\"1994\":4,\"1995\":1,\"1997\":1,\"1998\":1,\"1999\":2,\"2000\":1,\"2005\":1,\"2007\":1,\"2009\":1,\"2012\":1,\"2014\":3,\"2016\":2}}\n",
      "\n",
      "Line 50014: {\"ngram\":\"abdallah tremble safety\",\"freq_tot\":116,\"doc_tot\":116,\"freq\":{\"1849\":3,\"1850\":22,\"1851\":2,\"1852\":1,\"1853\":1,\"1855\":1,\"1857\":1,\"1859\":3,\"1861\":1,\"1863\":2,\"1864\":1,\"1865\":2,\"1866\":1,\"1867\":1,\"1868\":7,\"1869\":4,\"1871\":1,\"1872\":1,\"1873\":2,\"1874\":1,\"1880\":2,\"1881\":5,\"1882\":4,\"1883\":2,\"1884\":4,\"1885\":3,\"1886\":2,\"1888\":2,\"1889\":1,\"1893\":4,\"1896\":8,\"1897\":3,\"1898\":1,\"1899\":2,\"1900\":2,\"1902\":1,\"1904\":1,\"1907\":1,\"1909\":1,\"1910\":1,\"1911\":1,\"1915\":1,\"1970\":2,\"2003\":1,\"2004\":1,\"2007\":1,\"2014\":1},\"doc\":{\"1849\":3,\"1850\":22,\"1851\":2,\"1852\":1,\"1853\":1,\"1855\":1,\"1857\":1,\"1859\":3,\"1861\":1,\"1863\":2,\"1864\":1,\"1865\":2,\"1866\":1,\"1867\":1,\"1868\":7,\"1869\":4,\"1871\":1,\"1872\":1,\"1873\":2,\"1874\":1,\"1880\":2,\"1881\":5,\"1882\":4,\"1883\":2,\"1884\":4,\"1885\":3,\"1886\":2,\"1888\":2,\"1889\":1,\"1893\":4,\"1896\":8,\"1897\":3,\"1898\":1,\"1899\":2,\"1900\":2,\"1902\":1,\"1904\":1,\"1907\":1,\"1909\":1,\"1910\":1,\"1911\":1,\"1915\":1,\"1970\":2,\"2003\":1,\"2004\":1,\"2007\":1,\"2014\":1}}\n",
      "\n",
      "Line 50015: {\"ngram\":\"abdallah tribe\",\"freq_tot\":100,\"doc_tot\":97,\"freq\":{\"1810\":1,\"1820\":2,\"1834\":1,\"1837\":7,\"1850\":3,\"1851\":5,\"1857\":2,\"1870\":1,\"1878\":1,\"1885\":8,\"1890\":4,\"1896\":3,\"1897\":3,\"1899\":2,\"1901\":1,\"1907\":2,\"1921\":1,\"1922\":1,\"1923\":2,\"1936\":3,\"1949\":1,\"1951\":2,\"1953\":3,\"1957\":1,\"1963\":3,\"1964\":1,\"1966\":2,\"1971\":4,\"2001\":1,\"2016\":1,\"1898\":1,\"1914\":5,\"1915\":4,\"1956\":1,\"1972\":3,\"1974\":1,\"1975\":1,\"1981\":1,\"1983\":1,\"1997\":4,\"2006\":5,\"2007\":1},\"doc\":{\"1810\":1,\"1820\":2,\"1834\":1,\"1837\":7,\"1850\":3,\"1851\":5,\"1857\":2,\"1870\":1,\"1878\":1,\"1885\":8,\"1890\":4,\"1896\":3,\"1897\":3,\"1899\":2,\"1901\":1,\"1907\":2,\"1921\":1,\"1922\":1,\"1923\":2,\"1936\":3,\"1949\":1,\"1951\":2,\"1953\":3,\"1957\":1,\"1963\":3,\"1964\":1,\"1966\":2,\"1971\":4,\"2001\":1,\"2016\":1,\"1898\":1,\"1914\":5,\"1915\":4,\"1956\":1,\"1972\":3,\"1974\":1,\"1975\":1,\"1981\":1,\"1983\":1,\"1997\":2,\"2006\":4,\"2007\":1}}\n",
      "\n",
      "Line 50016: {\"ngram\":\"abdallah true\",\"freq_tot\":73,\"doc_tot\":73,\"freq\":{\"1813\":9,\"1814\":2,\"1818\":2,\"1820\":1,\"1822\":1,\"1823\":5,\"1825\":1,\"1832\":1,\"1835\":1,\"1841\":6,\"1842\":1,\"1843\":1,\"1844\":1,\"1848\":1,\"1851\":2,\"1852\":1,\"1853\":5,\"1855\":1,\"1856\":8,\"1857\":1,\"1858\":1,\"1859\":1,\"1865\":1,\"1867\":2,\"1869\":1,\"1870\":1,\"1876\":1,\"1878\":1,\"1879\":1,\"1880\":1,\"1881\":1,\"1884\":1,\"1889\":1,\"1895\":2,\"1915\":2,\"1953\":1,\"1979\":1,\"2003\":1,\"2010\":1},\"doc\":{\"1813\":9,\"1814\":2,\"1818\":2,\"1820\":1,\"1822\":1,\"1823\":5,\"1825\":1,\"1832\":1,\"1835\":1,\"1841\":6,\"1842\":1,\"1843\":1,\"1844\":1,\"1848\":1,\"1851\":2,\"1852\":1,\"1853\":5,\"1855\":1,\"1856\":8,\"1857\":1,\"1858\":1,\"1859\":1,\"1865\":1,\"1867\":2,\"1869\":1,\"1870\":1,\"1876\":1,\"1878\":1,\"1879\":1,\"1880\":1,\"1881\":1,\"1884\":1,\"1889\":1,\"1895\":2,\"1915\":2,\"1953\":1,\"1979\":1,\"2003\":1,\"2010\":1}}\n",
      "\n",
      "Line 50017: {\"ngram\":\"abdallah turn back\",\"freq_tot\":133,\"doc_tot\":132,\"freq\":{\"1848\":2,\"1849\":4,\"1850\":26,\"1851\":2,\"1852\":1,\"1853\":2,\"1854\":1,\"1855\":1,\"1857\":2,\"1859\":2,\"1861\":1,\"1863\":2,\"1865\":1,\"1866\":1,\"1867\":1,\"1868\":12,\"1869\":1,\"1871\":1,\"1873\":3,\"1874\":1,\"1879\":2,\"1880\":3,\"1881\":4,\"1882\":2,\"1883\":2,\"1884\":4,\"1885\":3,\"1886\":1,\"1888\":2,\"1889\":1,\"1890\":1,\"1892\":1,\"1893\":3,\"1894\":1,\"1895\":1,\"1896\":7,\"1897\":3,\"1898\":1,\"1899\":2,\"1900\":2,\"1904\":1,\"1907\":1,\"1909\":1,\"1910\":1,\"1911\":2,\"1915\":2,\"1920\":1,\"1935\":1,\"1949\":1,\"1970\":2,\"1989\":1,\"2003\":1,\"2006\":1,\"2007\":3,\"2014\":1},\"doc\":{\"1848\":2,\"1849\":4,\"1850\":26,\"1851\":2,\"1852\":1,\"1853\":2,\"1854\":1,\"1855\":1,\"1857\":2,\"1859\":2,\"1861\":1,\"1863\":2,\"1865\":1,\"1866\":1,\"1867\":1,\"1868\":12,\"1869\":1,\"1871\":1,\"1873\":3,\"1874\":1,\"1879\":1,\"1880\":3,\"1881\":4,\"1882\":2,\"1883\":2,\"1884\":4,\"1885\":3,\"1886\":1,\"1888\":2,\"1889\":1,\"1890\":1,\"1892\":1,\"1893\":3,\"1894\":1,\"1895\":1,\"1896\":7,\"1897\":3,\"1898\":1,\"1899\":2,\"1900\":2,\"1904\":1,\"1907\":1,\"1909\":1,\"1910\":1,\"1911\":2,\"1915\":2,\"1920\":1,\"1935\":1,\"1949\":1,\"1970\":2,\"1989\":1,\"2003\":1,\"2006\":1,\"2007\":3,\"2014\":1}}\n",
      "\n",
      "Line 50018: {\"ngram\":\"abdallah turn back also\",\"freq_tot\":133,\"doc_tot\":132,\"freq\":{\"1848\":2,\"1849\":4,\"1850\":26,\"1851\":2,\"1852\":1,\"1853\":2,\"1854\":1,\"1855\":1,\"1857\":2,\"1859\":2,\"1861\":1,\"1863\":2,\"1865\":1,\"1866\":1,\"1867\":1,\"1868\":12,\"1869\":1,\"1871\":1,\"1873\":3,\"1874\":1,\"1879\":2,\"1880\":3,\"1881\":4,\"1882\":2,\"1883\":2,\"1884\":4,\"1885\":3,\"1886\":1,\"1888\":2,\"1889\":1,\"1890\":1,\"1892\":1,\"1893\":3,\"1894\":1,\"1895\":1,\"1896\":7,\"1897\":3,\"1898\":1,\"1899\":2,\"1900\":2,\"1904\":1,\"1907\":1,\"1909\":1,\"1910\":1,\"1911\":2,\"1915\":2,\"1920\":1,\"1935\":1,\"1949\":1,\"1970\":2,\"1989\":1,\"2003\":1,\"2006\":1,\"2007\":3,\"2014\":1},\"doc\":{\"1848\":2,\"1849\":4,\"1850\":26,\"1851\":2,\"1852\":1,\"1853\":2,\"1854\":1,\"1855\":1,\"1857\":2,\"1859\":2,\"1861\":1,\"1863\":2,\"1865\":1,\"1866\":1,\"1867\":1,\"1868\":12,\"1869\":1,\"1871\":1,\"1873\":3,\"1874\":1,\"1879\":1,\"1880\":3,\"1881\":4,\"1882\":2,\"1883\":2,\"1884\":4,\"1885\":3,\"1886\":1,\"1888\":2,\"1889\":1,\"1890\":1,\"1892\":1,\"1893\":3,\"1894\":1,\"1895\":1,\"1896\":7,\"1897\":3,\"1898\":1,\"1899\":2,\"1900\":2,\"1904\":1,\"1907\":1,\"1909\":1,\"1910\":1,\"1911\":2,\"1915\":2,\"1920\":1,\"1935\":1,\"1949\":1,\"1970\":2,\"1989\":1,\"2003\":1,\"2006\":1,\"2007\":3,\"2014\":1}}\n",
      "\n",
      "Line 50019: {\"ngram\":\"abdallah twelve month\",\"freq_tot\":58,\"doc_tot\":58,\"freq\":{\"1838\":1,\"1840\":5,\"1841\":2,\"1843\":1,\"1844\":1,\"1845\":4,\"1846\":2,\"1847\":1,\"1850\":3,\"1852\":1,\"1853\":1,\"1854\":1,\"1856\":3,\"1860\":2,\"1862\":1,\"1869\":1,\"1871\":2,\"1873\":1,\"1874\":1,\"1876\":1,\"1878\":2,\"1880\":2,\"1888\":1,\"1899\":2,\"1900\":1,\"1902\":1,\"1960\":1,\"1983\":1,\"2004\":1,\"2014\":1,\"2015\":2,\"2016\":3,\"2017\":5},\"doc\":{\"1838\":1,\"1840\":5,\"1841\":2,\"1843\":1,\"1844\":1,\"1845\":4,\"1846\":2,\"1847\":1,\"1850\":3,\"1852\":1,\"1853\":1,\"1854\":1,\"1856\":3,\"1860\":2,\"1862\":1,\"1869\":1,\"1871\":2,\"1873\":1,\"1874\":1,\"1876\":1,\"1878\":2,\"1880\":2,\"1888\":1,\"1899\":2,\"1900\":1,\"1902\":1,\"1960\":1,\"1983\":1,\"2004\":1,\"2014\":1,\"2015\":2,\"2016\":3,\"2017\":5}}\n",
      "\n",
      "Line 50020: {\"ngram\":\"abdallah uncle\",\"freq_tot\":320,\"doc_tot\":317,\"freq\":{\"1788\":2,\"1789\":4,\"1790\":1,\"1792\":1,\"1793\":2,\"1800\":1,\"1802\":3,\"1805\":2,\"1806\":2,\"1807\":2,\"1811\":1,\"1813\":1,\"1814\":1,\"1815\":2,\"1816\":2,\"1819\":1,\"1820\":4,\"1821\":4,\"1822\":3,\"1825\":3,\"1826\":1,\"1827\":5,\"1828\":4,\"1829\":2,\"1830\":5,\"1831\":2,\"1833\":1,\"1835\":1,\"1837\":1,\"1838\":6,\"1839\":1,\"1840\":1,\"1841\":3,\"1842\":4,\"1843\":1,\"1844\":4,\"1845\":6,\"1846\":2,\"1850\":3,\"1852\":1,\"1853\":7,\"1854\":1,\"1856\":4,\"1857\":10,\"1862\":1,\"1865\":1,\"1868\":2,\"1869\":4,\"1870\":2,\"1871\":5,\"1873\":9,\"1874\":2,\"1875\":1,\"1876\":1,\"1877\":3,\"1878\":3,\"1880\":5,\"1881\":3,\"1882\":1,\"1883\":2,\"1884\":3,\"1885\":1,\"1886\":1,\"1887\":2,\"1888\":2,\"1889\":1,\"1890\":2,\"1892\":2,\"1894\":1,\"1895\":1,\"1896\":3,\"1898\":4,\"1899\":7,\"1901\":3,\"1902\":1,\"1903\":4,\"1904\":5,\"1905\":1,\"1906\":6,\"1907\":1,\"1909\":3,\"1910\":1,\"1911\":1,\"1912\":2,\"1913\":2,\"1914\":1,\"1915\":3,\"1916\":4,\"1917\":4,\"1918\":1,\"1921\":1,\"1922\":1,\"1925\":1,\"1926\":1,\"1927\":1,\"1928\":2,\"1930\":1,\"1931\":1,\"1932\":2,\"1944\":1,\"1946\":3,\"1949\":1,\"1950\":1,\"1952\":11,\"1954\":1,\"1955\":3,\"1957\":1,\"1960\":1,\"1973\":3,\"1974\":3,\"1977\":1,\"1982\":1,\"1983\":2,\"1984\":2,\"1989\":1,\"1990\":3,\"1993\":1,\"1994\":1,\"1995\":2,\"1997\":1,\"2000\":1,\"2001\":1,\"2002\":2,\"2004\":1,\"2006\":1,\"2008\":4,\"2013\":6,\"2014\":1,\"2015\":3,\"2016\":3,\"2017\":5,\"2018\":1},\"doc\":{\"1788\":2,\"1789\":4,\"1790\":1,\"1792\":1,\"1793\":2,\"1800\":1,\"1802\":3,\"1805\":2,\"1806\":2,\"1807\":2,\"1811\":1,\"1813\":1,\"1814\":1,\"1815\":2,\"1816\":2,\"1819\":1,\"1820\":4,\"1821\":4,\"1822\":3,\"1825\":3,\"1826\":1,\"1827\":5,\"1828\":4,\"1829\":2,\"1830\":5,\"1831\":2,\"1833\":1,\"1835\":1,\"1837\":1,\"1838\":6,\"1839\":1,\"1840\":1,\"1841\":3,\"1842\":4,\"1843\":1,\"1844\":4,\"1845\":6,\"1846\":2,\"1850\":3,\"1852\":1,\"1853\":7,\"1854\":1,\"1856\":4,\"1857\":10,\"1862\":1,\"1865\":1,\"1868\":2,\"1869\":4,\"1870\":2,\"1871\":5,\"1873\":9,\"1874\":2,\"1875\":1,\"1876\":1,\"1877\":3,\"1878\":3,\"1880\":5,\"1881\":3,\"1882\":1,\"1883\":2,\"1884\":3,\"1885\":1,\"1886\":1,\"1887\":2,\"1888\":2,\"1889\":1,\"1890\":1,\"1892\":2,\"1894\":1,\"1895\":1,\"1896\":3,\"1898\":4,\"1899\":7,\"1901\":3,\"1902\":1,\"1903\":4,\"1904\":5,\"1905\":1,\"1906\":6,\"1907\":1,\"1909\":3,\"1910\":1,\"1911\":1,\"1912\":2,\"1913\":2,\"1914\":1,\"1915\":2,\"1916\":4,\"1917\":4,\"1918\":1,\"1921\":1,\"1922\":1,\"1925\":1,\"1926\":1,\"1927\":1,\"1928\":2,\"1930\":1,\"1931\":1,\"1932\":2,\"1944\":1,\"1946\":3,\"1949\":1,\"1950\":1,\"1952\":11,\"1954\":1,\"1955\":3,\"1957\":1,\"1960\":1,\"1973\":3,\"1974\":3,\"1977\":1,\"1982\":1,\"1983\":2,\"1984\":2,\"1989\":1,\"1990\":2,\"1993\":1,\"1994\":1,\"1995\":2,\"1997\":1,\"2000\":1,\"2001\":1,\"2002\":2,\"2004\":1,\"2006\":1,\"2008\":4,\"2013\":6,\"2014\":1,\"2015\":3,\"2016\":3,\"2017\":5,\"2018\":1}}\n",
      "\n",
      "Line 50021: {\"ngram\":\"abdallah understand true meaning\",\"freq_tot\":135,\"doc_tot\":133,\"freq\":{\"1848\":2,\"1849\":4,\"1850\":26,\"1851\":2,\"1852\":1,\"1853\":2,\"1854\":1,\"1855\":4,\"1857\":2,\"1859\":2,\"1861\":1,\"1863\":2,\"1865\":1,\"1866\":1,\"1867\":1,\"1868\":12,\"1869\":1,\"1871\":1,\"1873\":3,\"1879\":2,\"1880\":2,\"1881\":5,\"1882\":2,\"1883\":2,\"1884\":4,\"1885\":2,\"1886\":1,\"1888\":2,\"1889\":1,\"1890\":1,\"1892\":1,\"1893\":3,\"1894\":1,\"1895\":1,\"1896\":7,\"1897\":3,\"1898\":1,\"1899\":2,\"1900\":2,\"1904\":1,\"1907\":1,\"1909\":1,\"1910\":1,\"1911\":2,\"1915\":2,\"1920\":1,\"1935\":1,\"1949\":1,\"1970\":2,\"1989\":1,\"2003\":1,\"2004\":1,\"2006\":1,\"2007\":3,\"2014\":1},\"doc\":{\"1848\":2,\"1849\":4,\"1850\":25,\"1851\":2,\"1852\":1,\"1853\":2,\"1854\":1,\"1855\":4,\"1857\":2,\"1859\":2,\"1861\":1,\"1863\":2,\"1865\":1,\"1866\":1,\"1867\":1,\"1868\":12,\"1869\":1,\"1871\":1,\"1873\":3,\"1879\":1,\"1880\":2,\"1881\":5,\"1882\":2,\"1883\":2,\"1884\":4,\"1885\":2,\"1886\":1,\"1888\":2,\"1889\":1,\"1890\":1,\"1892\":1,\"1893\":3,\"1894\":1,\"1895\":1,\"1896\":7,\"1897\":3,\"1898\":1,\"1899\":2,\"1900\":2,\"1904\":1,\"1907\":1,\"1909\":1,\"1910\":1,\"1911\":2,\"1915\":2,\"1920\":1,\"1935\":1,\"1949\":1,\"1970\":2,\"1989\":1,\"2003\":1,\"2004\":1,\"2006\":1,\"2007\":3,\"2014\":1}}\n",
      "\n",
      "Line 50022: {\"ngram\":\"abdallah united saving bank\",\"freq_tot\":149,\"doc_tot\":75,\"freq\":{\"1972\":5,\"1991\":2,\"1996\":6,\"1997\":5,\"1998\":1,\"1999\":4,\"2000\":17,\"2001\":39,\"2002\":8,\"2003\":7,\"2004\":4,\"2005\":5,\"2006\":6,\"2007\":7,\"2008\":10,\"2009\":8,\"2010\":3,\"2011\":9,\"2012\":2,\"2017\":1},\"doc\":{\"1972\":3,\"1991\":1,\"1996\":4,\"1997\":3,\"1998\":1,\"1999\":2,\"2000\":8,\"2001\":12,\"2002\":4,\"2003\":5,\"2004\":3,\"2005\":4,\"2006\":4,\"2007\":3,\"2008\":5,\"2009\":4,\"2010\":3,\"2011\":3,\"2012\":2,\"2017\":1}}\n",
      "\n",
      "Line 50023: {\"ngram\":\"abdallah university\",\"freq_tot\":70,\"doc_tot\":68,\"freq\":{\"2003\":3,\"2005\":5,\"2006\":5,\"2007\":6,\"2008\":8,\"2009\":4,\"2010\":7,\"2011\":7,\"2012\":8,\"2013\":8,\"2014\":9},\"doc\":{\"2003\":3,\"2005\":5,\"2006\":4,\"2007\":5,\"2008\":8,\"2009\":4,\"2010\":7,\"2011\":7,\"2012\":8,\"2013\":8,\"2014\":9}}\n",
      "\n",
      "Line 50024: {\"ngram\":\"abdallah university central\",\"freq_tot\":79,\"doc_tot\":76,\"freq\":{\"2003\":3,\"2004\":5,\"2005\":6,\"2006\":7,\"2007\":6,\"2008\":8,\"2009\":4,\"2010\":7,\"2011\":7,\"2012\":9,\"2013\":8,\"2014\":9},\"doc\":{\"2003\":3,\"2004\":5,\"2005\":5,\"2006\":6,\"2007\":5,\"2008\":8,\"2009\":4,\"2010\":7,\"2011\":7,\"2012\":9,\"2013\":8,\"2014\":9}}\n",
      "\n",
      "Line 50025: {\"ngram\":\"abdallah university new\",\"freq_tot\":46,\"doc_tot\":41,\"freq\":{\"1992\":8,\"1993\":13,\"1994\":1,\"1996\":2,\"1997\":2,\"2003\":7,\"2004\":6,\"2011\":4,\"2012\":3},\"doc\":{\"1992\":6,\"1993\":13,\"1994\":1,\"1996\":2,\"1997\":2,\"2003\":7,\"2004\":6,\"2011\":2,\"2012\":2}}\n",
      "\n",
      "Line 50026: {\"ngram\":\"abdallah university science\",\"freq_tot\":115,\"doc_tot\":80,\"freq\":{\"1997\":1,\"2007\":6,\"2008\":5,\"2009\":6,\"2010\":9,\"2011\":11,\"2012\":16,\"2013\":11,\"2014\":3,\"2015\":25,\"2016\":5,\"2017\":2,\"2018\":4,\"2019\":11},\"doc\":{\"1997\":1,\"2007\":4,\"2008\":3,\"2009\":5,\"2010\":6,\"2011\":8,\"2012\":11,\"2013\":9,\"2014\":3,\"2015\":16,\"2016\":3,\"2017\":2,\"2018\":4,\"2019\":5}}\n",
      "\n",
      "Line 50027: {\"ngram\":\"abdallah vice\",\"freq_tot\":428,\"doc_tot\":213,\"freq\":{\"1979\":2,\"1980\":5,\"1981\":12,\"1982\":7,\"1983\":26,\"1984\":23,\"1985\":12,\"1986\":7,\"1987\":17,\"1988\":4,\"1989\":8,\"1990\":18,\"1991\":5,\"1992\":4,\"1994\":1,\"1995\":9,\"1996\":68,\"1997\":99,\"1998\":84,\"1999\":17},\"doc\":{\"1979\":1,\"1980\":5,\"1981\":10,\"1982\":6,\"1983\":16,\"1984\":12,\"1985\":8,\"1986\":4,\"1987\":5,\"1988\":4,\"1989\":5,\"1990\":7,\"1991\":1,\"1992\":1,\"1994\":1,\"1995\":8,\"1996\":30,\"1997\":53,\"1998\":28,\"1999\":8}}\n",
      "\n",
      "Line 50028: {\"ngram\":\"abdallah vice president\",\"freq_tot\":257,\"doc_tot\":109,\"freq\":{\"1979\":2,\"1980\":9,\"1981\":31,\"1982\":28,\"1983\":49,\"1984\":47,\"1985\":27,\"1986\":13,\"1987\":19,\"1988\":7,\"1989\":9,\"1990\":16},\"doc\":{\"1979\":1,\"1980\":8,\"1981\":13,\"1982\":12,\"1983\":18,\"1984\":15,\"1985\":10,\"1986\":7,\"1987\":7,\"1988\":6,\"1989\":6,\"1990\":6}}\n",
      "\n",
      "Line 50029: {\"ngram\":\"abdallah wait\",\"freq_tot\":59,\"doc_tot\":59,\"freq\":{\"1785\":1,\"1789\":1,\"1811\":2,\"1812\":5,\"1818\":1,\"1821\":1,\"1827\":2,\"1832\":1,\"1835\":1,\"1842\":1,\"1844\":1,\"1855\":1,\"1865\":1,\"1866\":1,\"1870\":1,\"1879\":1,\"1880\":2,\"1883\":2,\"1891\":3,\"1892\":1,\"1897\":3,\"1899\":1,\"1903\":1,\"1915\":3,\"1951\":1,\"1995\":2,\"1998\":2,\"2004\":2,\"2006\":1,\"2007\":1,\"2008\":1,\"2009\":1,\"2010\":2,\"2013\":1,\"2015\":2,\"2016\":1,\"2018\":2,\"2019\":2},\"doc\":{\"1785\":1,\"1789\":1,\"1811\":2,\"1812\":5,\"1818\":1,\"1821\":1,\"1827\":2,\"1832\":1,\"1835\":1,\"1842\":1,\"1844\":1,\"1855\":1,\"1865\":1,\"1866\":1,\"1870\":1,\"1879\":1,\"1880\":2,\"1883\":2,\"1891\":3,\"1892\":1,\"1897\":3,\"1899\":1,\"1903\":1,\"1915\":3,\"1951\":1,\"1995\":2,\"1998\":2,\"2004\":2,\"2006\":1,\"2007\":1,\"2008\":1,\"2009\":1,\"2010\":2,\"2013\":1,\"2015\":2,\"2016\":1,\"2018\":2,\"2019\":2}}\n",
      "\n",
      "Line 50030: {\"ngram\":\"abdallah weakness\",\"freq_tot\":52,\"doc_tot\":52,\"freq\":{\"1837\":1,\"1838\":2,\"1839\":2,\"1840\":1,\"1842\":1,\"1844\":2,\"1849\":1,\"1850\":1,\"1851\":4,\"1852\":1,\"1854\":2,\"1857\":2,\"1858\":1,\"1859\":3,\"1860\":1,\"1861\":2,\"1865\":1,\"1867\":1,\"1869\":1,\"1870\":1,\"1872\":4,\"1873\":1,\"1875\":1,\"1881\":1,\"1882\":1,\"1883\":1,\"1895\":1,\"1899\":1,\"1902\":2,\"1904\":4,\"1909\":1,\"1968\":1,\"1977\":1,\"2011\":1},\"doc\":{\"1837\":1,\"1838\":2,\"1839\":2,\"1840\":1,\"1842\":1,\"1844\":2,\"1849\":1,\"1850\":1,\"1851\":4,\"1852\":1,\"1854\":2,\"1857\":2,\"1858\":1,\"1859\":3,\"1860\":1,\"1861\":2,\"1865\":1,\"1867\":1,\"1869\":1,\"1870\":1,\"1872\":4,\"1873\":1,\"1875\":1,\"1881\":1,\"1882\":1,\"1883\":1,\"1895\":1,\"1899\":1,\"1902\":2,\"1904\":4,\"1909\":1,\"1968\":1,\"1977\":1,\"2011\":1}}\n",
      "\n",
      "Line 50031: {\"ngram\":\"abdallah well\",\"freq_tot\":182,\"doc_tot\":182,\"freq\":{\"1837\":1,\"1838\":9,\"1839\":4,\"1840\":1,\"1841\":3,\"1842\":5,\"1843\":2,\"1844\":2,\"1845\":1,\"1848\":2,\"1849\":2,\"1850\":2,\"1851\":5,\"1854\":8,\"1856\":3,\"1857\":3,\"1858\":5,\"1859\":7,\"1861\":1,\"1862\":2,\"1866\":1,\"1867\":2,\"1868\":3,\"1870\":2,\"1872\":11,\"1873\":3,\"1875\":1,\"1879\":1,\"1881\":1,\"1882\":1,\"1883\":1,\"1884\":1,\"1885\":2,\"1887\":1,\"1892\":1,\"1893\":1,\"1896\":1,\"1899\":1,\"1902\":2,\"1904\":7,\"1906\":1,\"1909\":1,\"1968\":2,\"1977\":1,\"2004\":3,\"2010\":1,\"1821\":1,\"1822\":1,\"1846\":1,\"1847\":4,\"1869\":1,\"1876\":4,\"1877\":2,\"1878\":3,\"1901\":1,\"1939\":1,\"1965\":1,\"1979\":1,\"1981\":2,\"1983\":1,\"1984\":1,\"1985\":4,\"1990\":2,\"1991\":2,\"1992\":1,\"1994\":2,\"2000\":3,\"2002\":5,\"2003\":4,\"2005\":1,\"2011\":2,\"2012\":7,\"2015\":1,\"2017\":1,\"2019\":1},\"doc\":{\"1837\":1,\"1838\":9,\"1839\":4,\"1840\":1,\"1841\":3,\"1842\":5,\"1843\":2,\"1844\":2,\"1845\":1,\"1848\":2,\"1849\":2,\"1850\":2,\"1851\":5,\"1854\":8,\"1856\":3,\"1857\":3,\"1858\":5,\"1859\":7,\"1861\":1,\"1862\":2,\"1866\":1,\"1867\":2,\"1868\":3,\"1870\":2,\"1872\":11,\"1873\":3,\"1875\":1,\"1879\":1,\"1881\":1,\"1882\":1,\"1883\":1,\"1884\":1,\"1885\":2,\"1887\":1,\"1892\":1,\"1893\":1,\"1896\":1,\"1899\":1,\"1902\":2,\"1904\":7,\"1906\":1,\"1909\":1,\"1968\":2,\"1977\":1,\"2004\":3,\"2010\":1,\"1821\":1,\"1822\":1,\"1846\":1,\"1847\":4,\"1869\":1,\"1876\":4,\"1877\":2,\"1878\":3,\"1901\":1,\"1939\":1,\"1965\":1,\"1979\":1,\"1981\":2,\"1983\":1,\"1984\":1,\"1985\":4,\"1990\":2,\"1991\":2,\"1992\":1,\"1994\":2,\"2000\":3,\"2002\":5,\"2003\":4,\"2005\":1,\"2011\":2,\"2012\":7,\"2015\":1,\"2017\":1,\"2019\":1}}\n",
      "\n",
      "Line 50032: {\"ngram\":\"abdallah well advance\",\"freq_tot\":119,\"doc_tot\":119,\"freq\":{\"1849\":2,\"1850\":22,\"1851\":2,\"1852\":1,\"1853\":1,\"1854\":1,\"1855\":1,\"1857\":2,\"1859\":3,\"1861\":1,\"1863\":3,\"1864\":1,\"1865\":2,\"1866\":1,\"1867\":1,\"1868\":8,\"1869\":3,\"1871\":1,\"1872\":1,\"1873\":2,\"1874\":1,\"1880\":1,\"1881\":5,\"1882\":5,\"1883\":2,\"1884\":4,\"1885\":3,\"1886\":2,\"1888\":2,\"1889\":1,\"1892\":2,\"1893\":4,\"1896\":8,\"1897\":3,\"1898\":1,\"1899\":2,\"1900\":2,\"1902\":1,\"1904\":1,\"1907\":1,\"1910\":1,\"1911\":1,\"1915\":1,\"1970\":2,\"2003\":1,\"2004\":1,\"2007\":1,\"2014\":1},\"doc\":{\"1849\":2,\"1850\":22,\"1851\":2,\"1852\":1,\"1853\":1,\"1854\":1,\"1855\":1,\"1857\":2,\"1859\":3,\"1861\":1,\"1863\":3,\"1864\":1,\"1865\":2,\"1866\":1,\"1867\":1,\"1868\":8,\"1869\":3,\"1871\":1,\"1872\":1,\"1873\":2,\"1874\":1,\"1880\":1,\"1881\":5,\"1882\":5,\"1883\":2,\"1884\":4,\"1885\":3,\"1886\":2,\"1888\":2,\"1889\":1,\"1892\":2,\"1893\":4,\"1896\":8,\"1897\":3,\"1898\":1,\"1899\":2,\"1900\":2,\"1902\":1,\"1904\":1,\"1907\":1,\"1910\":1,\"1911\":1,\"1915\":1,\"1970\":2,\"2003\":1,\"2004\":1,\"2007\":1,\"2014\":1}}\n",
      "\n",
      "Line 50033: {\"ngram\":\"abdallah well know\",\"freq_tot\":49,\"doc_tot\":47,\"freq\":{\"1881\":5,\"1905\":5,\"1909\":1,\"1913\":1,\"1914\":1,\"1941\":2,\"1943\":1,\"1967\":2,\"1980\":2,\"1993\":1,\"1995\":1,\"1996\":3,\"1998\":2,\"2000\":4,\"2002\":1,\"2004\":3,\"2005\":6,\"2006\":1,\"2008\":2,\"2009\":2,\"2013\":3},\"doc\":{\"1881\":5,\"1905\":3,\"1909\":1,\"1913\":1,\"1914\":1,\"1941\":2,\"1943\":1,\"1967\":2,\"1980\":2,\"1993\":1,\"1995\":1,\"1996\":3,\"1998\":2,\"2000\":4,\"2002\":1,\"2004\":3,\"2005\":6,\"2006\":1,\"2008\":2,\"2009\":2,\"2013\":3}}\n",
      "\n",
      "Line 50034: {\"ngram\":\"abdallah whine\",\"freq_tot\":47,\"doc_tot\":47,\"freq\":{\"1833\":3,\"1837\":1,\"1845\":2,\"1846\":5,\"1850\":1,\"1859\":1,\"1866\":1,\"1869\":1,\"1870\":1,\"1871\":3,\"1878\":1,\"1881\":3,\"1888\":1,\"1900\":2,\"1904\":4,\"1913\":1,\"1919\":2,\"1927\":3,\"2004\":3,\"2007\":1,\"2008\":2,\"2010\":1,\"2011\":1,\"2016\":1,\"2019\":2},\"doc\":{\"1833\":3,\"1837\":1,\"1845\":2,\"1846\":5,\"1850\":1,\"1859\":1,\"1866\":1,\"1869\":1,\"1870\":1,\"1871\":3,\"1878\":1,\"1881\":3,\"1888\":1,\"1900\":2,\"1904\":4,\"1913\":1,\"1919\":2,\"1927\":3,\"2004\":3,\"2007\":1,\"2008\":2,\"2010\":1,\"2011\":1,\"2016\":1,\"2019\":2}}\n",
      "\n",
      "Line 50035: {\"ngram\":\"abdallah whose fame\",\"freq_tot\":120,\"doc_tot\":120,\"freq\":{\"1849\":3,\"1850\":22,\"1851\":2,\"1852\":1,\"1853\":1,\"1854\":1,\"1855\":1,\"1857\":2,\"1859\":3,\"1861\":1,\"1863\":3,\"1864\":1,\"1865\":2,\"1866\":1,\"1867\":1,\"1868\":7,\"1869\":4,\"1871\":1,\"1872\":1,\"1873\":2,\"1874\":1,\"1880\":1,\"1881\":5,\"1882\":5,\"1883\":2,\"1884\":3,\"1885\":3,\"1886\":2,\"1888\":2,\"1889\":1,\"1890\":1,\"1892\":1,\"1893\":4,\"1896\":8,\"1897\":3,\"1898\":1,\"1899\":2,\"1900\":2,\"1902\":1,\"1904\":1,\"1907\":1,\"1909\":1,\"1910\":1,\"1911\":1,\"1915\":1,\"1970\":2,\"2003\":1,\"2004\":1,\"2007\":1,\"2014\":1},\"doc\":{\"1849\":3,\"1850\":22,\"1851\":2,\"1852\":1,\"1853\":1,\"1854\":1,\"1855\":1,\"1857\":2,\"1859\":3,\"1861\":1,\"1863\":3,\"1864\":1,\"1865\":2,\"1866\":1,\"1867\":1,\"1868\":7,\"1869\":4,\"1871\":1,\"1872\":1,\"1873\":2,\"1874\":1,\"1880\":1,\"1881\":5,\"1882\":5,\"1883\":2,\"1884\":3,\"1885\":3,\"1886\":2,\"1888\":2,\"1889\":1,\"1890\":1,\"1892\":1,\"1893\":4,\"1896\":8,\"1897\":3,\"1898\":1,\"1899\":2,\"1900\":2,\"1902\":1,\"1904\":1,\"1907\":1,\"1909\":1,\"1910\":1,\"1911\":1,\"1915\":1,\"1970\":2,\"2003\":1,\"2004\":1,\"2007\":1,\"2014\":1}}\n",
      "\n",
      "Line 50036: {\"ngram\":\"abdallah whose mind\",\"freq_tot\":144,\"doc_tot\":141,\"freq\":{\"1721\":1,\"1730\":1,\"1756\":1,\"1758\":1,\"1760\":1,\"1761\":2,\"1767\":1,\"1773\":1,\"1788\":1,\"1797\":1,\"1801\":2,\"1802\":3,\"1803\":1,\"1804\":8,\"1806\":1,\"1807\":4,\"1808\":1,\"1810\":2,\"1811\":10,\"1813\":1,\"1817\":5,\"1819\":2,\"1822\":4,\"1823\":11,\"1824\":1,\"1826\":1,\"1827\":4,\"1828\":1,\"1829\":2,\"1831\":2,\"1832\":1,\"1837\":5,\"1844\":1,\"1845\":2,\"1849\":1,\"1853\":2,\"1854\":4,\"1855\":2,\"1856\":4,\"1858\":1,\"1859\":1,\"1860\":1,\"1863\":1,\"1866\":3,\"1867\":3,\"1868\":2,\"1872\":2,\"1873\":1,\"1875\":4,\"1876\":2,\"1880\":2,\"1883\":1,\"1888\":2,\"1889\":1,\"1892\":2,\"1895\":1,\"1898\":4,\"1901\":1,\"1903\":1,\"1912\":1,\"1971\":3,\"2006\":1,\"2008\":1,\"2009\":2,\"2012\":1},\"doc\":{\"1721\":1,\"1730\":1,\"1756\":1,\"1758\":1,\"1760\":1,\"1761\":2,\"1767\":1,\"1773\":1,\"1788\":1,\"1797\":1,\"1801\":2,\"1802\":3,\"1803\":1,\"1804\":6,\"1806\":1,\"1807\":4,\"1808\":1,\"1810\":2,\"1811\":10,\"1813\":1,\"1817\":5,\"1819\":2,\"1822\":4,\"1823\":11,\"1824\":1,\"1826\":1,\"1827\":4,\"1828\":1,\"1829\":2,\"1831\":2,\"1832\":1,\"1837\":5,\"1844\":1,\"1845\":2,\"1849\":1,\"1853\":2,\"1854\":4,\"1855\":2,\"1856\":4,\"1858\":1,\"1859\":1,\"1860\":1,\"1863\":1,\"1866\":3,\"1867\":3,\"1868\":2,\"1872\":2,\"1873\":1,\"1875\":4,\"1876\":2,\"1880\":2,\"1883\":1,\"1888\":1,\"1889\":1,\"1892\":2,\"1895\":1,\"1898\":4,\"1901\":1,\"1903\":1,\"1912\":1,\"1971\":3,\"2006\":1,\"2008\":1,\"2009\":2,\"2012\":1}}\n",
      "\n",
      "Line 50037: {\"ngram\":\"abdallah whose surname\",\"freq_tot\":106,\"doc_tot\":106,\"freq\":{\"1848\":2,\"1850\":12,\"1851\":1,\"1852\":3,\"1853\":1,\"1854\":2,\"1857\":1,\"1861\":1,\"1863\":2,\"1864\":2,\"1865\":1,\"1867\":1,\"1869\":4,\"1871\":1,\"1873\":1,\"1880\":2,\"1881\":4,\"1882\":2,\"1883\":1,\"1884\":3,\"1885\":2,\"1886\":3,\"1888\":2,\"1889\":3,\"1890\":2,\"1892\":5,\"1893\":3,\"1894\":1,\"1895\":3,\"1897\":1,\"1898\":1,\"1899\":2,\"1900\":2,\"1907\":1,\"1909\":1,\"1910\":2,\"1915\":1,\"1919\":2,\"1976\":1,\"2004\":2,\"2007\":2,\"2013\":1,\"2014\":1,\"2015\":8,\"2017\":4,\"2018\":2,\"2019\":1},\"doc\":{\"1848\":2,\"1850\":12,\"1851\":1,\"1852\":3,\"1853\":1,\"1854\":2,\"1857\":1,\"1861\":1,\"1863\":2,\"1864\":2,\"1865\":1,\"1867\":1,\"1869\":4,\"1871\":1,\"1873\":1,\"1880\":2,\"1881\":4,\"1882\":2,\"1883\":1,\"1884\":3,\"1885\":2,\"1886\":3,\"1888\":2,\"1889\":3,\"1890\":2,\"1892\":5,\"1893\":3,\"1894\":1,\"1895\":3,\"1897\":1,\"1898\":1,\"1899\":2,\"1900\":2,\"1907\":1,\"1909\":1,\"1910\":2,\"1915\":1,\"1919\":2,\"1976\":1,\"2004\":2,\"2007\":2,\"2013\":1,\"2014\":1,\"2015\":8,\"2017\":4,\"2018\":2,\"2019\":1}}\n",
      "\n",
      "Line 50038: {\"ngram\":\"abdallah william lovell\",\"freq_tot\":95,\"doc_tot\":95,\"freq\":{\"1847\":6,\"1857\":4,\"1860\":4,\"1864\":4,\"1869\":12,\"1870\":5,\"1872\":2,\"1874\":2,\"1881\":2,\"1887\":4,\"1890\":6,\"1893\":2,\"1899\":3,\"1903\":3,\"1904\":2,\"1906\":1,\"1907\":2,\"1909\":2,\"1931\":1,\"1964\":3,\"1984\":2,\"2006\":2,\"1827\":5,\"1840\":1,\"1842\":1,\"1848\":4,\"1852\":1,\"1898\":6,\"1901\":2,\"1980\":1},\"doc\":{\"1847\":6,\"1857\":4,\"1860\":4,\"1864\":4,\"1869\":12,\"1870\":5,\"1872\":2,\"1874\":2,\"1881\":2,\"1887\":4,\"1890\":6,\"1893\":2,\"1899\":3,\"1903\":3,\"1904\":2,\"1906\":1,\"1907\":2,\"1909\":2,\"1931\":1,\"1964\":3,\"1984\":2,\"2006\":2,\"1827\":5,\"1840\":1,\"1842\":1,\"1848\":4,\"1852\":1,\"1898\":6,\"1901\":2,\"1980\":1}}\n",
      "\n",
      "Line 50039: {\"ngram\":\"abdallah wireless telecommunication bureau\",\"freq_tot\":456,\"doc_tot\":276,\"freq\":{\"2001\":177,\"2002\":233,\"2003\":46},\"doc\":{\"2001\":123,\"2002\":118,\"2003\":35}}\n",
      "\n",
      "Line 50040: {\"ngram\":\"abdallah withdraw person\",\"freq_tot\":460,\"doc_tot\":458,\"freq\":{\"1788\":2,\"1789\":8,\"1791\":2,\"1800\":2,\"1802\":4,\"1805\":4,\"1806\":4,\"1807\":2,\"1811\":2,\"1816\":6,\"1819\":2,\"1820\":8,\"1821\":8,\"1822\":6,\"1825\":6,\"1826\":2,\"1827\":10,\"1828\":4,\"1829\":4,\"1830\":8,\"1831\":2,\"1833\":2,\"1835\":4,\"1837\":4,\"1838\":2,\"1840\":12,\"1841\":2,\"1843\":2,\"1844\":8,\"1845\":14,\"1847\":2,\"1850\":6,\"1851\":4,\"1852\":2,\"1853\":2,\"1854\":4,\"1855\":6,\"1856\":6,\"1862\":6,\"1866\":2,\"1869\":6,\"1870\":2,\"1871\":6,\"1873\":6,\"1874\":2,\"1875\":2,\"1876\":2,\"1877\":2,\"1878\":4,\"1879\":2,\"1880\":14,\"1881\":2,\"1882\":2,\"1884\":2,\"1887\":4,\"1888\":4,\"1890\":4,\"1896\":7,\"1898\":6,\"1899\":15,\"1900\":4,\"1901\":11,\"1902\":2,\"1906\":8,\"1909\":2,\"1911\":8,\"1914\":2,\"1916\":5,\"1923\":2,\"1931\":2,\"1932\":3,\"1944\":2,\"1946\":6,\"1949\":2,\"1950\":2,\"1952\":16,\"1954\":2,\"1955\":6,\"1957\":2,\"1960\":4,\"1974\":6,\"1982\":2,\"1983\":6,\"1984\":4,\"1990\":4,\"1993\":2,\"1994\":2,\"1995\":4,\"2000\":2,\"2004\":4,\"2008\":5,\"2013\":12,\"2014\":2,\"2015\":6,\"2016\":6,\"2017\":10,\"2018\":2,\"1846\":2,\"1886\":2,\"1892\":1,\"1908\":1,\"1910\":1,\"1913\":1,\"1928\":2},\"doc\":{\"1788\":2,\"1789\":8,\"1791\":2,\"1800\":2,\"1802\":4,\"1805\":4,\"1806\":4,\"1807\":2,\"1811\":2,\"1816\":6,\"1819\":2,\"1820\":8,\"1821\":8,\"1822\":6,\"1825\":6,\"1826\":2,\"1827\":10,\"1828\":4,\"1829\":4,\"1830\":8,\"1831\":2,\"1833\":2,\"1835\":4,\"1837\":4,\"1838\":2,\"1840\":12,\"1841\":2,\"1843\":2,\"1844\":8,\"1845\":14,\"1847\":2,\"1850\":6,\"1851\":4,\"1852\":2,\"1853\":2,\"1854\":4,\"1855\":6,\"1856\":6,\"1862\":6,\"1866\":2,\"1869\":6,\"1870\":2,\"1871\":6,\"1873\":6,\"1874\":2,\"1875\":2,\"1876\":2,\"1877\":2,\"1878\":4,\"1879\":2,\"1880\":14,\"1881\":2,\"1882\":2,\"1884\":2,\"1887\":4,\"1888\":4,\"1890\":4,\"1896\":7,\"1898\":6,\"1899\":15,\"1900\":4,\"1901\":11,\"1902\":2,\"1906\":8,\"1909\":2,\"1911\":8,\"1914\":2,\"1916\":5,\"1923\":2,\"1931\":2,\"1932\":3,\"1944\":2,\"1946\":6,\"1949\":2,\"1950\":2,\"1952\":16,\"1954\":2,\"1955\":6,\"1957\":2,\"1960\":4,\"1974\":6,\"1982\":2,\"1983\":6,\"1984\":4,\"1990\":4,\"1993\":2,\"1994\":2,\"1995\":4,\"2000\":2,\"2004\":2,\"2008\":5,\"2013\":12,\"2014\":2,\"2015\":6,\"2016\":6,\"2017\":10,\"2018\":2,\"1846\":2,\"1886\":2,\"1892\":1,\"1908\":1,\"1910\":1,\"1913\":1,\"1928\":2}}\n",
      "\n",
      "Line 50041: {\"ngram\":\"abdallah wonder\",\"freq_tot\":95,\"doc_tot\":94,\"freq\":{\"1814\":1,\"1820\":3,\"1824\":6,\"1834\":1,\"1835\":4,\"1841\":1,\"1843\":1,\"1849\":1,\"1850\":2,\"1854\":1,\"1857\":2,\"1860\":7,\"1864\":1,\"1865\":1,\"1866\":1,\"1869\":1,\"1871\":1,\"1872\":1,\"1873\":1,\"1880\":4,\"1881\":3,\"1882\":2,\"1884\":3,\"1885\":2,\"1886\":4,\"1887\":1,\"1889\":2,\"1890\":2,\"1892\":2,\"1893\":1,\"1897\":14,\"1898\":1,\"1900\":3,\"1902\":1,\"1904\":2,\"1905\":1,\"1907\":1,\"1910\":1,\"1911\":1,\"1915\":1,\"1919\":1,\"1930\":1,\"1973\":1,\"1999\":1,\"2007\":1,\"2010\":1},\"doc\":{\"1814\":1,\"1820\":3,\"1824\":6,\"1834\":1,\"1835\":4,\"1841\":1,\"1843\":1,\"1849\":1,\"1850\":2,\"1854\":1,\"1857\":2,\"1860\":7,\"1864\":1,\"1865\":1,\"1866\":1,\"1869\":1,\"1871\":1,\"1872\":1,\"1873\":1,\"1880\":4,\"1881\":3,\"1882\":2,\"1884\":3,\"1885\":2,\"1886\":3,\"1887\":1,\"1889\":2,\"1890\":2,\"1892\":2,\"1893\":1,\"1897\":14,\"1898\":1,\"1900\":3,\"1902\":1,\"1904\":2,\"1905\":1,\"1907\":1,\"1910\":1,\"1911\":1,\"1915\":1,\"1919\":1,\"1930\":1,\"1973\":1,\"1999\":1,\"2007\":1,\"2010\":1}}\n",
      "\n",
      "Line 50042: {\"ngram\":\"abdallah would\",\"freq_tot\":116,\"doc_tot\":115,\"freq\":{\"1849\":3,\"1850\":22,\"1851\":2,\"1852\":1,\"1853\":1,\"1854\":1,\"1855\":1,\"1857\":2,\"1859\":3,\"1863\":1,\"1864\":1,\"1865\":2,\"1866\":1,\"1867\":1,\"1868\":8,\"1869\":4,\"1871\":1,\"1873\":1,\"1874\":1,\"1880\":2,\"1881\":5,\"1882\":6,\"1883\":1,\"1884\":4,\"1885\":3,\"1886\":2,\"1888\":2,\"1889\":1,\"1890\":1,\"1892\":1,\"1893\":2,\"1895\":1,\"1896\":5,\"1897\":6,\"1898\":1,\"1899\":2,\"1900\":2,\"1902\":1,\"1904\":1,\"1909\":1,\"1910\":1,\"1911\":1,\"1915\":1,\"1970\":2,\"2003\":1,\"2004\":1,\"2007\":1,\"2014\":1},\"doc\":{\"1849\":3,\"1850\":22,\"1851\":2,\"1852\":1,\"1853\":1,\"1854\":1,\"1855\":1,\"1857\":2,\"1859\":3,\"1863\":1,\"1864\":1,\"1865\":2,\"1866\":1,\"1867\":1,\"1868\":8,\"1869\":4,\"1871\":1,\"1873\":1,\"1874\":1,\"1880\":2,\"1881\":5,\"1882\":5,\"1883\":1,\"1884\":4,\"1885\":3,\"1886\":2,\"1888\":2,\"1889\":1,\"1890\":1,\"1892\":1,\"1893\":2,\"1895\":1,\"1896\":5,\"1897\":6,\"1898\":1,\"1899\":2,\"1900\":2,\"1902\":1,\"1904\":1,\"1909\":1,\"1910\":1,\"1911\":1,\"1915\":1,\"1970\":2,\"2003\":1,\"2004\":1,\"2007\":1,\"2014\":1}}\n",
      "\n",
      "Line 50043: {\"ngram\":\"abdallah would give\",\"freq_tot\":110,\"doc_tot\":109,\"freq\":{\"1849\":3,\"1850\":22,\"1851\":2,\"1852\":1,\"1853\":1,\"1854\":1,\"1855\":1,\"1859\":1,\"1861\":1,\"1863\":2,\"1864\":1,\"1865\":2,\"1868\":8,\"1869\":4,\"1871\":1,\"1872\":1,\"1873\":2,\"1874\":1,\"1880\":2,\"1881\":4,\"1882\":6,\"1883\":1,\"1884\":3,\"1885\":3,\"1886\":2,\"1888\":2,\"1889\":1,\"1890\":1,\"1892\":2,\"1893\":2,\"1895\":1,\"1896\":5,\"1897\":6,\"1898\":1,\"1899\":2,\"1900\":1,\"1902\":1,\"1904\":1,\"1910\":1,\"1911\":1,\"1915\":1,\"1970\":2,\"2003\":1,\"2004\":1,\"2014\":1},\"doc\":{\"1849\":3,\"1850\":22,\"1851\":2,\"1852\":1,\"1853\":1,\"1854\":1,\"1855\":1,\"1859\":1,\"1861\":1,\"1863\":2,\"1864\":1,\"1865\":2,\"1868\":8,\"1869\":4,\"1871\":1,\"1872\":1,\"1873\":2,\"1874\":1,\"1880\":2,\"1881\":4,\"1882\":5,\"1883\":1,\"1884\":3,\"1885\":3,\"1886\":2,\"1888\":2,\"1889\":1,\"1890\":1,\"1892\":2,\"1893\":2,\"1895\":1,\"1896\":5,\"1897\":6,\"1898\":1,\"1899\":2,\"1900\":1,\"1902\":1,\"1904\":1,\"1910\":1,\"1911\":1,\"1915\":1,\"1970\":2,\"2003\":1,\"2004\":1,\"2014\":1}}\n",
      "\n",
      "Line 50044: {\"ngram\":\"abdallah would live die\",\"freq_tot\":119,\"doc_tot\":118,\"freq\":{\"1849\":3,\"1850\":22,\"1851\":2,\"1852\":1,\"1853\":1,\"1854\":1,\"1855\":1,\"1857\":2,\"1859\":3,\"1861\":1,\"1863\":3,\"1864\":1,\"1865\":2,\"1866\":1,\"1867\":1,\"1868\":8,\"1869\":5,\"1871\":1,\"1873\":2,\"1874\":1,\"1880\":2,\"1881\":5,\"1882\":5,\"1883\":2,\"1884\":4,\"1885\":3,\"1886\":2,\"1888\":2,\"1889\":1,\"1890\":1,\"1893\":2,\"1895\":1,\"1896\":5,\"1897\":6,\"1898\":1,\"1899\":2,\"1900\":2,\"1902\":1,\"1904\":1,\"1909\":1,\"1910\":1,\"1911\":1,\"1915\":1,\"1970\":2,\"2003\":1,\"2007\":1,\"2014\":1},\"doc\":{\"1849\":3,\"1850\":22,\"1851\":2,\"1852\":1,\"1853\":1,\"1854\":1,\"1855\":1,\"1857\":2,\"1859\":3,\"1861\":1,\"1863\":3,\"1864\":1,\"1865\":2,\"1866\":1,\"1867\":1,\"1868\":8,\"1869\":4,\"1871\":1,\"1873\":2,\"1874\":1,\"1880\":2,\"1881\":5,\"1882\":5,\"1883\":2,\"1884\":4,\"1885\":3,\"1886\":2,\"1888\":2,\"1889\":1,\"1890\":1,\"1893\":2,\"1895\":1,\"1896\":5,\"1897\":6,\"1898\":1,\"1899\":2,\"1900\":2,\"1902\":1,\"1904\":1,\"1909\":1,\"1910\":1,\"1911\":1,\"1915\":1,\"1970\":2,\"2003\":1,\"2007\":1,\"2014\":1}}\n",
      "\n",
      "Line 50045: {\"ngram\":\"abdallah would recant\",\"freq_tot\":93,\"doc_tot\":92,\"freq\":{\"1800\":1,\"1809\":7,\"1810\":12,\"1811\":3,\"1812\":12,\"1814\":2,\"1815\":4,\"1819\":3,\"1821\":1,\"1822\":1,\"1823\":11,\"1827\":1,\"1836\":1,\"1837\":2,\"1839\":1,\"1840\":2,\"1841\":3,\"1843\":1,\"1844\":3,\"1845\":1,\"1849\":1,\"1850\":2,\"1851\":1,\"1852\":1,\"1854\":2,\"1860\":1,\"1870\":1,\"1880\":1,\"1881\":1,\"1887\":4,\"1897\":1,\"1898\":1,\"1899\":2,\"1907\":1,\"1932\":1},\"doc\":{\"1800\":1,\"1809\":7,\"1810\":12,\"1811\":3,\"1812\":12,\"1814\":2,\"1815\":4,\"1819\":3,\"1821\":1,\"1822\":1,\"1823\":10,\"1827\":1,\"1836\":1,\"1837\":2,\"1839\":1,\"1840\":2,\"1841\":3,\"1843\":1,\"1844\":3,\"1845\":1,\"1849\":1,\"1850\":2,\"1851\":1,\"1852\":1,\"1854\":2,\"1860\":1,\"1870\":1,\"1880\":1,\"1881\":1,\"1887\":4,\"1897\":1,\"1898\":1,\"1899\":2,\"1907\":1,\"1932\":1}}\n",
      "\n",
      "Line 50046: {\"ngram\":\"abdallah yet bring\",\"freq_tot\":131,\"doc_tot\":130,\"freq\":{\"1848\":2,\"1849\":4,\"1850\":25,\"1851\":2,\"1852\":1,\"1853\":2,\"1854\":1,\"1855\":1,\"1857\":2,\"1859\":2,\"1861\":1,\"1863\":3,\"1865\":1,\"1866\":1,\"1867\":1,\"1868\":10,\"1869\":1,\"1871\":1,\"1873\":3,\"1874\":1,\"1879\":1,\"1880\":2,\"1881\":5,\"1882\":2,\"1883\":2,\"1884\":3,\"1885\":3,\"1886\":1,\"1888\":2,\"1889\":1,\"1892\":1,\"1893\":3,\"1894\":1,\"1895\":1,\"1896\":7,\"1897\":3,\"1898\":1,\"1899\":2,\"1900\":2,\"1904\":1,\"1907\":1,\"1909\":1,\"1910\":1,\"1911\":2,\"1915\":2,\"1920\":1,\"1935\":1,\"1949\":1,\"1970\":2,\"1989\":1,\"2003\":1,\"2004\":1,\"2006\":1,\"2007\":3,\"2012\":2,\"2014\":1},\"doc\":{\"1848\":2,\"1849\":4,\"1850\":24,\"1851\":2,\"1852\":1,\"1853\":2,\"1854\":1,\"1855\":1,\"1857\":2,\"1859\":2,\"1861\":1,\"1863\":3,\"1865\":1,\"1866\":1,\"1867\":1,\"1868\":10,\"1869\":1,\"1871\":1,\"1873\":3,\"1874\":1,\"1879\":1,\"1880\":2,\"1881\":5,\"1882\":2,\"1883\":2,\"1884\":3,\"1885\":3,\"1886\":1,\"1888\":2,\"1889\":1,\"1892\":1,\"1893\":3,\"1894\":1,\"1895\":1,\"1896\":7,\"1897\":3,\"1898\":1,\"1899\":2,\"1900\":2,\"1904\":1,\"1907\":1,\"1909\":1,\"1910\":1,\"1911\":2,\"1915\":2,\"1920\":1,\"1935\":1,\"1949\":1,\"1970\":2,\"1989\":1,\"2003\":1,\"2004\":1,\"2006\":1,\"2007\":3,\"2012\":2,\"2014\":1}}\n",
      "\n",
      "Line 50047: {\"ngram\":\"abdallah young\",\"freq_tot\":133,\"doc_tot\":133,\"freq\":{\"1849\":3,\"1850\":17,\"1851\":2,\"1852\":1,\"1853\":1,\"1854\":6,\"1855\":1,\"1857\":2,\"1858\":1,\"1859\":2,\"1861\":1,\"1863\":3,\"1864\":1,\"1865\":2,\"1866\":1,\"1867\":1,\"1868\":7,\"1869\":4,\"1871\":1,\"1873\":2,\"1874\":1,\"1878\":1,\"1880\":2,\"1881\":3,\"1882\":5,\"1883\":1,\"1884\":4,\"1885\":3,\"1886\":2,\"1888\":2,\"1889\":1,\"1890\":5,\"1892\":1,\"1893\":4,\"1894\":1,\"1896\":9,\"1897\":4,\"1898\":2,\"1899\":2,\"1900\":2,\"1902\":1,\"1904\":1,\"1907\":1,\"1909\":1,\"1910\":1,\"1911\":1,\"1912\":1,\"1914\":2,\"1915\":1,\"1916\":1,\"1926\":1,\"1970\":2,\"2003\":1,\"2004\":1,\"2007\":1,\"2011\":1,\"2014\":1},\"doc\":{\"1849\":3,\"1850\":17,\"1851\":2,\"1852\":1,\"1853\":1,\"1854\":6,\"1855\":1,\"1857\":2,\"1858\":1,\"1859\":2,\"1861\":1,\"1863\":3,\"1864\":1,\"1865\":2,\"1866\":1,\"1867\":1,\"1868\":7,\"1869\":4,\"1871\":1,\"1873\":2,\"1874\":1,\"1878\":1,\"1880\":2,\"1881\":3,\"1882\":5,\"1883\":1,\"1884\":4,\"1885\":3,\"1886\":2,\"1888\":2,\"1889\":1,\"1890\":5,\"1892\":1,\"1893\":4,\"1894\":1,\"1896\":9,\"1897\":4,\"1898\":2,\"1899\":2,\"1900\":2,\"1902\":1,\"1904\":1,\"1907\":1,\"1909\":1,\"1910\":1,\"1911\":1,\"1912\":1,\"1914\":2,\"1915\":1,\"1916\":1,\"1926\":1,\"1970\":2,\"2003\":1,\"2004\":1,\"2007\":1,\"2011\":1,\"2014\":1}}\n",
      "\n",
      "Line 50048: {\"ngram\":\"abdallah young son\",\"freq_tot\":97,\"doc_tot\":97,\"freq\":{\"1778\":3,\"1788\":1,\"1796\":1,\"1806\":1,\"1811\":1,\"1812\":1,\"1825\":3,\"1829\":2,\"1830\":2,\"1833\":3,\"1834\":10,\"1835\":2,\"1836\":2,\"1837\":1,\"1838\":2,\"1840\":1,\"1841\":1,\"1842\":3,\"1845\":2,\"1847\":1,\"1848\":1,\"1849\":1,\"1851\":1,\"1853\":2,\"1855\":1,\"1858\":1,\"1863\":1,\"1865\":1,\"2017\":2,\"1861\":9,\"1862\":7,\"1871\":6,\"1901\":5,\"1902\":2,\"1903\":1,\"1904\":2,\"1905\":2,\"1907\":2,\"1911\":1,\"1912\":2,\"1986\":1,\"2004\":1,\"2006\":1,\"2010\":1},\"doc\":{\"1778\":3,\"1788\":1,\"1796\":1,\"1806\":1,\"1811\":1,\"1812\":1,\"1825\":3,\"1829\":2,\"1830\":2,\"1833\":3,\"1834\":10,\"1835\":2,\"1836\":2,\"1837\":1,\"1838\":2,\"1840\":1,\"1841\":1,\"1842\":3,\"1845\":2,\"1847\":1,\"1848\":1,\"1849\":1,\"1851\":1,\"1853\":2,\"1855\":1,\"1858\":1,\"1863\":1,\"1865\":1,\"2017\":2,\"1861\":9,\"1862\":7,\"1871\":6,\"1901\":5,\"1902\":2,\"1903\":1,\"1904\":2,\"1905\":2,\"1907\":2,\"1911\":1,\"1912\":2,\"1986\":1,\"2004\":1,\"2006\":1,\"2010\":1}}\n",
      "\n",
      "Line 50049: {\"ngram\":\"abdallah yusuf\",\"freq_tot\":110,\"doc_tot\":42,\"freq\":{\"1987\":26,\"1988\":16,\"1989\":11,\"1990\":32,\"1991\":25},\"doc\":{\"1987\":9,\"1988\":7,\"1989\":8,\"1990\":9,\"1991\":9}}\n",
      "\n",
      "Line 50050: {\"ngram\":\"abdallah yusuf bin\",\"freq_tot\":353,\"doc_tot\":140,\"freq\":{\"1985\":8,\"1986\":42,\"1987\":70,\"1988\":38,\"1989\":44,\"1990\":76,\"1991\":66,\"1992\":9},\"doc\":{\"1985\":8,\"1986\":27,\"1987\":18,\"1988\":14,\"1989\":22,\"1990\":20,\"1991\":24,\"1992\":7}}\n",
      "\n",
      "Line 50051: {\"ngram\":\"abdallah yusuf bin min\",\"freq_tot\":317,\"doc_tot\":135,\"freq\":{\"1989\":4,\"1995\":1,\"1997\":24,\"1998\":95,\"1999\":82,\"2000\":43,\"2001\":39,\"2002\":27,\"2003\":1,\"2004\":1},\"doc\":{\"1989\":4,\"1995\":1,\"1997\":24,\"1998\":27,\"1999\":29,\"2000\":22,\"2001\":19,\"2002\":7,\"2003\":1,\"2004\":1}}\n",
      "\n",
      "Line 50052: {\"ngram\":\"abdel aal\",\"freq_tot\":2722,\"doc_tot\":1592,\"freq\":{\"1911\":2,\"1912\":1,\"1923\":1,\"1935\":6,\"1974\":10,\"1975\":36,\"1976\":38,\"1977\":28,\"1978\":40,\"1980\":30,\"1981\":17,\"1982\":45,\"1983\":22,\"1987\":18,\"1988\":38,\"1990\":48,\"1991\":52,\"1992\":50,\"1993\":6,\"1994\":43,\"1995\":21,\"1996\":49,\"1997\":30,\"1998\":37,\"1999\":23,\"2000\":32,\"2002\":61,\"2003\":101,\"2004\":33,\"2005\":182,\"2006\":67,\"2007\":32,\"2008\":56,\"2009\":69,\"2010\":69,\"2011\":116,\"2012\":97,\"2013\":152,\"2014\":57,\"2015\":73,\"2016\":240,\"2017\":116,\"2018\":77,\"2019\":124,\"1979\":21,\"1984\":31,\"1985\":59,\"1986\":33,\"1972\":13,\"1989\":58,\"2001\":13,\"1970\":5,\"1971\":13,\"1973\":6,\"1963\":5,\"1967\":5,\"1968\":4,\"1969\":4,\"1957\":2,\"1965\":1,\"1966\":4},\"doc\":{\"1911\":2,\"1912\":1,\"1923\":1,\"1935\":6,\"1974\":10,\"1975\":29,\"1976\":25,\"1977\":25,\"1978\":33,\"1980\":25,\"1981\":13,\"1982\":39,\"1983\":19,\"1987\":16,\"1988\":28,\"1990\":21,\"1991\":33,\"1992\":33,\"1993\":6,\"1994\":29,\"1995\":16,\"1996\":33,\"1997\":23,\"1998\":25,\"1999\":19,\"2000\":22,\"2002\":15,\"2003\":39,\"2004\":25,\"2005\":51,\"2006\":33,\"2007\":22,\"2008\":37,\"2009\":35,\"2010\":47,\"2011\":63,\"2012\":73,\"2013\":56,\"2014\":44,\"2015\":49,\"2016\":79,\"2017\":70,\"2018\":65,\"2019\":78,\"1979\":15,\"1984\":22,\"1985\":24,\"1986\":22,\"1972\":13,\"1989\":25,\"2001\":10,\"1970\":5,\"1971\":13,\"1973\":6,\"1963\":4,\"1967\":5,\"1968\":4,\"1969\":4,\"1957\":2,\"1965\":1,\"1966\":4}}\n",
      "\n",
      "Line 50053: {\"ngram\":\"abdel aal mohamed\",\"freq_tot\":51,\"doc_tot\":50,\"freq\":{\"1970\":1,\"1971\":1,\"1982\":1,\"1990\":2,\"1999\":2,\"2003\":6,\"2004\":3,\"2005\":9,\"2006\":3,\"2007\":6,\"2009\":7,\"2010\":2,\"2015\":1,\"2016\":3,\"2017\":1,\"2019\":3},\"doc\":{\"1970\":1,\"1971\":1,\"1982\":1,\"1990\":1,\"1999\":2,\"2003\":6,\"2004\":3,\"2005\":9,\"2006\":3,\"2007\":6,\"2009\":7,\"2010\":2,\"2015\":1,\"2016\":3,\"2017\":1,\"2019\":3}}\n",
      "\n",
      "Line 50054: {\"ngram\":\"abdel abdel\",\"freq_tot\":525,\"doc_tot\":309,\"freq\":{\"1966\":5,\"1969\":8,\"1971\":7,\"1976\":5,\"1977\":25,\"1978\":37,\"1979\":54,\"1980\":96,\"1981\":133,\"1982\":21,\"1983\":9,\"1986\":5,\"1988\":9,\"1999\":3,\"2019\":2,\"1951\":2,\"1965\":1,\"1967\":1,\"1968\":1,\"1972\":3,\"1984\":17,\"1987\":8,\"1991\":3,\"1993\":1,\"1994\":1,\"2004\":8,\"2010\":2,\"2016\":1,\"2018\":3,\"1973\":4,\"1985\":4,\"1989\":1,\"2012\":1,\"1948\":1,\"1949\":3,\"1957\":7,\"1964\":2,\"1970\":2,\"1974\":1,\"1996\":2,\"1998\":1,\"2006\":2,\"2007\":3,\"2008\":2,\"2009\":1,\"2013\":2,\"2014\":3,\"2015\":1,\"2017\":1,\"1946\":10},\"doc\":{\"1966\":5,\"1969\":6,\"1971\":7,\"1976\":5,\"1977\":11,\"1978\":22,\"1979\":29,\"1980\":41,\"1981\":51,\"1982\":19,\"1983\":9,\"1986\":5,\"1988\":7,\"1999\":3,\"2019\":2,\"1951\":2,\"1965\":1,\"1967\":1,\"1968\":1,\"1972\":3,\"1984\":9,\"1987\":4,\"1991\":3,\"1993\":1,\"1994\":1,\"2004\":8,\"2010\":2,\"2016\":1,\"2018\":3,\"1973\":4,\"1985\":4,\"1989\":1,\"2012\":1,\"1948\":1,\"1949\":3,\"1957\":5,\"1964\":2,\"1970\":1,\"1974\":1,\"1996\":2,\"1998\":1,\"2006\":2,\"2007\":3,\"2008\":2,\"2009\":1,\"2013\":2,\"2014\":3,\"2015\":1,\"2017\":1,\"1946\":6}}\n",
      "\n",
      "Line 50055: {\"ngram\":\"abdel abu alam\",\"freq_tot\":148,\"doc_tot\":96,\"freq\":{\"1949\":34,\"1950\":3,\"1951\":40,\"1952\":34,\"1953\":32,\"1954\":2,\"1966\":3},\"doc\":{\"1949\":34,\"1950\":3,\"1951\":19,\"1952\":21,\"1953\":16,\"1954\":1,\"1966\":2}}\n",
      "\n",
      "Line 50056: {\"ngram\":\"abdel abul nur\",\"freq_tot\":88,\"doc_tot\":57,\"freq\":{\"1856\":1,\"1962\":1,\"1965\":5,\"1966\":3,\"1967\":9,\"1968\":1,\"1970\":16,\"1971\":43,\"1972\":4,\"1973\":5},\"doc\":{\"1856\":1,\"1962\":1,\"1965\":5,\"1966\":3,\"1967\":7,\"1968\":1,\"1970\":10,\"1971\":20,\"1972\":4,\"1973\":5}}\n",
      "\n",
      "Line 50057: {\"ngram\":\"abdel ahmed\",\"freq_tot\":1248,\"doc_tot\":695,\"freq\":{\"1979\":31,\"1980\":25,\"1981\":12,\"1982\":24,\"1984\":30,\"1986\":64,\"1987\":58,\"1989\":59,\"1991\":55,\"1992\":26,\"1993\":9,\"1994\":15,\"1995\":19,\"1996\":46,\"1997\":51,\"1998\":23,\"2000\":52,\"2001\":42,\"2002\":56,\"2003\":33,\"2004\":34,\"2006\":53,\"2008\":8,\"2009\":16,\"2011\":11,\"2012\":16,\"2013\":33,\"2014\":21,\"2015\":17,\"2016\":18,\"2018\":21,\"1953\":1,\"1976\":12,\"1978\":9,\"1983\":19,\"1985\":28,\"1988\":46,\"1990\":71,\"1999\":18,\"2005\":8,\"2007\":17,\"2010\":13,\"2019\":4,\"1972\":2,\"1973\":6,\"1974\":4,\"1975\":2,\"1977\":4,\"2017\":6},\"doc\":{\"1979\":24,\"1980\":22,\"1981\":8,\"1982\":13,\"1984\":21,\"1986\":28,\"1987\":18,\"1989\":19,\"1991\":19,\"1992\":18,\"1993\":8,\"1994\":11,\"1995\":16,\"1996\":32,\"1997\":12,\"1998\":22,\"2000\":17,\"2001\":22,\"2002\":30,\"2003\":28,\"2004\":20,\"2006\":23,\"2008\":8,\"2009\":12,\"2011\":6,\"2012\":12,\"2013\":23,\"2014\":21,\"2015\":11,\"2016\":16,\"2018\":18,\"1953\":1,\"1976\":8,\"1978\":9,\"1983\":17,\"1985\":12,\"1988\":16,\"1990\":13,\"1999\":11,\"2005\":8,\"2007\":10,\"2010\":10,\"2019\":3,\"1972\":2,\"1973\":5,\"1974\":4,\"1975\":2,\"1977\":4,\"2017\":2}}\n",
      "\n",
      "Line 50058: {\"ngram\":\"abdel ahmed sudan\",\"freq_tot\":93,\"doc_tot\":50,\"freq\":{\"1960\":3,\"1962\":36,\"1963\":27,\"1964\":24,\"1965\":2,\"1966\":1},\"doc\":{\"1960\":3,\"1962\":17,\"1963\":13,\"1964\":14,\"1965\":2,\"1966\":1}}\n",
      "\n",
      "Line 50059: {\"ngram\":\"abdel amr bey\",\"freq_tot\":51,\"doc_tot\":51,\"freq\":{\"1950\":1,\"1959\":1,\"1966\":1,\"1968\":3,\"1970\":5,\"1971\":2,\"1972\":4,\"1973\":1,\"1974\":1,\"1975\":6,\"1976\":3,\"1977\":3,\"1978\":3,\"1979\":4,\"1980\":4,\"1981\":2,\"1982\":1,\"1983\":5,\"1985\":1},\"doc\":{\"1950\":1,\"1959\":1,\"1966\":1,\"1968\":3,\"1970\":5,\"1971\":2,\"1972\":4,\"1973\":1,\"1974\":1,\"1975\":6,\"1976\":3,\"1977\":3,\"1978\":3,\"1979\":4,\"1980\":4,\"1981\":2,\"1982\":1,\"1983\":5,\"1985\":1}}\n",
      "\n",
      "Line 50060: {\"ngram\":\"abdel amr pasha\",\"freq_tot\":56,\"doc_tot\":49,\"freq\":{\"1941\":1,\"1945\":7,\"1946\":11,\"1947\":7,\"1948\":2,\"1949\":3,\"1950\":6,\"1951\":9,\"1952\":2,\"1958\":5,\"1985\":1,\"2005\":2},\"doc\":{\"1941\":1,\"1945\":5,\"1946\":11,\"1947\":5,\"1948\":2,\"1949\":3,\"1950\":4,\"1951\":8,\"1952\":2,\"1958\":5,\"1985\":1,\"2005\":2}}\n",
      "\n",
      "Line 50061: {\"ngram\":\"abdel arafat\",\"freq_tot\":147,\"doc_tot\":137,\"freq\":{\"1984\":1,\"1986\":2,\"1987\":2,\"1989\":1,\"1990\":1,\"1991\":2,\"1994\":2,\"1995\":3,\"1996\":2,\"1997\":5,\"1998\":7,\"1999\":4,\"2000\":3,\"2001\":4,\"2002\":5,\"2003\":5,\"2004\":8,\"2005\":7,\"2006\":5,\"2007\":7,\"2008\":9,\"2010\":6,\"2011\":12,\"2012\":7,\"2013\":4,\"2014\":9,\"2016\":3,\"2017\":4,\"2018\":5,\"2009\":4,\"2015\":4,\"2019\":4},\"doc\":{\"1984\":1,\"1986\":2,\"1987\":2,\"1989\":1,\"1990\":1,\"1991\":1,\"1994\":2,\"1995\":2,\"1996\":2,\"1997\":5,\"1998\":7,\"1999\":4,\"2000\":3,\"2001\":4,\"2002\":5,\"2003\":5,\"2004\":8,\"2005\":7,\"2006\":4,\"2007\":7,\"2008\":9,\"2010\":4,\"2011\":12,\"2012\":7,\"2013\":4,\"2014\":8,\"2016\":3,\"2017\":3,\"2018\":5,\"2009\":3,\"2015\":2,\"2019\":4}}\n",
      "\n",
      "Line 50062: {\"ngram\":\"abdel azim\",\"freq_tot\":547,\"doc_tot\":451,\"freq\":{\"1962\":4,\"1977\":2,\"1980\":2,\"1986\":2,\"1987\":3,\"1988\":11,\"1993\":2,\"1996\":3,\"1999\":3,\"2001\":1,\"2003\":8,\"2004\":4,\"2005\":6,\"2006\":3,\"2007\":10,\"2008\":23,\"2009\":25,\"2010\":43,\"2011\":35,\"2012\":22,\"2013\":29,\"2014\":22,\"2015\":34,\"2016\":32,\"2017\":16,\"2018\":49,\"2019\":23,\"1944\":3,\"1951\":1,\"1958\":22,\"1959\":1,\"1963\":2,\"1969\":2,\"1971\":2,\"1973\":7,\"1975\":6,\"1976\":1,\"1979\":3,\"1995\":5,\"1997\":1,\"1998\":2,\"1994\":1,\"1989\":20,\"1990\":19,\"1991\":19,\"1992\":13},\"doc\":{\"1962\":3,\"1977\":2,\"1980\":2,\"1986\":2,\"1987\":3,\"1988\":9,\"1993\":2,\"1996\":3,\"1999\":3,\"2001\":1,\"2003\":6,\"2004\":4,\"2005\":6,\"2006\":3,\"2007\":10,\"2008\":20,\"2009\":24,\"2010\":37,\"2011\":29,\"2012\":22,\"2013\":29,\"2014\":21,\"2015\":31,\"2016\":28,\"2017\":15,\"2018\":44,\"2019\":20,\"1944\":3,\"1951\":1,\"1958\":3,\"1959\":1,\"1963\":2,\"1969\":2,\"1971\":2,\"1973\":6,\"1975\":6,\"1976\":1,\"1979\":2,\"1995\":5,\"1997\":1,\"1998\":1,\"1994\":1,\"1989\":10,\"1990\":8,\"1991\":9,\"1992\":8}}\n",
      "\n",
      "Line 50063: {\"ngram\":\"abdel azim menon\",\"freq_tot\":46,\"doc_tot\":43,\"freq\":{\"2005\":1,\"2007\":2,\"2008\":3,\"2009\":1,\"2010\":7,\"2011\":9,\"2012\":1,\"2013\":1,\"2014\":4,\"2015\":6,\"2016\":5,\"2018\":3,\"2019\":3},\"doc\":{\"2005\":1,\"2007\":2,\"2008\":3,\"2009\":1,\"2010\":7,\"2011\":6,\"2012\":1,\"2013\":1,\"2014\":4,\"2015\":6,\"2016\":5,\"2018\":3,\"2019\":3}}\n",
      "\n",
      "Line 50064: {\"ngram\":\"abdel azim ramadan\",\"freq_tot\":58,\"doc_tot\":51,\"freq\":{\"1974\":2,\"1992\":1,\"1994\":8,\"1996\":4,\"1998\":1,\"1999\":6,\"2000\":4,\"2001\":6,\"2002\":4,\"2003\":1,\"2004\":2,\"2005\":5,\"2006\":3,\"2007\":2,\"2008\":3,\"2010\":1,\"2014\":1,\"2017\":1,\"2018\":1,\"2019\":2},\"doc\":{\"1974\":2,\"1992\":1,\"1994\":8,\"1996\":3,\"1998\":1,\"1999\":6,\"2000\":4,\"2001\":3,\"2002\":4,\"2003\":1,\"2004\":2,\"2005\":3,\"2006\":2,\"2007\":2,\"2008\":3,\"2010\":1,\"2014\":1,\"2017\":1,\"2018\":1,\"2019\":2}}\n",
      "\n",
      "Line 50065: {\"ngram\":\"abdel aziz\",\"freq_tot\":15667,\"doc_tot\":10042,\"freq\":{\"1958\":13,\"1960\":21,\"1961\":27,\"1962\":51,\"1963\":164,\"1964\":193,\"1965\":145,\"1966\":214,\"1967\":151,\"1968\":117,\"1969\":162,\"1970\":218,\"1971\":200,\"1972\":314,\"1973\":649,\"1974\":697,\"1975\":460,\"1976\":435,\"1977\":720,\"1978\":390,\"1979\":374,\"1980\":317,\"1981\":150,\"1982\":197,\"1983\":268,\"1984\":375,\"1985\":274,\"1986\":203,\"1987\":188,\"1988\":198,\"1989\":237,\"1990\":179,\"1991\":182,\"1992\":254,\"1993\":305,\"1998\":165,\"2000\":219,\"1994\":240,\"1995\":190,\"1996\":308,\"1997\":200,\"1999\":170,\"2001\":208,\"2002\":188,\"2003\":288,\"2004\":398,\"2005\":338,\"2006\":283,\"2007\":317,\"2008\":236,\"2013\":311,\"1957\":36,\"2009\":171,\"2012\":249,\"1901\":7,\"1907\":1,\"1908\":14,\"1915\":2,\"1917\":4,\"1918\":7,\"1922\":8,\"1925\":2,\"1926\":3,\"1927\":18,\"1930\":5,\"1952\":12,\"1959\":5,\"2010\":219,\"2011\":206,\"2014\":199,\"2015\":228,\"2016\":239,\"2017\":178,\"2018\":198,\"2019\":296,\"1949\":20,\"1951\":5,\"1956\":22,\"1955\":47,\"1906\":2,\"1953\":52,\"1847\":6,\"1894\":13,\"1899\":5,\"1945\":1,\"1948\":3,\"1950\":15,\"1941\":1,\"1946\":1,\"1947\":9,\"1954\":21,\"1860\":1,\"1826\":2,\"1903\":1,\"1904\":4,\"1909\":5,\"1939\":1,\"1916\":3,\"1919\":2,\"1920\":4,\"1944\":1,\"1898\":3,\"1830\":3,\"1912\":2,\"1936\":1,\"1938\":2,\"1931\":1},\"doc\":{\"1958\":10,\"1960\":20,\"1961\":24,\"1962\":40,\"1963\":68,\"1964\":80,\"1965\":82,\"1966\":103,\"1967\":96,\"1968\":88,\"1969\":104,\"1970\":119,\"1971\":131,\"1972\":211,\"1973\":271,\"1974\":342,\"1975\":194,\"1976\":192,\"1977\":170,\"1978\":169,\"1979\":208,\"1980\":148,\"1981\":102,\"1982\":146,\"1983\":135,\"1984\":157,\"1985\":171,\"1986\":133,\"1987\":153,\"1988\":156,\"1989\":162,\"1990\":130,\"1991\":141,\"1992\":189,\"1993\":225,\"1998\":124,\"2000\":150,\"1994\":192,\"1995\":143,\"1996\":191,\"1997\":158,\"1999\":138,\"2001\":162,\"2002\":150,\"2003\":240,\"2004\":323,\"2005\":280,\"2006\":238,\"2007\":264,\"2008\":210,\"2013\":236,\"1957\":28,\"2009\":143,\"2012\":186,\"1901\":7,\"1907\":1,\"1908\":14,\"1915\":2,\"1917\":4,\"1918\":5,\"1922\":8,\"1925\":2,\"1926\":3,\"1927\":11,\"1930\":5,\"1952\":12,\"1959\":5,\"2010\":182,\"2011\":159,\"2014\":141,\"2015\":191,\"2016\":183,\"2017\":147,\"2018\":140,\"2019\":212,\"1949\":10,\"1951\":5,\"1956\":17,\"1955\":37,\"1906\":2,\"1953\":19,\"1847\":6,\"1894\":13,\"1899\":5,\"1945\":1,\"1948\":3,\"1950\":10,\"1941\":1,\"1946\":1,\"1947\":6,\"1954\":12,\"1860\":1,\"1826\":2,\"1903\":1,\"1904\":4,\"1909\":5,\"1939\":1,\"1916\":3,\"1919\":2,\"1920\":4,\"1944\":1,\"1898\":3,\"1830\":3,\"1912\":1,\"1936\":1,\"1938\":1,\"1931\":1}}\n",
      "\n",
      "Line 50066: {\"ngram\":\"abdel aziz abdalla\",\"freq_tot\":53,\"doc_tot\":40,\"freq\":{\"1947\":3,\"1977\":2,\"1980\":14,\"1982\":1,\"1983\":4,\"1984\":5,\"1985\":3,\"1986\":3,\"1988\":6,\"1989\":3,\"1990\":2,\"1991\":1,\"1992\":3,\"1995\":3},\"doc\":{\"1947\":3,\"1977\":1,\"1980\":8,\"1982\":1,\"1983\":3,\"1984\":4,\"1985\":2,\"1986\":2,\"1988\":5,\"1989\":3,\"1990\":2,\"1991\":1,\"1992\":3,\"1995\":2}}\n",
      "\n",
      "Line 50067: {\"ngram\":\"abdel aziz abdel\",\"freq_tot\":1120,\"doc_tot\":432,\"freq\":{\"1949\":2,\"1955\":6,\"1970\":10,\"1971\":12,\"1972\":15,\"1973\":21,\"1974\":28,\"1975\":99,\"1976\":87,\"1977\":248,\"1978\":142,\"1979\":95,\"1980\":19,\"1981\":11,\"1982\":8,\"1984\":19,\"1986\":21,\"1987\":5,\"1988\":13,\"1989\":26,\"1990\":55,\"1993\":5,\"1994\":8,\"1996\":10,\"1999\":1,\"2009\":4,\"1861\":5,\"1950\":1,\"1954\":3,\"1961\":3,\"1964\":1,\"1965\":1,\"1966\":3,\"1967\":4,\"1968\":4,\"1969\":7,\"1983\":8,\"1985\":8,\"1991\":45,\"1992\":26,\"1995\":3,\"1997\":2,\"2000\":1,\"2004\":2,\"2005\":2,\"2006\":1,\"2007\":3,\"2008\":2,\"2010\":1,\"2011\":1,\"2013\":2,\"2014\":4,\"2016\":3,\"2017\":1,\"2018\":2,\"1956\":1},\"doc\":{\"1949\":2,\"1955\":6,\"1970\":8,\"1971\":9,\"1972\":10,\"1973\":14,\"1974\":15,\"1975\":19,\"1976\":26,\"1977\":26,\"1978\":30,\"1979\":29,\"1980\":16,\"1981\":9,\"1982\":6,\"1984\":12,\"1986\":14,\"1987\":4,\"1988\":13,\"1989\":14,\"1990\":26,\"1993\":5,\"1994\":6,\"1996\":7,\"1999\":1,\"2009\":4,\"1861\":2,\"1950\":1,\"1954\":3,\"1961\":3,\"1964\":1,\"1965\":1,\"1966\":3,\"1967\":2,\"1968\":2,\"1969\":7,\"1983\":6,\"1985\":7,\"1991\":19,\"1992\":16,\"1995\":1,\"1997\":2,\"2000\":1,\"2004\":2,\"2005\":2,\"2006\":1,\"2007\":3,\"2008\":2,\"2010\":1,\"2011\":1,\"2013\":1,\"2014\":4,\"2016\":3,\"2017\":1,\"2018\":2,\"1956\":1}}\n",
      "\n",
      "Line 50068: {\"ngram\":\"abdel aziz abdel ghani\",\"freq_tot\":52,\"doc_tot\":47,\"freq\":{\"1967\":1,\"1970\":2,\"1971\":1,\"1972\":1,\"1974\":1,\"1976\":4,\"1977\":2,\"1978\":2,\"1979\":1,\"1980\":4,\"1981\":2,\"1984\":2,\"1985\":1,\"1987\":1,\"1988\":1,\"1990\":1,\"1991\":2,\"1992\":1,\"1994\":2,\"1995\":2,\"1999\":2,\"2006\":1,\"2007\":1,\"2008\":1,\"2009\":1,\"2013\":3,\"2015\":4,\"2016\":4,\"2019\":1},\"doc\":{\"1967\":1,\"1970\":2,\"1971\":1,\"1972\":1,\"1974\":1,\"1976\":1,\"1977\":2,\"1978\":2,\"1979\":1,\"1980\":4,\"1981\":2,\"1984\":2,\"1985\":1,\"1987\":1,\"1988\":1,\"1990\":1,\"1991\":2,\"1992\":1,\"1994\":2,\"1995\":2,\"1999\":2,\"2006\":1,\"2007\":1,\"2008\":1,\"2009\":1,\"2013\":3,\"2015\":3,\"2016\":3,\"2019\":1}}\n",
      "\n",
      "Line 50069: {\"ngram\":\"abdel aziz ahmed annandale\",\"freq_tot\":69,\"doc_tot\":59,\"freq\":{\"1973\":3,\"1974\":10,\"1975\":11,\"1976\":18,\"1977\":21,\"1978\":6},\"doc\":{\"1973\":3,\"1974\":10,\"1975\":10,\"1976\":14,\"1977\":16,\"1978\":6}}\n",
      "\n",
      "Line 50070: {\"ngram\":\"abdel aziz banque misr\",\"freq_tot\":46,\"doc_tot\":44,\"freq\":{\"2002\":1,\"2007\":12,\"2008\":3,\"2009\":7,\"2012\":1,\"2013\":5,\"2014\":4,\"2015\":6,\"2016\":7},\"doc\":{\"2002\":1,\"2007\":12,\"2008\":3,\"2009\":6,\"2012\":1,\"2013\":5,\"2014\":4,\"2015\":6,\"2016\":6}}\n",
      "\n",
      "Line 50071: {\"ngram\":\"abdel aziz bey\",\"freq_tot\":134,\"doc_tot\":125,\"freq\":{\"1923\":1,\"1955\":8,\"1994\":41,\"1995\":46,\"1996\":18,\"1997\":20},\"doc\":{\"1923\":1,\"1955\":8,\"1994\":32,\"1995\":46,\"1996\":18,\"1997\":20}}\n",
      "\n",
      "Line 50072: {\"ngram\":\"abdel aziz bin\",\"freq_tot\":279,\"doc_tot\":71,\"freq\":{\"1973\":3,\"1974\":6,\"1975\":14,\"1976\":33,\"1977\":88,\"1978\":37,\"1979\":40,\"1980\":7,\"1981\":12,\"1982\":5,\"1983\":16,\"1984\":7,\"1985\":3,\"1986\":3,\"1990\":1,\"1991\":1,\"1992\":1,\"2015\":2},\"doc\":{\"1973\":2,\"1974\":2,\"1975\":2,\"1976\":7,\"1977\":9,\"1978\":8,\"1979\":12,\"1980\":3,\"1981\":5,\"1982\":3,\"1983\":8,\"1984\":3,\"1985\":1,\"1986\":1,\"1990\":1,\"1991\":1,\"1992\":1,\"2015\":2}}\n",
      "\n",
      "Line 50073: {\"ngram\":\"abdel aziz chairman\",\"freq_tot\":74,\"doc_tot\":57,\"freq\":{\"1978\":3,\"1982\":2,\"1991\":2,\"1992\":2,\"1993\":8,\"1994\":8,\"1995\":1,\"1996\":7,\"1997\":2,\"1998\":18,\"1999\":12,\"2000\":3,\"2001\":4,\"2006\":2},\"doc\":{\"1978\":3,\"1982\":2,\"1991\":2,\"1992\":2,\"1993\":6,\"1994\":7,\"1995\":1,\"1996\":6,\"1997\":2,\"1998\":10,\"1999\":8,\"2000\":3,\"2001\":4,\"2006\":1}}\n",
      "\n",
      "Line 50074: {\"ngram\":\"abdel aziz commercial\",\"freq_tot\":225,\"doc_tot\":129,\"freq\":{\"1933\":1,\"1946\":2,\"1948\":7,\"1949\":76,\"1950\":33,\"1951\":45,\"1952\":34,\"1953\":27},\"doc\":{\"1933\":1,\"1946\":1,\"1948\":6,\"1949\":59,\"1950\":11,\"1951\":21,\"1952\":19,\"1953\":11}}\n",
      "\n",
      "Line 50075: {\"ngram\":\"abdel aziz deputy\",\"freq_tot\":222,\"doc_tot\":71,\"freq\":{\"1973\":172,\"1974\":49,\"1975\":1},\"doc\":{\"1973\":41,\"1974\":29,\"1975\":1}}\n",
      "\n",
      "Line 50076: {\"ngram\":\"abdel aziz governor\",\"freq_tot\":276,\"doc_tot\":124,\"freq\":{\"1993\":35,\"1994\":66,\"1995\":62,\"1996\":84,\"1997\":29},\"doc\":{\"1993\":15,\"1994\":33,\"1995\":27,\"1996\":34,\"1997\":15}}\n",
      "\n",
      "Line 50077: {\"ngram\":\"abdel aziz governor bank\",\"freq_tot\":276,\"doc_tot\":124,\"freq\":{\"1993\":35,\"1994\":66,\"1995\":62,\"1996\":84,\"1997\":29},\"doc\":{\"1993\":15,\"1994\":33,\"1995\":27,\"1996\":34,\"1997\":15}}\n",
      "\n",
      "Line 50078: {\"ngram\":\"abdel aziz hakim\",\"freq_tot\":219,\"doc_tot\":150,\"freq\":{\"1979\":2,\"1995\":1,\"1999\":1,\"2003\":5,\"2004\":28,\"2005\":24,\"2006\":42,\"2007\":15,\"2008\":57,\"2009\":5,\"2010\":5,\"2011\":3,\"2012\":3,\"2013\":10,\"2014\":11,\"2016\":1,\"2017\":5,\"2018\":1},\"doc\":{\"1979\":2,\"1995\":1,\"1999\":1,\"2003\":5,\"2004\":22,\"2005\":19,\"2006\":26,\"2007\":10,\"2008\":28,\"2009\":5,\"2010\":5,\"2011\":3,\"2012\":3,\"2013\":5,\"2014\":10,\"2016\":1,\"2017\":3,\"2018\":1}}\n",
      "\n",
      "Line 50079: {\"ngram\":\"abdel aziz hamza\",\"freq_tot\":52,\"doc_tot\":47,\"freq\":{\"1971\":2,\"1972\":16,\"1973\":20,\"1974\":12,\"1975\":1,\"2016\":1},\"doc\":{\"1971\":2,\"1972\":15,\"1973\":18,\"1974\":10,\"1975\":1,\"2016\":1}}\n",
      "\n",
      "Line 50080: {\"ngram\":\"abdel aziz hussein\",\"freq_tot\":42,\"doc_tot\":42,\"freq\":{\"1956\":1,\"1961\":3,\"1971\":1,\"1972\":4,\"1973\":6,\"1974\":2,\"1977\":8,\"1979\":2,\"1981\":3,\"1982\":2,\"1983\":1,\"1987\":3,\"1990\":1,\"1994\":1,\"1995\":1,\"2016\":2,\"2017\":1},\"doc\":{\"1956\":1,\"1961\":3,\"1971\":1,\"1972\":4,\"1973\":6,\"1974\":2,\"1977\":8,\"1979\":2,\"1981\":3,\"1982\":2,\"1983\":1,\"1987\":3,\"1990\":1,\"1994\":1,\"1995\":1,\"2016\":2,\"2017\":1}}\n",
      "\n",
      "Line 50081: {\"ngram\":\"abdel aziz ibn\",\"freq_tot\":75,\"doc_tot\":41,\"freq\":{\"1974\":4,\"1976\":2,\"1977\":15,\"1978\":12,\"1979\":23,\"1980\":3,\"1981\":2,\"1982\":2,\"1983\":2,\"1984\":7,\"1985\":2,\"2009\":1},\"doc\":{\"1974\":2,\"1976\":2,\"1977\":7,\"1978\":4,\"1979\":11,\"1980\":3,\"1981\":2,\"1982\":2,\"1983\":2,\"1984\":3,\"1985\":2,\"2009\":1}}\n",
      "\n",
      "Line 50082: {\"ngram\":\"abdel aziz ibn saud\",\"freq_tot\":268,\"doc_tot\":231,\"freq\":{\"1927\":2,\"1928\":3,\"1929\":2,\"1974\":5,\"1976\":7,\"1978\":5,\"1981\":3,\"1987\":4,\"1992\":9,\"1993\":2,\"1994\":2,\"1996\":4,\"1999\":3,\"2002\":7,\"2003\":3,\"2004\":8,\"2005\":16,\"2006\":6,\"2008\":1,\"2010\":4,\"2011\":2,\"2012\":12,\"2016\":8,\"2017\":1,\"2018\":7,\"1949\":2,\"1954\":1,\"1958\":2,\"1961\":4,\"1962\":13,\"1975\":4,\"1980\":6,\"1985\":4,\"1986\":5,\"1991\":3,\"1995\":1,\"1997\":7,\"2000\":1,\"2001\":20,\"2007\":7,\"2009\":10,\"2013\":3,\"2014\":1,\"2019\":5,\"1959\":1,\"1968\":2,\"1982\":4,\"1983\":2,\"1984\":2,\"1988\":3,\"1998\":7,\"2015\":2,\"1922\":1,\"1941\":2,\"1947\":1,\"1957\":1,\"1964\":2,\"1965\":1,\"1967\":1,\"1969\":2,\"1971\":1,\"1972\":6,\"1979\":1,\"1990\":1},\"doc\":{\"1927\":2,\"1928\":3,\"1929\":2,\"1974\":5,\"1976\":6,\"1978\":5,\"1981\":3,\"1987\":3,\"1992\":9,\"1993\":1,\"1994\":2,\"1996\":3,\"1999\":3,\"2002\":7,\"2003\":3,\"2004\":7,\"2005\":11,\"2006\":6,\"2008\":1,\"2010\":4,\"2011\":2,\"2012\":12,\"2016\":8,\"2017\":1,\"2018\":7,\"1949\":2,\"1954\":1,\"1958\":2,\"1961\":4,\"1962\":13,\"1975\":4,\"1980\":6,\"1985\":4,\"1986\":5,\"1991\":3,\"1995\":1,\"1997\":2,\"2000\":1,\"2001\":11,\"2007\":4,\"2009\":10,\"2013\":3,\"2014\":1,\"2019\":4,\"1959\":1,\"1968\":2,\"1982\":2,\"1983\":2,\"1984\":2,\"1988\":3,\"1998\":2,\"2015\":2,\"1922\":1,\"1941\":2,\"1947\":1,\"1957\":1,\"1964\":2,\"1965\":1,\"1967\":1,\"1969\":2,\"1971\":1,\"1972\":4,\"1979\":1,\"1990\":1}}\n",
      "\n",
      "Line 50083: {\"ngram\":\"abdel aziz international airport\",\"freq_tot\":97,\"doc_tot\":43,\"freq\":{\"1974\":1,\"1982\":4,\"1983\":8,\"1984\":16,\"1985\":14,\"1986\":3,\"1988\":4,\"1989\":2,\"1991\":9,\"1992\":7,\"1993\":19,\"1994\":4,\"1995\":4,\"2012\":2},\"doc\":{\"1974\":1,\"1982\":4,\"1983\":5,\"1984\":4,\"1985\":4,\"1986\":2,\"1988\":4,\"1989\":1,\"1991\":4,\"1992\":3,\"1993\":6,\"1994\":2,\"1995\":2,\"2012\":1}}\n",
      "\n",
      "Line 50084: {\"ngram\":\"abdel aziz kamel\",\"freq_tot\":80,\"doc_tot\":57,\"freq\":{\"1968\":1,\"1969\":1,\"1970\":3,\"1971\":9,\"1972\":8,\"1973\":37,\"1974\":16,\"1975\":5},\"doc\":{\"1968\":1,\"1969\":1,\"1970\":3,\"1971\":7,\"1972\":7,\"1973\":22,\"1974\":13,\"1975\":3}}\n",
      "\n",
      "Line 50085: {\"ngram\":\"abdel aziz min\",\"freq_tot\":193,\"doc_tot\":99,\"freq\":{\"1981\":1,\"1989\":1,\"1993\":34,\"1994\":63,\"1995\":58,\"1996\":35,\"1997\":1},\"doc\":{\"1981\":1,\"1989\":1,\"1993\":15,\"1994\":33,\"1995\":29,\"1996\":19,\"1997\":1}}\n",
      "\n",
      "Line 50086: {\"ngram\":\"abdel aziz mohamed\",\"freq_tot\":44,\"doc_tot\":40,\"freq\":{\"1965\":1,\"1972\":2,\"1973\":2,\"1974\":4,\"1976\":12,\"1977\":4,\"1978\":1,\"1979\":5,\"1980\":2,\"1984\":1,\"1996\":1,\"1997\":1,\"1999\":1,\"2002\":1,\"2004\":2,\"2012\":1,\"2014\":1,\"2015\":1,\"2016\":1},\"doc\":{\"1965\":1,\"1972\":2,\"1973\":1,\"1974\":3,\"1976\":12,\"1977\":2,\"1978\":1,\"1979\":5,\"1980\":2,\"1984\":1,\"1996\":1,\"1997\":1,\"1999\":1,\"2002\":1,\"2004\":2,\"2012\":1,\"2014\":1,\"2015\":1,\"2016\":1}}\n",
      "\n",
      "Line 50087: {\"ngram\":\"abdel aziz ould min\",\"freq_tot\":222,\"doc_tot\":100,\"freq\":{\"1981\":50,\"1982\":56,\"1983\":87,\"1984\":27,\"1989\":2},\"doc\":{\"1981\":27,\"1982\":23,\"1983\":36,\"1984\":12,\"1989\":2}}\n",
      "\n",
      "Line 50088: {\"ngram\":\"abdel aziz saleh\",\"freq_tot\":60,\"doc_tot\":47,\"freq\":{\"1964\":1,\"1965\":2,\"1969\":1,\"1971\":1,\"1973\":1,\"1974\":2,\"1975\":1,\"1976\":1,\"1977\":2,\"1981\":1,\"1982\":3,\"1983\":2,\"1985\":5,\"1987\":1,\"1989\":5,\"1991\":2,\"1996\":7,\"1997\":1,\"1998\":2,\"2003\":3,\"2004\":3,\"2005\":1,\"2006\":2,\"2007\":1,\"2009\":2,\"2010\":1,\"2012\":3,\"2013\":2,\"2015\":1},\"doc\":{\"1964\":1,\"1965\":2,\"1969\":1,\"1971\":1,\"1973\":1,\"1974\":2,\"1975\":1,\"1976\":1,\"1977\":2,\"1981\":1,\"1982\":3,\"1983\":1,\"1985\":3,\"1987\":1,\"1989\":4,\"1991\":1,\"1996\":4,\"1997\":1,\"1998\":2,\"2003\":2,\"2004\":1,\"2005\":1,\"2006\":2,\"2007\":1,\"2009\":1,\"2010\":1,\"2012\":3,\"2013\":1,\"2015\":1}}\n",
      "\n",
      "Line 50089: {\"ngram\":\"abdel aziz saud\",\"freq_tot\":497,\"doc_tot\":320,\"freq\":{\"1967\":11,\"1968\":5,\"1986\":8,\"1987\":4,\"1988\":8,\"1989\":5,\"1990\":21,\"1991\":4,\"1992\":6,\"1993\":9,\"1994\":9,\"1995\":7,\"1996\":5,\"1997\":2,\"1998\":12,\"1999\":17,\"2002\":25,\"2005\":51,\"1962\":3,\"1963\":3,\"1964\":4,\"1965\":2,\"1966\":6,\"1974\":2,\"1975\":14,\"1976\":14,\"1984\":2,\"1985\":2,\"2001\":12,\"2004\":2,\"2006\":56,\"2007\":16,\"2011\":3,\"2012\":2,\"2015\":6,\"2017\":3,\"2019\":1,\"1969\":3,\"1970\":4,\"1971\":5,\"1972\":2,\"1973\":3,\"1977\":6,\"1978\":6,\"1979\":3,\"1980\":6,\"1981\":4,\"1983\":1,\"2000\":2,\"2008\":46,\"2009\":5,\"2010\":6,\"2013\":16,\"2014\":7,\"2018\":1,\"1946\":3,\"1947\":2,\"1952\":1,\"1982\":1,\"2003\":2},\"doc\":{\"1967\":8,\"1968\":4,\"1986\":6,\"1987\":4,\"1988\":8,\"1989\":5,\"1990\":11,\"1991\":4,\"1992\":4,\"1993\":9,\"1994\":9,\"1995\":6,\"1996\":5,\"1997\":2,\"1998\":9,\"1999\":13,\"2002\":9,\"2005\":24,\"1962\":3,\"1963\":3,\"1964\":4,\"1965\":2,\"1966\":6,\"1974\":2,\"1975\":11,\"1976\":14,\"1984\":2,\"1985\":2,\"2001\":9,\"2004\":2,\"2006\":10,\"2007\":10,\"2011\":3,\"2012\":2,\"2015\":6,\"2017\":3,\"2019\":1,\"1969\":3,\"1970\":4,\"1971\":5,\"1972\":2,\"1973\":3,\"1977\":3,\"1978\":6,\"1979\":3,\"1980\":6,\"1981\":4,\"1983\":1,\"2000\":2,\"2008\":7,\"2009\":5,\"2010\":5,\"2013\":14,\"2014\":4,\"2018\":1,\"1946\":2,\"1947\":1,\"1952\":1,\"1982\":1,\"2003\":2}}\n",
      "\n",
      "Line 50090: {\"ngram\":\"abdel aziz saudi\",\"freq_tot\":71,\"doc_tot\":53,\"freq\":{\"1966\":2,\"1969\":2,\"1970\":1,\"1972\":15,\"1973\":5,\"1974\":15,\"1975\":13,\"1978\":1,\"1979\":2,\"1980\":1,\"1981\":3,\"1984\":2,\"1985\":1,\"1991\":1,\"2002\":1,\"2003\":2,\"2012\":2,\"2016\":2},\"doc\":{\"1966\":2,\"1969\":2,\"1970\":1,\"1972\":9,\"1973\":4,\"1974\":10,\"1975\":8,\"1978\":1,\"1979\":2,\"1980\":1,\"1981\":3,\"1984\":1,\"1985\":1,\"1991\":1,\"2002\":1,\"2003\":2,\"2012\":2,\"2016\":2}}\n",
      "\n",
      "Line 50091: {\"ngram\":\"abdel aziz saudi arabia\",\"freq_tot\":371,\"doc_tot\":268,\"freq\":{\"1956\":2,\"1957\":6,\"1958\":2,\"1961\":2,\"1963\":2,\"1968\":1,\"1969\":2,\"1972\":2,\"1973\":4,\"1974\":2,\"1975\":28,\"1976\":71,\"1977\":51,\"1978\":9,\"1979\":11,\"1980\":18,\"1981\":12,\"1982\":4,\"1983\":2,\"1984\":7,\"1985\":5,\"1986\":14,\"1987\":4,\"1988\":6,\"1989\":4,\"1990\":7,\"1991\":15,\"1992\":3,\"1993\":5,\"1998\":6,\"1999\":4,\"2000\":1,\"2001\":3,\"2002\":8,\"2003\":7,\"2004\":1,\"2005\":6,\"2006\":2,\"2008\":4,\"2009\":4,\"2012\":5,\"2014\":4,\"2015\":1,\"2017\":1,\"2018\":2,\"1964\":4,\"1995\":2,\"1996\":1,\"2013\":3,\"2016\":1},\"doc\":{\"1956\":2,\"1957\":6,\"1958\":2,\"1961\":2,\"1963\":2,\"1968\":1,\"1969\":2,\"1972\":2,\"1973\":4,\"1974\":2,\"1975\":16,\"1976\":30,\"1977\":24,\"1978\":6,\"1979\":8,\"1980\":14,\"1981\":9,\"1982\":4,\"1983\":2,\"1984\":4,\"1985\":5,\"1986\":14,\"1987\":4,\"1988\":6,\"1989\":4,\"1990\":7,\"1991\":15,\"1992\":2,\"1993\":5,\"1998\":5,\"1999\":4,\"2000\":1,\"2001\":3,\"2002\":5,\"2003\":6,\"2004\":1,\"2005\":6,\"2006\":2,\"2008\":4,\"2009\":4,\"2012\":5,\"2014\":4,\"2015\":1,\"2017\":1,\"2018\":2,\"1964\":3,\"1995\":2,\"1996\":1,\"2013\":3,\"2016\":1}}\n",
      "\n",
      "Line 50092: {\"ngram\":\"abdel aziz say\",\"freq_tot\":98,\"doc_tot\":56,\"freq\":{\"1973\":1,\"1977\":2,\"1981\":5,\"1984\":2,\"1992\":22,\"1993\":4,\"1994\":6,\"1995\":4,\"1998\":18,\"1999\":22,\"2000\":2,\"2001\":2,\"2002\":1,\"2004\":3,\"2005\":2,\"2006\":1,\"2008\":1},\"doc\":{\"1973\":1,\"1977\":1,\"1981\":5,\"1984\":2,\"1992\":9,\"1993\":3,\"1994\":6,\"1995\":2,\"1998\":9,\"1999\":7,\"2000\":2,\"2001\":2,\"2002\":1,\"2004\":2,\"2005\":2,\"2006\":1,\"2008\":1}}\n",
      "\n",
      "Line 50093: {\"ngram\":\"abdel aziz sayed\",\"freq_tot\":206,\"doc_tot\":146,\"freq\":{\"1948\":7,\"1978\":1,\"1982\":2,\"1984\":10,\"1986\":3,\"1987\":11,\"1988\":7,\"1989\":14,\"1990\":23,\"1991\":15,\"1992\":19,\"1993\":3,\"1994\":2,\"1995\":1,\"1996\":6,\"1998\":5,\"2000\":3,\"2002\":2,\"2004\":1,\"2005\":2,\"2006\":7,\"2007\":6,\"2010\":1,\"2013\":1,\"2015\":1,\"2016\":4,\"2018\":1,\"1985\":1,\"1952\":1,\"1954\":3,\"1960\":1,\"1962\":10,\"1963\":14,\"1964\":1,\"1965\":1,\"1972\":3,\"1973\":5,\"1974\":1,\"1975\":5,\"1976\":1,\"1977\":1},\"doc\":{\"1948\":3,\"1978\":1,\"1982\":2,\"1984\":6,\"1986\":3,\"1987\":11,\"1988\":5,\"1989\":11,\"1990\":12,\"1991\":7,\"1992\":10,\"1993\":2,\"1994\":2,\"1995\":1,\"1996\":4,\"1998\":5,\"2000\":3,\"2002\":2,\"2004\":1,\"2005\":2,\"2006\":1,\"2007\":1,\"2010\":1,\"2013\":1,\"2015\":1,\"2016\":2,\"2018\":1,\"1985\":1,\"1952\":1,\"1954\":3,\"1960\":1,\"1962\":9,\"1963\":12,\"1964\":1,\"1965\":1,\"1972\":3,\"1973\":5,\"1974\":1,\"1975\":5,\"1976\":1,\"1977\":1}}\n",
      "\n",
      "Line 50094: {\"ngram\":\"abdel aziz shaheen tourism\",\"freq_tot\":134,\"doc_tot\":94,\"freq\":{\"1994\":4,\"1997\":12,\"1998\":12,\"1999\":18,\"2000\":18,\"2001\":8,\"2002\":10,\"2003\":12,\"2004\":8,\"2005\":32},\"doc\":{\"1994\":4,\"1997\":12,\"1998\":6,\"1999\":10,\"2000\":10,\"2001\":6,\"2002\":6,\"2003\":8,\"2004\":4,\"2005\":28}}\n",
      "\n",
      "Line 50095: {\"ngram\":\"abdel aziz street\",\"freq_tot\":400,\"doc_tot\":240,\"freq\":{\"1953\":2,\"1954\":3,\"1956\":1,\"1960\":3,\"1961\":4,\"1963\":7,\"1964\":7,\"1966\":1,\"1967\":6,\"1968\":2,\"1970\":6,\"1974\":1,\"1975\":11,\"1977\":20,\"1978\":12,\"1980\":26,\"1981\":8,\"1982\":3,\"1983\":13,\"1984\":11,\"1986\":52,\"1987\":2,\"1988\":16,\"1989\":12,\"1990\":10,\"1991\":3,\"1992\":2,\"1993\":37,\"1994\":1,\"1995\":16,\"1996\":9,\"1998\":9,\"1999\":14,\"2002\":7,\"2003\":5,\"1957\":3,\"1962\":3,\"1971\":2,\"1972\":4,\"1973\":2,\"1997\":5,\"2001\":4,\"2005\":4,\"2006\":2,\"2008\":2,\"2009\":4,\"2012\":2,\"1976\":12,\"1979\":6,\"2011\":1,\"2016\":1,\"2018\":1},\"doc\":{\"1953\":1,\"1954\":2,\"1956\":1,\"1960\":2,\"1961\":4,\"1963\":3,\"1964\":3,\"1966\":1,\"1967\":6,\"1968\":2,\"1970\":5,\"1974\":1,\"1975\":9,\"1977\":13,\"1978\":9,\"1980\":13,\"1981\":8,\"1982\":3,\"1983\":9,\"1984\":7,\"1986\":18,\"1987\":2,\"1988\":7,\"1989\":7,\"1990\":5,\"1991\":3,\"1992\":2,\"1993\":14,\"1994\":1,\"1995\":4,\"1996\":5,\"1998\":6,\"1999\":9,\"2002\":6,\"2003\":4,\"1957\":2,\"1962\":3,\"1971\":1,\"1972\":3,\"1973\":2,\"1997\":5,\"2001\":4,\"2005\":4,\"2006\":2,\"2008\":2,\"2009\":4,\"2012\":2,\"1976\":4,\"1979\":4,\"2011\":1,\"2016\":1,\"2018\":1}}\n",
      "\n",
      "Line 50096: {\"ngram\":\"abdel aziz university\",\"freq_tot\":141,\"doc_tot\":68,\"freq\":{\"1972\":2,\"1974\":10,\"1975\":5,\"1976\":2,\"1977\":2,\"1981\":1,\"1983\":9,\"1984\":9,\"1985\":21,\"1986\":8,\"1988\":2,\"1989\":2,\"1990\":6,\"1991\":5,\"1992\":3,\"1993\":21,\"1994\":2,\"1995\":3,\"1996\":1,\"2000\":3,\"2001\":1,\"2003\":3,\"2008\":1,\"2010\":4,\"2012\":10,\"2013\":1,\"2018\":1,\"2019\":3},\"doc\":{\"1972\":2,\"1974\":1,\"1975\":5,\"1976\":1,\"1977\":2,\"1981\":1,\"1983\":6,\"1984\":4,\"1985\":4,\"1986\":4,\"1988\":2,\"1989\":1,\"1990\":3,\"1991\":2,\"1992\":2,\"1993\":5,\"1994\":1,\"1995\":3,\"1996\":1,\"2000\":1,\"2001\":1,\"2003\":3,\"2008\":1,\"2010\":4,\"2012\":5,\"2013\":1,\"2018\":1,\"2019\":1}}\n",
      "\n",
      "Line 50097: {\"ngram\":\"abdel aziz university jeddah\",\"freq_tot\":52,\"doc_tot\":49,\"freq\":{\"1966\":5,\"1968\":1,\"1970\":4,\"1972\":2,\"1975\":2,\"1977\":1,\"1979\":2,\"1980\":3,\"1984\":1,\"1986\":1,\"1988\":1,\"1994\":4,\"1999\":1,\"2000\":1,\"2001\":3,\"2003\":4,\"2004\":1,\"2005\":4,\"2007\":2,\"2011\":3,\"2012\":2,\"2013\":1,\"2019\":3},\"doc\":{\"1966\":5,\"1968\":1,\"1970\":4,\"1972\":2,\"1975\":1,\"1977\":1,\"1979\":2,\"1980\":1,\"1984\":1,\"1986\":1,\"1988\":1,\"1994\":4,\"1999\":1,\"2000\":1,\"2001\":3,\"2003\":4,\"2004\":1,\"2005\":4,\"2007\":2,\"2011\":3,\"2012\":2,\"2013\":1,\"2019\":3}}\n",
      "\n",
      "Line 50098: {\"ngram\":\"abdel bari\",\"freq_tot\":1222,\"doc_tot\":1015,\"freq\":{\"2005\":9,\"2007\":54,\"2008\":68,\"2009\":72,\"2010\":81,\"2011\":141,\"2012\":63,\"2013\":82,\"2014\":35,\"2015\":98,\"2016\":90,\"2017\":88,\"2018\":50,\"2019\":52,\"1954\":1,\"2001\":17,\"2002\":18,\"2004\":26,\"2006\":39,\"1983\":2,\"1985\":3,\"2000\":1,\"2003\":9,\"1968\":2,\"1969\":21,\"1970\":11,\"1971\":12,\"1972\":13,\"1973\":6,\"1975\":9,\"1978\":13,\"1979\":6,\"1980\":4,\"1982\":2,\"1990\":8,\"1967\":3,\"1976\":3,\"1977\":1,\"1986\":1,\"1987\":4,\"1992\":2,\"1995\":2},\"doc\":{\"2005\":8,\"2007\":44,\"2008\":62,\"2009\":62,\"2010\":75,\"2011\":82,\"2012\":59,\"2013\":68,\"2014\":31,\"2015\":78,\"2016\":80,\"2017\":83,\"2018\":48,\"2019\":36,\"1954\":1,\"2001\":15,\"2002\":17,\"2004\":25,\"2006\":17,\"1983\":2,\"1985\":3,\"2000\":1,\"2003\":9,\"1968\":2,\"1969\":17,\"1970\":11,\"1971\":10,\"1972\":10,\"1973\":3,\"1975\":9,\"1978\":13,\"1979\":4,\"1980\":4,\"1982\":2,\"1990\":8,\"1967\":3,\"1976\":3,\"1977\":1,\"1986\":1,\"1987\":4,\"1992\":2,\"1995\":2}}\n",
      "\n",
      "Line 50099: {\"ngram\":\"abdel bari editor\",\"freq_tot\":99,\"doc_tot\":96,\"freq\":{\"1954\":1,\"2001\":3,\"2002\":4,\"2003\":3,\"2004\":9,\"2005\":5,\"2006\":6,\"2007\":5,\"2008\":4,\"2009\":8,\"2010\":7,\"2011\":13,\"2012\":5,\"2013\":6,\"2014\":2,\"2015\":6,\"2016\":3,\"2017\":3,\"2018\":1,\"2019\":5},\"doc\":{\"1954\":1,\"2001\":3,\"2002\":3,\"2003\":3,\"2004\":8,\"2005\":4,\"2006\":6,\"2007\":5,\"2008\":4,\"2009\":8,\"2010\":7,\"2011\":13,\"2012\":5,\"2013\":6,\"2014\":2,\"2015\":6,\"2016\":3,\"2017\":3,\"2018\":1,\"2019\":5}}\n",
      "\n",
      "Line 50100: {\"ngram\":\"abdel bari islamic\",\"freq_tot\":90,\"doc_tot\":74,\"freq\":{\"2016\":10,\"2017\":31,\"2018\":31,\"2019\":18},\"doc\":{\"2016\":9,\"2017\":22,\"2018\":29,\"2019\":14}}\n",
      "\n"
     ]
    }
   ],
   "source": [
    "!python print_jsonl_lines.py \\\n",
    "    --file_path \"{base_dir}/5gram_files/6corpus/5gram-consolidated.jsonl\" \\\n",
    "    --start 50000 \\\n",
    "    --end 50100"
   ]
  },
  {
   "cell_type": "code",
   "execution_count": 4,
   "id": "90c543c8-0db9-4901-916b-890d95c2ebf6",
   "metadata": {},
   "outputs": [
    {
     "name": "stdout",
     "output_type": "stream",
     "text": [
      "Lines: 75107076line [08:47, 142445.80line/s]\n",
      "\n",
      "The file is sorted.\n",
      "\n",
      "Processing complete.\n"
     ]
    }
   ],
   "source": [
    "!python verify_sort.py \\\n",
    "    --input_file \"{base_dir}/5gram_files/6corpus/5gram-consolidated.jsonl\" \\\n",
    "    --field ngram \\\n",
    "    --sort_order ascending"
   ]
  },
  {
   "cell_type": "code",
   "execution_count": null,
   "id": "e58bfd86-dd46-417a-9bd3-9d52bd8a4fa9",
   "metadata": {},
   "outputs": [],
   "source": [
    "!python simulate_merge.py \\\n",
    "    --file_dir \"{base_dir}/5gram_files/temp\" \\\n",
    "    --workers 48"
   ]
  },
  {
   "cell_type": "code",
   "execution_count": null,
   "id": "e6aba9af-704f-4940-a4bf-1f45a1d4be1f",
   "metadata": {},
   "outputs": [],
   "source": [
    "base_dir = \"/vast/edk202/NLP_corpora/Google_Books/20200217/eng\"\n",
    "\n",
    "!python simulate_merge2.py \\\n",
    "    --ngram_size 5 \\\n",
    "    --file_dir \"{base_dir}/5gram_files/temp\" \\\n",
    "    --tmp_dir \"{base_dir}/5gram_files/tmp\" \\\n",
    "    --compress \\\n",
    "    --sort_key ngram \\\n",
    "    --sort_order ascending \\\n",
    "    --workers 48"
   ]
  }
 ],
 "metadata": {
  "kernelspec": {
   "display_name": "hist_w2v_env",
   "language": "python",
   "name": "hist_w2v_env"
  },
  "language_info": {
   "codemirror_mode": {
    "name": "ipython",
    "version": 3
   },
   "file_extension": ".py",
   "mimetype": "text/x-python",
   "name": "python",
   "nbconvert_exporter": "python",
   "pygments_lexer": "ipython3",
   "version": "3.12.7"
  }
 },
 "nbformat": 4,
 "nbformat_minor": 5
}
